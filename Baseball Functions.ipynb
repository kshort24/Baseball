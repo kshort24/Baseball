{
 "cells": [
  {
   "cell_type": "markdown",
   "id": "adbf0ecf-fef0-49a7-8c86-517fb0ccddd9",
   "metadata": {},
   "source": [
    "# Baseball Functions\n",
    "Most data exported via Statcast Search page on Baseball Savant. (https://baseballsavant.mlb.com/statcast_search) <br>\n",
    "This is a collection of functions that clean and aggregate pitch-level Statcast data exported from Baseball Savant. <br>\n",
    "Some of the logic here may be useful in other regards."
   ]
  },
  {
   "cell_type": "code",
   "execution_count": 2,
   "id": "b79b7742-d7d8-4f21-92fe-434dc5d39593",
   "metadata": {},
   "outputs": [],
   "source": [
    "import pandas as pd\n",
    "import numpy as np\n",
    "import os\n",
    "import glob\n",
    "import datetime"
   ]
  },
  {
   "cell_type": "markdown",
   "id": "965b89f3-b2a0-43bc-b1ac-a080eba2197b",
   "metadata": {},
   "source": [
    "df.sv_id.astype('str') + df.pitch_number.astype('str')"
   ]
  },
  {
   "cell_type": "markdown",
   "id": "91ab86e6-eb67-41dd-88b4-7c9eb23023ee",
   "metadata": {},
   "source": [
    "len(df.sv_id.dropna().unique())"
   ]
  },
  {
   "cell_type": "markdown",
   "id": "895b643b-9c71-4e94-946f-f7a6201d38cd",
   "metadata": {},
   "source": [
    "pitches = df.groupby(level).agg({'sv_id' : 'count'}).reset_index().rename(columns = {'count' : 'pitches'})"
   ]
  },
  {
   "cell_type": "markdown",
   "id": "11420fca-968d-48ac-aa08-95f995503658",
   "metadata": {},
   "source": [
    "bad_bois = df[df.batter.isin(list(pitches[pitches.sv_id == 0].batter.values))]"
   ]
  },
  {
   "cell_type": "markdown",
   "id": "52bf8f7d-d262-4365-9f0f-de6d87ae83bc",
   "metadata": {},
   "source": [
    "bad_bois.head(10).iloc[:, 40:50]"
   ]
  },
  {
   "cell_type": "markdown",
   "id": "90262a32-84f5-459e-baba-e04176cfe20c",
   "metadata": {},
   "source": [
    "# Pitches\n",
    "df = pd.read_csv('strasburg.csv')\n",
    "level = 'batter'\n",
    "\n",
    "pitches = df.groupby(level).agg({level : 'count'}).reset_index().rename(columns = {'count' : 'pitches'})\n",
    "\n",
    "# Plate Appearances\n",
    "plate_apps = df[~df.events.replace(np.nan, 'NA').isin(['NA','pickoff_1b'])].groupby(level).agg({level : 'count'})\n",
    "\n",
    "plate_apps =plate_apps.reset_index().rename(columns = {level : 'plate_apps'})\n",
    "\n",
    "# At Bats\n",
    "at_bats = df[~df.events.replace(np.nan, 'NA').isin(['NA'\n",
    "                                                   ,'pickoff_1b'\n",
    "                                                   , 'walk'\n",
    "                                                   , 'intent_walk'\n",
    "                                                   , 'hit_by_pitch'\n",
    "                                                  ,'sac_fly'\n",
    "                                                  ,'sac_bunt'])].groupby(level).agg({level : 'count'})\n",
    "\n",
    "at_bats = at_bats.reset_index().rename(columns = {level : 'at_bats'})\n",
    "\n",
    "# Hits\n",
    "hits = df[df.events.isin(['home_run'\n",
    "                      ,'single'\n",
    "                      ,'double'\n",
    "                      ,'triple'\n",
    "                     ])].groupby(level).agg({level : 'count'})\n",
    "\n",
    "hits = hits.reset_index().rename(columns = {level : 'hits'})\n",
    "\n",
    "# Singles\n",
    "singles = df[df.events == 'single'].groupby(level).agg({level : 'count'}).reset_index().rename(columns = {level : 'singles'})\n",
    "# Doubles\n",
    "doubles = df[df.events == 'double'].groupby(level).agg({level : 'count'}).reset_index().rename(columns = {level : 'doubles'})\n",
    "# Triples\n",
    "triples = df[df.events == 'triple'].groupby(level).agg({level : 'count'}).reset_index().rename(columns = {level : 'triples'})\n",
    "# Home Runs\n",
    "hrs = df[df.events == 'home_run'].groupby(level).agg({level : 'count'}).reset_index().rename(columns = {level : 'hrs'})\n",
    "# Walks\n",
    "walks = df[df.events == 'walk'].groupby(level).agg({level : 'count'}).reset_index().rename(columns = {level : 'walks'})\n",
    "# Strikeouts\n",
    "ks = df[df.events.isin(['strikeout','strikeout_double_play'])].groupby(level).agg({level : 'count'}).reset_index().rename(columns = {level : 'strikeouts'})\n",
    "# Hit By Pitch\n",
    "hbp = df[df.events == 'hit_by_pitch'].groupby(level).agg({level : 'count'}).reset_index().rename(columns = {level : 'hbp'})\n",
    "# Weighted Walks\n",
    "wBB = df[df.events == 'walk'].groupby(level).agg({'wBB' : 'sum'}).reset_index()\n",
    "# Weighted HBP\n",
    "wHBP = df[df.events == 'hit_by_pitch'].groupby(level).agg({'wHBP' : 'sum'}).reset_index()\n",
    "# Weighted Singles\n",
    "w1B = df[df.events == 'single'].groupby(level).agg({'w1B' : 'sum'}).reset_index()\n",
    "# Weighted Doubles\n",
    "w2B = df[df.events == 'double'].groupby(level).agg({'w2B' : 'sum'}).reset_index()\n",
    "# Weighted Triples\n",
    "w3B = df[df.events == 'triple'].groupby(level).agg({'w3B' : 'sum'}).reset_index()\n",
    "# Weighted Home runs\n",
    "wHR = df[df.events == 'home_run'].groupby(level).agg({'wHR' : 'sum'}).reset_index()\n",
    "\n",
    "a = pitches.merge(plate_apps, how = 'left', left_on = level, right_on = level)\n",
    "b = a.merge(at_bats, how = 'left', left_on = level, right_on = level)\n",
    "c = b.merge(hits, how = 'left', left_on = level, right_on = level)\n",
    "d = c.merge(singles, how = 'left', left_on = level, right_on = level)\n",
    "e = d.merge(doubles, how = 'left', left_on = level, right_on = level)\n",
    "f = e.merge(triples, how = 'left', left_on = level, right_on = level)\n",
    "g = f.merge(hrs, how = 'left', left_on = level, right_on = level)\n",
    "h = g.merge(walks, how = 'left', left_on = level, right_on = level)\n",
    "i = h.merge(hbp, how = 'left', left_on = level, right_on = level)\n",
    "j = i.merge(wBB, how = 'left', left_on = level, right_on = level)\n",
    "k = j.merge(wHBP, how = 'left', left_on = level, right_on = level)\n",
    "l = k.merge(w1B, how = 'left', left_on = level, right_on = level)\n",
    "m = l.merge(w2B, how = 'left', left_on = level, right_on = level)\n",
    "n = m.merge(w3B, how = 'left', left_on = level, right_on = level)\n",
    "o = n.merge(ks, how = 'left', left_on = level, right_on = level)\n",
    "stats = o.merge(wHR, how = 'left', left_on = level, right_on = level)\n",
    "\n",
    "stats = stats.replace(np.nan, 0)\n"
   ]
  },
  {
   "cell_type": "markdown",
   "id": "97f0fe7d-c5ca-4575-9445-06186b837c77",
   "metadata": {},
   "source": [
    "# Expected Batting Average"
   ]
  },
  {
   "cell_type": "code",
   "execution_count": 10,
   "id": "5f49ba77-464d-4c7c-9586-46ef84f62180",
   "metadata": {},
   "outputs": [],
   "source": [
    "def xbas(row):\n",
    "    if row['type'] == 'S':\n",
    "        xba = 0\n",
    "    else:\n",
    "        xba = row['estimated_ba_using_speedangle']\n",
    "    return xba"
   ]
  },
  {
   "cell_type": "markdown",
   "id": "2d83e839-5e1f-4690-9c46-e59f6bf7971d",
   "metadata": {},
   "source": [
    "# Expected WOBA"
   ]
  },
  {
   "cell_type": "code",
   "execution_count": 12,
   "id": "f14ab1d1-225d-45e4-9bbf-77003990ead8",
   "metadata": {},
   "outputs": [],
   "source": [
    "def xwobas(row):\n",
    "    if row['type'] == 'B':\n",
    "        xwoba = row['wBB']\n",
    "    else:\n",
    "        xwoba = row.estimated_woba_using_speedangle\n",
    "    return xwoba"
   ]
  },
  {
   "cell_type": "markdown",
   "id": "f46f0aaa-eef6-4c9b-a70d-63d3662fa3f8",
   "metadata": {},
   "source": [
    "# Last Pitch of At Bat"
   ]
  },
  {
   "cell_type": "code",
   "execution_count": 14,
   "id": "c36ad8e9-8173-4ee9-bc5a-c0003b3dab13",
   "metadata": {},
   "outputs": [],
   "source": [
    "def last_pitch_abs(df):\n",
    "    max_pitch_number_per_ab = df.groupby(['game_pk','at_bat_number'], as_index = False).agg({'pitch_number' : 'max'}).rename(columns = {'pitch_number' : 'fp'})\n",
    "    fp = max_pitch_number_per_ab\n",
    "    final_pitches = df.merge(fp, left_on = ['game_pk', 'at_bat_number', 'pitch_number'], right_on = ['game_pk', 'at_bat_number', 'fp'])\n",
    "    final_pitches['xwoba'] = final_pitches.apply(xwobas,axis = 1).fillna(0)\n",
    "    final_pitches['xba'] = final_pitches.apply(xbas, axis = 1)\n",
    "    final_pitches = df.merge(final_pitches, left_on = ['game_pk', 'at_bat_number','pitch_number'], right_on = ['game_pk', 'at_bat_number','pitch_number'], how = 'left', suffixes = ('', '_fp'))\n",
    "    return final_pitches"
   ]
  },
  {
   "cell_type": "markdown",
   "id": "f1778575-d265-4fd4-903a-b3d107d062f7",
   "metadata": {},
   "source": [
    "# Outs"
   ]
  },
  {
   "cell_type": "code",
   "execution_count": 16,
   "id": "35561d22-217c-4f97-a3c7-45c557182266",
   "metadata": {},
   "outputs": [],
   "source": [
    "# I could group by inning and inning_topbot\n",
    "# Loop through each inning-inning_topbot diad, keep a running total of outs_when_up\n",
    "# Why don't I just identify outs by events?\n",
    "# No, I would need to subtract out the number of outs\n",
    "\n",
    "# I think I got it\n",
    "# \"Out\" Events feeds a column that gives us the number of outs associated with that events"
   ]
  },
  {
   "cell_type": "markdown",
   "id": "a69ac88d-d8c2-4796-ab1e-bd3b8ee3ff5a",
   "metadata": {},
   "source": [
    "# Get Stats Function\n",
    "This function takes in a dataframe (which you should filter) and level to aggregate the data at (ex. player, player/year, team, team/year, etc.) <br>\n",
    "It will return the result statistics for that"
   ]
  },
  {
   "cell_type": "code",
   "execution_count": 18,
   "id": "52fa4387-04dc-49f7-8570-f20a98032395",
   "metadata": {},
   "outputs": [],
   "source": [
    "def get_stats(level, df):\n",
    "    # Pitches\n",
    "\n",
    "    pitches = df.groupby(level, as_index = False).agg({'description' : 'count'}).rename(columns = {'count' : 'pitches'})\n",
    "\n",
    "    # Plate Appearances\n",
    "    plate_apps = df[~df.events.replace(np.nan, 'NA').isin(['NA','pickoff_1b'])].groupby(level,as_index=False).agg({'description' : 'count'})\n",
    "\n",
    "    plate_apps =plate_apps.rename(columns = {'description' : 'plate_apps'})\n",
    "\n",
    "    # At Bats\n",
    "    at_bats = df[~df.events.replace(np.nan, 'NA').isin(['NA'\n",
    "                                                       ,'pickoff_1b'\n",
    "                                                       , 'walk'\n",
    "                                                       , 'intent_walk'\n",
    "                                                       , 'hit_by_pitch'\n",
    "                                                      ,'sac_fly'\n",
    "                                                      ,'sac_bunt'])].groupby(level,as_index=False).agg({'description' : 'count'})\n",
    "\n",
    "    at_bats = at_bats.rename(columns = {'description' : 'at_bats'})\n",
    "    \n",
    "    # Balls in Play\n",
    "    bip = df[df.type == 'X'].groupby(level,as_index=False).agg({'description' : 'count'}).rename(columns = {'description' : 'bip'})\n",
    "\n",
    "    # Hits\n",
    "    hits = df[df.events.isin(['home_run'\n",
    "                          ,'single'\n",
    "                          ,'double'\n",
    "                          ,'triple'\n",
    "                         ])].groupby(level,as_index=False).agg({'description' : 'count'})\n",
    "\n",
    "    hits = hits.rename(columns = {'description' : 'hits'})\n",
    "\n",
    "    # Singles\n",
    "    singles = df[df.events == 'single'].groupby(level,as_index=True).agg({'description' : 'count'}).rename(columns = {'description' : 'singles'})\n",
    "    # Doubles\n",
    "    doubles = df[df.events == 'double'].groupby(level,as_index=True).agg({'description' : 'count'}).rename(columns = {'description' : 'doubles'})\n",
    "    # Triples\n",
    "    triples = df[df.events == 'triple'].groupby(level,as_index=True).agg({'description' : 'count'}).rename(columns = {'description' : 'triples'})\n",
    "    # Home Runs\n",
    "    hrs = df[df.events == 'home_run'].groupby(level,as_index=True).agg({'description' : 'count'}).rename(columns = {'description' : 'hrs'})\n",
    "    # Walks\n",
    "    walks = df[df.events == 'walk'].groupby(level,as_index=True).agg({'description' : 'count'}).rename(columns = {'description' : 'walks'})\n",
    "    # Strikeouts\n",
    "    ks = df[df.events.isin(['strikeout','strikeout_double_play'])].groupby(level,as_index=True).agg({'description' : 'count'}).rename(columns = {'description' : 'strikeouts'})\n",
    "    # Hit By Pitch\n",
    "    hbp = df[df.events == 'hit_by_pitch'].groupby(level,as_index=True).agg({'description' : 'count'}).rename(columns = {'description' : 'hbp'})\n",
    "    # Weighted Walks\n",
    "    wBB = df[df.events == 'walk'].groupby(level,as_index=False).agg({'wBB' : 'sum'})\n",
    "    # Weighted HBP\n",
    "    wHBP = df[df.events == 'hit_by_pitch'].groupby(level,as_index=False).agg({'wHBP' : 'sum'})\n",
    "    # Weighted Singles\n",
    "    w1B = df[df.events == 'single'].groupby(level,as_index=False).agg({'w1B' : 'sum'})\n",
    "    # Weighted Doubles\n",
    "    w2B = df[df.events == 'double'].groupby(level,as_index=False).agg({'w2B' : 'sum'})\n",
    "    # Weighted Triples\n",
    "    w3B = df[df.events == 'triple'].groupby(level,as_index=False).agg({'w3B' : 'sum'})\n",
    "    # Weighted Home runs\n",
    "    wHR = df[df.events == 'home_run'].groupby(level,as_index=False).agg({'wHR' : 'sum'})\n",
    "    # xBA\n",
    "    ###### xba = df.groupby(level,as_index=False).agg({'xba' : 'mean'})\n",
    "    xba = df.groupby(level,as_index=False).agg({'estimated_ba_using_speedangle' : 'mean'})\n",
    "    # xWOBA\n",
    "    ####### xwoba = df.groupby(level,as_index=False).agg({'xwoba' : 'mean'})\n",
    "    xwoba = df.groupby(level,as_index=False).agg({'estimated_woba_using_speedangle' : 'mean'})\n",
    "    \n",
    "    # # Mean\n",
    "    # mean = 'mean'\n",
    "    # evMU = df.groupby(level,as_index=False).agg({'launch_speed' : mean\n",
    "    #                                              ,'launch_angle' : mean\n",
    "    #                                              ,'hit_distance_sc' : mean\n",
    "    #                                              ,'release_speed' : mean\n",
    "    #                                              ,'zone' : mean\n",
    "    #                                              ,'pitch_number' : mean\n",
    "    #                                              ,'\n",
    "    #                                             })\n",
    "    # # Std\n",
    "    # std = 'std'\n",
    "    # for func in funcs:\n",
    "    #     df.groupby(level,as_index=False).agg({'launch_speed' : func\n",
    "    #                                              ,'launch_angle' : func\n",
    "    #                                              ,'hit_distance_sc' : func\n",
    "    #                                              ,'release_speed' : func\n",
    "    #                                              ,'zone' : func\n",
    "    #                                              ,'pitch_number' : funvc\n",
    "    #                                              ,'\n",
    "    #                                             })\n",
    "    # # Max\n",
    "    # funcs = ['mean', 'std', 'min', 'max', 'var']\n",
    "                                                 \n",
    "\n",
    "    a = pitches.merge(plate_apps, how = 'left', left_on = level, right_on = level)\n",
    "    b = a.merge(at_bats, how = 'left', left_on = level, right_on = level)\n",
    "    c = b.merge(hits, how = 'left', left_on = level, right_on = level)\n",
    "    d = c.merge(singles, how = 'left', left_on = level, right_on = level)\n",
    "    e = d.merge(doubles, how = 'left', left_on = level, right_on = level)\n",
    "    f = e.merge(triples, how = 'left', left_on = level, right_on = level)\n",
    "    g = f.merge(hrs, how = 'left', left_on = level, right_on = level)\n",
    "    h = g.merge(walks, how = 'left', left_on = level, right_on = level)\n",
    "    i = h.merge(hbp, how = 'left', left_on = level, right_on = level)\n",
    "    j = i.merge(wBB, how = 'left', left_on = level, right_on = level)\n",
    "    k = j.merge(wHBP, how = 'left', left_on = level, right_on = level)\n",
    "    l = k.merge(w1B, how = 'left', left_on = level, right_on = level)\n",
    "    m = l.merge(w2B, how = 'left', left_on = level, right_on = level)\n",
    "    n = m.merge(w3B, how = 'left', left_on = level, right_on = level)\n",
    "    o = n.merge(ks, how = 'left', left_on = level, right_on = level)\n",
    "    p = o.merge(bip, how = 'left', left_on = level, right_on = level)\n",
    "    q = p.merge(xba, how = 'left', left_on = level, right_on = level)\n",
    "    r = q.merge(xwoba, how = 'left', left_on = level, right_on = level)\n",
    "    stats = r.merge(wHR, how = 'left', left_on = level, right_on = level)\n",
    "\n",
    "    stats = stats.replace(np.nan, 0)\n",
    "    \n",
    "    return stats"
   ]
  },
  {
   "cell_type": "markdown",
   "id": "01b8bbc7-8564-4693-8a6c-9f393ca68f67",
   "metadata": {},
   "source": [
    "## Ex. Batting Performance by Player.\n",
    "```python\n",
    "get_stats('player_name', batting)\n",
    "```"
   ]
  },
  {
   "cell_type": "code",
   "execution_count": 20,
   "id": "3eae0016-dd13-4451-93f2-ef5c18f46a57",
   "metadata": {},
   "outputs": [],
   "source": [
    "# Extra things to consider\n",
    "# Additional Columns:\n",
    "# Expected BA, OBP, SLG, wOBA\n",
    "# FIP\n",
    "# Strikeouts\n",
    "# Innings Pitched\n",
    "# Runs\n",
    "# Earned Runs??\n",
    "# WP\n"
   ]
  },
  {
   "cell_type": "markdown",
   "id": "4bd07f4d-0e66-40d8-a832-94fdce2aa342",
   "metadata": {},
   "source": [
    "# Measure Calculations\n",
    "The plan here is to recreate all necessary statistics I can see in real time during a game based solely off their historical playoff data."
   ]
  },
  {
   "cell_type": "code",
   "execution_count": 22,
   "id": "2932936e-fa36-4b43-97c0-debd6ae352c9",
   "metadata": {},
   "outputs": [],
   "source": [
    "def measure_calcs(stats):\n",
    "    stats.rename(columns = {'batter' : 'pitches'}, inplace = True)\n",
    "\n",
    "    stats['ba'] = stats.hits/stats.at_bats\n",
    "    stats['obp'] = (stats.hits + stats.walks + stats.hbp) / (stats.plate_apps)\n",
    "    stats['slg'] = (stats.singles + 2*stats.doubles + 3*stats.triples + 4*stats.hrs) / (stats.at_bats)\n",
    "    stats['ops'] = stats.obp + stats.slg\n",
    "    stats['woba'] = (stats.wBB + stats.wHBP+ stats.w1B+ stats.w2B+ stats.w3B+ stats.wHR) / (stats.plate_apps)\n",
    "    #stats['xba'] = stats.xba.replacena(0).mean()\n",
    "    #stats['xwoba'] = stats.xwoba.replacena(0).mean()\n",
    "\n",
    "    return stats"
   ]
  },
  {
   "cell_type": "code",
   "execution_count": null,
   "id": "7d556495-aa85-459f-aaca-c94433cd135a",
   "metadata": {},
   "outputs": [],
   "source": []
  },
  {
   "cell_type": "markdown",
   "id": "bcc117bb-ce28-474c-b0ee-d13c8ee8b3f0",
   "metadata": {},
   "source": [
    "# Measure Calcs and Get Stats"
   ]
  },
  {
   "cell_type": "code",
   "execution_count": 24,
   "id": "f9dd1284-e293-4935-ac1a-c038145926cc",
   "metadata": {},
   "outputs": [],
   "source": [
    "def mcgs(level,df):\n",
    "    return measure_calcs(get_stats(level,df)).rename(columns = {'description' : 'pitches'})"
   ]
  },
  {
   "cell_type": "markdown",
   "id": "fe2288ae-6ae0-4668-8719-f3702a69043f",
   "metadata": {},
   "source": [
    "# Results - RENAME THIS JAWN KELLEN"
   ]
  },
  {
   "cell_type": "code",
   "execution_count": 26,
   "id": "ea1d64d3-f147-41ba-8f55-d4459b04556a",
   "metadata": {},
   "outputs": [],
   "source": [
    "def results(level):\n",
    "    x = mcgs([level], df).loc[:, [##'game_year'\n",
    "                                                         #'player_name'\n",
    "                                                         ##,'p_throws'\n",
    "                                                         ##,'pitch_name'\n",
    "                                                         ##,'pitch_type'\n",
    "                                                         \n",
    "                                                      level   \n",
    "                                                      ,'pitches'\n",
    "                                                      ,'plate_apps'\n",
    "                                                      ##,'at_bats'\n",
    "                                                      ,'bip'\n",
    "                                                      ,'hits'\n",
    "                                                      ##,'singles'\n",
    "                                                      ##,'doubles'\n",
    "                                                      ##,'triples'\n",
    "                                                      ,'hrs'\n",
    "                                                      ,'walks'\n",
    "                                                      ,'strikeouts'\n",
    "                                                      ##,'hbp'\n",
    "                                                      ##,'wBB'\n",
    "                                                      ##,'wHBP'\n",
    "                                                      ##,'w1B'\n",
    "                                                      ##,'w2B'\n",
    "                                                      ##,'w3B'\n",
    "                                                      ##,'wHR'\n",
    "                                                      ,'ba'\n",
    "                                                      ##,'xba'\n",
    "                                                      ,'obp'\n",
    "                                                      ,'slg'\n",
    "                                                      ,'ops'\n",
    "                                                      ,'woba'\n",
    "                                                      ##,'xwoba'\n",
    "                                                     ]\n",
    "                                                 ].round(3)\n",
    "    return x"
   ]
  },
  {
   "cell_type": "markdown",
   "id": "607db3a6-b7b5-4db9-bbf9-21d9ef09f28e",
   "metadata": {},
   "source": [
    "# Group By"
   ]
  },
  {
   "cell_type": "code",
   "execution_count": 28,
   "id": "95c5a26d-72fd-45d9-83b6-fcf24b5dd412",
   "metadata": {},
   "outputs": [],
   "source": [
    "def gb(df,**args): ## stat,calc,level,team, criteria\n",
    "    df = last_pitch_abs(df)\n",
    "    df = df[criteria]\n",
    "    po = df[((df.home_team == team)\n",
    "                 &(df.inning_topbot == 'Bot')\n",
    "                  )\n",
    "                 |\n",
    "                 ((df.away_team == team)\n",
    "                  &(df.inning_topbot == 'Top')\n",
    "                 )]\n",
    "\n",
    "    pp = df[((df.home_team == team)\n",
    "             &(df.inning_topbot == 'Top')\n",
    "            )\n",
    "            |\n",
    "            ((df.away_team == team)\n",
    "             &(df.inning_topbot == 'Bot')\n",
    "            )]\n",
    "\n",
    "    final = df.groupby(level,as_index=False).agg({stat : calc}).reset_index(drop=False\n",
    "                                                              ).reset_index(drop=False\n",
    "                                                                           ).rename(columns = {'level_0' : 'rank'\n",
    "                                                                                               ,stat : '{}_{}'.format(calc,stat)\n",
    "                                                                                              })\n",
    "    return final"
   ]
  },
  {
   "cell_type": "code",
   "execution_count": null,
   "id": "da31acae-7a85-4a08-ac87-78f37156683d",
   "metadata": {},
   "outputs": [],
   "source": []
  },
  {
   "cell_type": "markdown",
   "id": "cf7f3924-6701-40e0-9a02-8522ffa27cdc",
   "metadata": {},
   "source": [
    "# Can I do the same function using apply or transform?\n",
    "This would give me more flexibility to write my own functions to apply to and/or transform my grouped data"
   ]
  },
  {
   "cell_type": "code",
   "execution_count": null,
   "id": "bcd5686b-deb3-4b2d-a3a2-e7f12a1b1eef",
   "metadata": {},
   "outputs": [],
   "source": []
  },
  {
   "cell_type": "markdown",
   "id": "d02e5200-84ac-430b-8281-273b20ab13c0",
   "metadata": {},
   "source": [
    "# Compare"
   ]
  },
  {
   "cell_type": "code",
   "execution_count": 31,
   "id": "487675b7-f9e2-418e-a8bd-80525550590c",
   "metadata": {},
   "outputs": [],
   "source": [
    "def compare(df):\n",
    "    return df"
   ]
  },
  {
   "cell_type": "code",
   "execution_count": null,
   "id": "865fd95c-7229-4d1d-805d-a32a7d8c3840",
   "metadata": {},
   "outputs": [],
   "source": []
  },
  {
   "cell_type": "markdown",
   "id": "42faf1e4-9dc8-4594-b6dc-b6dbf951ea9f",
   "metadata": {
    "tags": []
   },
   "source": [
    "# Graph"
   ]
  },
  {
   "cell_type": "code",
   "execution_count": 33,
   "id": "5c8215ef-95ac-4b40-92de-79387cad5142",
   "metadata": {},
   "outputs": [],
   "source": [
    "def graph(x,y, title, xlabel, ylabel, colors):\n",
    "    r = round(x.corr(y),2) # Calculate correlation coefficient\n",
    "    m, b = np.polyfit(x, y, 1) # Fit a polynomial between the two variables\n",
    "    #title = 'Velo vs. Spin Rate' # Title the graph\n",
    "    #xlabel = 'Spin' # Label the x axis\n",
    "    #ylabel = 'Velo' # Label the y axis\n",
    "\n",
    "    # Build the plot\n",
    "    plt.scatter(x, y, c = colors, alpha = 1) # Scatter plot, intentionally made transparent\n",
    "    plt.plot(x.values, (m*x + b).values, color = '#003469') # Regression line\n",
    "    plt.axvline(x = x.mean(), color = '#000000') # Vertical line at median of x\n",
    "    plt.axhline(y = y.mean(), color = '#000000') # Horizontal Line at median of y\n",
    "    plt.suptitle(title, fontsize = 14, fontname = 'Verdana') # Title\n",
    "    plt.title('n = {}. r = {}. Avg {} = {}, +-{}. Avg {} = {}, +-{}'.format(len(x)\n",
    "                                                                    ,r\n",
    "                                                                      ,xlabel\n",
    "                                                                      ,round(x.mean(),1)\n",
    "                                                                      ,round(x.std(),1)\n",
    "                                                                      ,ylabel\n",
    "                                                                      ,round(y.mean(),1)\n",
    "                                                                      ,round(y.std(),1)\n",
    "                                                                     ), fontsize = 8, fontname = 'Verdana') # Subtitle\n",
    "    plt.xlabel(xlabel) # Label the x axis\n",
    "    plt.ylabel(ylabel) # Label the y axis\n",
    "    plt.show()"
   ]
  },
  {
   "cell_type": "markdown",
   "id": "9ac0a5d4-fc5c-42fe-b94b-a2c8d3204317",
   "metadata": {},
   "source": [
    "# Month Trend"
   ]
  },
  {
   "cell_type": "code",
   "execution_count": 35,
   "id": "e04342fa-b961-4706-a4b4-eb57dec9acd5",
   "metadata": {},
   "outputs": [],
   "source": [
    "# Time Trend"
   ]
  },
  {
   "cell_type": "code",
   "execution_count": 36,
   "id": "2f4e4bbd-0136-413a-bcc2-5ca72e8da3cc",
   "metadata": {},
   "outputs": [],
   "source": [
    "def pitch_mix(df):\n",
    "    df = df.groupby(['pitch_type', 'pitch_name'],as_index=False).agg({'description' : 'count'\n",
    "                                                                      ,'release_speed' : 'mean'\n",
    "                                                                      ,'release_spin_rate' : 'mean'}\n",
    "                                                                    ).round(1\n",
    "                                                                           ).rename(columns = {'description' : 'pitches'})\n",
    "    return df"
   ]
  },
  {
   "cell_type": "markdown",
   "id": "89da6c68-7afd-4eab-a4e8-ddc5bc7aa120",
   "metadata": {},
   "source": [
    "# Get Non-Phillies Player Data"
   ]
  },
  {
   "cell_type": "code",
   "execution_count": 38,
   "id": "3200696a-45b1-49da-8af7-dd0b294fe2e2",
   "metadata": {},
   "outputs": [],
   "source": [
    "def get_nphillies_data():\n",
    "    #%run \"Baseball Functions.ipynb\"\n",
    "    woba_weights = pd.read_csv('wOBA and FIP Constants.csv')\n",
    "\n",
    "    # Load All Non-Phillies Player Data\n",
    "    np_files = [i for i in glob.glob('*_np.csv')]\n",
    "    nphl = pd.DataFrame()\n",
    "    for f in np_files:\n",
    "        df = pd.read_csv(f)\n",
    "        nphl = pd.concat([nphl,df])\n",
    "\n",
    "    nphl['source'] = 'n'\n",
    "    nphl = nphl.merge(woba_weights, left_on = 'game_year', right_on = 'Season', suffixes = ('','_y'))\n",
    "\n",
    "    print('Length of nphl dataframe: ' + str(len(nphl)))    \n",
    "    return nphl"
   ]
  },
  {
   "cell_type": "markdown",
   "id": "c58d2abd-12ea-4a26-aa4e-c6bb1e139150",
   "metadata": {},
   "source": [
    "## Code Example\n",
    "```python\n",
    "phils_sc, pos, pps = get_phillies_data()\n",
    "nphl = get_nphillies_data()\n",
    "```"
   ]
  },
  {
   "cell_type": "markdown",
   "id": "a8a9aca6-7334-4c66-a181-1dc1764d3cea",
   "metadata": {},
   "source": [
    "# Get Phillies Spring Training Data"
   ]
  },
  {
   "cell_type": "code",
   "execution_count": 41,
   "id": "3015be17-5231-46ee-ab14-6ed60a6b78f4",
   "metadata": {},
   "outputs": [],
   "source": [
    "def get_phillies_spring_training_data():\n",
    "    ppst24 = pd.read_csv('spring_training_2024 ppst.csv')\n",
    "    post24 = pd.read_csv('spring_training_2024 post.csv')\n",
    "    phils_st_2024 = pd.concat([pps, pos])\n",
    "    return phils_st_2024, ppst24, post24"
   ]
  },
  {
   "cell_type": "markdown",
   "id": "aa28e19c-9894-4616-bb87-965a0049df3b",
   "metadata": {},
   "source": [
    "# Get Phillies Data"
   ]
  },
  {
   "cell_type": "code",
   "execution_count": 43,
   "id": "01a27366-41b9-47fc-a43d-eeaf05e89745",
   "metadata": {},
   "outputs": [],
   "source": [
    "def get_phillies_data():\n",
    "    os.chdir('C:\\\\Users\\\\Kellen\\\\OneDrive\\\\Documents\\\\Python Scripts\\\\MLB')\n",
    "    reg_po23 = pd.read_csv('reg_po23.csv')\n",
    "    reg_pp23 = pd.read_csv('reg_pp23.csv')\n",
    "    post_po23 = pd.read_csv('post_po23.csv')\n",
    "    post_pp23 = pd.read_csv('post_pp23.csv')\n",
    "\n",
    "    po23 = pd.concat([reg_po23, post_po23])\n",
    "    pp23 = pd.concat([reg_pp23, post_pp23])\n",
    "\n",
    "    woba_weights = pd.read_csv('wOBA and FIP Constants.csv')\n",
    "    \n",
    "    # Load All Phillies Player Data\n",
    "    # Because of the additional name with reg and post\n",
    "    pos = pd.DataFrame()\n",
    "    pps = pd.DataFrame()\n",
    "    phils_sc = pd.DataFrame()\n",
    "\n",
    "    regpo22 = pd.read_csv('reg_po22.csv')\n",
    "    regpp22 = pd.read_csv('reg_pp22.csv')\n",
    "    postpo22 = pd.read_csv('post_po22.csv')\n",
    "    postpp22 = pd.read_csv('post_pp22.csv')\n",
    "\n",
    "    po22 = pd.concat([regpo22, postpo22])\n",
    "    pp22 = pd.concat([regpp22, postpp22])\n",
    "\n",
    "    for k in ['15','16','17','18','19','20','21']:\n",
    "        po = [i for i in glob.glob('*po{}.csv'.format(str(k)))]\n",
    "        dfpo = pd.read_csv(po[0])\n",
    "        pos = pd.concat([pos,dfpo])\n",
    "\n",
    "        pp = [i for i in glob.glob('*pp{}.csv'.format(str(k)))]\n",
    "        dfpp = pd.read_csv(pp[0])\n",
    "        pps = pd.concat([pps, dfpp])\n",
    "\n",
    "        \n",
    "    #pst24 = ppst24 = post24 = get_phillies_spring_training_data()\n",
    "    post24 = po24 = pd.read_csv('po24.csv')#DataFrame()\n",
    "    ppst24 = pp24 = pd.read_csv('pp24.csv')#DataFrame()\n",
    "    pos = pd.concat([pos, po22, po23, post24]).merge(woba_weights, left_on = 'game_year', right_on = 'Season', suffixes = ('_bad',''))\n",
    "    pps = pd.concat([pps, pp22, pp23, ppst24]).merge(woba_weights, left_on = 'game_year', right_on = 'Season', suffixes = ('_bad',''))    \n",
    "    #phils_st_2024 = pd.concat([pps, pos]).merge(woba_weights, left_on = 'game_year', right_on = 'Season', suffixes = ('_bad', ''))\n",
    "    phils_sc = pd.concat([pos,pps]).merge(woba_weights, left_on = 'game_year', right_on = 'Season', suffixes = ('','_yamomma'))\n",
    "    \n",
    "\n",
    "    print('Length of phils_sc dataframe: ' + str(len(phils_sc))) # Should it be 407,099? I think so.\n",
    "    return phils_sc, pos, pps"
   ]
  },
  {
   "cell_type": "code",
   "execution_count": 44,
   "id": "37b2c6e8-70f9-48b4-a80b-ae129b7f7eec",
   "metadata": {},
   "outputs": [],
   "source": [
    "# Update MLB Data"
   ]
  },
  {
   "cell_type": "markdown",
   "id": "c9985a24-fb48-45a7-a2fa-a0a745759d90",
   "metadata": {},
   "source": [
    "# Get Pitcher Data"
   ]
  },
  {
   "cell_type": "code",
   "execution_count": 46,
   "id": "618555c8-1c4a-4ced-a472-b583ae0cc815",
   "metadata": {},
   "outputs": [],
   "source": [
    "def get_pitcher_data(df,pitcher_name):\n",
    "    player_id = df[df.player_name == pitcher_name].pitcher.unique()[0]\n",
    "    player_df = df[df.pitcher == player_id]\n",
    "    return player_df"
   ]
  },
  {
   "cell_type": "markdown",
   "id": "d9193519-eb26-4c63-a987-d7e656818103",
   "metadata": {},
   "source": [
    "# Get Batter Data"
   ]
  },
  {
   "cell_type": "code",
   "execution_count": 48,
   "id": "cda3aee6-fc36-4f48-a8cb-2f9d44d91ddd",
   "metadata": {},
   "outputs": [],
   "source": [
    "def get_batter_data(df,batter_name):\n",
    "    player_id = df[df.player_name == batter_name].batter.unique()[0]\n",
    "    player_df = df[df.batter == player_id]\n",
    "    return player_df"
   ]
  },
  {
   "cell_type": "markdown",
   "id": "c0163c77-5e2d-4e48-8dec-ed868b154154",
   "metadata": {},
   "source": [
    "## Pitch Types"
   ]
  },
  {
   "cell_type": "markdown",
   "id": "c679fcfa-eea5-42a6-85cd-ca044265c9ef",
   "metadata": {},
   "source": [
    "## Front Hip Sinker"
   ]
  },
  {
   "cell_type": "code",
   "execution_count": 51,
   "id": "e77997d5-fe81-4271-835e-707863d5844b",
   "metadata": {},
   "outputs": [],
   "source": [
    "# def front_hip_sinker(df):\n",
    "#     lefties = df[(df.zone.isin([3,6,9]))\n",
    "#                  &(df.pitch_type == 'SI')\n",
    "#                  #&(df.pitch_location == )\n",
    "#                  &(df.stand == 'L')\n",
    "#                 ]\n",
    "#     righties = df[(df.zone.isin([1,4,7]))\n",
    "#                    &(df.pitch_type == 'SI')\n",
    "#                    &(df.stand == 'R')\n",
    "#                  ]\n",
    "#     fhs = pd.concat([lefties, righties])\n",
    "#     return fhs"
   ]
  },
  {
   "cell_type": "code",
   "execution_count": 52,
   "id": "19ef1d10-c4e8-477e-8c85-04b6759bb54e",
   "metadata": {},
   "outputs": [],
   "source": [
    "# def front_hip_sinker(df):\n",
    "#     lhb = lefties = df[(df.zone.isin([3,6,9]))\n",
    "#                        &(df.pitch_type == 'SI')\n",
    "#                       #&(df.pitch_location == )\n",
    "#                        &(df.stand == 'L')\n",
    "#                       ]\n",
    "#     rhb = righties = df[(df.zone.isin([1,4,7]))\n",
    "#                    &(df.pitch_type == 'SI')\n",
    "#                    &(df.stand == 'R')\n",
    "#                  ]\n",
    "#     fhs = pd.concat([lefties, righties])\n",
    "#     return fhs\n",
    "\n",
    "# df = front_hip_sinker(nola)\n",
    "# df[df.stand == 'L'].zone.unique()"
   ]
  },
  {
   "cell_type": "code",
   "execution_count": 53,
   "id": "e232ec33-3817-4e74-85e5-c1851e148460",
   "metadata": {},
   "outputs": [],
   "source": [
    "def lhb_zones():\n",
    "    up_away = zha = l_ha = 1 \n",
    "    up = zhc = l_ha = 2\n",
    "    up_in = zhi = l_ha = 3\n",
    "    middle_away = zma = l_ha = 4\n",
    "    middle_middle = zmc = l_ha = 5\n",
    "    middle_in = zmi = 6\n",
    "    low_away = zla = l_ha = 7 \n",
    "    down = zlc = l_ha = 8 \n",
    "    down_in = zli = l_ha = 9\n",
    "\n",
    "# lhb_zones = [zha,zhc,zhi ## 1, 2, 3\n",
    "#             ,zma,zmc,zmi ## 4, 5, 6\n",
    "#             ,zla,zlc,zli ## 7, 8, 9\n",
    "#             ]"
   ]
  },
  {
   "cell_type": "code",
   "execution_count": null,
   "id": "48274cb9-6de4-458e-87b3-62b08834d080",
   "metadata": {},
   "outputs": [],
   "source": []
  },
  {
   "cell_type": "markdown",
   "id": "4b14bb6a-3a4b-4866-b46e-a12a267ea060",
   "metadata": {},
   "source": [
    "# (TO DO) Get Fielder Data"
   ]
  },
  {
   "cell_type": "code",
   "execution_count": null,
   "id": "febf0ef2-d336-403a-aa0c-384402818b1e",
   "metadata": {},
   "outputs": [],
   "source": []
  },
  {
   "cell_type": "markdown",
   "id": "c8fcc7b5-3b40-4721-bea1-ff4313d61203",
   "metadata": {},
   "source": [
    "# Merge Curveballs"
   ]
  },
  {
   "cell_type": "code",
   "execution_count": 56,
   "id": "0b52b3d8-b787-4d53-a6e1-464222c4a5cd",
   "metadata": {},
   "outputs": [],
   "source": [
    "def merge_cu(df):\n",
    "    df['pitch_name'] = np.where(df['pitch_type'].isin(['KC', 'CU']), 'Curveball', df['pitch_name']) # Thanks to ChatGPT\n",
    "    df['pitch_type'] = np.where(df['pitch_type'].isin(['KC', 'CU']), 'CU', df['pitch_type'])\n",
    "    return df\n",
    "\n",
    "#df_cu = merge_cu(df)"
   ]
  },
  {
   "cell_type": "markdown",
   "id": "aecab13f-ed11-4500-aafe-9b5d73361d69",
   "metadata": {},
   "source": [
    "# Pitch Mix"
   ]
  },
  {
   "cell_type": "code",
   "execution_count": 58,
   "id": "5194cbfc-7106-4cb1-9da0-ab25448c11a0",
   "metadata": {},
   "outputs": [],
   "source": [
    "def pitch_mix(df):\n",
    "    # Pitch Mix\n",
    "    pm  = df.groupby(['pitch_type', 'pitch_name'], as_index=False).agg({'des' : 'count'\n",
    "                                                                        ,'release_speed' : 'mean'\n",
    "                                                                        ,'release_spin_rate' : 'mean'\n",
    "                                                                        ,'zone' : 'mean'\n",
    "                                                                       }\n",
    "                                                                    ).rename(columns = {'des' : 'count'}\n",
    "                                                                            ).sort_values(by = 'count', ascending = False)\n",
    "    pm['usage'] = round((pm['count']/len(df))*100,1)\n",
    "    return pm"
   ]
  },
  {
   "cell_type": "markdown",
   "id": "d597dec7-09f7-4d0a-ab8c-866318bfaf96",
   "metadata": {},
   "source": [
    "# Pitch Mix By Group"
   ]
  },
  {
   "cell_type": "code",
   "execution_count": 60,
   "id": "fdfe8f75-2966-4f8a-ab36-55b6e17a0872",
   "metadata": {},
   "outputs": [],
   "source": [
    "def pitch_mix_by_group(df, group):\n",
    "    # Pitch Mix\n",
    "    pm  = df.groupby(group, as_index=False).agg({'des' : 'count'\n",
    "                                                   ,'release_speed' : 'mean'\n",
    "                                                   ,'release_spin_rate' : 'mean'\n",
    "                                                   ,'zone' : 'mean'\n",
    "                                                  }\n",
    "                                                 ).rename(columns = {'des' : 'count'}\n",
    "                                                         ).sort_values(by = 'count', ascending = False).round(3)\n",
    "    pm['usage'] = round((pm['count']/len(df))*100,1)\n",
    "    return pm"
   ]
  },
  {
   "cell_type": "code",
   "execution_count": 61,
   "id": "c89899fa-de81-4f6f-a71f-9df28892c1c2",
   "metadata": {},
   "outputs": [],
   "source": [
    "# def pitch_mix_by_group(df, **kwargs):\n",
    "#     df[\n",
    "#     # Pitch Mix\n",
    "#     pm  = df.groupby([group], as_index=False).agg({'des' : 'count'\n",
    "#                                                    ,'release_speed' : 'mean'\n",
    "#                                                    ,'release_spin_rate' : 'mean'\n",
    "#                                                   }\n",
    "#                                                  ).rename(columns = {'des' : 'count'}\n",
    "#                                                          ).sort_values(by = 'count', ascending = False).round(3)\n",
    "#     pm['usage'] = round((pm['count']/len(df))*100,1)\n",
    "#     return pm\n",
    "# pitch_mix_by_group(nola, ['stand','pitch_type'])"
   ]
  },
  {
   "cell_type": "markdown",
   "id": "f49b53f8-6cc2-4230-896a-1b42fa02d3be",
   "metadata": {},
   "source": [
    "# Filtered Dataframe produced by ChatGPT"
   ]
  },
  {
   "cell_type": "code",
   "execution_count": 63,
   "id": "9f354e18-e481-47ed-a7a7-7718ccb3540c",
   "metadata": {},
   "outputs": [],
   "source": [
    "import pandas as pd\n",
    "\n",
    "def filter_dataframe(dataframe, **kwargs):\n",
    "    \"\"\"\n",
    "    Filter a DataFrame based on key-value pairs in kwargs.\n",
    "\n",
    "    Parameters:\n",
    "    - dataframe: pandas DataFrame\n",
    "    - **kwargs: Key-value pairs where keys are column names and values are the filter criteria.\n",
    "\n",
    "    Returns:\n",
    "    - pandas DataFrame: Filtered DataFrame\n",
    "    \"\"\"\n",
    "\n",
    "    # Ensure that the input is a pandas DataFrame\n",
    "    if not isinstance(dataframe, pd.DataFrame):\n",
    "        raise ValueError(\"Input must be a pandas DataFrame\")\n",
    "\n",
    "    # Initialize a boolean mask with True values for all rows\n",
    "    mask = pd.Series(True, index=dataframe.index)\n",
    "\n",
    "    # Apply filters based on key-value pairs in kwargs\n",
    "    for column, value in kwargs.items():\n",
    "        if column not in dataframe.columns:\n",
    "            raise ValueError(f\"Column '{column}' does not exist in the DataFrame\")\n",
    "        \n",
    "        mask = mask & (dataframe[column] == value)\n",
    "\n",
    "    # Apply the boolean mask to filter the DataFrame\n",
    "    filtered_dataframe = dataframe[mask]\n",
    "\n",
    "    return filtered_dataframe\n",
    "\n",
    "# Example usage:\n",
    "# Assuming you have a DataFrame called 'your_dataframe'\n",
    "# filtered_result = filter_dataframe(your_dataframe, column1=value1, column2=value2, ...)\n"
   ]
  },
  {
   "cell_type": "code",
   "execution_count": 64,
   "id": "088b75c3-f915-492c-985d-fd1a60758b93",
   "metadata": {},
   "outputs": [],
   "source": [
    "def lhb_pitch_mix(df):\n",
    "    return pitch_mix(df[df.stand == 'L'])"
   ]
  },
  {
   "cell_type": "code",
   "execution_count": 65,
   "id": "b06d9372-907e-400a-a01e-72555f40c218",
   "metadata": {},
   "outputs": [],
   "source": [
    "def rhb_pitch_mix(df):\n",
    "    return pitch_mix(df[df.stand == 'R'])"
   ]
  },
  {
   "cell_type": "markdown",
   "id": "742dc169-f632-49e9-beb4-6f046f073014",
   "metadata": {},
   "source": [
    "# Pitch Mix by Season"
   ]
  },
  {
   "cell_type": "code",
   "execution_count": 67,
   "id": "57c9959f-211a-4f29-9b4b-8cd9191ea6c9",
   "metadata": {},
   "outputs": [],
   "source": [
    "def pitch_mix_by_season(df):\n",
    "    pitch_mix_by_season = pd.DataFrame()\n",
    "    for y in df.game_year.unique().tolist():\n",
    "        pmbs = pitch_mix(df[(df.game_year == y)\n",
    "                            #&(df.stand == s)\n",
    "                           ]\n",
    "                        )\n",
    "        pmbs['year'] = y\n",
    "        pitch_mix_by_season = pd.concat([pitch_mix_by_season, pmbs])\n",
    "            \n",
    "    return pitch_mix_by_season\n",
    "#pitch_mix_by_season(df)"
   ]
  },
  {
   "cell_type": "markdown",
   "id": "d5d64926-58cc-48a4-8894-058b8810ba68",
   "metadata": {},
   "source": [
    "# Pitch Mix by Season and Stand"
   ]
  },
  {
   "cell_type": "code",
   "execution_count": 69,
   "id": "512e0871-f339-4e97-8a09-db9034d77606",
   "metadata": {},
   "outputs": [],
   "source": [
    "def pitch_mix_by_season_and_stand(df):\n",
    "    pitch_mix_by_season = pd.DataFrame()\n",
    "    for y in df.game_year.unique().tolist():\n",
    "        for s in df.stand.unique().tolist():\n",
    "            pmbs = pitch_mix(df[(df.game_year == y)\n",
    "                                &(df.stand == s)]\n",
    "                            )\n",
    "            pmbs['year'] = y\n",
    "            pmbs['stand'] = s\n",
    "            pitch_mix_by_season = pd.concat([pitch_mix_by_season, pmbs])\n",
    "            \n",
    "    return pitch_mix_by_season\n",
    "#pitch_mix_by_season(df)"
   ]
  },
  {
   "cell_type": "markdown",
   "id": "8bf16b4b-3403-4138-8b50-5de9dc33b0ce",
   "metadata": {},
   "source": [
    "# KS Filter Function"
   ]
  },
  {
   "cell_type": "markdown",
   "id": "8c44a6f6-e34c-439d-9595-4d05cbb0827e",
   "metadata": {},
   "source": [
    "**Use Case**: \"I want to see pitch level data of Bryce Harper's 2020 season at the plate.\""
   ]
  },
  {
   "cell_type": "markdown",
   "id": "12690eb3-b7c2-4271-8413-778019f85d78",
   "metadata": {},
   "source": [
    "```python\n",
    "# My Filtering Function Example\n",
    "df = phils_sc\n",
    "field = 'game_year'\n",
    "criteria = 2020\n",
    "\n",
    "df = ks_filter(pd.concat([phils_sc,nphl]),'player_name','Harper, Bryce')\n",
    "```"
   ]
  },
  {
   "cell_type": "code",
   "execution_count": 73,
   "id": "838fd902-1eaa-4e39-b194-1084e61a8d2e",
   "metadata": {},
   "outputs": [],
   "source": [
    "def ks_filter(df,field,criteria):\n",
    "    df = df[df[field] == criteria]\n",
    "    return df"
   ]
  },
  {
   "cell_type": "code",
   "execution_count": null,
   "id": "b3f287dd-2690-47fb-bdcc-426393bf26ea",
   "metadata": {},
   "outputs": [],
   "source": []
  },
  {
   "cell_type": "markdown",
   "id": "a657adb6-7a7f-41a0-bdc7-c16641521ea3",
   "metadata": {},
   "source": [
    "# Summarize Events"
   ]
  },
  {
   "cell_type": "markdown",
   "id": "94b31b2a-4162-48ff-95dd-bd1d81c6e50d",
   "metadata": {},
   "source": [
    "**Use Case**: \"I want to see how many strikeouts Kyle Schwarber has in his career\"\n",
    "\n",
    "```python\n",
    "df = pos\n",
    "level = 'game_year'\n",
    "\n",
    "tgt = ks_filter(df, 'player_name', 'Schwarber, Kyle')\n",
    "\n",
    "## Single Event\n",
    "e = event\n",
    "summarize_events(tgt, e)\n",
    "\n",
    "## Loop Through All Events\n",
    "for e in tgt.events.unique().tolist():\n",
    "    summarize_events(tgt, e)\n",
    "```"
   ]
  },
  {
   "cell_type": "code",
   "execution_count": 76,
   "id": "58af0f4d-a0e9-4438-8311-888d8fb0bc1d",
   "metadata": {},
   "outputs": [],
   "source": [
    "def summarize_events(df,event):\n",
    "    print('Pitches: ', len(df)\n",
    "          ,'| Games: ', df.game_pk.nunique()\n",
    "          ,'| {}: '.format(event), len(df[df.events == event])\n",
    "     )"
   ]
  },
  {
   "cell_type": "markdown",
   "id": "0523eb50-b2cc-4077-b034-92a58e1e96ee",
   "metadata": {},
   "source": [
    "# Column Minimum"
   ]
  },
  {
   "cell_type": "code",
   "execution_count": 78,
   "id": "cc686d00-64b5-41fc-b370-57dbb01f3c0d",
   "metadata": {},
   "outputs": [],
   "source": [
    "def col_min(df, f, crit, c):\n",
    "    df = df[df[f] == crit]\n",
    "    df = df[df[c] == df[c].min()]\n",
    "    return df.loc[:, ['game_date'\n",
    "                      ,'player_name'\n",
    "                      ,c\n",
    "                      ,'inning'\n",
    "                      ,'estimated_ba_using_speedangle'\n",
    "                     ]\n",
    "                 ]"
   ]
  },
  {
   "cell_type": "markdown",
   "id": "34a775ec-dbf3-4534-b238-8c51c4591c41",
   "metadata": {},
   "source": [
    "# Column Maximum"
   ]
  },
  {
   "cell_type": "code",
   "execution_count": 80,
   "id": "f961bbbe-4d3e-4ba3-b51a-57e28020c397",
   "metadata": {},
   "outputs": [],
   "source": [
    "def col_max(df, f, crit, c):\n",
    "    df = df[df[f] == crit]\n",
    "    df = df[df[c] == df[c].max()]\n",
    "    return df.loc[:, ['game_date'\n",
    "                      ,'player_name'\n",
    "                      ,c\n",
    "                      ,'inning'\n",
    "                      ,'estimated_ba_using_speedangle'\n",
    "                     ]\n",
    "                 ]"
   ]
  },
  {
   "cell_type": "markdown",
   "id": "c9c0248d-a884-4fae-b6c4-43cb32ac538f",
   "metadata": {},
   "source": [
    "# Column Average"
   ]
  },
  {
   "cell_type": "code",
   "execution_count": 82,
   "id": "4cec2291-5342-4846-943b-939b46c90be0",
   "metadata": {},
   "outputs": [],
   "source": [
    "def col_mean(df, f, crit, c):\n",
    "    df = df[df[f] == crit]\n",
    "    df = df[df[c] == df[c].mean()]\n",
    "    return df.loc[:, ['game_date'\n",
    "                      ,'player_name'\n",
    "                      ,c\n",
    "                      ,'inning'\n",
    "                      ,'estimated_ba_using_speedangle'\n",
    "                     ]\n",
    "                 ]"
   ]
  },
  {
   "cell_type": "markdown",
   "id": "68e8f72a-bc21-46a3-8339-3d20faab691b",
   "metadata": {},
   "source": [
    "# Column Standard Deviation"
   ]
  },
  {
   "cell_type": "code",
   "execution_count": 84,
   "id": "acbb9410-7ccc-49a7-bbe3-11b6b5ab3504",
   "metadata": {},
   "outputs": [],
   "source": [
    "def col_std(df, f, crit, c):\n",
    "    df = df[df[f] == crit]\n",
    "    df = df[df[c] == df[c].std()]\n",
    "    return df.loc[:, ['game_date'\n",
    "                      ,'player_name'\n",
    "                      ,c\n",
    "                      ,'inning'\n",
    "                      ,'estimated_ba_using_speedangle'\n",
    "                     ]\n",
    "                 ]"
   ]
  },
  {
   "cell_type": "markdown",
   "id": "8ab1f699-2a83-4739-add6-3027b98aab20",
   "metadata": {},
   "source": [
    "# Column Median"
   ]
  },
  {
   "cell_type": "code",
   "execution_count": 86,
   "id": "eb1e59d5-75ef-41e2-b2f3-9c68304777cc",
   "metadata": {},
   "outputs": [],
   "source": [
    "def col_median(df, f, crit, c):\n",
    "    df = df[df[f] == crit]\n",
    "    df = df[df[c] == df[c].median()]\n",
    "    return df.loc[:, ['game_date'\n",
    "                      ,'player_name'\n",
    "                      ,c\n",
    "                      ,'inning'\n",
    "                      ,'estimated_ba_using_speedangle'\n",
    "                     ]\n",
    "                 ]"
   ]
  },
  {
   "cell_type": "code",
   "execution_count": null,
   "id": "271bd2a1-1eaf-4e62-9256-69f193c5e5ca",
   "metadata": {},
   "outputs": [],
   "source": []
  },
  {
   "cell_type": "code",
   "execution_count": null,
   "id": "faa4bdea-9ebd-46ca-845d-d7e3534e065f",
   "metadata": {},
   "outputs": [],
   "source": []
  },
  {
   "cell_type": "markdown",
   "id": "d39ce738-2aef-4718-abf2-bf4f1ab734c2",
   "metadata": {},
   "source": [
    "# Battling the tism Allegations by Listing Off the Phillies Rosters, player_names, player_ids\n",
    "Except I am not battling any tism at all here, I am deriving a way to get that information without just having to list off everyone. But I will have to add a 'jersey' column to the rosters.\n",
    "\n",
    "phils_sc, pos, pps = get_phillies_data()\n",
    "\n",
    "pps.groupby(['player_name'\n",
    "             ,'game_year'\n",
    "            ],as_index=False\n",
    "           ).agg({'pitcher' : 'nunique'})"
   ]
  },
  {
   "cell_type": "code",
   "execution_count": null,
   "id": "04badb57-9d9e-42be-abcc-8e0ac1c46d90",
   "metadata": {},
   "outputs": [],
   "source": []
  }
 ],
 "metadata": {
  "kernelspec": {
   "display_name": "Python 3 (ipykernel)",
   "language": "python",
   "name": "python3"
  },
  "language_info": {
   "codemirror_mode": {
    "name": "ipython",
    "version": 3
   },
   "file_extension": ".py",
   "mimetype": "text/x-python",
   "name": "python",
   "nbconvert_exporter": "python",
   "pygments_lexer": "ipython3",
   "version": "3.9.20"
  }
 },
 "nbformat": 4,
 "nbformat_minor": 5
}
