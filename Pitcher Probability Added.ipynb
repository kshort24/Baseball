{
 "cells": [
  {
   "cell_type": "code",
   "execution_count": 40,
   "id": "19b89517",
   "metadata": {},
   "outputs": [],
   "source": [
    "import pandas as pd\n",
    "import os\n",
    "import numpy as np"
   ]
  },
  {
   "cell_type": "code",
   "execution_count": 5,
   "id": "f2abcf44",
   "metadata": {},
   "outputs": [],
   "source": [
    "data = pd.read_csv(\"2022 MLB Pitcher Probability Added.csv\")"
   ]
  },
  {
   "cell_type": "code",
   "execution_count": 6,
   "id": "d8155ba8",
   "metadata": {},
   "outputs": [
    {
     "data": {
      "text/html": [
       "<div>\n",
       "<style scoped>\n",
       "    .dataframe tbody tr th:only-of-type {\n",
       "        vertical-align: middle;\n",
       "    }\n",
       "\n",
       "    .dataframe tbody tr th {\n",
       "        vertical-align: top;\n",
       "    }\n",
       "\n",
       "    .dataframe thead th {\n",
       "        text-align: right;\n",
       "    }\n",
       "</style>\n",
       "<table border=\"1\" class=\"dataframe\">\n",
       "  <thead>\n",
       "    <tr style=\"text-align: right;\">\n",
       "      <th></th>\n",
       "      <th>Rk</th>\n",
       "      <th>Name</th>\n",
       "      <th>Age</th>\n",
       "      <th>Tm</th>\n",
       "      <th>IP</th>\n",
       "      <th>PtchR</th>\n",
       "      <th>PtchW</th>\n",
       "      <th>Plays</th>\n",
       "      <th>WPA</th>\n",
       "      <th>WPA+</th>\n",
       "      <th>...</th>\n",
       "      <th>acLI</th>\n",
       "      <th>cClutch</th>\n",
       "      <th>RE24</th>\n",
       "      <th>REW</th>\n",
       "      <th>boLI</th>\n",
       "      <th>RE24/boLI</th>\n",
       "      <th>LevHi</th>\n",
       "      <th>LevMd</th>\n",
       "      <th>LevLo</th>\n",
       "      <th>Name-additional</th>\n",
       "    </tr>\n",
       "  </thead>\n",
       "  <tbody>\n",
       "    <tr>\n",
       "      <th>0</th>\n",
       "      <td>1</td>\n",
       "      <td>Sandy Alcantara</td>\n",
       "      <td>26</td>\n",
       "      <td>MIA</td>\n",
       "      <td>228.2</td>\n",
       "      <td>43.5</td>\n",
       "      <td>4.8</td>\n",
       "      <td>920</td>\n",
       "      <td>5.4</td>\n",
       "      <td>19.7</td>\n",
       "      <td>...</td>\n",
       "      <td>0.47</td>\n",
       "      <td>0.9%</td>\n",
       "      <td>44.9</td>\n",
       "      <td>4.9</td>\n",
       "      <td>0.87</td>\n",
       "      <td>45.2</td>\n",
       "      <td>0</td>\n",
       "      <td>0</td>\n",
       "      <td>0</td>\n",
       "      <td>alcansa01</td>\n",
       "    </tr>\n",
       "    <tr>\n",
       "      <th>1</th>\n",
       "      <td>2</td>\n",
       "      <td>Jhoan Duran</td>\n",
       "      <td>24</td>\n",
       "      <td>MIN</td>\n",
       "      <td>67.2</td>\n",
       "      <td>15.4</td>\n",
       "      <td>1.6</td>\n",
       "      <td>280</td>\n",
       "      <td>4.6</td>\n",
       "      <td>8.9</td>\n",
       "      <td>...</td>\n",
       "      <td>1.74</td>\n",
       "      <td>0.8%</td>\n",
       "      <td>20.2</td>\n",
       "      <td>2.1</td>\n",
       "      <td>0.94</td>\n",
       "      <td>15.6</td>\n",
       "      <td>32</td>\n",
       "      <td>11</td>\n",
       "      <td>14</td>\n",
       "      <td>duranjh01</td>\n",
       "    </tr>\n",
       "    <tr>\n",
       "      <th>2</th>\n",
       "      <td>3</td>\n",
       "      <td>Daniel Bard</td>\n",
       "      <td>37</td>\n",
       "      <td>COL</td>\n",
       "      <td>60.1</td>\n",
       "      <td>16.1</td>\n",
       "      <td>1.7</td>\n",
       "      <td>259</td>\n",
       "      <td>4.3</td>\n",
       "      <td>10.8</td>\n",
       "      <td>...</td>\n",
       "      <td>0.79</td>\n",
       "      <td>0.2%</td>\n",
       "      <td>16.2</td>\n",
       "      <td>1.5</td>\n",
       "      <td>0.95</td>\n",
       "      <td>14.4</td>\n",
       "      <td>42</td>\n",
       "      <td>9</td>\n",
       "      <td>6</td>\n",
       "      <td>bardda01</td>\n",
       "    </tr>\n",
       "    <tr>\n",
       "      <th>3</th>\n",
       "      <td>4</td>\n",
       "      <td>Max Fried*</td>\n",
       "      <td>28</td>\n",
       "      <td>ATL</td>\n",
       "      <td>185.1</td>\n",
       "      <td>33.0</td>\n",
       "      <td>3.6</td>\n",
       "      <td>753</td>\n",
       "      <td>4.3</td>\n",
       "      <td>14.8</td>\n",
       "      <td>...</td>\n",
       "      <td>1.15</td>\n",
       "      <td>0.1%</td>\n",
       "      <td>39.1</td>\n",
       "      <td>4.3</td>\n",
       "      <td>0.91</td>\n",
       "      <td>43.5</td>\n",
       "      <td>0</td>\n",
       "      <td>0</td>\n",
       "      <td>0</td>\n",
       "      <td>friedma01</td>\n",
       "    </tr>\n",
       "    <tr>\n",
       "      <th>4</th>\n",
       "      <td>5</td>\n",
       "      <td>Justin Verlander</td>\n",
       "      <td>39</td>\n",
       "      <td>HOU</td>\n",
       "      <td>175.0</td>\n",
       "      <td>38.7</td>\n",
       "      <td>4.4</td>\n",
       "      <td>686</td>\n",
       "      <td>4.2</td>\n",
       "      <td>12.2</td>\n",
       "      <td>...</td>\n",
       "      <td>0.67</td>\n",
       "      <td>0.2%</td>\n",
       "      <td>39.4</td>\n",
       "      <td>4.5</td>\n",
       "      <td>0.86</td>\n",
       "      <td>49.1</td>\n",
       "      <td>0</td>\n",
       "      <td>0</td>\n",
       "      <td>0</td>\n",
       "      <td>verlaju01</td>\n",
       "    </tr>\n",
       "  </tbody>\n",
       "</table>\n",
       "<p>5 rows × 27 columns</p>\n",
       "</div>"
      ],
      "text/plain": [
       "   Rk              Name  Age   Tm     IP  PtchR  PtchW  Plays  WPA  WPA+  ...  \\\n",
       "0   1   Sandy Alcantara   26  MIA  228.2   43.5    4.8    920  5.4  19.7  ...   \n",
       "1   2       Jhoan Duran   24  MIN   67.2   15.4    1.6    280  4.6   8.9  ...   \n",
       "2   3       Daniel Bard   37  COL   60.1   16.1    1.7    259  4.3  10.8  ...   \n",
       "3   4        Max Fried*   28  ATL  185.1   33.0    3.6    753  4.3  14.8  ...   \n",
       "4   5  Justin Verlander   39  HOU  175.0   38.7    4.4    686  4.2  12.2  ...   \n",
       "\n",
       "   acLI  cClutch  RE24  REW  boLI RE24/boLI LevHi  LevMd LevLo  \\\n",
       "0  0.47     0.9%  44.9  4.9  0.87      45.2     0      0     0   \n",
       "1  1.74     0.8%  20.2  2.1  0.94      15.6    32     11    14   \n",
       "2  0.79     0.2%  16.2  1.5  0.95      14.4    42      9     6   \n",
       "3  1.15     0.1%  39.1  4.3  0.91      43.5     0      0     0   \n",
       "4  0.67     0.2%  39.4  4.5  0.86      49.1     0      0     0   \n",
       "\n",
       "   Name-additional  \n",
       "0        alcansa01  \n",
       "1        duranjh01  \n",
       "2         bardda01  \n",
       "3        friedma01  \n",
       "4        verlaju01  \n",
       "\n",
       "[5 rows x 27 columns]"
      ]
     },
     "execution_count": 6,
     "metadata": {},
     "output_type": "execute_result"
    }
   ],
   "source": [
    "data.head()"
   ]
  },
  {
   "cell_type": "code",
   "execution_count": 7,
   "id": "986c970b",
   "metadata": {},
   "outputs": [
    {
     "name": "stdout",
     "output_type": "stream",
     "text": [
      "Index(['Rk', 'Name', 'Age', 'Tm', 'IP', 'PtchR', 'PtchW', 'Plays', 'WPA',\n",
      "       'WPA+', 'WPA-', 'aLI', 'WPA/LI', 'Clutch', 'cWPA', 'cWPA+', 'cWPA-',\n",
      "       'acLI', 'cClutch', 'RE24', 'REW', 'boLI', 'RE24/boLI', 'LevHi', 'LevMd',\n",
      "       'LevLo', 'Name-additional'],\n",
      "      dtype='object')\n"
     ]
    }
   ],
   "source": [
    "print(data.columns)"
   ]
  },
  {
   "cell_type": "code",
   "execution_count": 11,
   "id": "b37ff00d",
   "metadata": {},
   "outputs": [],
   "source": [
    "relievers = data[data['IP'] < 100]"
   ]
  },
  {
   "cell_type": "code",
   "execution_count": 14,
   "id": "1e88b48c",
   "metadata": {},
   "outputs": [
    {
     "data": {
      "text/plain": [
       "count    731.000000\n",
       "mean      -0.000137\n",
       "std        0.839104\n",
       "min       -2.600000\n",
       "25%       -0.400000\n",
       "50%        0.000000\n",
       "75%        0.100000\n",
       "max        4.600000\n",
       "Name: WPA, dtype: float64"
      ]
     },
     "execution_count": 14,
     "metadata": {},
     "output_type": "execute_result"
    }
   ],
   "source": [
    "relievers['WPA'].describe()"
   ]
  },
  {
   "cell_type": "code",
   "execution_count": 16,
   "id": "585f92c5",
   "metadata": {},
   "outputs": [
    {
     "data": {
      "text/plain": [
       "1.4"
      ]
     },
     "execution_count": 16,
     "metadata": {},
     "output_type": "execute_result"
    }
   ],
   "source": [
    "relievers['WPA'].quantile(0.95)"
   ]
  },
  {
   "cell_type": "code",
   "execution_count": null,
   "id": "b3e3be6f",
   "metadata": {},
   "outputs": [],
   "source": []
  },
  {
   "cell_type": "code",
   "execution_count": 115,
   "id": "c2588db5",
   "metadata": {},
   "outputs": [],
   "source": [
    "## What is a .300 Batting Average?\n",
    "\n",
    "batting = pd.read_csv(\"2022 MLB Batter Standard.csv\")"
   ]
  },
  {
   "cell_type": "code",
   "execution_count": 20,
   "id": "e101577c",
   "metadata": {},
   "outputs": [
    {
     "name": "stdout",
     "output_type": "stream",
     "text": [
      "Index(['Rk', 'Name', 'Age', 'Tm', 'Lg', 'G', 'PA', 'AB', 'R', 'H', '2B', '3B',\n",
      "       'HR', 'RBI', 'SB', 'CS', 'BB', 'SO', 'BA', 'OBP', 'SLG', 'OPS', 'OPS+',\n",
      "       'TB', 'GDP', 'HBP', 'SH', 'SF', 'IBB', 'Pos Summary',\n",
      "       'Name-additional'],\n",
      "      dtype='object')\n"
     ]
    }
   ],
   "source": [
    "print(batting.columns)"
   ]
  },
  {
   "cell_type": "code",
   "execution_count": 26,
   "id": "affbf469",
   "metadata": {},
   "outputs": [
    {
     "data": {
      "text/plain": [
       "0.30074999999999996"
      ]
     },
     "execution_count": 26,
     "metadata": {},
     "output_type": "execute_result"
    }
   ],
   "source": [
    "batting['BA'].quantile(0.95)"
   ]
  },
  {
   "cell_type": "code",
   "execution_count": 27,
   "id": "76fff85a",
   "metadata": {},
   "outputs": [],
   "source": [
    "## It is the 95th percentile in 2022"
   ]
  },
  {
   "cell_type": "code",
   "execution_count": 28,
   "id": "ed11ff7f",
   "metadata": {},
   "outputs": [],
   "source": [
    "# What about an .800 OPS?"
   ]
  },
  {
   "cell_type": "code",
   "execution_count": 35,
   "id": "6091e951",
   "metadata": {},
   "outputs": [
    {
     "data": {
      "text/plain": [
       "0.7960000000000003"
      ]
     },
     "execution_count": 35,
     "metadata": {},
     "output_type": "execute_result"
    }
   ],
   "source": [
    "batting['OPS'].quantile(0.88)"
   ]
  },
  {
   "cell_type": "code",
   "execution_count": 36,
   "id": "47b27388",
   "metadata": {},
   "outputs": [],
   "source": [
    "# We will call it the 88th percentile"
   ]
  },
  {
   "cell_type": "code",
   "execution_count": 37,
   "id": "14b70a35",
   "metadata": {},
   "outputs": [],
   "source": [
    "### Now I need to figure out the function to do this that is not me doing guess and check in my head ya bum!"
   ]
  },
  {
   "cell_type": "code",
   "execution_count": 45,
   "id": "ec2839a0",
   "metadata": {},
   "outputs": [
    {
     "name": "stdout",
     "output_type": "stream",
     "text": [
      "nan\n"
     ]
    }
   ],
   "source": [
    "pctOBP = np.percentile(batting['OBP'], 88)\n",
    "print(pctOBP)"
   ]
  },
  {
   "cell_type": "code",
   "execution_count": 48,
   "id": "ff11dd0b",
   "metadata": {},
   "outputs": [],
   "source": [
    "npOBP = np.array(batting['OBP'])"
   ]
  },
  {
   "cell_type": "code",
   "execution_count": 50,
   "id": "f9726fb7",
   "metadata": {},
   "outputs": [],
   "source": [
    "pctOBP = np.percentile(npOBP, 88)"
   ]
  },
  {
   "cell_type": "code",
   "execution_count": 51,
   "id": "59882038",
   "metadata": {},
   "outputs": [
    {
     "name": "stdout",
     "output_type": "stream",
     "text": [
      "nan\n"
     ]
    }
   ],
   "source": [
    "print(pctOBP)"
   ]
  },
  {
   "cell_type": "code",
   "execution_count": 52,
   "id": "ac35c130",
   "metadata": {},
   "outputs": [],
   "source": [
    "# I am going to lose my fucking mind!"
   ]
  },
  {
   "cell_type": "code",
   "execution_count": 53,
   "id": "d599a779",
   "metadata": {},
   "outputs": [
    {
     "data": {
      "text/plain": [
       "array([0.28 , 0.285, 0.276,   nan, 0.378, 0.351, 0.298, 0.245, 0.264,\n",
       "       0.255, 0.313, 0.281, 0.286, 0.24 , 0.231, 0.259, 0.258, 0.294,\n",
       "       0.261, 0.283, 0.158, 0.25 , 0.188, 0.26 , 0.256, 0.297, 0.282,\n",
       "       0.352, 0.387, 0.   , 0.154, 0.406, 0.311, 0.339, 0.303, 0.301,\n",
       "       0.309, 0.257, 0.275, 0.246, 0.15 , 0.207, 0.316, 0.358, 0.321,\n",
       "       0.327, 0.375, 0.322, 0.289, 0.405, 0.278, 0.2  , 0.324, 0.287,\n",
       "       0.212, 0.195, 0.296, 0.227, 0.244, 0.17 , 0.08 , 0.362, 0.384,\n",
       "       0.265, 0.326, 0.373, 0.331, 0.34 , 0.333, 0.318, 0.314, 0.277,\n",
       "       0.377, 0.315, 0.454, 0.118, 0.37 , 0.366, 0.4  , 0.211, 0.344,\n",
       "       0.305, 0.228, 0.376, 0.284, 0.302, 0.306, 0.312, 0.274, 0.222,\n",
       "       0.336, 0.33 , 0.272, 0.367, 0.183, 0.233, 0.185, 0.356, 0.425,\n",
       "       0.429, 0.3  , 0.31 , 0.412, 0.325, 0.251, 0.205, 0.299, 0.291,\n",
       "       0.346, 0.341, 0.197, 0.243, 0.056, 0.266, 0.138, 0.148, 0.354,\n",
       "       0.349, 0.337, 0.308, 0.332, 0.319, 0.216, 0.167, 0.273, 0.361,\n",
       "       0.407, 0.444, 0.292, 0.224, 0.401, 0.194, 0.214, 0.394, 0.171,\n",
       "       0.32 , 0.335, 0.29 , 0.252, 0.254, 0.225, 0.22 , 0.263, 0.182,\n",
       "       0.364, 0.235, 0.21 , 0.269, 0.295, 0.374, 0.288, 0.368, 0.125,\n",
       "       0.293, 0.304, 0.115, 0.338, 0.328, 0.267, 0.248, 0.348, 0.371,\n",
       "       0.136, 0.059, 0.404, 0.268, 0.323, 0.156, 0.143, 0.132, 0.353,\n",
       "       0.343, 0.5  , 0.345, 0.342, 0.317, 0.357, 0.241, 0.441, 0.19 ,\n",
       "       0.279, 0.27 , 0.334, 0.221, 0.307, 0.372, 0.239, 0.262, 0.229,\n",
       "       0.238, 0.192, 0.381, 0.226, 0.1  , 0.7  , 0.071, 0.347, 0.242,\n",
       "       0.365, 0.23 , 0.382, 0.204, 0.184, 0.329, 0.439, 0.563, 0.218,\n",
       "       0.147, 0.087, 0.383, 0.209, 0.217, 1.   , 0.271, 0.355, 0.14 ,\n",
       "       0.187, 0.173, 0.111, 0.139, 0.408, 0.388, 0.414, 0.35 , 0.75 ,\n",
       "       0.369, 0.249, 0.175, 0.236, 0.36 , 0.393, 0.179])"
      ]
     },
     "execution_count": 53,
     "metadata": {},
     "output_type": "execute_result"
    }
   ],
   "source": [
    "batting['OBP'].unique()"
   ]
  },
  {
   "cell_type": "code",
   "execution_count": 54,
   "id": "df2d311e",
   "metadata": {},
   "outputs": [
    {
     "data": {
      "text/plain": [
       "count    867.000000\n",
       "mean       0.278311\n",
       "std        0.090516\n",
       "min        0.000000\n",
       "25%        0.250000\n",
       "50%        0.292000\n",
       "75%        0.324000\n",
       "max        1.000000\n",
       "Name: OBP, dtype: float64"
      ]
     },
     "execution_count": 54,
     "metadata": {},
     "output_type": "execute_result"
    }
   ],
   "source": [
    "batting['OBP'].describe()"
   ]
  },
  {
   "cell_type": "code",
   "execution_count": 57,
   "id": "3ee85e29",
   "metadata": {},
   "outputs": [
    {
     "data": {
      "text/plain": [
       "<AxesSubplot:>"
      ]
     },
     "execution_count": 57,
     "metadata": {},
     "output_type": "execute_result"
    },
    {
     "data": {
      "image/png": "[encoded data removed]",
      "text/plain": [
       "<Figure size 432x288 with 1 Axes>"
      ]
     },
     "metadata": {
      "needs_background": "light"
     },
     "output_type": "display_data"
    }
   ],
   "source": [
    "batting['OBP'].hist(bins = 20)"
   ]
  },
  {
   "cell_type": "code",
   "execution_count": 60,
   "id": "99dce496",
   "metadata": {},
   "outputs": [],
   "source": [
    "two_std_dev_from_mu = (batting['OBP'].mean()) + (2*(batting['OBP'].std()))"
   ]
  },
  {
   "cell_type": "code",
   "execution_count": 61,
   "id": "b67e06c8",
   "metadata": {},
   "outputs": [
    {
     "data": {
      "text/plain": [
       "0.4593429754885786"
      ]
     },
     "execution_count": 61,
     "metadata": {},
     "output_type": "execute_result"
    }
   ],
   "source": [
    "two_std_dev_from_mu"
   ]
  },
  {
   "cell_type": "code",
   "execution_count": 62,
   "id": "fe5eb357",
   "metadata": {},
   "outputs": [],
   "source": [
    "# This means you need an OBP of .459 to be 2 standard deviations away from the mean."
   ]
  },
  {
   "cell_type": "code",
   "execution_count": 63,
   "id": "a6cea44d",
   "metadata": {},
   "outputs": [],
   "source": [
    "# We know by the 68-95-99 rule that ~95% of the data exist within two standard deviations away from the mean.\n",
    "# This would imply that having an OBP = .459 would put a hitter in the 95th percentile for getting on base"
   ]
  },
  {
   "cell_type": "code",
   "execution_count": 67,
   "id": "645000bb",
   "metadata": {},
   "outputs": [],
   "source": [
    "# Define Functions\n",
    "def two_std_dev_from_mu(x):\n",
    "    y = (x.mean()) + 2*(x.std())\n",
    "    return y"
   ]
  },
  {
   "cell_type": "code",
   "execution_count": 71,
   "id": "9747a193",
   "metadata": {},
   "outputs": [
    {
     "data": {
      "text/plain": [
       "21.9829171198611"
      ]
     },
     "execution_count": 71,
     "metadata": {},
     "output_type": "execute_result"
    }
   ],
   "source": [
    "two_std_dev_from_mu(batting['HR'])"
   ]
  },
  {
   "cell_type": "code",
   "execution_count": 232,
   "id": "06e4da49",
   "metadata": {},
   "outputs": [
    {
     "ename": "TypeError",
     "evalue": "cannot concatenate object of type '<class 'list'>'; only Series and DataFrame objs are valid",
     "output_type": "error",
     "traceback": [
      "\u001b[1;31m---------------------------------------------------------------------------\u001b[0m",
      "\u001b[1;31mTypeError\u001b[0m                                 Traceback (most recent call last)",
      "Input \u001b[1;32mIn [232]\u001b[0m, in \u001b[0;36m<cell line: 2>\u001b[1;34m()\u001b[0m\n\u001b[0;32m      3\u001b[0m     x \u001b[38;5;241m=\u001b[39m two_std_dev_from_mu(batting[i])\n\u001b[0;32m      4\u001b[0m     \u001b[38;5;66;03m#final = final.append(x)\u001b[39;00m\n\u001b[1;32m----> 5\u001b[0m     final \u001b[38;5;241m=\u001b[39m \u001b[43mpd\u001b[49m\u001b[38;5;241;43m.\u001b[39;49m\u001b[43mconcat\u001b[49m\u001b[43m(\u001b[49m\u001b[43m[\u001b[49m\u001b[43mfinal\u001b[49m\u001b[43m,\u001b[49m\u001b[43m \u001b[49m\u001b[43mx\u001b[49m\u001b[43m]\u001b[49m\u001b[43m)\u001b[49m\n\u001b[0;32m      6\u001b[0m final\n",
      "File \u001b[1;32m~\\anaconda3\\lib\\site-packages\\pandas\\util\\_decorators.py:311\u001b[0m, in \u001b[0;36mdeprecate_nonkeyword_arguments.<locals>.decorate.<locals>.wrapper\u001b[1;34m(*args, **kwargs)\u001b[0m\n\u001b[0;32m    305\u001b[0m \u001b[38;5;28;01mif\u001b[39;00m \u001b[38;5;28mlen\u001b[39m(args) \u001b[38;5;241m>\u001b[39m num_allow_args:\n\u001b[0;32m    306\u001b[0m     warnings\u001b[38;5;241m.\u001b[39mwarn(\n\u001b[0;32m    307\u001b[0m         msg\u001b[38;5;241m.\u001b[39mformat(arguments\u001b[38;5;241m=\u001b[39marguments),\n\u001b[0;32m    308\u001b[0m         \u001b[38;5;167;01mFutureWarning\u001b[39;00m,\n\u001b[0;32m    309\u001b[0m         stacklevel\u001b[38;5;241m=\u001b[39mstacklevel,\n\u001b[0;32m    310\u001b[0m     )\n\u001b[1;32m--> 311\u001b[0m \u001b[38;5;28;01mreturn\u001b[39;00m func(\u001b[38;5;241m*\u001b[39margs, \u001b[38;5;241m*\u001b[39m\u001b[38;5;241m*\u001b[39mkwargs)\n",
      "File \u001b[1;32m~\\anaconda3\\lib\\site-packages\\pandas\\core\\reshape\\concat.py:347\u001b[0m, in \u001b[0;36mconcat\u001b[1;34m(objs, axis, join, ignore_index, keys, levels, names, verify_integrity, sort, copy)\u001b[0m\n\u001b[0;32m    143\u001b[0m \u001b[38;5;129m@deprecate_nonkeyword_arguments\u001b[39m(version\u001b[38;5;241m=\u001b[39m\u001b[38;5;28;01mNone\u001b[39;00m, allowed_args\u001b[38;5;241m=\u001b[39m[\u001b[38;5;124m\"\u001b[39m\u001b[38;5;124mobjs\u001b[39m\u001b[38;5;124m\"\u001b[39m])\n\u001b[0;32m    144\u001b[0m \u001b[38;5;28;01mdef\u001b[39;00m \u001b[38;5;21mconcat\u001b[39m(\n\u001b[0;32m    145\u001b[0m     objs: Iterable[NDFrame] \u001b[38;5;241m|\u001b[39m Mapping[Hashable, NDFrame],\n\u001b[1;32m   (...)\u001b[0m\n\u001b[0;32m    154\u001b[0m     copy: \u001b[38;5;28mbool\u001b[39m \u001b[38;5;241m=\u001b[39m \u001b[38;5;28;01mTrue\u001b[39;00m,\n\u001b[0;32m    155\u001b[0m ) \u001b[38;5;241m-\u001b[39m\u001b[38;5;241m>\u001b[39m DataFrame \u001b[38;5;241m|\u001b[39m Series:\n\u001b[0;32m    156\u001b[0m     \u001b[38;5;124;03m\"\"\"\u001b[39;00m\n\u001b[0;32m    157\u001b[0m \u001b[38;5;124;03m    Concatenate pandas objects along a particular axis with optional set logic\u001b[39;00m\n\u001b[0;32m    158\u001b[0m \u001b[38;5;124;03m    along the other axes.\u001b[39;00m\n\u001b[1;32m   (...)\u001b[0m\n\u001b[0;32m    345\u001b[0m \u001b[38;5;124;03m    ValueError: Indexes have overlapping values: ['a']\u001b[39;00m\n\u001b[0;32m    346\u001b[0m \u001b[38;5;124;03m    \"\"\"\u001b[39;00m\n\u001b[1;32m--> 347\u001b[0m     op \u001b[38;5;241m=\u001b[39m \u001b[43m_Concatenator\u001b[49m\u001b[43m(\u001b[49m\n\u001b[0;32m    348\u001b[0m \u001b[43m        \u001b[49m\u001b[43mobjs\u001b[49m\u001b[43m,\u001b[49m\n\u001b[0;32m    349\u001b[0m \u001b[43m        \u001b[49m\u001b[43maxis\u001b[49m\u001b[38;5;241;43m=\u001b[39;49m\u001b[43maxis\u001b[49m\u001b[43m,\u001b[49m\n\u001b[0;32m    350\u001b[0m \u001b[43m        \u001b[49m\u001b[43mignore_index\u001b[49m\u001b[38;5;241;43m=\u001b[39;49m\u001b[43mignore_index\u001b[49m\u001b[43m,\u001b[49m\n\u001b[0;32m    351\u001b[0m \u001b[43m        \u001b[49m\u001b[43mjoin\u001b[49m\u001b[38;5;241;43m=\u001b[39;49m\u001b[43mjoin\u001b[49m\u001b[43m,\u001b[49m\n\u001b[0;32m    352\u001b[0m \u001b[43m        \u001b[49m\u001b[43mkeys\u001b[49m\u001b[38;5;241;43m=\u001b[39;49m\u001b[43mkeys\u001b[49m\u001b[43m,\u001b[49m\n\u001b[0;32m    353\u001b[0m \u001b[43m        \u001b[49m\u001b[43mlevels\u001b[49m\u001b[38;5;241;43m=\u001b[39;49m\u001b[43mlevels\u001b[49m\u001b[43m,\u001b[49m\n\u001b[0;32m    354\u001b[0m \u001b[43m        \u001b[49m\u001b[43mnames\u001b[49m\u001b[38;5;241;43m=\u001b[39;49m\u001b[43mnames\u001b[49m\u001b[43m,\u001b[49m\n\u001b[0;32m    355\u001b[0m \u001b[43m        \u001b[49m\u001b[43mverify_integrity\u001b[49m\u001b[38;5;241;43m=\u001b[39;49m\u001b[43mverify_integrity\u001b[49m\u001b[43m,\u001b[49m\n\u001b[0;32m    356\u001b[0m \u001b[43m        \u001b[49m\u001b[43mcopy\u001b[49m\u001b[38;5;241;43m=\u001b[39;49m\u001b[43mcopy\u001b[49m\u001b[43m,\u001b[49m\n\u001b[0;32m    357\u001b[0m \u001b[43m        \u001b[49m\u001b[43msort\u001b[49m\u001b[38;5;241;43m=\u001b[39;49m\u001b[43msort\u001b[49m\u001b[43m,\u001b[49m\n\u001b[0;32m    358\u001b[0m \u001b[43m    \u001b[49m\u001b[43m)\u001b[49m\n\u001b[0;32m    360\u001b[0m     \u001b[38;5;28;01mreturn\u001b[39;00m op\u001b[38;5;241m.\u001b[39mget_result()\n",
      "File \u001b[1;32m~\\anaconda3\\lib\\site-packages\\pandas\\core\\reshape\\concat.py:437\u001b[0m, in \u001b[0;36m_Concatenator.__init__\u001b[1;34m(self, objs, axis, join, keys, levels, names, ignore_index, verify_integrity, copy, sort)\u001b[0m\n\u001b[0;32m    432\u001b[0m     \u001b[38;5;28;01mif\u001b[39;00m \u001b[38;5;129;01mnot\u001b[39;00m \u001b[38;5;28misinstance\u001b[39m(obj, (ABCSeries, ABCDataFrame)):\n\u001b[0;32m    433\u001b[0m         msg \u001b[38;5;241m=\u001b[39m (\n\u001b[0;32m    434\u001b[0m             \u001b[38;5;124mf\u001b[39m\u001b[38;5;124m\"\u001b[39m\u001b[38;5;124mcannot concatenate object of type \u001b[39m\u001b[38;5;124m'\u001b[39m\u001b[38;5;132;01m{\u001b[39;00m\u001b[38;5;28mtype\u001b[39m(obj)\u001b[38;5;132;01m}\u001b[39;00m\u001b[38;5;124m'\u001b[39m\u001b[38;5;124m; \u001b[39m\u001b[38;5;124m\"\u001b[39m\n\u001b[0;32m    435\u001b[0m             \u001b[38;5;124m\"\u001b[39m\u001b[38;5;124monly Series and DataFrame objs are valid\u001b[39m\u001b[38;5;124m\"\u001b[39m\n\u001b[0;32m    436\u001b[0m         )\n\u001b[1;32m--> 437\u001b[0m         \u001b[38;5;28;01mraise\u001b[39;00m \u001b[38;5;167;01mTypeError\u001b[39;00m(msg)\n\u001b[0;32m    439\u001b[0m     ndims\u001b[38;5;241m.\u001b[39madd(obj\u001b[38;5;241m.\u001b[39mndim)\n\u001b[0;32m    441\u001b[0m \u001b[38;5;66;03m# get the sample\u001b[39;00m\n\u001b[0;32m    442\u001b[0m \u001b[38;5;66;03m# want the highest ndim that we have, and must be non-empty\u001b[39;00m\n\u001b[0;32m    443\u001b[0m \u001b[38;5;66;03m# unless all objs are empty\u001b[39;00m\n",
      "\u001b[1;31mTypeError\u001b[0m: cannot concatenate object of type '<class 'list'>'; only Series and DataFrame objs are valid"
     ]
    }
   ],
   "source": [
    "final = []\n",
    "for i in cols:\n",
    "    x = two_std_dev_from_mu(batting[i])\n",
    "    #final = final.append(x)\n",
    "    final = pd.concat([final, x])\n",
    "final    \n",
    "#final"
   ]
  },
  {
   "cell_type": "code",
   "execution_count": 209,
   "id": "214ab3f8",
   "metadata": {},
   "outputs": [
    {
     "data": {
      "text/plain": [
       "3.7995531863809813"
      ]
     },
     "execution_count": 209,
     "metadata": {},
     "output_type": "execute_result"
    }
   ],
   "source": [
    "two_std_dev_from_mu(batting['IBB'])"
   ]
  },
  {
   "cell_type": "code",
   "execution_count": 186,
   "id": "efde76c3",
   "metadata": {
    "scrolled": true
   },
   "outputs": [
    {
     "name": "stderr",
     "output_type": "stream",
     "text": [
      "C:\\Users\\Kellen\\AppData\\Local\\Temp\\ipykernel_7484\\962104932.py:1: FutureWarning: Dropping of nuisance columns in DataFrame reductions (with 'numeric_only=None') is deprecated; in a future version this will raise TypeError.  Select only valid columns before calling the reduction.\n",
      "  cols = [(batting.var(ddof=0))]\n"
     ]
    },
    {
     "data": {
      "text/plain": [
       "[Rk      81016.250000\n",
       " Age        12.890640\n",
       " G        2607.054154\n",
       " PA      42976.283923\n",
       " AB      34365.379184\n",
       " R         685.401409\n",
       " H        2357.474847\n",
       " 2B        108.146431\n",
       " 3B          1.548647\n",
       " HR         65.405216\n",
       " RBI       676.811850\n",
       " SB         26.734839\n",
       " CS          2.623915\n",
       " BB        398.834421\n",
       " SO       2058.320075\n",
       " BA          0.006105\n",
       " OBP         0.008193\n",
       " SLG         0.021528\n",
       " OPS         0.048655\n",
       " OPS+     3742.319252\n",
       " TB       6595.843099\n",
       " GDP        22.178326\n",
       " HBP        11.288893\n",
       " SH          1.419632\n",
       " SF          3.586223\n",
       " IBB         2.693988\n",
       " dtype: float64]"
      ]
     },
     "execution_count": 186,
     "metadata": {},
     "output_type": "execute_result"
    }
   ],
   "source": [
    "cols = [(batting.var(ddof=0))]\n",
    "cols"
   ]
  },
  {
   "cell_type": "code",
   "execution_count": 185,
   "id": "8afb7ac6",
   "metadata": {},
   "outputs": [
    {
     "data": {
      "text/plain": [
       "65.47161684908538"
      ]
     },
     "execution_count": 185,
     "metadata": {},
     "output_type": "execute_result"
    }
   ],
   "source": [
    "batting['HR'].var()"
   ]
  },
  {
   "cell_type": "code",
   "execution_count": 207,
   "id": "4131f0d5",
   "metadata": {},
   "outputs": [
    {
     "data": {
      "text/plain": [
       "['Age',\n",
       " 'G',\n",
       " 'PA',\n",
       " 'AB',\n",
       " 'R',\n",
       " 'H',\n",
       " '2B',\n",
       " '3B',\n",
       " 'HR',\n",
       " 'RBI',\n",
       " 'SB',\n",
       " 'CS',\n",
       " 'BB',\n",
       " 'SO',\n",
       " 'BA',\n",
       " 'OBP',\n",
       " 'SLG',\n",
       " 'OPS',\n",
       " 'OPS+',\n",
       " 'TB',\n",
       " 'GDP',\n",
       " 'HBP',\n",
       " 'SH',\n",
       " 'SF',\n",
       " 'IBB']"
      ]
     },
     "execution_count": 207,
     "metadata": {},
     "output_type": "execute_result"
    }
   ],
   "source": [
    "cols = list(batting.columns)\n",
    "cols\n",
    "\n",
    "unwanted = ['Rk', 'Name', 'Tm', 'Lg', 'Pos Summary', 'Name-additional']\n",
    "\n",
    "cols = [c for c in cols if c not in unwanted]\n",
    "cols"
   ]
  },
  {
   "cell_type": "code",
   "execution_count": 198,
   "id": "4299c21e",
   "metadata": {},
   "outputs": [
    {
     "data": {
      "text/html": [
       "<div>\n",
       "<style scoped>\n",
       "    .dataframe tbody tr th:only-of-type {\n",
       "        vertical-align: middle;\n",
       "    }\n",
       "\n",
       "    .dataframe tbody tr th {\n",
       "        vertical-align: top;\n",
       "    }\n",
       "\n",
       "    .dataframe thead th {\n",
       "        text-align: right;\n",
       "    }\n",
       "</style>\n",
       "<table border=\"1\" class=\"dataframe\">\n",
       "  <thead>\n",
       "    <tr style=\"text-align: right;\">\n",
       "      <th></th>\n",
       "      <th>Value</th>\n",
       "    </tr>\n",
       "  </thead>\n",
       "  <tbody>\n",
       "    <tr>\n",
       "      <th>0</th>\n",
       "      <td>Age</td>\n",
       "    </tr>\n",
       "    <tr>\n",
       "      <th>1</th>\n",
       "      <td>G</td>\n",
       "    </tr>\n",
       "    <tr>\n",
       "      <th>2</th>\n",
       "      <td>PA</td>\n",
       "    </tr>\n",
       "    <tr>\n",
       "      <th>3</th>\n",
       "      <td>AB</td>\n",
       "    </tr>\n",
       "    <tr>\n",
       "      <th>4</th>\n",
       "      <td>R</td>\n",
       "    </tr>\n",
       "    <tr>\n",
       "      <th>5</th>\n",
       "      <td>H</td>\n",
       "    </tr>\n",
       "    <tr>\n",
       "      <th>6</th>\n",
       "      <td>2B</td>\n",
       "    </tr>\n",
       "    <tr>\n",
       "      <th>7</th>\n",
       "      <td>3B</td>\n",
       "    </tr>\n",
       "    <tr>\n",
       "      <th>8</th>\n",
       "      <td>HR</td>\n",
       "    </tr>\n",
       "    <tr>\n",
       "      <th>9</th>\n",
       "      <td>RBI</td>\n",
       "    </tr>\n",
       "    <tr>\n",
       "      <th>10</th>\n",
       "      <td>SB</td>\n",
       "    </tr>\n",
       "    <tr>\n",
       "      <th>11</th>\n",
       "      <td>CS</td>\n",
       "    </tr>\n",
       "    <tr>\n",
       "      <th>12</th>\n",
       "      <td>BB</td>\n",
       "    </tr>\n",
       "    <tr>\n",
       "      <th>13</th>\n",
       "      <td>SO</td>\n",
       "    </tr>\n",
       "    <tr>\n",
       "      <th>14</th>\n",
       "      <td>BA</td>\n",
       "    </tr>\n",
       "    <tr>\n",
       "      <th>15</th>\n",
       "      <td>OBP</td>\n",
       "    </tr>\n",
       "    <tr>\n",
       "      <th>16</th>\n",
       "      <td>SLG</td>\n",
       "    </tr>\n",
       "    <tr>\n",
       "      <th>17</th>\n",
       "      <td>OPS</td>\n",
       "    </tr>\n",
       "    <tr>\n",
       "      <th>18</th>\n",
       "      <td>OPS+</td>\n",
       "    </tr>\n",
       "    <tr>\n",
       "      <th>19</th>\n",
       "      <td>TB</td>\n",
       "    </tr>\n",
       "    <tr>\n",
       "      <th>20</th>\n",
       "      <td>GDP</td>\n",
       "    </tr>\n",
       "    <tr>\n",
       "      <th>21</th>\n",
       "      <td>HBP</td>\n",
       "    </tr>\n",
       "    <tr>\n",
       "      <th>22</th>\n",
       "      <td>SH</td>\n",
       "    </tr>\n",
       "    <tr>\n",
       "      <th>23</th>\n",
       "      <td>SF</td>\n",
       "    </tr>\n",
       "    <tr>\n",
       "      <th>24</th>\n",
       "      <td>IBB</td>\n",
       "    </tr>\n",
       "  </tbody>\n",
       "</table>\n",
       "</div>"
      ],
      "text/plain": [
       "   Value\n",
       "0    Age\n",
       "1      G\n",
       "2     PA\n",
       "3     AB\n",
       "4      R\n",
       "5      H\n",
       "6     2B\n",
       "7     3B\n",
       "8     HR\n",
       "9    RBI\n",
       "10    SB\n",
       "11    CS\n",
       "12    BB\n",
       "13    SO\n",
       "14    BA\n",
       "15   OBP\n",
       "16   SLG\n",
       "17   OPS\n",
       "18  OPS+\n",
       "19    TB\n",
       "20   GDP\n",
       "21   HBP\n",
       "22    SH\n",
       "23    SF\n",
       "24   IBB"
      ]
     },
     "execution_count": 198,
     "metadata": {},
     "output_type": "execute_result"
    }
   ],
   "source": [
    "df = pd.DataFrame(cols, columns = ['Value'])\n",
    "df"
   ]
  },
  {
   "cell_type": "code",
   "execution_count": 205,
   "id": "f1169afc",
   "metadata": {},
   "outputs": [
    {
     "name": "stderr",
     "output_type": "stream",
     "text": [
      "C:\\Users\\Kellen\\AppData\\Local\\Temp\\ipykernel_7484\\1769905953.py:1: FutureWarning: Dropping of nuisance columns in DataFrame reductions (with 'numeric_only=None') is deprecated; in a future version this will raise TypeError.  Select only valid columns before calling the reduction.\n",
      "  batting.var()['HR']\n"
     ]
    },
    {
     "data": {
      "text/plain": [
       "65.47161684908538"
      ]
     },
     "execution_count": 205,
     "metadata": {},
     "output_type": "execute_result"
    }
   ],
   "source": [
    "batting.var()['HR']\n"
   ]
  },
  {
   "cell_type": "code",
   "execution_count": 191,
   "id": "5d061256",
   "metadata": {},
   "outputs": [
    {
     "name": "stdout",
     "output_type": "stream",
     "text": [
      "0        1.0\n",
      "1        2.0\n",
      "2        3.0\n",
      "3        4.0\n",
      "4        5.0\n",
      "       ...  \n",
      "981    982.0\n",
      "982    983.0\n",
      "983    984.0\n",
      "984    985.0\n",
      "985    986.0\n",
      "Name: Rk, Length: 986, dtype: float64\n",
      "0           CJ Abrams*\n",
      "1           CJ Abrams*\n",
      "2           CJ Abrams*\n",
      "3         Albert Abreu\n",
      "4         Albert Abreu\n",
      "            ...       \n",
      "981       Jared Young*\n",
      "982        Seby Zavala\n",
      "983    Bradley Zimmer*\n",
      "984    Bradley Zimmer*\n",
      "985    Bradley Zimmer*\n",
      "Name: Name, Length: 986, dtype: object\n",
      "0      21.0\n",
      "1      21.0\n",
      "2      21.0\n",
      "3      26.0\n",
      "4      26.0\n",
      "       ... \n",
      "981    26.0\n",
      "982    28.0\n",
      "983    29.0\n",
      "984    29.0\n",
      "985    29.0\n",
      "Name: Age, Length: 986, dtype: float64\n",
      "0      TOT\n",
      "1      SDP\n",
      "2      WSN\n",
      "3      TOT\n",
      "4      KCR\n",
      "      ... \n",
      "981    CHC\n",
      "982    CHW\n",
      "983    TOT\n",
      "984    TOR\n",
      "985    PHI\n",
      "Name: Tm, Length: 986, dtype: object\n",
      "0       NL\n",
      "1       NL\n",
      "2       NL\n",
      "3       AL\n",
      "4       AL\n",
      "      ... \n",
      "981     NL\n",
      "982     AL\n",
      "983    MLB\n",
      "984     AL\n",
      "985     NL\n",
      "Name: Lg, Length: 986, dtype: object\n",
      "0       90\n",
      "1       46\n",
      "2       44\n",
      "3        1\n",
      "4        1\n",
      "      ... \n",
      "981      6\n",
      "982     61\n",
      "983    109\n",
      "984    100\n",
      "985      9\n",
      "Name: G, Length: 986, dtype: int64\n",
      "0      302\n",
      "1      139\n",
      "2      163\n",
      "3        0\n",
      "4        0\n",
      "      ... \n",
      "981     22\n",
      "982    205\n",
      "983    117\n",
      "984    101\n",
      "985     16\n",
      "Name: PA, Length: 986, dtype: int64\n",
      "0      284\n",
      "1      125\n",
      "2      159\n",
      "3        0\n",
      "4        0\n",
      "      ... \n",
      "981     19\n",
      "982    178\n",
      "983    105\n",
      "984     89\n",
      "985     16\n",
      "Name: AB, Length: 986, dtype: int64\n",
      "0      33\n",
      "1      16\n",
      "2      17\n",
      "3       0\n",
      "4       0\n",
      "       ..\n",
      "981     2\n",
      "982    22\n",
      "983    18\n",
      "984    14\n",
      "985     4\n",
      "Name: R, Length: 986, dtype: int64\n",
      "0      70\n",
      "1      29\n",
      "2      41\n",
      "3       0\n",
      "4       0\n",
      "       ..\n",
      "981     5\n",
      "982    48\n",
      "983    13\n",
      "984     9\n",
      "985     4\n",
      "Name: H, Length: 986, dtype: int64\n",
      "0      12\n",
      "1       5\n",
      "2       7\n",
      "3       0\n",
      "4       0\n",
      "       ..\n",
      "981     2\n",
      "982    14\n",
      "983     5\n",
      "984     4\n",
      "985     1\n",
      "Name: 2B, Length: 986, dtype: int64\n",
      "0      2\n",
      "1      0\n",
      "2      2\n",
      "3      0\n",
      "4      0\n",
      "      ..\n",
      "981    0\n",
      "982    0\n",
      "983    0\n",
      "984    0\n",
      "985    0\n",
      "Name: 3B, Length: 986, dtype: int64\n",
      "0      2\n",
      "1      2\n",
      "2      0\n",
      "3      0\n",
      "4      0\n",
      "      ..\n",
      "981    0\n",
      "982    2\n",
      "983    2\n",
      "984    2\n",
      "985    0\n",
      "Name: HR, Length: 986, dtype: int64\n",
      "0      21\n",
      "1      11\n",
      "2      10\n",
      "3       0\n",
      "4       0\n",
      "       ..\n",
      "981     0\n",
      "982    21\n",
      "983     5\n",
      "984     5\n",
      "985     0\n",
      "Name: RBI, Length: 986, dtype: int64\n",
      "0      7\n",
      "1      1\n",
      "2      6\n",
      "3      0\n",
      "4      0\n",
      "      ..\n",
      "981    1\n",
      "982    0\n",
      "983    3\n",
      "984    3\n",
      "985    0\n",
      "Name: SB, Length: 986, dtype: int64\n",
      "0      4\n",
      "1      2\n",
      "2      2\n",
      "3      0\n",
      "4      0\n",
      "      ..\n",
      "981    0\n",
      "982    0\n",
      "983    2\n",
      "984    2\n",
      "985    0\n",
      "Name: CS, Length: 986, dtype: int64\n",
      "0       5\n",
      "1       4\n",
      "2       1\n",
      "3       0\n",
      "4       0\n",
      "       ..\n",
      "981     3\n",
      "982    19\n",
      "983     5\n",
      "984     5\n",
      "985     0\n",
      "Name: BB, Length: 986, dtype: int64\n",
      "0      50\n",
      "1      27\n",
      "2      23\n",
      "3       0\n",
      "4       0\n",
      "       ..\n",
      "981     7\n",
      "982    64\n",
      "983    45\n",
      "984    41\n",
      "985     4\n",
      "Name: SO, Length: 986, dtype: int64\n",
      "0      0.246\n",
      "1      0.232\n",
      "2      0.258\n",
      "3        NaN\n",
      "4        NaN\n",
      "       ...  \n",
      "981    0.263\n",
      "982    0.270\n",
      "983    0.124\n",
      "984    0.101\n",
      "985    0.250\n",
      "Name: BA, Length: 986, dtype: float64\n",
      "0      0.280\n",
      "1      0.285\n",
      "2      0.276\n",
      "3        NaN\n",
      "4        NaN\n",
      "       ...  \n",
      "981    0.364\n",
      "982    0.347\n",
      "983    0.207\n",
      "984    0.200\n",
      "985    0.250\n",
      "Name: OBP, Length: 986, dtype: float64\n",
      "0      0.324\n",
      "1      0.320\n",
      "2      0.327\n",
      "3        NaN\n",
      "4        NaN\n",
      "       ...  \n",
      "981    0.368\n",
      "982    0.382\n",
      "983    0.229\n",
      "984    0.213\n",
      "985    0.313\n",
      "Name: SLG, Length: 986, dtype: float64\n",
      "0      0.604\n",
      "1      0.605\n",
      "2      0.603\n",
      "3        NaN\n",
      "4        NaN\n",
      "       ...  \n",
      "981    0.732\n",
      "982    0.729\n",
      "983    0.435\n",
      "984    0.413\n",
      "985    0.563\n",
      "Name: OPS, Length: 986, dtype: float64\n",
      "0       76.0\n",
      "1       77.0\n",
      "2       75.0\n",
      "3        NaN\n",
      "4        NaN\n",
      "       ...  \n",
      "981    108.0\n",
      "982    107.0\n",
      "983     25.0\n",
      "984     19.0\n",
      "985     58.0\n",
      "Name: OPS+, Length: 986, dtype: float64\n",
      "0      92\n",
      "1      40\n",
      "2      52\n",
      "3       0\n",
      "4       0\n",
      "       ..\n",
      "981     7\n",
      "982    68\n",
      "983    24\n",
      "984    19\n",
      "985     5\n",
      "Name: TB, Length: 986, dtype: int64\n",
      "0      5\n",
      "1      4\n",
      "2      1\n",
      "3      0\n",
      "4      0\n",
      "      ..\n",
      "981    0\n",
      "982    1\n",
      "983    0\n",
      "984    0\n",
      "985    0\n",
      "Name: GDP, Length: 986, dtype: int64\n",
      "0      9\n",
      "1      6\n",
      "2      3\n",
      "3      0\n",
      "4      0\n",
      "      ..\n",
      "981    0\n",
      "982    3\n",
      "983    6\n",
      "984    6\n",
      "985    0\n",
      "Name: HBP, Length: 986, dtype: int64\n",
      "0      2\n",
      "1      2\n",
      "2      0\n",
      "3      0\n",
      "4      0\n",
      "      ..\n",
      "981    0\n",
      "982    3\n",
      "983    1\n",
      "984    1\n",
      "985    0\n",
      "Name: SH, Length: 986, dtype: int64\n",
      "0      2\n",
      "1      2\n",
      "2      0\n",
      "3      0\n",
      "4      0\n",
      "      ..\n",
      "981    0\n",
      "982    2\n",
      "983    0\n",
      "984    0\n",
      "985    0\n",
      "Name: SF, Length: 986, dtype: int64\n",
      "0      0\n",
      "1      0\n",
      "2      0\n",
      "3      0\n",
      "4      0\n",
      "      ..\n",
      "981    0\n",
      "982    0\n",
      "983    0\n",
      "984    0\n",
      "985    0\n",
      "Name: IBB, Length: 986, dtype: int64\n",
      "0      64/H9D\n",
      "1      64/H9D\n",
      "2         6/H\n",
      "3           1\n",
      "4          /1\n",
      "        ...  \n",
      "981     /D3H9\n",
      "982     2/H3D\n",
      "983     8H/D9\n",
      "984     8H/D9\n",
      "985       /8H\n",
      "Name: Pos Summary, Length: 986, dtype: object\n",
      "0      abramcj01\n",
      "1      abramcj01\n",
      "2      abramcj01\n",
      "3      abreual01\n",
      "4      abreual01\n",
      "         ...    \n",
      "981    youngja02\n",
      "982    zavalse01\n",
      "983    zimmebr01\n",
      "984    zimmebr01\n",
      "985    zimmebr01\n",
      "Name: Name-additional, Length: 986, dtype: object\n"
     ]
    }
   ],
   "source": [
    "for i in batting.columns:\n",
    "    print(batting[])"
   ]
  },
  {
   "cell_type": "code",
   "execution_count": 175,
   "id": "f973006d",
   "metadata": {},
   "outputs": [
    {
     "ename": "ValueError",
     "evalue": "Shape of passed values is (1, 26), indices imply (1, 1)",
     "output_type": "error",
     "traceback": [
      "\u001b[1;31m---------------------------------------------------------------------------\u001b[0m",
      "\u001b[1;31mValueError\u001b[0m                                Traceback (most recent call last)",
      "Input \u001b[1;32mIn [175]\u001b[0m, in \u001b[0;36m<cell line: 1>\u001b[1;34m()\u001b[0m\n\u001b[1;32m----> 1\u001b[0m df \u001b[38;5;241m=\u001b[39m \u001b[43mpd\u001b[49m\u001b[38;5;241;43m.\u001b[39;49m\u001b[43mDataFrame\u001b[49m\u001b[43m(\u001b[49m\u001b[43mnp\u001b[49m\u001b[38;5;241;43m.\u001b[39;49m\u001b[43marray\u001b[49m\u001b[43m(\u001b[49m\u001b[43mcols\u001b[49m\u001b[43m)\u001b[49m\u001b[43m,\u001b[49m\n\u001b[0;32m      2\u001b[0m \u001b[43m                  \u001b[49m\u001b[43mcolumns\u001b[49m\u001b[43m \u001b[49m\u001b[38;5;241;43m=\u001b[39;49m\u001b[43m \u001b[49m\u001b[43m[\u001b[49m\u001b[43mcols\u001b[49m\u001b[38;5;241;43m.\u001b[39;49m\u001b[43mindex\u001b[49m\u001b[43m]\u001b[49m\u001b[43m \u001b[49m\u001b[43m)\u001b[49m\n\u001b[0;32m      3\u001b[0m df\n",
      "File \u001b[1;32m~\\anaconda3\\lib\\site-packages\\pandas\\core\\frame.py:694\u001b[0m, in \u001b[0;36mDataFrame.__init__\u001b[1;34m(self, data, index, columns, dtype, copy)\u001b[0m\n\u001b[0;32m    684\u001b[0m         mgr \u001b[38;5;241m=\u001b[39m dict_to_mgr(\n\u001b[0;32m    685\u001b[0m             \u001b[38;5;66;03m# error: Item \"ndarray\" of \"Union[ndarray, Series, Index]\" has no\u001b[39;00m\n\u001b[0;32m    686\u001b[0m             \u001b[38;5;66;03m# attribute \"name\"\u001b[39;00m\n\u001b[1;32m   (...)\u001b[0m\n\u001b[0;32m    691\u001b[0m             typ\u001b[38;5;241m=\u001b[39mmanager,\n\u001b[0;32m    692\u001b[0m         )\n\u001b[0;32m    693\u001b[0m     \u001b[38;5;28;01melse\u001b[39;00m:\n\u001b[1;32m--> 694\u001b[0m         mgr \u001b[38;5;241m=\u001b[39m \u001b[43mndarray_to_mgr\u001b[49m\u001b[43m(\u001b[49m\n\u001b[0;32m    695\u001b[0m \u001b[43m            \u001b[49m\u001b[43mdata\u001b[49m\u001b[43m,\u001b[49m\n\u001b[0;32m    696\u001b[0m \u001b[43m            \u001b[49m\u001b[43mindex\u001b[49m\u001b[43m,\u001b[49m\n\u001b[0;32m    697\u001b[0m \u001b[43m            \u001b[49m\u001b[43mcolumns\u001b[49m\u001b[43m,\u001b[49m\n\u001b[0;32m    698\u001b[0m \u001b[43m            \u001b[49m\u001b[43mdtype\u001b[49m\u001b[38;5;241;43m=\u001b[39;49m\u001b[43mdtype\u001b[49m\u001b[43m,\u001b[49m\n\u001b[0;32m    699\u001b[0m \u001b[43m            \u001b[49m\u001b[43mcopy\u001b[49m\u001b[38;5;241;43m=\u001b[39;49m\u001b[43mcopy\u001b[49m\u001b[43m,\u001b[49m\n\u001b[0;32m    700\u001b[0m \u001b[43m            \u001b[49m\u001b[43mtyp\u001b[49m\u001b[38;5;241;43m=\u001b[39;49m\u001b[43mmanager\u001b[49m\u001b[43m,\u001b[49m\n\u001b[0;32m    701\u001b[0m \u001b[43m        \u001b[49m\u001b[43m)\u001b[49m\n\u001b[0;32m    703\u001b[0m \u001b[38;5;66;03m# For data is list-like, or Iterable (will consume into list)\u001b[39;00m\n\u001b[0;32m    704\u001b[0m \u001b[38;5;28;01melif\u001b[39;00m is_list_like(data):\n",
      "File \u001b[1;32m~\\anaconda3\\lib\\site-packages\\pandas\\core\\internals\\construction.py:351\u001b[0m, in \u001b[0;36mndarray_to_mgr\u001b[1;34m(values, index, columns, dtype, copy, typ)\u001b[0m\n\u001b[0;32m    346\u001b[0m \u001b[38;5;66;03m# _prep_ndarray ensures that values.ndim == 2 at this point\u001b[39;00m\n\u001b[0;32m    347\u001b[0m index, columns \u001b[38;5;241m=\u001b[39m _get_axes(\n\u001b[0;32m    348\u001b[0m     values\u001b[38;5;241m.\u001b[39mshape[\u001b[38;5;241m0\u001b[39m], values\u001b[38;5;241m.\u001b[39mshape[\u001b[38;5;241m1\u001b[39m], index\u001b[38;5;241m=\u001b[39mindex, columns\u001b[38;5;241m=\u001b[39mcolumns\n\u001b[0;32m    349\u001b[0m )\n\u001b[1;32m--> 351\u001b[0m \u001b[43m_check_values_indices_shape_match\u001b[49m\u001b[43m(\u001b[49m\u001b[43mvalues\u001b[49m\u001b[43m,\u001b[49m\u001b[43m \u001b[49m\u001b[43mindex\u001b[49m\u001b[43m,\u001b[49m\u001b[43m \u001b[49m\u001b[43mcolumns\u001b[49m\u001b[43m)\u001b[49m\n\u001b[0;32m    353\u001b[0m \u001b[38;5;28;01mif\u001b[39;00m typ \u001b[38;5;241m==\u001b[39m \u001b[38;5;124m\"\u001b[39m\u001b[38;5;124marray\u001b[39m\u001b[38;5;124m\"\u001b[39m:\n\u001b[0;32m    355\u001b[0m     \u001b[38;5;28;01mif\u001b[39;00m \u001b[38;5;28missubclass\u001b[39m(values\u001b[38;5;241m.\u001b[39mdtype\u001b[38;5;241m.\u001b[39mtype, \u001b[38;5;28mstr\u001b[39m):\n",
      "File \u001b[1;32m~\\anaconda3\\lib\\site-packages\\pandas\\core\\internals\\construction.py:422\u001b[0m, in \u001b[0;36m_check_values_indices_shape_match\u001b[1;34m(values, index, columns)\u001b[0m\n\u001b[0;32m    420\u001b[0m passed \u001b[38;5;241m=\u001b[39m values\u001b[38;5;241m.\u001b[39mshape\n\u001b[0;32m    421\u001b[0m implied \u001b[38;5;241m=\u001b[39m (\u001b[38;5;28mlen\u001b[39m(index), \u001b[38;5;28mlen\u001b[39m(columns))\n\u001b[1;32m--> 422\u001b[0m \u001b[38;5;28;01mraise\u001b[39;00m \u001b[38;5;167;01mValueError\u001b[39;00m(\u001b[38;5;124mf\u001b[39m\u001b[38;5;124m\"\u001b[39m\u001b[38;5;124mShape of passed values is \u001b[39m\u001b[38;5;132;01m{\u001b[39;00mpassed\u001b[38;5;132;01m}\u001b[39;00m\u001b[38;5;124m, indices imply \u001b[39m\u001b[38;5;132;01m{\u001b[39;00mimplied\u001b[38;5;132;01m}\u001b[39;00m\u001b[38;5;124m\"\u001b[39m)\n",
      "\u001b[1;31mValueError\u001b[0m: Shape of passed values is (1, 26), indices imply (1, 1)"
     ]
    }
   ],
   "source": [
    "df = pd.DataFrame(np.array(cols),\n",
    "                  columns = [cols[]] )\n",
    "df"
   ]
  },
  {
   "cell_type": "code",
   "execution_count": 155,
   "id": "41ad76a6",
   "metadata": {},
   "outputs": [
    {
     "ename": "KeyError",
     "evalue": "'test'",
     "output_type": "error",
     "traceback": [
      "\u001b[1;31m---------------------------------------------------------------------------\u001b[0m",
      "\u001b[1;31mKeyError\u001b[0m                                  Traceback (most recent call last)",
      "File \u001b[1;32m~\\anaconda3\\lib\\site-packages\\pandas\\core\\indexes\\base.py:3621\u001b[0m, in \u001b[0;36mIndex.get_loc\u001b[1;34m(self, key, method, tolerance)\u001b[0m\n\u001b[0;32m   3620\u001b[0m \u001b[38;5;28;01mtry\u001b[39;00m:\n\u001b[1;32m-> 3621\u001b[0m     \u001b[38;5;28;01mreturn\u001b[39;00m \u001b[38;5;28;43mself\u001b[39;49m\u001b[38;5;241;43m.\u001b[39;49m\u001b[43m_engine\u001b[49m\u001b[38;5;241;43m.\u001b[39;49m\u001b[43mget_loc\u001b[49m\u001b[43m(\u001b[49m\u001b[43mcasted_key\u001b[49m\u001b[43m)\u001b[49m\n\u001b[0;32m   3622\u001b[0m \u001b[38;5;28;01mexcept\u001b[39;00m \u001b[38;5;167;01mKeyError\u001b[39;00m \u001b[38;5;28;01mas\u001b[39;00m err:\n",
      "File \u001b[1;32m~\\anaconda3\\lib\\site-packages\\pandas\\_libs\\index.pyx:136\u001b[0m, in \u001b[0;36mpandas._libs.index.IndexEngine.get_loc\u001b[1;34m()\u001b[0m\n",
      "File \u001b[1;32m~\\anaconda3\\lib\\site-packages\\pandas\\_libs\\index.pyx:163\u001b[0m, in \u001b[0;36mpandas._libs.index.IndexEngine.get_loc\u001b[1;34m()\u001b[0m\n",
      "File \u001b[1;32mpandas\\_libs\\hashtable_class_helper.pxi:5198\u001b[0m, in \u001b[0;36mpandas._libs.hashtable.PyObjectHashTable.get_item\u001b[1;34m()\u001b[0m\n",
      "File \u001b[1;32mpandas\\_libs\\hashtable_class_helper.pxi:5206\u001b[0m, in \u001b[0;36mpandas._libs.hashtable.PyObjectHashTable.get_item\u001b[1;34m()\u001b[0m\n",
      "\u001b[1;31mKeyError\u001b[0m: 'test'",
      "\nThe above exception was the direct cause of the following exception:\n",
      "\u001b[1;31mKeyError\u001b[0m                                  Traceback (most recent call last)",
      "Input \u001b[1;32mIn [155]\u001b[0m, in \u001b[0;36m<cell line: 1>\u001b[1;34m()\u001b[0m\n\u001b[0;32m      1\u001b[0m \u001b[38;5;28;01mfor\u001b[39;00m i \u001b[38;5;129;01min\u001b[39;00m batting\u001b[38;5;241m.\u001b[39mcolumns:\n\u001b[1;32m----> 2\u001b[0m     \u001b[43mvariances\u001b[49m\u001b[43m[\u001b[49m\u001b[38;5;124;43m'\u001b[39;49m\u001b[38;5;124;43mtest\u001b[39;49m\u001b[38;5;124;43m'\u001b[39;49m\u001b[43m]\u001b[49m[i] \u001b[38;5;241m=\u001b[39m two_std_dev_from_mu(batting[i])\n",
      "File \u001b[1;32m~\\anaconda3\\lib\\site-packages\\pandas\\core\\series.py:958\u001b[0m, in \u001b[0;36mSeries.__getitem__\u001b[1;34m(self, key)\u001b[0m\n\u001b[0;32m    955\u001b[0m     \u001b[38;5;28;01mreturn\u001b[39;00m \u001b[38;5;28mself\u001b[39m\u001b[38;5;241m.\u001b[39m_values[key]\n\u001b[0;32m    957\u001b[0m \u001b[38;5;28;01melif\u001b[39;00m key_is_scalar:\n\u001b[1;32m--> 958\u001b[0m     \u001b[38;5;28;01mreturn\u001b[39;00m \u001b[38;5;28;43mself\u001b[39;49m\u001b[38;5;241;43m.\u001b[39;49m\u001b[43m_get_value\u001b[49m\u001b[43m(\u001b[49m\u001b[43mkey\u001b[49m\u001b[43m)\u001b[49m\n\u001b[0;32m    960\u001b[0m \u001b[38;5;28;01mif\u001b[39;00m is_hashable(key):\n\u001b[0;32m    961\u001b[0m     \u001b[38;5;66;03m# Otherwise index.get_value will raise InvalidIndexError\u001b[39;00m\n\u001b[0;32m    962\u001b[0m     \u001b[38;5;28;01mtry\u001b[39;00m:\n\u001b[0;32m    963\u001b[0m         \u001b[38;5;66;03m# For labels that don't resolve as scalars like tuples and frozensets\u001b[39;00m\n",
      "File \u001b[1;32m~\\anaconda3\\lib\\site-packages\\pandas\\core\\series.py:1069\u001b[0m, in \u001b[0;36mSeries._get_value\u001b[1;34m(self, label, takeable)\u001b[0m\n\u001b[0;32m   1066\u001b[0m     \u001b[38;5;28;01mreturn\u001b[39;00m \u001b[38;5;28mself\u001b[39m\u001b[38;5;241m.\u001b[39m_values[label]\n\u001b[0;32m   1068\u001b[0m \u001b[38;5;66;03m# Similar to Index.get_value, but we do not fall back to positional\u001b[39;00m\n\u001b[1;32m-> 1069\u001b[0m loc \u001b[38;5;241m=\u001b[39m \u001b[38;5;28;43mself\u001b[39;49m\u001b[38;5;241;43m.\u001b[39;49m\u001b[43mindex\u001b[49m\u001b[38;5;241;43m.\u001b[39;49m\u001b[43mget_loc\u001b[49m\u001b[43m(\u001b[49m\u001b[43mlabel\u001b[49m\u001b[43m)\u001b[49m\n\u001b[0;32m   1070\u001b[0m \u001b[38;5;28;01mreturn\u001b[39;00m \u001b[38;5;28mself\u001b[39m\u001b[38;5;241m.\u001b[39mindex\u001b[38;5;241m.\u001b[39m_get_values_for_loc(\u001b[38;5;28mself\u001b[39m, loc, label)\n",
      "File \u001b[1;32m~\\anaconda3\\lib\\site-packages\\pandas\\core\\indexes\\base.py:3623\u001b[0m, in \u001b[0;36mIndex.get_loc\u001b[1;34m(self, key, method, tolerance)\u001b[0m\n\u001b[0;32m   3621\u001b[0m     \u001b[38;5;28;01mreturn\u001b[39;00m \u001b[38;5;28mself\u001b[39m\u001b[38;5;241m.\u001b[39m_engine\u001b[38;5;241m.\u001b[39mget_loc(casted_key)\n\u001b[0;32m   3622\u001b[0m \u001b[38;5;28;01mexcept\u001b[39;00m \u001b[38;5;167;01mKeyError\u001b[39;00m \u001b[38;5;28;01mas\u001b[39;00m err:\n\u001b[1;32m-> 3623\u001b[0m     \u001b[38;5;28;01mraise\u001b[39;00m \u001b[38;5;167;01mKeyError\u001b[39;00m(key) \u001b[38;5;28;01mfrom\u001b[39;00m \u001b[38;5;21;01merr\u001b[39;00m\n\u001b[0;32m   3624\u001b[0m \u001b[38;5;28;01mexcept\u001b[39;00m \u001b[38;5;167;01mTypeError\u001b[39;00m:\n\u001b[0;32m   3625\u001b[0m     \u001b[38;5;66;03m# If we have a listlike key, _check_indexing_error will raise\u001b[39;00m\n\u001b[0;32m   3626\u001b[0m     \u001b[38;5;66;03m#  InvalidIndexError. Otherwise we fall through and re-raise\u001b[39;00m\n\u001b[0;32m   3627\u001b[0m     \u001b[38;5;66;03m#  the TypeError.\u001b[39;00m\n\u001b[0;32m   3628\u001b[0m     \u001b[38;5;28mself\u001b[39m\u001b[38;5;241m.\u001b[39m_check_indexing_error(key)\n",
      "\u001b[1;31mKeyError\u001b[0m: 'test'"
     ]
    }
   ],
   "source": [
    "\n",
    "\n",
    "for i in batting.columns:\n",
    "    variances['test'][i] = two_std_dev_from_mu(batting[i])\n",
    "    "
   ]
  },
  {
   "cell_type": "code",
   "execution_count": 153,
   "id": "86e2b82d",
   "metadata": {},
   "outputs": [
    {
     "name": "stderr",
     "output_type": "stream",
     "text": [
      "C:\\Users\\Kellen\\AppData\\Local\\Temp\\ipykernel_7484\\1109648374.py:1: FutureWarning: Dropping of nuisance columns in DataFrame reductions (with 'numeric_only=None') is deprecated; in a future version this will raise TypeError.  Select only valid columns before calling the reduction.\n",
      "  variances = batting.var()\n"
     ]
    },
    {
     "data": {
      "text/plain": [
       "Rk      81098.500000\n",
       "Age        12.903727\n",
       "G        2609.700909\n",
       "PA      43019.914668\n",
       "AB      34400.267894\n",
       "R         686.097248\n",
       "H        2359.868222\n",
       "2B        108.256225\n",
       "3B          1.550219\n",
       "HR         65.471617\n",
       "RBI       677.498968\n",
       "SB         26.761981\n",
       "CS          2.626579\n",
       "BB        399.239329\n",
       "SO       2060.409740\n",
       "BA          0.006112\n",
       "OBP         0.008203\n",
       "SLG         0.021553\n",
       "OPS         0.048711\n",
       "OPS+     3746.655659\n",
       "TB       6602.539386\n",
       "GDP        22.200842\n",
       "HBP        11.300354\n",
       "SH          1.421074\n",
       "SF          3.589864\n",
       "IBB         2.696723\n",
       "dtype: float64"
      ]
     },
     "execution_count": 153,
     "metadata": {},
     "output_type": "execute_result"
    }
   ],
   "source": [
    "variances = batting.var()\n",
    "variances"
   ]
  },
  {
   "cell_type": "code",
   "execution_count": 119,
   "id": "ea4250b0",
   "metadata": {},
   "outputs": [
    {
     "data": {
      "text/html": [
       "<div>\n",
       "<style scoped>\n",
       "    .dataframe tbody tr th:only-of-type {\n",
       "        vertical-align: middle;\n",
       "    }\n",
       "\n",
       "    .dataframe tbody tr th {\n",
       "        vertical-align: top;\n",
       "    }\n",
       "\n",
       "    .dataframe thead th {\n",
       "        text-align: right;\n",
       "    }\n",
       "</style>\n",
       "<table border=\"1\" class=\"dataframe\">\n",
       "  <thead>\n",
       "    <tr style=\"text-align: right;\">\n",
       "      <th></th>\n",
       "      <th>Rk</th>\n",
       "      <th>Name</th>\n",
       "      <th>Age</th>\n",
       "      <th>Tm</th>\n",
       "      <th>Lg</th>\n",
       "      <th>G</th>\n",
       "      <th>PA</th>\n",
       "      <th>AB</th>\n",
       "      <th>R</th>\n",
       "      <th>H</th>\n",
       "      <th>...</th>\n",
       "      <th>OPS</th>\n",
       "      <th>OPS+</th>\n",
       "      <th>TB</th>\n",
       "      <th>GDP</th>\n",
       "      <th>HBP</th>\n",
       "      <th>SH</th>\n",
       "      <th>SF</th>\n",
       "      <th>IBB</th>\n",
       "      <th>Pos Summary</th>\n",
       "      <th>Name-additional</th>\n",
       "    </tr>\n",
       "  </thead>\n",
       "  <tbody>\n",
       "    <tr>\n",
       "      <th>0</th>\n",
       "      <td>1.0</td>\n",
       "      <td>CJ Abrams*</td>\n",
       "      <td>21.0</td>\n",
       "      <td>TOT</td>\n",
       "      <td>NL</td>\n",
       "      <td>90</td>\n",
       "      <td>302</td>\n",
       "      <td>284</td>\n",
       "      <td>33</td>\n",
       "      <td>70</td>\n",
       "      <td>...</td>\n",
       "      <td>0.604</td>\n",
       "      <td>76.0</td>\n",
       "      <td>92</td>\n",
       "      <td>5</td>\n",
       "      <td>9</td>\n",
       "      <td>2</td>\n",
       "      <td>2</td>\n",
       "      <td>0</td>\n",
       "      <td>64/H9D</td>\n",
       "      <td>abramcj01</td>\n",
       "    </tr>\n",
       "    <tr>\n",
       "      <th>1</th>\n",
       "      <td>2.0</td>\n",
       "      <td>CJ Abrams*</td>\n",
       "      <td>21.0</td>\n",
       "      <td>SDP</td>\n",
       "      <td>NL</td>\n",
       "      <td>46</td>\n",
       "      <td>139</td>\n",
       "      <td>125</td>\n",
       "      <td>16</td>\n",
       "      <td>29</td>\n",
       "      <td>...</td>\n",
       "      <td>0.605</td>\n",
       "      <td>77.0</td>\n",
       "      <td>40</td>\n",
       "      <td>4</td>\n",
       "      <td>6</td>\n",
       "      <td>2</td>\n",
       "      <td>2</td>\n",
       "      <td>0</td>\n",
       "      <td>64/H9D</td>\n",
       "      <td>abramcj01</td>\n",
       "    </tr>\n",
       "    <tr>\n",
       "      <th>2</th>\n",
       "      <td>3.0</td>\n",
       "      <td>CJ Abrams*</td>\n",
       "      <td>21.0</td>\n",
       "      <td>WSN</td>\n",
       "      <td>NL</td>\n",
       "      <td>44</td>\n",
       "      <td>163</td>\n",
       "      <td>159</td>\n",
       "      <td>17</td>\n",
       "      <td>41</td>\n",
       "      <td>...</td>\n",
       "      <td>0.603</td>\n",
       "      <td>75.0</td>\n",
       "      <td>52</td>\n",
       "      <td>1</td>\n",
       "      <td>3</td>\n",
       "      <td>0</td>\n",
       "      <td>0</td>\n",
       "      <td>0</td>\n",
       "      <td>6/H</td>\n",
       "      <td>abramcj01</td>\n",
       "    </tr>\n",
       "    <tr>\n",
       "      <th>3</th>\n",
       "      <td>4.0</td>\n",
       "      <td>Albert Abreu</td>\n",
       "      <td>26.0</td>\n",
       "      <td>TOT</td>\n",
       "      <td>AL</td>\n",
       "      <td>1</td>\n",
       "      <td>0</td>\n",
       "      <td>0</td>\n",
       "      <td>0</td>\n",
       "      <td>0</td>\n",
       "      <td>...</td>\n",
       "      <td>NaN</td>\n",
       "      <td>NaN</td>\n",
       "      <td>0</td>\n",
       "      <td>0</td>\n",
       "      <td>0</td>\n",
       "      <td>0</td>\n",
       "      <td>0</td>\n",
       "      <td>0</td>\n",
       "      <td>1</td>\n",
       "      <td>abreual01</td>\n",
       "    </tr>\n",
       "    <tr>\n",
       "      <th>4</th>\n",
       "      <td>5.0</td>\n",
       "      <td>Albert Abreu</td>\n",
       "      <td>26.0</td>\n",
       "      <td>KCR</td>\n",
       "      <td>AL</td>\n",
       "      <td>1</td>\n",
       "      <td>0</td>\n",
       "      <td>0</td>\n",
       "      <td>0</td>\n",
       "      <td>0</td>\n",
       "      <td>...</td>\n",
       "      <td>NaN</td>\n",
       "      <td>NaN</td>\n",
       "      <td>0</td>\n",
       "      <td>0</td>\n",
       "      <td>0</td>\n",
       "      <td>0</td>\n",
       "      <td>0</td>\n",
       "      <td>0</td>\n",
       "      <td>/1</td>\n",
       "      <td>abreual01</td>\n",
       "    </tr>\n",
       "    <tr>\n",
       "      <th>...</th>\n",
       "      <td>...</td>\n",
       "      <td>...</td>\n",
       "      <td>...</td>\n",
       "      <td>...</td>\n",
       "      <td>...</td>\n",
       "      <td>...</td>\n",
       "      <td>...</td>\n",
       "      <td>...</td>\n",
       "      <td>...</td>\n",
       "      <td>...</td>\n",
       "      <td>...</td>\n",
       "      <td>...</td>\n",
       "      <td>...</td>\n",
       "      <td>...</td>\n",
       "      <td>...</td>\n",
       "      <td>...</td>\n",
       "      <td>...</td>\n",
       "      <td>...</td>\n",
       "      <td>...</td>\n",
       "      <td>...</td>\n",
       "      <td>...</td>\n",
       "    </tr>\n",
       "    <tr>\n",
       "      <th>981</th>\n",
       "      <td>982.0</td>\n",
       "      <td>Jared Young*</td>\n",
       "      <td>26.0</td>\n",
       "      <td>CHC</td>\n",
       "      <td>NL</td>\n",
       "      <td>6</td>\n",
       "      <td>22</td>\n",
       "      <td>19</td>\n",
       "      <td>2</td>\n",
       "      <td>5</td>\n",
       "      <td>...</td>\n",
       "      <td>0.732</td>\n",
       "      <td>108.0</td>\n",
       "      <td>7</td>\n",
       "      <td>0</td>\n",
       "      <td>0</td>\n",
       "      <td>0</td>\n",
       "      <td>0</td>\n",
       "      <td>0</td>\n",
       "      <td>/D3H9</td>\n",
       "      <td>youngja02</td>\n",
       "    </tr>\n",
       "    <tr>\n",
       "      <th>982</th>\n",
       "      <td>983.0</td>\n",
       "      <td>Seby Zavala</td>\n",
       "      <td>28.0</td>\n",
       "      <td>CHW</td>\n",
       "      <td>AL</td>\n",
       "      <td>61</td>\n",
       "      <td>205</td>\n",
       "      <td>178</td>\n",
       "      <td>22</td>\n",
       "      <td>48</td>\n",
       "      <td>...</td>\n",
       "      <td>0.729</td>\n",
       "      <td>107.0</td>\n",
       "      <td>68</td>\n",
       "      <td>1</td>\n",
       "      <td>3</td>\n",
       "      <td>3</td>\n",
       "      <td>2</td>\n",
       "      <td>0</td>\n",
       "      <td>2/H3D</td>\n",
       "      <td>zavalse01</td>\n",
       "    </tr>\n",
       "    <tr>\n",
       "      <th>983</th>\n",
       "      <td>984.0</td>\n",
       "      <td>Bradley Zimmer*</td>\n",
       "      <td>29.0</td>\n",
       "      <td>TOT</td>\n",
       "      <td>MLB</td>\n",
       "      <td>109</td>\n",
       "      <td>117</td>\n",
       "      <td>105</td>\n",
       "      <td>18</td>\n",
       "      <td>13</td>\n",
       "      <td>...</td>\n",
       "      <td>0.435</td>\n",
       "      <td>25.0</td>\n",
       "      <td>24</td>\n",
       "      <td>0</td>\n",
       "      <td>6</td>\n",
       "      <td>1</td>\n",
       "      <td>0</td>\n",
       "      <td>0</td>\n",
       "      <td>8H/D9</td>\n",
       "      <td>zimmebr01</td>\n",
       "    </tr>\n",
       "    <tr>\n",
       "      <th>984</th>\n",
       "      <td>985.0</td>\n",
       "      <td>Bradley Zimmer*</td>\n",
       "      <td>29.0</td>\n",
       "      <td>TOR</td>\n",
       "      <td>AL</td>\n",
       "      <td>100</td>\n",
       "      <td>101</td>\n",
       "      <td>89</td>\n",
       "      <td>14</td>\n",
       "      <td>9</td>\n",
       "      <td>...</td>\n",
       "      <td>0.413</td>\n",
       "      <td>19.0</td>\n",
       "      <td>19</td>\n",
       "      <td>0</td>\n",
       "      <td>6</td>\n",
       "      <td>1</td>\n",
       "      <td>0</td>\n",
       "      <td>0</td>\n",
       "      <td>8H/D9</td>\n",
       "      <td>zimmebr01</td>\n",
       "    </tr>\n",
       "    <tr>\n",
       "      <th>985</th>\n",
       "      <td>986.0</td>\n",
       "      <td>Bradley Zimmer*</td>\n",
       "      <td>29.0</td>\n",
       "      <td>PHI</td>\n",
       "      <td>NL</td>\n",
       "      <td>9</td>\n",
       "      <td>16</td>\n",
       "      <td>16</td>\n",
       "      <td>4</td>\n",
       "      <td>4</td>\n",
       "      <td>...</td>\n",
       "      <td>0.563</td>\n",
       "      <td>58.0</td>\n",
       "      <td>5</td>\n",
       "      <td>0</td>\n",
       "      <td>0</td>\n",
       "      <td>0</td>\n",
       "      <td>0</td>\n",
       "      <td>0</td>\n",
       "      <td>/8H</td>\n",
       "      <td>zimmebr01</td>\n",
       "    </tr>\n",
       "  </tbody>\n",
       "</table>\n",
       "<p>986 rows × 31 columns</p>\n",
       "</div>"
      ],
      "text/plain": [
       "        Rk             Name   Age   Tm   Lg    G   PA   AB   R   H  ...  \\\n",
       "0      1.0       CJ Abrams*  21.0  TOT   NL   90  302  284  33  70  ...   \n",
       "1      2.0       CJ Abrams*  21.0  SDP   NL   46  139  125  16  29  ...   \n",
       "2      3.0       CJ Abrams*  21.0  WSN   NL   44  163  159  17  41  ...   \n",
       "3      4.0     Albert Abreu  26.0  TOT   AL    1    0    0   0   0  ...   \n",
       "4      5.0     Albert Abreu  26.0  KCR   AL    1    0    0   0   0  ...   \n",
       "..     ...              ...   ...  ...  ...  ...  ...  ...  ..  ..  ...   \n",
       "981  982.0     Jared Young*  26.0  CHC   NL    6   22   19   2   5  ...   \n",
       "982  983.0      Seby Zavala  28.0  CHW   AL   61  205  178  22  48  ...   \n",
       "983  984.0  Bradley Zimmer*  29.0  TOT  MLB  109  117  105  18  13  ...   \n",
       "984  985.0  Bradley Zimmer*  29.0  TOR   AL  100  101   89  14   9  ...   \n",
       "985  986.0  Bradley Zimmer*  29.0  PHI   NL    9   16   16   4   4  ...   \n",
       "\n",
       "       OPS   OPS+  TB  GDP  HBP  SH  SF  IBB  Pos Summary  Name-additional  \n",
       "0    0.604   76.0  92    5    9   2   2    0       64/H9D        abramcj01  \n",
       "1    0.605   77.0  40    4    6   2   2    0       64/H9D        abramcj01  \n",
       "2    0.603   75.0  52    1    3   0   0    0          6/H        abramcj01  \n",
       "3      NaN    NaN   0    0    0   0   0    0            1        abreual01  \n",
       "4      NaN    NaN   0    0    0   0   0    0           /1        abreual01  \n",
       "..     ...    ...  ..  ...  ...  ..  ..  ...          ...              ...  \n",
       "981  0.732  108.0   7    0    0   0   0    0        /D3H9        youngja02  \n",
       "982  0.729  107.0  68    1    3   3   2    0        2/H3D        zavalse01  \n",
       "983  0.435   25.0  24    0    6   1   0    0        8H/D9        zimmebr01  \n",
       "984  0.413   19.0  19    0    6   1   0    0        8H/D9        zimmebr01  \n",
       "985  0.563   58.0   5    0    0   0   0    0          /8H        zimmebr01  \n",
       "\n",
       "[986 rows x 31 columns]"
      ]
     },
     "execution_count": 119,
     "metadata": {},
     "output_type": "execute_result"
    }
   ],
   "source": [
    "batting = batting[:-1]"
   ]
  },
  {
   "cell_type": "code",
   "execution_count": 123,
   "id": "f5842c19",
   "metadata": {},
   "outputs": [
    {
     "name": "stderr",
     "output_type": "stream",
     "text": [
      "C:\\Users\\Kellen\\AppData\\Local\\Temp\\ipykernel_7484\\1299392847.py:3: FutureWarning: Dropping of nuisance columns in DataFrame reductions (with 'numeric_only=None') is deprecated; in a future version this will raise TypeError.  Select only valid columns before calling the reduction.\n",
      "  variances = batting.var()\n"
     ]
    },
    {
     "ename": "KeyError",
     "evalue": "'Name'",
     "output_type": "error",
     "traceback": [
      "\u001b[1;31m---------------------------------------------------------------------------\u001b[0m",
      "\u001b[1;31mKeyError\u001b[0m                                  Traceback (most recent call last)",
      "File \u001b[1;32m~\\anaconda3\\lib\\site-packages\\pandas\\core\\indexes\\base.py:3621\u001b[0m, in \u001b[0;36mIndex.get_loc\u001b[1;34m(self, key, method, tolerance)\u001b[0m\n\u001b[0;32m   3620\u001b[0m \u001b[38;5;28;01mtry\u001b[39;00m:\n\u001b[1;32m-> 3621\u001b[0m     \u001b[38;5;28;01mreturn\u001b[39;00m \u001b[38;5;28;43mself\u001b[39;49m\u001b[38;5;241;43m.\u001b[39;49m\u001b[43m_engine\u001b[49m\u001b[38;5;241;43m.\u001b[39;49m\u001b[43mget_loc\u001b[49m\u001b[43m(\u001b[49m\u001b[43mcasted_key\u001b[49m\u001b[43m)\u001b[49m\n\u001b[0;32m   3622\u001b[0m \u001b[38;5;28;01mexcept\u001b[39;00m \u001b[38;5;167;01mKeyError\u001b[39;00m \u001b[38;5;28;01mas\u001b[39;00m err:\n",
      "File \u001b[1;32m~\\anaconda3\\lib\\site-packages\\pandas\\_libs\\index.pyx:136\u001b[0m, in \u001b[0;36mpandas._libs.index.IndexEngine.get_loc\u001b[1;34m()\u001b[0m\n",
      "File \u001b[1;32m~\\anaconda3\\lib\\site-packages\\pandas\\_libs\\index.pyx:163\u001b[0m, in \u001b[0;36mpandas._libs.index.IndexEngine.get_loc\u001b[1;34m()\u001b[0m\n",
      "File \u001b[1;32mpandas\\_libs\\hashtable_class_helper.pxi:5198\u001b[0m, in \u001b[0;36mpandas._libs.hashtable.PyObjectHashTable.get_item\u001b[1;34m()\u001b[0m\n",
      "File \u001b[1;32mpandas\\_libs\\hashtable_class_helper.pxi:5206\u001b[0m, in \u001b[0;36mpandas._libs.hashtable.PyObjectHashTable.get_item\u001b[1;34m()\u001b[0m\n",
      "\u001b[1;31mKeyError\u001b[0m: 'Name'",
      "\nThe above exception was the direct cause of the following exception:\n",
      "\u001b[1;31mKeyError\u001b[0m                                  Traceback (most recent call last)",
      "Input \u001b[1;32mIn [123]\u001b[0m, in \u001b[0;36m<cell line: 11>\u001b[1;34m()\u001b[0m\n\u001b[0;32m      5\u001b[0m \u001b[38;5;66;03m#batting['var'] = \u001b[39;00m\n\u001b[0;32m      6\u001b[0m \u001b[38;5;66;03m#batting = batting.drop(columns = ['var'], axis = 1)\u001b[39;00m\n\u001b[0;32m      7\u001b[0m \n\u001b[0;32m      8\u001b[0m \u001b[38;5;66;03m#varHR = batting['HR'].var()\u001b[39;00m\n\u001b[0;32m      9\u001b[0m \u001b[38;5;66;03m#varHR\u001b[39;00m\n\u001b[0;32m     11\u001b[0m \u001b[38;5;28;01mfor\u001b[39;00m i \u001b[38;5;129;01min\u001b[39;00m batting\u001b[38;5;241m.\u001b[39mcolumns:\n\u001b[1;32m---> 12\u001b[0m     test \u001b[38;5;241m=\u001b[39m \u001b[43mvariances\u001b[49m\u001b[43m[\u001b[49m\u001b[43mi\u001b[49m\u001b[43m]\u001b[49m\n",
      "File \u001b[1;32m~\\anaconda3\\lib\\site-packages\\pandas\\core\\series.py:958\u001b[0m, in \u001b[0;36mSeries.__getitem__\u001b[1;34m(self, key)\u001b[0m\n\u001b[0;32m    955\u001b[0m     \u001b[38;5;28;01mreturn\u001b[39;00m \u001b[38;5;28mself\u001b[39m\u001b[38;5;241m.\u001b[39m_values[key]\n\u001b[0;32m    957\u001b[0m \u001b[38;5;28;01melif\u001b[39;00m key_is_scalar:\n\u001b[1;32m--> 958\u001b[0m     \u001b[38;5;28;01mreturn\u001b[39;00m \u001b[38;5;28;43mself\u001b[39;49m\u001b[38;5;241;43m.\u001b[39;49m\u001b[43m_get_value\u001b[49m\u001b[43m(\u001b[49m\u001b[43mkey\u001b[49m\u001b[43m)\u001b[49m\n\u001b[0;32m    960\u001b[0m \u001b[38;5;28;01mif\u001b[39;00m is_hashable(key):\n\u001b[0;32m    961\u001b[0m     \u001b[38;5;66;03m# Otherwise index.get_value will raise InvalidIndexError\u001b[39;00m\n\u001b[0;32m    962\u001b[0m     \u001b[38;5;28;01mtry\u001b[39;00m:\n\u001b[0;32m    963\u001b[0m         \u001b[38;5;66;03m# For labels that don't resolve as scalars like tuples and frozensets\u001b[39;00m\n",
      "File \u001b[1;32m~\\anaconda3\\lib\\site-packages\\pandas\\core\\series.py:1069\u001b[0m, in \u001b[0;36mSeries._get_value\u001b[1;34m(self, label, takeable)\u001b[0m\n\u001b[0;32m   1066\u001b[0m     \u001b[38;5;28;01mreturn\u001b[39;00m \u001b[38;5;28mself\u001b[39m\u001b[38;5;241m.\u001b[39m_values[label]\n\u001b[0;32m   1068\u001b[0m \u001b[38;5;66;03m# Similar to Index.get_value, but we do not fall back to positional\u001b[39;00m\n\u001b[1;32m-> 1069\u001b[0m loc \u001b[38;5;241m=\u001b[39m \u001b[38;5;28;43mself\u001b[39;49m\u001b[38;5;241;43m.\u001b[39;49m\u001b[43mindex\u001b[49m\u001b[38;5;241;43m.\u001b[39;49m\u001b[43mget_loc\u001b[49m\u001b[43m(\u001b[49m\u001b[43mlabel\u001b[49m\u001b[43m)\u001b[49m\n\u001b[0;32m   1070\u001b[0m \u001b[38;5;28;01mreturn\u001b[39;00m \u001b[38;5;28mself\u001b[39m\u001b[38;5;241m.\u001b[39mindex\u001b[38;5;241m.\u001b[39m_get_values_for_loc(\u001b[38;5;28mself\u001b[39m, loc, label)\n",
      "File \u001b[1;32m~\\anaconda3\\lib\\site-packages\\pandas\\core\\indexes\\base.py:3623\u001b[0m, in \u001b[0;36mIndex.get_loc\u001b[1;34m(self, key, method, tolerance)\u001b[0m\n\u001b[0;32m   3621\u001b[0m     \u001b[38;5;28;01mreturn\u001b[39;00m \u001b[38;5;28mself\u001b[39m\u001b[38;5;241m.\u001b[39m_engine\u001b[38;5;241m.\u001b[39mget_loc(casted_key)\n\u001b[0;32m   3622\u001b[0m \u001b[38;5;28;01mexcept\u001b[39;00m \u001b[38;5;167;01mKeyError\u001b[39;00m \u001b[38;5;28;01mas\u001b[39;00m err:\n\u001b[1;32m-> 3623\u001b[0m     \u001b[38;5;28;01mraise\u001b[39;00m \u001b[38;5;167;01mKeyError\u001b[39;00m(key) \u001b[38;5;28;01mfrom\u001b[39;00m \u001b[38;5;21;01merr\u001b[39;00m\n\u001b[0;32m   3624\u001b[0m \u001b[38;5;28;01mexcept\u001b[39;00m \u001b[38;5;167;01mTypeError\u001b[39;00m:\n\u001b[0;32m   3625\u001b[0m     \u001b[38;5;66;03m# If we have a listlike key, _check_indexing_error will raise\u001b[39;00m\n\u001b[0;32m   3626\u001b[0m     \u001b[38;5;66;03m#  InvalidIndexError. Otherwise we fall through and re-raise\u001b[39;00m\n\u001b[0;32m   3627\u001b[0m     \u001b[38;5;66;03m#  the TypeError.\u001b[39;00m\n\u001b[0;32m   3628\u001b[0m     \u001b[38;5;28mself\u001b[39m\u001b[38;5;241m.\u001b[39m_check_indexing_error(key)\n",
      "\u001b[1;31mKeyError\u001b[0m: 'Name'"
     ]
    }
   ],
   "source": [
    "#batting['var'] = []\n",
    "\n",
    "variances = batting.var()\n",
    "\n",
    "#batting['var'] = \n",
    "#batting = batting.drop(columns = ['var'], axis = 1)\n",
    "\n",
    "#varHR = batting['HR'].var()\n",
    "#varHR\n",
    "\n",
    "for i in batting.columns:\n",
    "    test = variances[i]\n",
    "\n",
    "\n",
    "#for i in batting.columns:\n",
    "#    var = pd.var(batting[i])\n",
    "#    batting['var'].append(var)"
   ]
  },
  {
   "cell_type": "code",
   "execution_count": 151,
   "id": "52eeace7",
   "metadata": {},
   "outputs": [
    {
     "ename": "TypeError",
     "evalue": "Cannot index by location index with a non-integer key",
     "output_type": "error",
     "traceback": [
      "\u001b[1;31m---------------------------------------------------------------------------\u001b[0m",
      "\u001b[1;31mTypeError\u001b[0m                                 Traceback (most recent call last)",
      "Input \u001b[1;32mIn [151]\u001b[0m, in \u001b[0;36m<cell line: 1>\u001b[1;34m()\u001b[0m\n\u001b[0;32m      1\u001b[0m \u001b[38;5;28;01mfor\u001b[39;00m i \u001b[38;5;129;01min\u001b[39;00m variances\u001b[38;5;241m.\u001b[39mindex:\n\u001b[1;32m----> 2\u001b[0m     \u001b[38;5;28mprint\u001b[39m(\u001b[43mvariances\u001b[49m\u001b[38;5;241;43m.\u001b[39;49m\u001b[43miloc\u001b[49m\u001b[43m[\u001b[49m\u001b[43mi\u001b[49m\u001b[43m]\u001b[49m)\n",
      "File \u001b[1;32m~\\anaconda3\\lib\\site-packages\\pandas\\core\\indexing.py:967\u001b[0m, in \u001b[0;36m_LocationIndexer.__getitem__\u001b[1;34m(self, key)\u001b[0m\n\u001b[0;32m    964\u001b[0m axis \u001b[38;5;241m=\u001b[39m \u001b[38;5;28mself\u001b[39m\u001b[38;5;241m.\u001b[39maxis \u001b[38;5;129;01mor\u001b[39;00m \u001b[38;5;241m0\u001b[39m\n\u001b[0;32m    966\u001b[0m maybe_callable \u001b[38;5;241m=\u001b[39m com\u001b[38;5;241m.\u001b[39mapply_if_callable(key, \u001b[38;5;28mself\u001b[39m\u001b[38;5;241m.\u001b[39mobj)\n\u001b[1;32m--> 967\u001b[0m \u001b[38;5;28;01mreturn\u001b[39;00m \u001b[38;5;28;43mself\u001b[39;49m\u001b[38;5;241;43m.\u001b[39;49m\u001b[43m_getitem_axis\u001b[49m\u001b[43m(\u001b[49m\u001b[43mmaybe_callable\u001b[49m\u001b[43m,\u001b[49m\u001b[43m \u001b[49m\u001b[43maxis\u001b[49m\u001b[38;5;241;43m=\u001b[39;49m\u001b[43maxis\u001b[49m\u001b[43m)\u001b[49m\n",
      "File \u001b[1;32m~\\anaconda3\\lib\\site-packages\\pandas\\core\\indexing.py:1517\u001b[0m, in \u001b[0;36m_iLocIndexer._getitem_axis\u001b[1;34m(self, key, axis)\u001b[0m\n\u001b[0;32m   1515\u001b[0m key \u001b[38;5;241m=\u001b[39m item_from_zerodim(key)\n\u001b[0;32m   1516\u001b[0m \u001b[38;5;28;01mif\u001b[39;00m \u001b[38;5;129;01mnot\u001b[39;00m is_integer(key):\n\u001b[1;32m-> 1517\u001b[0m     \u001b[38;5;28;01mraise\u001b[39;00m \u001b[38;5;167;01mTypeError\u001b[39;00m(\u001b[38;5;124m\"\u001b[39m\u001b[38;5;124mCannot index by location index with a non-integer key\u001b[39m\u001b[38;5;124m\"\u001b[39m)\n\u001b[0;32m   1519\u001b[0m \u001b[38;5;66;03m# validate the location\u001b[39;00m\n\u001b[0;32m   1520\u001b[0m \u001b[38;5;28mself\u001b[39m\u001b[38;5;241m.\u001b[39m_validate_integer(key, axis)\n",
      "\u001b[1;31mTypeError\u001b[0m: Cannot index by location index with a non-integer key"
     ]
    }
   ],
   "source": [
    "for i in variances.index:\n",
    "    print(variances.iloc[i])"
   ]
  },
  {
   "cell_type": "code",
   "execution_count": 68,
   "id": "7b5e2aba",
   "metadata": {},
   "outputs": [
    {
     "ename": "ValueError",
     "evalue": "Length of values (0) does not match length of index (988)",
     "output_type": "error",
     "traceback": [
      "\u001b[1;31m---------------------------------------------------------------------------\u001b[0m",
      "\u001b[1;31mValueError\u001b[0m                                Traceback (most recent call last)",
      "Input \u001b[1;32mIn [68]\u001b[0m, in \u001b[0;36m<cell line: 2>\u001b[1;34m()\u001b[0m\n\u001b[0;32m      1\u001b[0m \u001b[38;5;66;03m# Loop Function through the dataframe and append into a column that gets stuck on the end of the df\u001b[39;00m\n\u001b[1;32m----> 2\u001b[0m batting[\u001b[38;5;124m'\u001b[39m\u001b[38;5;124mm+2sd\u001b[39m\u001b[38;5;124m'\u001b[39m] \u001b[38;5;241m=\u001b[39m []\n\u001b[0;32m      4\u001b[0m \u001b[38;5;28;01mfor\u001b[39;00m i \u001b[38;5;129;01min\u001b[39;00m batting\u001b[38;5;241m.\u001b[39mcolumns:\n\u001b[0;32m      5\u001b[0m     a \u001b[38;5;241m=\u001b[39m two_std_dev_from_mu(batting[i])\n",
      "File \u001b[1;32m~\\anaconda3\\lib\\site-packages\\pandas\\core\\frame.py:3655\u001b[0m, in \u001b[0;36mDataFrame.__setitem__\u001b[1;34m(self, key, value)\u001b[0m\n\u001b[0;32m   3652\u001b[0m     \u001b[38;5;28mself\u001b[39m\u001b[38;5;241m.\u001b[39m_setitem_array([key], value)\n\u001b[0;32m   3653\u001b[0m \u001b[38;5;28;01melse\u001b[39;00m:\n\u001b[0;32m   3654\u001b[0m     \u001b[38;5;66;03m# set column\u001b[39;00m\n\u001b[1;32m-> 3655\u001b[0m     \u001b[38;5;28;43mself\u001b[39;49m\u001b[38;5;241;43m.\u001b[39;49m\u001b[43m_set_item\u001b[49m\u001b[43m(\u001b[49m\u001b[43mkey\u001b[49m\u001b[43m,\u001b[49m\u001b[43m \u001b[49m\u001b[43mvalue\u001b[49m\u001b[43m)\u001b[49m\n",
      "File \u001b[1;32m~\\anaconda3\\lib\\site-packages\\pandas\\core\\frame.py:3832\u001b[0m, in \u001b[0;36mDataFrame._set_item\u001b[1;34m(self, key, value)\u001b[0m\n\u001b[0;32m   3822\u001b[0m \u001b[38;5;28;01mdef\u001b[39;00m \u001b[38;5;21m_set_item\u001b[39m(\u001b[38;5;28mself\u001b[39m, key, value) \u001b[38;5;241m-\u001b[39m\u001b[38;5;241m>\u001b[39m \u001b[38;5;28;01mNone\u001b[39;00m:\n\u001b[0;32m   3823\u001b[0m     \u001b[38;5;124;03m\"\"\"\u001b[39;00m\n\u001b[0;32m   3824\u001b[0m \u001b[38;5;124;03m    Add series to DataFrame in specified column.\u001b[39;00m\n\u001b[0;32m   3825\u001b[0m \n\u001b[1;32m   (...)\u001b[0m\n\u001b[0;32m   3830\u001b[0m \u001b[38;5;124;03m    ensure homogeneity.\u001b[39;00m\n\u001b[0;32m   3831\u001b[0m \u001b[38;5;124;03m    \"\"\"\u001b[39;00m\n\u001b[1;32m-> 3832\u001b[0m     value \u001b[38;5;241m=\u001b[39m \u001b[38;5;28;43mself\u001b[39;49m\u001b[38;5;241;43m.\u001b[39;49m\u001b[43m_sanitize_column\u001b[49m\u001b[43m(\u001b[49m\u001b[43mvalue\u001b[49m\u001b[43m)\u001b[49m\n\u001b[0;32m   3834\u001b[0m     \u001b[38;5;28;01mif\u001b[39;00m (\n\u001b[0;32m   3835\u001b[0m         key \u001b[38;5;129;01min\u001b[39;00m \u001b[38;5;28mself\u001b[39m\u001b[38;5;241m.\u001b[39mcolumns\n\u001b[0;32m   3836\u001b[0m         \u001b[38;5;129;01mand\u001b[39;00m value\u001b[38;5;241m.\u001b[39mndim \u001b[38;5;241m==\u001b[39m \u001b[38;5;241m1\u001b[39m\n\u001b[0;32m   3837\u001b[0m         \u001b[38;5;129;01mand\u001b[39;00m \u001b[38;5;129;01mnot\u001b[39;00m is_extension_array_dtype(value)\n\u001b[0;32m   3838\u001b[0m     ):\n\u001b[0;32m   3839\u001b[0m         \u001b[38;5;66;03m# broadcast across multiple columns if necessary\u001b[39;00m\n\u001b[0;32m   3840\u001b[0m         \u001b[38;5;28;01mif\u001b[39;00m \u001b[38;5;129;01mnot\u001b[39;00m \u001b[38;5;28mself\u001b[39m\u001b[38;5;241m.\u001b[39mcolumns\u001b[38;5;241m.\u001b[39mis_unique \u001b[38;5;129;01mor\u001b[39;00m \u001b[38;5;28misinstance\u001b[39m(\u001b[38;5;28mself\u001b[39m\u001b[38;5;241m.\u001b[39mcolumns, MultiIndex):\n",
      "File \u001b[1;32m~\\anaconda3\\lib\\site-packages\\pandas\\core\\frame.py:4535\u001b[0m, in \u001b[0;36mDataFrame._sanitize_column\u001b[1;34m(self, value)\u001b[0m\n\u001b[0;32m   4532\u001b[0m     \u001b[38;5;28;01mreturn\u001b[39;00m _reindex_for_setitem(value, \u001b[38;5;28mself\u001b[39m\u001b[38;5;241m.\u001b[39mindex)\n\u001b[0;32m   4534\u001b[0m \u001b[38;5;28;01mif\u001b[39;00m is_list_like(value):\n\u001b[1;32m-> 4535\u001b[0m     \u001b[43mcom\u001b[49m\u001b[38;5;241;43m.\u001b[39;49m\u001b[43mrequire_length_match\u001b[49m\u001b[43m(\u001b[49m\u001b[43mvalue\u001b[49m\u001b[43m,\u001b[49m\u001b[43m \u001b[49m\u001b[38;5;28;43mself\u001b[39;49m\u001b[38;5;241;43m.\u001b[39;49m\u001b[43mindex\u001b[49m\u001b[43m)\u001b[49m\n\u001b[0;32m   4536\u001b[0m \u001b[38;5;28;01mreturn\u001b[39;00m sanitize_array(value, \u001b[38;5;28mself\u001b[39m\u001b[38;5;241m.\u001b[39mindex, copy\u001b[38;5;241m=\u001b[39m\u001b[38;5;28;01mTrue\u001b[39;00m, allow_2d\u001b[38;5;241m=\u001b[39m\u001b[38;5;28;01mTrue\u001b[39;00m)\n",
      "File \u001b[1;32m~\\anaconda3\\lib\\site-packages\\pandas\\core\\common.py:557\u001b[0m, in \u001b[0;36mrequire_length_match\u001b[1;34m(data, index)\u001b[0m\n\u001b[0;32m    553\u001b[0m \u001b[38;5;124;03m\"\"\"\u001b[39;00m\n\u001b[0;32m    554\u001b[0m \u001b[38;5;124;03mCheck the length of data matches the length of the index.\u001b[39;00m\n\u001b[0;32m    555\u001b[0m \u001b[38;5;124;03m\"\"\"\u001b[39;00m\n\u001b[0;32m    556\u001b[0m \u001b[38;5;28;01mif\u001b[39;00m \u001b[38;5;28mlen\u001b[39m(data) \u001b[38;5;241m!=\u001b[39m \u001b[38;5;28mlen\u001b[39m(index):\n\u001b[1;32m--> 557\u001b[0m     \u001b[38;5;28;01mraise\u001b[39;00m \u001b[38;5;167;01mValueError\u001b[39;00m(\n\u001b[0;32m    558\u001b[0m         \u001b[38;5;124m\"\u001b[39m\u001b[38;5;124mLength of values \u001b[39m\u001b[38;5;124m\"\u001b[39m\n\u001b[0;32m    559\u001b[0m         \u001b[38;5;124mf\u001b[39m\u001b[38;5;124m\"\u001b[39m\u001b[38;5;124m(\u001b[39m\u001b[38;5;132;01m{\u001b[39;00m\u001b[38;5;28mlen\u001b[39m(data)\u001b[38;5;132;01m}\u001b[39;00m\u001b[38;5;124m) \u001b[39m\u001b[38;5;124m\"\u001b[39m\n\u001b[0;32m    560\u001b[0m         \u001b[38;5;124m\"\u001b[39m\u001b[38;5;124mdoes not match length of index \u001b[39m\u001b[38;5;124m\"\u001b[39m\n\u001b[0;32m    561\u001b[0m         \u001b[38;5;124mf\u001b[39m\u001b[38;5;124m\"\u001b[39m\u001b[38;5;124m(\u001b[39m\u001b[38;5;132;01m{\u001b[39;00m\u001b[38;5;28mlen\u001b[39m(index)\u001b[38;5;132;01m}\u001b[39;00m\u001b[38;5;124m)\u001b[39m\u001b[38;5;124m\"\u001b[39m\n\u001b[0;32m    562\u001b[0m     )\n",
      "\u001b[1;31mValueError\u001b[0m: Length of values (0) does not match length of index (988)"
     ]
    }
   ],
   "source": [
    "# Loop Function through the dataframe and append into a column that gets stuck on the end of the df\n",
    "batting['m+2sd'] = []\n",
    "\n",
    "for i in batting.columns:\n",
    "    a = two_std_dev_from_mu(batting[i])\n",
    "    batting['m+2sd'].append(a)"
   ]
  },
  {
   "cell_type": "code",
   "execution_count": null,
   "id": "515229fb",
   "metadata": {},
   "outputs": [],
   "source": [
    "batting['m+2sd']"
   ]
  }
 ],
 "metadata": {
  "kernelspec": {
   "display_name": "Python 3 (ipykernel)",
   "language": "python",
   "name": "python3"
  },
  "language_info": {
   "codemirror_mode": {
    "name": "ipython",
    "version": 3
   },
   "file_extension": ".py",
   "mimetype": "text/x-python",
   "name": "python",
   "nbconvert_exporter": "python",
   "pygments_lexer": "ipython3",
   "version": "3.9.12"
  }
 },
 "nbformat": 4,
 "nbformat_minor": 5
}
