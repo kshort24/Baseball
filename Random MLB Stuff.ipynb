{
 "cells": [
  {
   "cell_type": "markdown",
   "id": "2019e796-6212-4289-8e25-8c25173d7798",
   "metadata": {},
   "source": [
    "# Random MLB Stuff"
   ]
  },
  {
   "cell_type": "markdown",
   "id": "b6b7af20-1e16-4c11-b062-468a22093e12",
   "metadata": {},
   "source": [
    "## Teams and Team IDs (Baseball Savant)"
   ]
  },
  {
   "cell_type": "code",
   "execution_count": null,
   "id": "b7ceac00-da56-47d6-b5e2-b820a7a10526",
   "metadata": {},
   "outputs": [],
   "source": [
    "teams = [{'Team' : 'Los Angeles Angels', 'Team ID' : 108}\n",
    "         ,{'Team' : 'Houston Astros', 'Team ID' : 117}\n",
    "         ,{'Team' : 'Oakland Athletics', 'Team ID' : 133}\n",
    "         ,{'Team' : 'Toronto Blue Jays', 'Team ID' : 141}\n",
    "         ,{'Team' : 'Atlanta Braves', 'Team ID' : 144}\n",
    "         ,{'Team' : 'Milwaukee Brewers', 'Team ID' : 158}\n",
    "         ,{'Team' : 'St. Louis Cardinals', 'Team ID' : 138}\n",
    "         ,{'Team' : 'Chicago Cubs', 'Team ID' : 112}\n",
    "         ,{'Team' : 'Arizona Diamondbacks', 'Team ID' : 109}\n",
    "         ,{'Team' : 'Los Angeles Dodgers', 'Team ID' : 119}\n",
    "         ,{'Team' : 'San Francisco Giants', 'Team ID' : 137}\n",
    "         ,{'Team' : 'Cleveland Guardians', 'Team ID' : 114}\n",
    "         ,{'Team' : 'Seattle Mariners', 'Team ID' : 136}\n",
    "         ,{'Team' : 'Miami Marlins', 'Team ID' : 146}\n",
    "         ,{'Team' : 'New York Mets', 'Team ID' : 121}\n",
    "         ,{'Team' : 'Washington Nationals', 'Team ID' : 120}\n",
    "         ,{'Team' : 'Baltimore Orioles', 'Team ID' : 110}\n",
    "         ,{'Team' : 'San Diego Padres', 'Team ID' : 135}\n",
    "         ,{'Team' : 'Philadelphia Phillies', 'Team ID' : 143}\n",
    "         ,{'Team' : 'Pittsburgh Pirates', 'Team ID' : 134}\n",
    "         ,{'Team' : 'Texas Rangers', 'Team ID' : 140}\n",
    "         ,{'Team' : 'Tampa Bay Rays', 'Team ID' : 139}\n",
    "         ,{'Team' : 'Boston Red Sox', 'Team ID' : 111}\n",
    "         ,{'Team' : 'Cincinnati Reds', 'Team ID' : 113}\n",
    "         ,{'Team' : 'Colorado Rockies', 'Team ID' : 115}\n",
    "         ,{'Team' : 'Kansas City Royals', 'Team ID' : 118}\n",
    "         ,{'Team' : 'Detroit Tigers', 'Team ID' : 116}\n",
    "         ,{'Team' : 'Minnesota Twins', 'Team ID' : 142}\n",
    "         ,{'Team' : 'Chicago White Sox', 'Team ID' : 145}\n",
    "         ,{'Team' : 'New York Yankees', 'Team ID' : 147}\n",
    "        ]\n",
    "teams = pd.DataFrame(teams)"
   ]
  },
  {
   "cell_type": "markdown",
   "id": "a169197f-d525-45da-88be-65817afb9040",
   "metadata": {},
   "source": [
    "## 2022 OPS Distribution"
   ]
  },
  {
   "cell_type": "code",
   "execution_count": null,
   "id": "615671f3-f375-45b2-a97b-2500114413dc",
   "metadata": {},
   "outputs": [],
   "source": [
    "import pandas as pd"
   ]
  },
  {
   "cell_type": "code",
   "execution_count": null,
   "id": "9a936696-4849-4524-b84e-4951a378721e",
   "metadata": {},
   "outputs": [],
   "source": [
    "std = pd.read_csv('2022 MLB Batter Standard.csv')\n",
    "adv = pd.read_csv('2022 MLB Batter Advanced.csv')"
   ]
  },
  {
   "cell_type": "code",
   "execution_count": null,
   "id": "5cb883e3-1bb3-4a2d-a5a3-118483caadd2",
   "metadata": {},
   "outputs": [],
   "source": [
    "print(std.columns)"
   ]
  },
  {
   "cell_type": "code",
   "execution_count": null,
   "id": "4c21cd84-3a90-43f4-91ec-6db79894b785",
   "metadata": {},
   "outputs": [],
   "source": [
    "std['ID'] = std['Name'] + '-' + std['Tm']"
   ]
  },
  {
   "cell_type": "code",
   "execution_count": null,
   "id": "50d7674d-589e-4302-95ea-743a608bd1c2",
   "metadata": {},
   "outputs": [],
   "source": [
    "std = std.loc[:,['ID', 'Name', 'PA', 'AB', 'OPS']]"
   ]
  },
  {
   "cell_type": "code",
   "execution_count": null,
   "id": "fd38c209-96b2-4dba-b1ca-a9f8b7c7ac42",
   "metadata": {},
   "outputs": [],
   "source": [
    "std"
   ]
  },
  {
   "cell_type": "code",
   "execution_count": null,
   "id": "fe11c5ae-1850-4fdc-866c-15d044df147e",
   "metadata": {},
   "outputs": [],
   "source": [
    "std = std[:(len(std) - 1)]"
   ]
  },
  {
   "cell_type": "code",
   "execution_count": null,
   "id": "069571c2-6ce6-4580-a1c8-8d0ff8aedb41",
   "metadata": {},
   "outputs": [],
   "source": [
    "print(adv.columns)"
   ]
  },
  {
   "cell_type": "code",
   "execution_count": null,
   "id": "e4364017-3e7d-4ae7-b0bd-30fcd452186e",
   "metadata": {},
   "outputs": [],
   "source": [
    "adv['ID'] = adv['Name'] + '-' + adv['Tm']"
   ]
  },
  {
   "cell_type": "code",
   "execution_count": null,
   "id": "68531e55-1ca4-4df3-933f-336a29009272",
   "metadata": {},
   "outputs": [],
   "source": [
    "(adv['Name'] + '-' + adv['Tm'])[0]"
   ]
  },
  {
   "cell_type": "code",
   "execution_count": null,
   "id": "b2c766f4-b286-4a77-bed6-6bd27a223e95",
   "metadata": {},
   "outputs": [],
   "source": [
    "adv['Name'].iloc[0]"
   ]
  },
  {
   "cell_type": "code",
   "execution_count": null,
   "id": "b431c9f8-4997-471d-93e2-fa13d483724f",
   "metadata": {},
   "outputs": [],
   "source": [
    "std['Name'].iloc[986]"
   ]
  },
  {
   "cell_type": "code",
   "execution_count": null,
   "id": "6ded563d-eaff-493c-8e67-051a41cef3bc",
   "metadata": {},
   "outputs": [],
   "source": [
    "adv['Name'].iloc[870]"
   ]
  },
  {
   "cell_type": "code",
   "execution_count": null,
   "id": "ec94fecc-1d56-4a4f-a928-cc137fc84618",
   "metadata": {},
   "outputs": [],
   "source": [
    "test = pd.read_csv('Advanced Batting.csv')"
   ]
  },
  {
   "cell_type": "code",
   "execution_count": null,
   "id": "238bc689-7bd5-4312-870c-c1c53727c732",
   "metadata": {},
   "outputs": [],
   "source": [
    "test['Name'].iloc[0]"
   ]
  },
  {
   "cell_type": "code",
   "execution_count": null,
   "id": "ac20bbc9-94e9-4e2c-9731-0e2441666a1d",
   "metadata": {},
   "outputs": [],
   "source": [
    "std['ID'].replace('*', '', inplace = True)"
   ]
  },
  {
   "cell_type": "code",
   "execution_count": null,
   "id": "64ee3ca6-9763-4cbd-8c81-49d1d7bf0d07",
   "metadata": {},
   "outputs": [],
   "source": [
    "adv = adv[:(len(adv) -1)]"
   ]
  },
  {
   "cell_type": "code",
   "execution_count": null,
   "id": "0eaadcad-278e-49bc-9211-e7fbc550df9e",
   "metadata": {},
   "outputs": [],
   "source": [
    "adv.drop(columns = ['Rk', 'Name', 'Age', 'Tm', 'PA', '-9999'], axis = 1, inplace = True)"
   ]
  },
  {
   "cell_type": "code",
   "execution_count": null,
   "id": "54b62480-1e8a-4fc9-9888-98bd82c7f88e",
   "metadata": {},
   "outputs": [],
   "source": [
    "std.merge(adv, on = 'ID')"
   ]
  },
  {
   "cell_type": "code",
   "execution_count": null,
   "id": "73ceb5a0-3445-415c-9b43-1ea5d8c76ac7",
   "metadata": {},
   "outputs": [],
   "source": [
    "std['ID'].iloc[0]"
   ]
  },
  {
   "cell_type": "code",
   "execution_count": null,
   "id": "a54dac01-f098-4a91-8916-7da4137cbb8b",
   "metadata": {},
   "outputs": [],
   "source": [
    "adv['Name'].iloc[0].replace('\\xa0', ' ')"
   ]
  },
  {
   "cell_type": "code",
   "execution_count": null,
   "id": "bd98db66-1ae7-43d9-a9f8-93ba8ca4c201",
   "metadata": {},
   "outputs": [],
   "source": [
    "adv['Name'].iloc[1].replace('\\xa0', ' ', inplace = True)"
   ]
  },
  {
   "cell_type": "code",
   "execution_count": null,
   "id": "3bc7dbe5-3847-4d50-8c21-25b0efd9030f",
   "metadata": {},
   "outputs": [],
   "source": [
    "adv['Name'].iloc[0]"
   ]
  },
  {
   "cell_type": "code",
   "execution_count": null,
   "id": "7db927c4-6f21-47e9-8822-176b70bc46c4",
   "metadata": {},
   "outputs": [],
   "source": [
    "adv['ID']"
   ]
  },
  {
   "cell_type": "code",
   "execution_count": null,
   "id": "bec3bcd6-784c-44b0-b654-5db551f53981",
   "metadata": {},
   "outputs": [],
   "source": []
  },
  {
   "cell_type": "markdown",
   "id": "47149837-6a33-4fff-bbcd-25902be89c47",
   "metadata": {},
   "source": [
    "## Aaron Nola pitches"
   ]
  },
  {
   "cell_type": "code",
   "execution_count": null,
   "id": "0e71b2ea-585e-4cec-9aa4-d98c6ef199b4",
   "metadata": {},
   "outputs": [],
   "source": [
    "import pandas as pd"
   ]
  },
  {
   "cell_type": "markdown",
   "id": "ed8b4793-81de-41d6-b47b-7b8b82acb43e",
   "metadata": {},
   "source": [
    "Construct query from baseball savant Statcast Search. <br>\n",
    "First I got breaking balls from Aaron Nola to LHB. <br>\n",
    "Then I got every pitch Aaron Nola has ever thrown in his career. <br>"
   ]
  },
  {
   "cell_type": "code",
   "execution_count": null,
   "id": "a7d34f5c-2c8d-4631-80e6-15d8a8a06b95",
   "metadata": {},
   "outputs": [],
   "source": [
    "df = pd.read_csv('Aaron Nola Every Pitch.csv')"
   ]
  },
  {
   "cell_type": "markdown",
   "id": "6e479e77-a16f-48ed-83d8-23075f51f8de",
   "metadata": {},
   "source": [
    "### Exploring the Data"
   ]
  },
  {
   "cell_type": "code",
   "execution_count": null,
   "id": "4f9b6310-010f-4c75-aee6-dc28c536d82d",
   "metadata": {},
   "outputs": [],
   "source": [
    "df"
   ]
  },
  {
   "cell_type": "code",
   "execution_count": null,
   "id": "a859d728-36e5-4078-b43e-090859cc294b",
   "metadata": {},
   "outputs": [],
   "source": [
    "print(df.columns)"
   ]
  },
  {
   "cell_type": "code",
   "execution_count": null,
   "id": "4eef1d51-2918-4fa9-854a-20a5215b4d3d",
   "metadata": {},
   "outputs": [],
   "source": [
    "df['stand'].unique()"
   ]
  },
  {
   "cell_type": "code",
   "execution_count": null,
   "id": "7b0e4ce9-1365-4d0c-96b6-62cb25c3ec8d",
   "metadata": {},
   "outputs": [],
   "source": [
    "df = df[df['stand'] == 'L'] # Filter to only Left Handed Batters"
   ]
  },
  {
   "cell_type": "code",
   "execution_count": null,
   "id": "1c6b8205-aeb7-4e6f-b11a-a8a0c8d48aaf",
   "metadata": {},
   "outputs": [],
   "source": [
    "# Breaking Balls to Left handed batters\n",
    "bb_lhb = df[df['pitch_type'].isin(['KC','CU'])]\n",
    "# Can also use the pitch_name field"
   ]
  },
  {
   "cell_type": "code",
   "execution_count": null,
   "id": "46e1eb51-da11-4313-95e9-d4119d654935",
   "metadata": {},
   "outputs": [],
   "source": [
    "df.head(20)"
   ]
  },
  {
   "cell_type": "code",
   "execution_count": null,
   "id": "46b41046-9640-4556-8f7d-0a1a69613f1c",
   "metadata": {},
   "outputs": [],
   "source": [
    "last_game = df[df['game_date'] == '2023-06-28']"
   ]
  },
  {
   "cell_type": "code",
   "execution_count": null,
   "id": "c2484ef8-f005-4640-99e2-3dbb914612b5",
   "metadata": {},
   "outputs": [],
   "source": [
    "print(last_game.columns)"
   ]
  },
  {
   "cell_type": "code",
   "execution_count": null,
   "id": "b704bb3d-1db8-4941-a5bf-90b79c43a7a9",
   "metadata": {},
   "outputs": [],
   "source": [
    "last_game = last_game.loc[:, ['pitch_type'\n",
    "                             ,'release_speed'\n",
    "                             ,'zone' # Zone location of the ball when it crosses the plate from the catcher's perspective\n",
    "                             #,'des' # Plate appearance description from game day\n",
    "                             ,'type' # B = ball, S = strike, X = in play\n",
    "                             ,'balls' \n",
    "                             ,'strikes'\n",
    "                             ,'pfx_x' # Horizontal movement in feet from the catcher's perspective \n",
    "                             ,'pfx_z' # Vertical movement in feet from the catcher's perspective\n",
    "                             ,'plate_x' # Horizontal position of the ball when it crosses home plate from the catcher's perspective\n",
    "                             ,'plate_z' # Vertical position of the ball when it crosses home plate from the catcher's perspective\n",
    "                             #,'sv_id' # Non-unique id of play event per game\n",
    "                             ,'sz_top' # Top of the batter's strike zone set by the operator when the ball is halfway to the plate\n",
    "                             ,'sz_bot' # Bottom of the batter's strike zone set by the operator when the ball is halfway to the plate\n",
    "                             ,'at_bat_number' # Plate appearance number of the game\n",
    "                             ,'pitch_number' # Total pitch number of the plate appearance\n",
    "                             ,'pitch_name' # The name of the pitch derived from the Statcast Data                             \n",
    "                             ]\n",
    "                         ] "
   ]
  },
  {
   "cell_type": "code",
   "execution_count": null,
   "id": "2073cd46-ff25-48cd-a0da-7459d38fd107",
   "metadata": {},
   "outputs": [],
   "source": [
    "outside_bb = last_game[last_game['pitch_type'].isin(['KC','CU']) & last_game['zone'].isin([11.0,1.0,4.0,7.0,13.0])]\n",
    "# Define outside breaking balls by pitch type and zone location\n",
    "# Reference Statcast Zone Numbering visual if needed"
   ]
  },
  {
   "cell_type": "code",
   "execution_count": null,
   "id": "5e2782fe-416f-4718-8ac5-021b6441814b",
   "metadata": {},
   "outputs": [],
   "source": [
    "outside_bb"
   ]
  },
  {
   "cell_type": "markdown",
   "id": "3c087acb-26eb-497a-8379-948f7993b559",
   "metadata": {},
   "source": [
    "Okay, this is my algorithm, Eduardo! <br>\n",
    "I have a way to identify breaking balls that were backdoor breaking balls to left-handed batters. Add a filter for pitches that were not put in play (type <> X) <br>\n",
    "I know these pitches will be followed by something, so I need to come up with a way to identify the subsequent pitch that follows a backdoor breaking ball. <br>\n",
    "Once I have that identified, then I can see what Aaron Nola most frequently follows up his backdoor breaking ball with."
   ]
  },
  {
   "cell_type": "markdown",
   "id": "a33c7aad-08f4-4ef5-9619-8dccf8fe8f10",
   "metadata": {},
   "source": [
    "last_game"
   ]
  },
  {
   "cell_type": "code",
   "execution_count": null,
   "id": "5169e6e6-11ec-4025-a1a1-edeac46a7449",
   "metadata": {},
   "outputs": [],
   "source": [
    "last_game.iloc[1]"
   ]
  },
  {
   "cell_type": "code",
   "execution_count": null,
   "id": "6af717ab-4394-4a11-a9a9-b64c8494f28a",
   "metadata": {},
   "outputs": [],
   "source": [
    "last_game['Next Pitch Type'] = last_game['pitch_type'].shift(1)"
   ]
  },
  {
   "cell_type": "code",
   "execution_count": null,
   "id": "4fc34475-b3c8-4cd9-9037-6259015f97c4",
   "metadata": {},
   "outputs": [],
   "source": [
    "last_game"
   ]
  },
  {
   "cell_type": "markdown",
   "id": "a062fab2-a5a4-4983-8899-9352ce4bd34f",
   "metadata": {},
   "source": [
    "### Breaking Pitches to LHB and the Following Pitch"
   ]
  },
  {
   "cell_type": "code",
   "execution_count": null,
   "id": "e6e9e7f7-77e5-4603-b865-8e593dcd50da",
   "metadata": {},
   "outputs": [],
   "source": [
    "df = pd.read_csv('Aaron Nola Every Pitch.csv')"
   ]
  },
  {
   "cell_type": "code",
   "execution_count": null,
   "id": "a88f1a16-cdba-4d8e-8b3f-704e1dc9440e",
   "metadata": {},
   "outputs": [],
   "source": [
    "lhb = df[df['stand'] == 'L'] # Filter to Only Left Handed Batters"
   ]
  },
  {
   "cell_type": "code",
   "execution_count": null,
   "id": "efa486b2-de94-4cf6-9756-d8cace279b09",
   "metadata": {},
   "outputs": [],
   "source": [
    "# Select Columns\n",
    "lhb = lhb.loc[:, ['pitch_type'\n",
    "                 ,'release_speed'\n",
    "                 ,'zone' # Zone location of the ball when it crosses the plate from the catcher's perspective\n",
    "                 ,'type' # B = ball, S = strike, X = in play\n",
    "                 ,'balls' \n",
    "                 ,'strikes'\n",
    "                 ,'pfx_x' # Horizontal movement in feet from the catcher's perspective \n",
    "                 ,'pfx_z' # Vertical movement in feet from the catcher's perspective\n",
    "                 ,'plate_x' # Horizontal position of the ball when it crosses home plate from the catcher's perspective\n",
    "                 ,'plate_z' # Vertical position of the ball when it crosses home plate from the catcher's perspective\n",
    "                 ,'sz_top' # Top of the batter's strike zone set by the operator when the ball is halfway to the plate\n",
    "                 ,'sz_bot' # Bottom of the batter's strike zone set by the operator when the ball is halfway to the plate\n",
    "                 ,'at_bat_number' # Plate appearance number of the game\n",
    "                 ,'pitch_number' # Total pitch number of the plate appearance\n",
    "                 ,'pitch_name' # The name of the pitch derived from the Statcast Data                             \n",
    "                 ]\n",
    "             ] "
   ]
  },
  {
   "cell_type": "code",
   "execution_count": null,
   "id": "5a212090-f624-4030-a0ef-934e8421fdea",
   "metadata": {},
   "outputs": [],
   "source": [
    "# Then add columns for data from the subsequent pitch\n",
    "for c in lhb.columns:\n",
    "    lhb['np_'+c] = lhb[c].shift(1)"
   ]
  },
  {
   "cell_type": "code",
   "execution_count": null,
   "id": "1beb0163-6cd0-4ad7-ae6e-3c4c8defcad6",
   "metadata": {},
   "outputs": [],
   "source": [
    "# Filter to pitches that were not put in play, were breaking balls, and were on the outside part of the plate\n",
    "lhb = lhb[(lhb['type'] != 'X') & (lhb['pitch_type'].isin(['KC', 'CU'])) & (lhb['zone'].isin([11.0,1.0,4.0,7.0,13.0]))]"
   ]
  },
  {
   "cell_type": "code",
   "execution_count": null,
   "id": "1e1c6f7a-f2eb-45ff-bfa8-9635dbf83b9a",
   "metadata": {},
   "outputs": [],
   "source": [
    "lhb.groupby(['np_pitch_name','np_zone']).count()"
   ]
  },
  {
   "cell_type": "code",
   "execution_count": null,
   "id": "11fc2dca-e794-42c3-942f-5835f4995755",
   "metadata": {
    "tags": []
   },
   "outputs": [],
   "source": []
  },
  {
   "cell_type": "code",
   "execution_count": null,
   "id": "6ca14f8e-6de1-4ede-8e34-eeabfa262352",
   "metadata": {},
   "outputs": [],
   "source": []
  },
  {
   "cell_type": "code",
   "execution_count": null,
   "id": "16d32219-54f1-488a-a77a-3d30bf3b0b78",
   "metadata": {},
   "outputs": [],
   "source": []
  },
  {
   "cell_type": "markdown",
   "id": "27d28003-0ffe-42a0-866f-1e3eea69ac5c",
   "metadata": {},
   "source": [
    "## Zack Wheeler pitches"
   ]
  },
  {
   "cell_type": "code",
   "execution_count": null,
   "id": "3f45800f-116d-429c-a727-adae9ef3fcd4",
   "metadata": {},
   "outputs": [],
   "source": [
    "import pandas as pd"
   ]
  },
  {
   "cell_type": "code",
   "execution_count": null,
   "id": "872f79e4-8461-47f8-a8aa-2a853b9929a9",
   "metadata": {},
   "outputs": [],
   "source": [
    "df = pd.read_csv('Zack Wheeler Every Pitch.csv')"
   ]
  },
  {
   "cell_type": "code",
   "execution_count": null,
   "id": "ad129b92-81b7-45f3-811d-a44ef256c209",
   "metadata": {},
   "outputs": [],
   "source": [
    "# Select Columns\n",
    "df = df.loc[:, ['game_date'\n",
    "                 ,'pitch_type'\n",
    "                 ,'release_speed'\n",
    "                 ,'zone' # Zone location of the ball when it crosses the plate from the catcher's perspective\n",
    "                 ,'type' # B = ball, S = strike, X = in play\n",
    "                 ,'balls' \n",
    "                 ,'strikes'\n",
    "                 ,'pfx_x' # Horizontal movement in feet from the catcher's perspective \n",
    "                 ,'pfx_z' # Vertical movement in feet from the catcher's perspective\n",
    "                 ,'plate_x' # Horizontal position of the ball when it crosses home plate from the catcher's perspective\n",
    "                 ,'plate_z' # Vertical position of the ball when it crosses home plate from the catcher's perspective\n",
    "                 ,'sz_top' # Top of the batter's strike zone set by the operator when the ball is halfway to the plate\n",
    "                 ,'sz_bot' # Bottom of the batter's strike zone set by the operator when the ball is halfway to the plate\n",
    "                 ,'at_bat_number' # Plate appearance number of the game\n",
    "                 ,'pitch_number' # Total pitch number of the plate appearance\n",
    "                 ,'pitch_name' # The name of the pitch derived from the Statcast Data                             \n",
    "                 ]\n",
    "             ] \n",
    "\n",
    "df['game_date'] = pd.to_datetime(df['game_date'])\n",
    "\n",
    "# I need to figure out a way to to do this automatically\n",
    "y2023 = df[df.game_date.dt.year == 2023]\n",
    "y2022 = df[df.game_date.dt.year == 2022]\n",
    "y2021 = df[df.game_date.dt.year == 2021]\n",
    "y2020 = df[df.game_date.dt.year == 2020]\n",
    "y2019 = df[df.game_date.dt.year == 2019]\n",
    "y2018 = df[df.game_date.dt.year == 2018]\n",
    "y2017 = df[df.game_date.dt.year == 2017]\n",
    "y2016 = df[df.game_date.dt.year == 2016]\n",
    "y2015 = df[df.game_date.dt.year == 2015]\n",
    "y2014 = df[df.game_date.dt.year == 2014]\n",
    "y2013 = df[df.game_date.dt.year == 2013]\n",
    "\n",
    "all_years = [y2023, y2022, y2021, y2020, y2019, y2018, y2017, y2016, y2015, y2014, y2013]\n",
    "phillies = [y2023, y2022, y2021, y2020]\n",
    "mets = [y2019, y2018, y2017, y2016, y2015, y2014, y2013]\n"
   ]
  },
  {
   "cell_type": "code",
   "execution_count": null,
   "id": "61c5f14b-90c3-4306-9f87-d11f5cf3a702",
   "metadata": {},
   "outputs": [],
   "source": [
    "df.groupby(['pitch_name']).count()#.mean('release_speed')"
   ]
  },
  {
   "cell_type": "code",
   "execution_count": null,
   "id": "1f58575e-05aa-413f-8ced-29b23b797b96",
   "metadata": {},
   "outputs": [],
   "source": [
    "df.groupby(['pitch_name',df.game_date.dt.year]).mean()"
   ]
  },
  {
   "cell_type": "code",
   "execution_count": null,
   "id": "b3ea874f-bfcc-4440-a3a4-a2c50ee9fd2f",
   "metadata": {},
   "outputs": [],
   "source": [
    "y2023 = df[df.game_date.dt.year == 2023]"
   ]
  },
  {
   "cell_type": "code",
   "execution_count": null,
   "id": "5a8f2854-1c34-4905-b3df-910ae2079d48",
   "metadata": {},
   "outputs": [],
   "source": [
    "y2023.pitch_name.unique()"
   ]
  },
  {
   "cell_type": "code",
   "execution_count": null,
   "id": "7bdf1159-ff39-41e6-9465-f99910619292",
   "metadata": {},
   "outputs": [],
   "source": [
    "y2023.groupby('pitch_name').count()"
   ]
  },
  {
   "cell_type": "code",
   "execution_count": null,
   "id": "96118a05-12d4-47cb-a949-7224a8225585",
   "metadata": {},
   "outputs": [],
   "source": [
    "y2023.groupby('pitch_name').count()/len(y2023)"
   ]
  },
  {
   "cell_type": "code",
   "execution_count": null,
   "id": "bb441290-02c4-4e2d-9d63-2434358a51c1",
   "metadata": {},
   "outputs": [],
   "source": [
    "for y in all_years:\n",
    "    y.groupby['pitch_type'].count()/len(y)"
   ]
  },
  {
   "cell_type": "code",
   "execution_count": null,
   "id": "25735888-a6c8-4f2b-bac6-0e00b3c61348",
   "metadata": {},
   "outputs": [],
   "source": [
    "df.groupby([df.pitch_type, df.game_date.dt.year]).count()"
   ]
  },
  {
   "cell_type": "code",
   "execution_count": null,
   "id": "d8268ffb-8941-4b23-b4d2-5d1a2137c13b",
   "metadata": {},
   "outputs": [],
   "source": [
    "df.groupby([df.pitch_name, df.game_date.dt.year]).mean().iloc[:,0]"
   ]
  },
  {
   "cell_type": "code",
   "execution_count": null,
   "id": "3b45ac32-ab85-42bf-abdf-c155532a77dd",
   "metadata": {},
   "outputs": [],
   "source": [
    "for m in mets:\n",
    "    print(m)"
   ]
  },
  {
   "cell_type": "code",
   "execution_count": null,
   "id": "5a014c8e-ccde-4359-90b3-2ffff2968acf",
   "metadata": {},
   "outputs": [],
   "source": [
    "mets_df = pd.DataFrame()\n",
    "for m in mets:\n",
    "    mets_df = pd.concat([mets_df, m])"
   ]
  },
  {
   "cell_type": "code",
   "execution_count": null,
   "id": "8a8d3e74-c22e-443d-a4a7-5be446f16cc1",
   "metadata": {},
   "outputs": [],
   "source": [
    "phils_df = pd.DataFrame()\n",
    "for p in phillies:\n",
    "    phils_df = pd.concat([phils_df, p])"
   ]
  },
  {
   "cell_type": "code",
   "execution_count": null,
   "id": "acac194b-8dc2-442e-aeaf-d9e1bffe0386",
   "metadata": {},
   "outputs": [],
   "source": [
    "for y in all_years:\n",
    "    y.groupby('pitch_name').mean().iloc[:"
   ]
  },
  {
   "cell_type": "code",
   "execution_count": null,
   "id": "99db97b5-f581-4f3b-be21-53557dd0da69",
   "metadata": {},
   "outputs": [],
   "source": [
    "avgFB_velo = pd.DataFrame()\n",
    "for y in all_years:\n",
    "    speeds = pd.DataFrame(y.groupby('pitch_type').mean().iloc[:,0])\n",
    "    speeds['Year'] = y.game_date.dt.year[0]\n",
    "    avgFB_velo = pd.concat([avgFB_velo, speeds])"
   ]
  },
  {
   "cell_type": "code",
   "execution_count": null,
   "id": "1034295b-3ad5-4a91-af69-c7a6be2c13f5",
   "metadata": {},
   "outputs": [],
   "source": [
    "y2023.game_date.dt.year[0]"
   ]
  },
  {
   "cell_type": "code",
   "execution_count": null,
   "id": "3e2f9103-09cb-496d-8cae-db428eca8fae",
   "metadata": {},
   "outputs": [],
   "source": [
    "speeds"
   ]
  },
  {
   "cell_type": "code",
   "execution_count": null,
   "id": "5be434f1-0191-490f-9582-cf2dbe8280b5",
   "metadata": {},
   "outputs": [],
   "source": []
  },
  {
   "cell_type": "markdown",
   "id": "fcc3a257-0271-454c-8753-c0e5864824c4",
   "metadata": {},
   "source": [
    "## Just Every Pitch of the First Half"
   ]
  },
  {
   "cell_type": "code",
   "execution_count": null,
   "id": "ea73315e-84b1-487c-94d8-04c63e824f4e",
   "metadata": {},
   "outputs": [],
   "source": [
    "import pandas as pd"
   ]
  },
  {
   "cell_type": "code",
   "execution_count": null,
   "id": "2e9a47f9-5f57-43c0-874f-314984453ff6",
   "metadata": {},
   "outputs": [],
   "source": [
    "team_pitching = pd.read_csv('Expected Pitching by Team as of 7-8-23.csv')\n",
    "team_catching = pd.read_csv('Catching by Team as of 7-8-23.csv')\n",
    "team_batting = pd.read_csv('Expected Batting by Team as of 7-8-23.csv')\n",
    "\n",
    "team_catching.dropna(inplace=True)\n",
    "\n",
    "combined = pd.merge(team_pitching, team_catching, left_on = 'team', right_on = 'team_name', suffixes = ('_p','_c'))"
   ]
  },
  {
   "cell_type": "code",
   "execution_count": null,
   "id": "34bcdf6c-8102-4120-bac2-a836d134b965",
   "metadata": {},
   "outputs": [],
   "source": [
    "print(team_pitching.columns)"
   ]
  },
  {
   "cell_type": "code",
   "execution_count": null,
   "id": "8b117cc4-c166-44a2-adab-73e6e7e66831",
   "metadata": {},
   "outputs": [],
   "source": [
    "print(team_catching.columns)"
   ]
  },
  {
   "cell_type": "code",
   "execution_count": null,
   "id": "dae6315b-eaa1-46ec-ae6a-529dc8694a22",
   "metadata": {},
   "outputs": [],
   "source": []
  },
  {
   "cell_type": "code",
   "execution_count": null,
   "id": "bb6c6777-4fba-4d2e-8bb5-f7b0d5046e00",
   "metadata": {},
   "outputs": [],
   "source": [
    "team_catching"
   ]
  },
  {
   "cell_type": "code",
   "execution_count": null,
   "id": "e8226b0e-7969-45c2-97bf-344a520d342a",
   "metadata": {},
   "outputs": [],
   "source": [
    "team_pitching"
   ]
  },
  {
   "cell_type": "code",
   "execution_count": null,
   "id": "102b6b3f-4228-4cc3-974e-455d4a0bdf0f",
   "metadata": {},
   "outputs": [],
   "source": []
  },
  {
   "cell_type": "code",
   "execution_count": null,
   "id": "ead8fbe9-c4e8-42ab-97d1-c51452aa6794",
   "metadata": {},
   "outputs": [],
   "source": [
    "print(combined.columns)"
   ]
  },
  {
   "cell_type": "code",
   "execution_count": null,
   "id": "14b6b086-3be0-4d28-80ae-cf2c26077cc5",
   "metadata": {},
   "outputs": [],
   "source": [
    "data = combined.loc[:,['team'\n",
    "                           ,'year_p'\n",
    "                           ,'pa'\n",
    "                           ,'bip'\n",
    "                           ,'ba'\n",
    "                           ,'est_ba'\n",
    "                           ,'est_ba_minus_ba_diff'\n",
    "                           ,'slg'\n",
    "                           ,'est_slg'\n",
    "                           ,'est_slg_minus_slg_diff'\n",
    "                           ,'woba'\n",
    "                           ,'est_woba'\n",
    "                           ,'est_woba_minus_woba_diff'\n",
    "                           ,'runs_extra_strikes'\n",
    "                          ]\n",
    "                       ]"
   ]
  },
  {
   "cell_type": "code",
   "execution_count": null,
   "id": "24ab4a8f-a094-4c99-b5ab-56a9d3296215",
   "metadata": {},
   "outputs": [],
   "source": [
    "data.sort_values(by = 'est_woba_minus_woba_diff', ascending = False)"
   ]
  },
  {
   "cell_type": "code",
   "execution_count": null,
   "id": "e31a0dc3-c07f-417e-b2e9-0d9c47be2fe3",
   "metadata": {},
   "outputs": [],
   "source": [
    "data.plot.scatter(x='est_woba"
   ]
  },
  {
   "cell_type": "code",
   "execution_count": null,
   "id": "e51247ef-8271-45ed-8e65-755bb8bb0f77",
   "metadata": {},
   "outputs": [],
   "source": [
    "obp = pd.read_csv('Expected On Base by Team as of 7-8-23.csv')"
   ]
  },
  {
   "cell_type": "code",
   "execution_count": null,
   "id": "e8cdc7d5-2189-47b7-a5f2-9e2bb65fbecd",
   "metadata": {},
   "outputs": [],
   "source": []
  },
  {
   "cell_type": "code",
   "execution_count": null,
   "id": "4771cf3f-81b3-4b70-8153-b0cf60a5aabe",
   "metadata": {},
   "outputs": [],
   "source": [
    "pitching = pd.merge(combined, obp, left_on = 'team_id_p', right_on = 'player_id', suffixes = ('','_obp'))"
   ]
  },
  {
   "cell_type": "code",
   "execution_count": null,
   "id": "1aa53a13-32d1-4022-8c08-906057faf223",
   "metadata": {},
   "outputs": [],
   "source": [
    "pitching"
   ]
  },
  {
   "cell_type": "code",
   "execution_count": null,
   "id": "16cbf0e6-cf12-4ab4-938e-4572639391eb",
   "metadata": {},
   "outputs": [],
   "source": [
    "print(pitching.columns)"
   ]
  },
  {
   "cell_type": "code",
   "execution_count": null,
   "id": "36805455-7c24-4f9e-bb57-96455bb6078a",
   "metadata": {},
   "outputs": [],
   "source": [
    "obp"
   ]
  },
  {
   "cell_type": "code",
   "execution_count": null,
   "id": "9ad01fc3-b1df-4ad8-9d69-5f4d02997f49",
   "metadata": {},
   "outputs": [],
   "source": [
    "data = pitching.loc[:,['team'\n",
    "                           ,'year_p'\n",
    "                           ,'pa'\n",
    "                           ,'bip'\n",
    "                           ,'ba'\n",
    "                           ,'est_ba'\n",
    "                           ,'est_ba_minus_ba_diff'\n",
    "                           ,'slg'\n",
    "                           ,'est_slg'\n",
    "                           ,'est_slg_minus_slg_diff'\n",
    "                           ,'woba'\n",
    "                           ,'est_woba'\n",
    "                           ,'est_woba_minus_woba_diff'\n",
    "                           ,'runs_extra_strikes'\n",
    "                          ]\n",
    "                       ]"
   ]
  },
  {
   "cell_type": "code",
   "execution_count": null,
   "id": "f8904364-d6a9-4519-b156-860daf052b86",
   "metadata": {},
   "outputs": [],
   "source": []
  },
  {
   "cell_type": "markdown",
   "id": "462ebdfa-777c-4066-b674-68e012e948cc",
   "metadata": {},
   "source": [
    "## Running Splits Graph"
   ]
  },
  {
   "cell_type": "code",
   "execution_count": null,
   "id": "815f28c1-81f2-45a7-b8a8-1673fa54c55d",
   "metadata": {},
   "outputs": [],
   "source": [
    "# Not gonna be as cool as the Race on Baseball Savant's page"
   ]
  },
  {
   "cell_type": "code",
   "execution_count": null,
   "id": "9ed8a8fe-d126-478a-b45b-42d615241080",
   "metadata": {},
   "outputs": [],
   "source": [
    "import pandas as pd\n",
    "import glob\n",
    "import os\n",
    "\n",
    "df = pd.read_csv('running_splits.csv')"
   ]
  },
  {
   "cell_type": "code",
   "execution_count": null,
   "id": "33c46953-6879-45c4-ad9a-a93f979b3c29",
   "metadata": {},
   "outputs": [],
   "source": [
    "df"
   ]
  },
  {
   "cell_type": "code",
   "execution_count": null,
   "id": "14394ceb-f3f2-4f95-b4b8-b6a1d3efa13a",
   "metadata": {},
   "outputs": [],
   "source": [
    "tempo = pd.read_csv('pitch_tempo.csv')"
   ]
  },
  {
   "cell_type": "code",
   "execution_count": null,
   "id": "124baab3-0f7a-43d5-82fe-3e31a72c1da2",
   "metadata": {},
   "outputs": [],
   "source": [
    "print(tempo.columns)"
   ]
  },
  {
   "cell_type": "code",
   "execution_count": null,
   "id": "e77e6b96-397b-4c6c-b6e8-24243350f865",
   "metadata": {},
   "outputs": [],
   "source": [
    "tempo.groupby(['team_id']).sum('median_seconds_empty').sort_values(by='median_seconds_empty')"
   ]
  },
  {
   "cell_type": "code",
   "execution_count": null,
   "id": "520a5aad-7284-43ab-9128-e5f1f8026b06",
   "metadata": {},
   "outputs": [],
   "source": []
  },
  {
   "cell_type": "markdown",
   "id": "066110f5-7d22-4525-bbd1-cac899a965f3",
   "metadata": {},
   "source": [
    "## Phillies Number of Pitches and Results"
   ]
  },
  {
   "cell_type": "code",
   "execution_count": null,
   "id": "d1def3f7-c064-4537-b4ec-f90bc07efff3",
   "metadata": {},
   "outputs": [],
   "source": [
    "import pandas as pd\n",
    "import os\n",
    "import glob"
   ]
  },
  {
   "cell_type": "code",
   "execution_count": null,
   "id": "5e514e7f-8ad8-4e32-b755-a21fbf749867",
   "metadata": {},
   "outputs": [],
   "source": [
    "data = pd.read_csv('2023 Phillies Every Pitch All Time.csv')"
   ]
  },
  {
   "cell_type": "code",
   "execution_count": null,
   "id": "e475eb10-fe26-4cea-8382-8b1bed7202de",
   "metadata": {},
   "outputs": [],
   "source": [
    "data = pd.read_csv('547180_data.csv')"
   ]
  },
  {
   "cell_type": "code",
   "execution_count": null,
   "id": "c01fb45c-ebdd-4edc-aed6-c36d33070209",
   "metadata": {},
   "outputs": [],
   "source": [
    "print(data.columns)"
   ]
  },
  {
   "cell_type": "code",
   "execution_count": null,
   "id": "19886a7d-bc06-4a03-accb-d996d34f61ca",
   "metadata": {},
   "outputs": [],
   "source": [
    "data.at_bat_number.unique()"
   ]
  },
  {
   "cell_type": "code",
   "execution_count": null,
   "id": "15102731-04c3-401b-8af4-a0964a4278b1",
   "metadata": {},
   "outputs": [],
   "source": [
    "data.drop(columns = ['batter'\n",
    "                    #,'description'\n",
    "                    ,'des'\n",
    "                    ,'game_type'\n",
    "                    ,'stand'\n",
    "                    ,'\n",
    "                    ]\n",
    "          "
   ]
  },
  {
   "cell_type": "code",
   "execution_count": null,
   "id": "08241031-5f1e-4334-874c-07b48fdeaabd",
   "metadata": {},
   "outputs": [],
   "source": [
    "data.zone.unique()"
   ]
  },
  {
   "cell_type": "code",
   "execution_count": null,
   "id": "92dfd457-c094-473e-9845-5792803b265d",
   "metadata": {},
   "outputs": [],
   "source": []
  },
  {
   "cell_type": "markdown",
   "id": "7447e66f-38de-41d4-b366-34e88472c643",
   "metadata": {},
   "source": [
    "## Phillies Chase Rate and Whiff%"
   ]
  },
  {
   "cell_type": "code",
   "execution_count": null,
   "id": "ce632095-075d-4052-9bea-cf30d2cc1c2c",
   "metadata": {},
   "outputs": [],
   "source": [
    "# Rob Thomson Just Managed His Fucking Ass Off!"
   ]
  },
  {
   "cell_type": "code",
   "execution_count": null,
   "id": "5afdfbb5-3637-4a9a-8a6a-a40e83b14e07",
   "metadata": {},
   "outputs": [],
   "source": [
    "import pandas as pd\n",
    "import glob\n",
    "import os"
   ]
  },
  {
   "cell_type": "code",
   "execution_count": null,
   "id": "950cd567-adb2-4149-a517-35cd2ccac373",
   "metadata": {},
   "outputs": [],
   "source": [
    "data = pd.read_csv('percentile_rankings.csv')"
   ]
  },
  {
   "cell_type": "code",
   "execution_count": null,
   "id": "37760226-88c8-458c-80bb-b361f5b28597",
   "metadata": {},
   "outputs": [],
   "source": [
    "data"
   ]
  },
  {
   "cell_type": "code",
   "execution_count": null,
   "id": "b212891b-366e-447b-88f2-a918becb6694",
   "metadata": {},
   "outputs": [],
   "source": []
  },
  {
   "cell_type": "markdown",
   "id": "7ccfc702-97ed-4aed-a6fb-ec00f14fdf64",
   "metadata": {},
   "source": [
    "## Team Outs Above Average"
   ]
  },
  {
   "cell_type": "code",
   "execution_count": null,
   "id": "2ae836c9-a2eb-4ceb-87de-3bba725c631d",
   "metadata": {},
   "outputs": [],
   "source": [
    "import pandas as pd\n",
    "import glob\n",
    "import os\n",
    "\n",
    "teams = [{'Team' : 'Los Angeles Angels', 'Team ID' : 108}\n",
    "         ,{'Team' : 'Houston Astros', 'Team ID' : 117}\n",
    "         ,{'Team' : 'Oakland Athletics', 'Team ID' : 133}\n",
    "         ,{'Team' : 'Toronto Blue Jays', 'Team ID' : 141}\n",
    "         ,{'Team' : 'Atlanta Braves', 'Team ID' : 144}\n",
    "         ,{'Team' : 'Milwaukee Brewers', 'Team ID' : 158}\n",
    "         ,{'Team' : 'St. Louis Cardinals', 'Team ID' : 138}\n",
    "         ,{'Team' : 'Chicago Cubs', 'Team ID' : 112}\n",
    "         ,{'Team' : 'Arizona Diamondbacks', 'Team ID' : 109}\n",
    "         ,{'Team' : 'Los Angeles Dodgers', 'Team ID' : 119}\n",
    "         ,{'Team' : 'San Francisco Giants', 'Team ID' : 137}\n",
    "         ,{'Team' : 'Cleveland Guardians', 'Team ID' : 114}\n",
    "         ,{'Team' : 'Seattle Mariners', 'Team ID' : 136}\n",
    "         ,{'Team' : 'Miami Marlins', 'Team ID' : 146}\n",
    "         ,{'Team' : 'New York Mets', 'Team ID' : 121}\n",
    "         ,{'Team' : 'Washington Nationals', 'Team ID' : 120}\n",
    "         ,{'Team' : 'Baltimore Orioles', 'Team ID' : 110}\n",
    "         ,{'Team' : 'San Diego Padres', 'Team ID' : 135}\n",
    "         ,{'Team' : 'Philadelphia Phillies', 'Team ID' : 143}\n",
    "         ,{'Team' : 'Pittsburgh Pirates', 'Team ID' : 134}\n",
    "         ,{'Team' : 'Texas Rangers', 'Team ID' : 140}\n",
    "         ,{'Team' : 'Tampa Bay Rays', 'Team ID' : 139}\n",
    "         ,{'Team' : 'Boston Red Sox', 'Team ID' : 111}\n",
    "         ,{'Team' : 'Cincinnati Reds', 'Team ID' : 113}\n",
    "         ,{'Team' : 'Colorado Rockies', 'Team ID' : 115}\n",
    "         ,{'Team' : 'Kansas City Royals', 'Team ID' : 118}\n",
    "         ,{'Team' : 'Detroit Tigers', 'Team ID' : 116}\n",
    "         ,{'Team' : 'Minnesota Twins', 'Team ID' : 142}\n",
    "         ,{'Team' : 'Chicago White Sox', 'Team ID' : 145}\n",
    "         ,{'Team' : 'New York Yankees', 'Team ID' : 147}\n",
    "        ]\n",
    "teams = pd.DataFrame(teams)"
   ]
  },
  {
   "cell_type": "code",
   "execution_count": null,
   "id": "08d44bb8-4953-41c0-8d2c-3bebe3359363",
   "metadata": {},
   "outputs": [],
   "source": [
    "# Get Winning Percentage from Baseball Reference\n",
    "# Might be worth setting up an actual scrape here\n",
    "\n",
    "standings = pd.DataFrame()\n",
    "years = range(2016,2024)\n",
    "for y in years:\n",
    "    df = pd.read_csv(str(y)+' Team W-L.csv')\n",
    "    df['Year'] = y\n",
    "    standings = pd.concat([standings, df])\n",
    "    \n",
    "win_pct = standings[['Year', 'Tm', 'W-L%']]\n",
    "win_pct = win_pct[win_pct['Tm'] != 'Average']\n",
    "win_pct['id'] = win_pct.Year.astype(str) + ' ' + win_pct.Tm\n",
    "win_pct.replace('Cleveland Indians', 'Cleveland Guardians', inplace = True)"
   ]
  },
  {
   "cell_type": "code",
   "execution_count": null,
   "id": "07b843f1-5131-40c3-935d-2aafa2b27457",
   "metadata": {},
   "outputs": [],
   "source": [
    "# Get Outs Above Average from Baseball Savant\n",
    "# There also has to be a better way to do this methinks\n",
    "\n",
    "fteam_oaa = pd.read_csv('fielding_team_outs_above_average.csv')\n",
    "fteam_oaa['team'] = fteam_oaa.team_name + ' ' + fteam_oaa.team_id.astype(str)\n",
    "oaa = pd.merge(fteam_oaa, teams, left_on = 'team_id', right_on = 'Team ID', suffixes = ('', '_lu'))\n",
    "oaa['id'] = oaa['year'].astype(str) + ' ' + oaa['Team'] \n",
    "oaa = oaa[['id', 'outs_above_average']]"
   ]
  },
  {
   "cell_type": "code",
   "execution_count": null,
   "id": "73993822-103d-4401-82a3-5cf51ab40038",
   "metadata": {},
   "outputs": [],
   "source": [
    "# Merge the DataFrames together and Let's find the correlation\n",
    "data = pd.merge(oaa, win_pct, on = 'id', suffixes = ('','_y'))\n",
    "data['outs_above_average'].corr(data['W-L%']) # It is not very strong (r = 0.302)"
   ]
  },
  {
   "cell_type": "code",
   "execution_count": null,
   "id": "5cc8c166-aa40-45e2-94a8-61eadcffc8f5",
   "metadata": {},
   "outputs": [],
   "source": [
    "data.plot.scatter('W-L%', 'outs_above_average')"
   ]
  },
  {
   "cell_type": "code",
   "execution_count": null,
   "id": "68d1ade3-b1a7-43a0-baf6-1460338ab456",
   "metadata": {},
   "outputs": [],
   "source": []
  },
  {
   "cell_type": "markdown",
   "id": "0e6ae384-540c-4611-a222-955e175c11f6",
   "metadata": {},
   "source": [
    "## Michael Lorenzen pitches"
   ]
  },
  {
   "cell_type": "code",
   "execution_count": null,
   "id": "9882acb8-404f-4ff9-a3d1-06cc97d45d17",
   "metadata": {},
   "outputs": [],
   "source": [
    "import pandas as pd"
   ]
  },
  {
   "cell_type": "code",
   "execution_count": null,
   "id": "d57f155e-e65b-4707-ab7c-61b5b0b1837a",
   "metadata": {},
   "outputs": [],
   "source": [
    "data = pd.read_csv('Michael Lorenzen Every Pitch.csv')"
   ]
  },
  {
   "cell_type": "code",
   "execution_count": null,
   "id": "21108494-4ac0-41d9-b555-64bba4d66fc5",
   "metadata": {},
   "outputs": [],
   "source": [
    "data.game_date = pd.to_datetime(data.game_date)"
   ]
  },
  {
   "cell_type": "code",
   "execution_count": null,
   "id": "197d5a37-7bcd-4489-ac7a-7db8dfec1af8",
   "metadata": {},
   "outputs": [],
   "source": [
    "cy = data[data.game_date.dt.year == 2023]"
   ]
  },
  {
   "cell_type": "code",
   "execution_count": null,
   "id": "7e4dc24a-0f03-4bd6-a9df-99d83edc9125",
   "metadata": {},
   "outputs": [],
   "source": [
    "phillies = cy[cy.game_date > '2023-08-01']\n",
    "tigers = cy[cy.game_date < '2023-08-01']"
   ]
  },
  {
   "cell_type": "code",
   "execution_count": null,
   "id": "a1cd2a2d-306e-4581-8481-b6c1ddf4e8b8",
   "metadata": {},
   "outputs": [],
   "source": [
    "# Just for 2023\n",
    "# This groups divides the count of pitches grouped by type and month from the count of pitches grouped by month\n",
    "(cy.groupby(by = [cy.game_date.dt.month, cy.pitch_name]).count()/cy.groupby(by = [cy.game_date.dt.month]).count()).pitch_type"
   ]
  },
  {
   "cell_type": "code",
   "execution_count": null,
   "id": "c7502ce5-c347-4b7a-987a-2986a381e8ac",
   "metadata": {},
   "outputs": [],
   "source": [
    "# For Enitre Career - Not Great to Look At\n",
    "(data.groupby(by = [data.game_date.dt.month, data.game_date.dt.year, data.pitch_name]).count()/data.groupby(by = [data.game_date.dt.month, data.game_date.dt.year]).count()).pitch_type"
   ]
  },
  {
   "cell_type": "code",
   "execution_count": null,
   "id": "c8efec8f-8927-467d-80e2-b8cb8710e298",
   "metadata": {},
   "outputs": [],
   "source": []
  },
  {
   "cell_type": "markdown",
   "id": "b2339ee0-ae1e-413b-a14e-a549f7aacf3b",
   "metadata": {},
   "source": [
    "## Is Joey Gallo a Good Defender?"
   ]
  },
  {
   "cell_type": "code",
   "execution_count": null,
   "id": "a0447ef0-9060-496f-9116-7684226b396c",
   "metadata": {},
   "outputs": [],
   "source": [
    "import pandas as pd\n",
    "import glob"
   ]
  },
  {
   "cell_type": "code",
   "execution_count": null,
   "id": "99b8f1d4-d621-48a0-876f-7993e7e2a541",
   "metadata": {},
   "outputs": [],
   "source": [
    "data = pd.read_csv('fielder_outs_above_average.csv')"
   ]
  },
  {
   "cell_type": "code",
   "execution_count": null,
   "id": "0b18ff54-f2bc-47f9-8fa7-685b6dadcf81",
   "metadata": {},
   "outputs": [],
   "source": [
    "data[data.last_name == 'Gallo'].sort_values(by = 'year')"
   ]
  },
  {
   "cell_type": "code",
   "execution_count": null,
   "id": "705e4fb2-bf4c-440e-9057-cd85118e2072",
   "metadata": {},
   "outputs": [],
   "source": []
  },
  {
   "cell_type": "markdown",
   "id": "f20701cf-f4bc-4a86-8372-59f6e07b20dc",
   "metadata": {},
   "source": [
    "## Quien es El Mejor Papa? (High Ideas Written Down)"
   ]
  },
  {
   "cell_type": "code",
   "execution_count": null,
   "id": "adda7c92-f731-4671-a968-5c66d65bb7cc",
   "metadata": {},
   "outputs": [],
   "source": [
    "# Jeff Hoffman Father of 4"
   ]
  },
  {
   "cell_type": "code",
   "execution_count": null,
   "id": "e6fc0573-6e02-4d39-94dc-fb57b00b5801",
   "metadata": {},
   "outputs": [],
   "source": [
    "# my comments are me writing the tweets that I can no longer run"
   ]
  },
  {
   "cell_type": "code",
   "execution_count": null,
   "id": "ed365bdf-7573-4069-9a0b-9796f6f9b414",
   "metadata": {},
   "outputs": [],
   "source": [
    "# Robert Garcia in the game"
   ]
  },
  {
   "cell_type": "code",
   "execution_count": null,
   "id": "d285ad7b-29c7-47eb-97b4-7d636b2028c2",
   "metadata": {},
   "outputs": [],
   "source": [
    "# So this is what I should do"
   ]
  },
  {
   "cell_type": "code",
   "execution_count": null,
   "id": "d3d63f2d-a133-4fa8-a777-fb2923b80750",
   "metadata": {},
   "outputs": [],
   "source": [
    "# Get super fukcing high and open up a Jupyter notebook where I can just keep my thoughts. That is essentially what Twitter was for me"
   ]
  },
  {
   "cell_type": "code",
   "execution_count": null,
   "id": "f1e04ad7-5034-4e73-9e75-28ba6ece22c2",
   "metadata": {},
   "outputs": [],
   "source": [
    "# With the major fucking exception that I had potential for elite social fulfillment"
   ]
  },
  {
   "cell_type": "code",
   "execution_count": null,
   "id": "b2874593-b768-4b44-8bb7-2d3b9a1e41ed",
   "metadata": {},
   "outputs": [],
   "source": [
    "# But for the most part I could get utility out of the object without the social interaction of it all"
   ]
  },
  {
   "cell_type": "code",
   "execution_count": null,
   "id": "3595f453-064f-463c-be01-1af78a5fa807",
   "metadata": {},
   "outputs": [],
   "source": [
    "# Without Twitter I have no pulse of normal social interactions"
   ]
  },
  {
   "cell_type": "code",
   "execution_count": null,
   "id": "291871a6-ff0c-4da7-9753-20e77700ec3d",
   "metadata": {},
   "outputs": [],
   "source": [
    "# Because for whatever fucking reason I rely on my online interactions more than my person-to-person contact"
   ]
  },
  {
   "cell_type": "code",
   "execution_count": null,
   "id": "8c1f1018-8c23-4265-a475-eb2a21359406",
   "metadata": {},
   "outputs": [],
   "source": [
    "# But that shit is valuable and affects people so I need to do a better job of reaching out to my teammates and being friendlier"
   ]
  },
  {
   "cell_type": "code",
   "execution_count": null,
   "id": "5ec6fdcf-303c-45e5-9730-8c17898a2407",
   "metadata": {},
   "outputs": [],
   "source": [
    "# It is not about being excellent at what you do and defensive of the people around us."
   ]
  },
  {
   "cell_type": "code",
   "execution_count": null,
   "id": "134d2acc-cc25-441c-99ba-9f6047588711",
   "metadata": {},
   "outputs": [],
   "source": [
    "# Patrick can I just add?"
   ]
  },
  {
   "cell_type": "code",
   "execution_count": null,
   "id": "29f74de4-dfab-42fb-bdff-e47538e4f709",
   "metadata": {},
   "outputs": [],
   "source": [
    "# No, I cannot just add because Patrick dominates the scene for us"
   ]
  },
  {
   "cell_type": "code",
   "execution_count": null,
   "id": "01ed6c3c-3b1d-41a3-8cf7-866b3bf33b0b",
   "metadata": {},
   "outputs": [],
   "source": [
    "# Erik Evjen is the face of Symphony, right?"
   ]
  },
  {
   "cell_type": "code",
   "execution_count": null,
   "id": "a514f0a7-09e0-4b1a-b474-17346cd1d20b",
   "metadata": {},
   "outputs": [],
   "source": [
    "# Zeek Coleman is the rising superstar who got poached by Tourism Economics"
   ]
  },
  {
   "cell_type": "code",
   "execution_count": null,
   "id": "3a4244de-f63e-4c0f-8b6f-2e09dca9d7cc",
   "metadata": {},
   "outputs": [],
   "source": [
    "# He gets assigned to the hottest part of the business because that is what makes him important"
   ]
  },
  {
   "cell_type": "code",
   "execution_count": null,
   "id": "36551bdf-ab12-43a2-b79b-7f641163a7a0",
   "metadata": {},
   "outputs": [],
   "source": [
    "# Is Zeek above a CEO of a DMO?"
   ]
  },
  {
   "cell_type": "code",
   "execution_count": null,
   "id": "0613bec4-3e72-476d-a784-8c9104708d45",
   "metadata": {},
   "outputs": [],
   "source": [
    "# These are the interesting social interactions that I want to follow"
   ]
  },
  {
   "cell_type": "code",
   "execution_count": null,
   "id": "fa86c6fd-a18b-4b49-835d-10d7a4e054db",
   "metadata": {},
   "outputs": [],
   "source": [
    "# My Soap Operas"
   ]
  },
  {
   "cell_type": "code",
   "execution_count": null,
   "id": "ddacb759-43d1-40aa-89b8-6dbc5b3793ca",
   "metadata": {},
   "outputs": [],
   "source": [
    "# Bryce Harper hhad to put his fucking ARM brace back on because what a fucking idiotic thing to do that was"
   ]
  },
  {
   "cell_type": "code",
   "execution_count": null,
   "id": "10010a7b-85b2-4cea-bc3a-7e321e06ec34",
   "metadata": {},
   "outputs": [],
   "source": [
    "# But I think I am supposed to love Bryce Harper more than anything else in teh world?"
   ]
  },
  {
   "cell_type": "code",
   "execution_count": null,
   "id": "5436a37a-b482-4b99-b832-7b3251d8ff39",
   "metadata": {},
   "outputs": [],
   "source": [
    "# That will be an interesting situation"
   ]
  },
  {
   "cell_type": "code",
   "execution_count": null,
   "id": "756129ec-6358-4fcf-b894-a90a3352a4f0",
   "metadata": {},
   "outputs": [],
   "source": [
    "# Who the FUCK is this guy coming in for the Washington Nationals?"
   ]
  },
  {
   "cell_type": "code",
   "execution_count": null,
   "id": "ac1f3c8f-d12f-4ff1-9e90-f190d01967c0",
   "metadata": {},
   "outputs": [],
   "source": [
    "# Did he play for the Cincinnati Reds at one point in his career?"
   ]
  },
  {
   "cell_type": "code",
   "execution_count": null,
   "id": "4739c5c7-8c0e-4d89-a6ca-597caeed04ae",
   "metadata": {},
   "outputs": [],
   "source": [
    "# Aaron Putnam values the interpersonal interactions, ya know"
   ]
  },
  {
   "cell_type": "code",
   "execution_count": null,
   "id": "09be11d1-1514-4d1a-9f42-b389b148743b",
   "metadata": {},
   "outputs": [],
   "source": [
    "# He is old school, he described perfectly what Ryan Gaskill was on to"
   ]
  },
  {
   "cell_type": "code",
   "execution_count": null,
   "id": "533a7682-2f5e-4e94-9891-98b0cecf8be0",
   "metadata": {},
   "outputs": [],
   "source": [
    "# That was such a wild fucking thing to do"
   ]
  },
  {
   "cell_type": "code",
   "execution_count": null,
   "id": "8b4b2a01-049d-488f-b8d6-6408cd2a052e",
   "metadata": {},
   "outputs": [],
   "source": [
    "# Like Gaskill was such a funny guy to have as a Fantasy Football League guy"
   ]
  },
  {
   "cell_type": "markdown",
   "id": "9a33631a-b8ea-4ebd-b141-61a409a744e1",
   "metadata": {},
   "source": [
    "## Baseball Savant Scraper Library"
   ]
  },
  {
   "cell_type": "code",
   "execution_count": null,
   "id": "8fe88db7-bc75-4e17-84ec-a106b4e6190b",
   "metadata": {},
   "outputs": [],
   "source": [
    "import baseball_scraper\n",
    "import pandas as pd\n",
    "import datetime"
   ]
  },
  {
   "cell_type": "markdown",
   "id": "fdf488ad-46dd-47a9-aacc-0c3f158716c6",
   "metadata": {},
   "source": [
    "### Gather Stacast Data"
   ]
  },
  {
   "cell_type": "markdown",
   "id": "0849d917-fd3c-4c38-856e-f74266be5b76",
   "metadata": {},
   "source": [
    "Pulls for all years of Stacast data"
   ]
  },
  {
   "cell_type": "code",
   "execution_count": null,
   "id": "43baf840-7db8-40eb-8ad4-17a6922a728e",
   "metadata": {},
   "outputs": [],
   "source": [
    "print(test.columns)"
   ]
  },
  {
   "cell_type": "code",
   "execution_count": null,
   "id": "a4ef2854-3429-49a1-bbdd-d6ee2e9d76b6",
   "metadata": {},
   "outputs": [],
   "source": [
    "data[data.game_date == data.game_date.max()]"
   ]
  },
  {
   "cell_type": "code",
   "execution_count": null,
   "id": "9de482b2-c91d-4d1d-aada-32feaadf047b",
   "metadata": {},
   "outputs": [],
   "source": [
    "for y in data.Year_KS.unique():\n",
    "    "
   ]
  },
  {
   "cell_type": "code",
   "execution_count": null,
   "id": "40eed20a-102c-42f6-a6db-af964e6a61c9",
   "metadata": {},
   "outputs": [],
   "source": [
    "data.groupby('Year_KS').agg({'game_date':'count'})"
   ]
  },
  {
   "cell_type": "code",
   "execution_count": null,
   "id": "17684d64-3411-428a-8f86-e0790f8279f3",
   "metadata": {
    "tags": []
   },
   "outputs": [],
   "source": [
    "#years = list(range(2015,2024))\n",
    "\n",
    "#data = pd.DataFrame()\n",
    "\n",
    "years = list(range(2015,2024))\n",
    "for y in years:\n",
    "    df = statcast(str(y)+'-01-01', str(y)+'-12-31') # Pull all stacast pitch data for a year in the list that I am providing\n",
    "    df['year'] = y # Assign that year as a column so I can key off later\n",
    "    data = pd.concat([data, df]) # Stick this year's data into our collection"
   ]
  },
  {
   "cell_type": "code",
   "execution_count": null,
   "id": "f314b974-b5df-4f6a-bc2a-2543be186415",
   "metadata": {},
   "outputs": [],
   "source": [
    "data.to_csv('Statcast Full History_08-26-2023.csv')"
   ]
  },
  {
   "cell_type": "code",
   "execution_count": null,
   "id": "0c8ecd82-42e6-41b4-bb49-c8c17281d6c1",
   "metadata": {},
   "outputs": [],
   "source": [
    "data[data.game_year != 2023].to_csv('Statcast 2015 to 2022.csv', index = None)"
   ]
  },
  {
   "cell_type": "markdown",
   "id": "fe2507f8-6506-499c-8a02-332908f1542a",
   "metadata": {},
   "source": [
    "#### Load History - Where The Magic Happens!"
   ]
  },
  {
   "cell_type": "markdown",
   "id": "ad2118a5-f7ff-4b98-9840-955a7b0e9a76",
   "metadata": {},
   "source": [
    "This chunk will:\n",
    "1. import pandas, the baseball_scraper, and datetime libraries <br>\n",
    "2. the current year, January 1st of the current year, Dec 31st of the current year, and the previous year <br>\n",
    "    get from today   construct using current year     construct using current year      subtract from current year <br>\n",
    "3. Loads the history based on a csv that is up through the previous year <br>\n",
    "    Pulled history once and wrote to a csv that will probably need updated at the end of the year <br>\n",
    "4. Scrapes the current statcast data from the start of the current year to the today <br>\n",
    "    This query will take a moment to complete <br>\n",
    "5. Combines history and current data"
   ]
  },
  {
   "cell_type": "code",
   "execution_count": null,
   "id": "06aeecb5-2094-4792-b377-b835c455b671",
   "metadata": {},
   "outputs": [],
   "source": [
    "import pandas as pd\n",
    "from baseball_scraper import statcast\n",
    "import datetime\n",
    "\n",
    "today = datetime.date.today()\n",
    "cy = today.year\n",
    "jan_1_cy = '{}-01-01'.format(str(cy))\n",
    "dec_31_cy = '{}-12-31'.format(str(cy))\n",
    "py = cy-1\n",
    "\n",
    "history = pd.read_csv('Statcast 2015 to {}.csv'.format(str(py)))\n",
    "current = statcast(jan_1_cy, dec_31_cy)\n",
    "\n",
    "data = pd.concat([history, current])"
   ]
  },
  {
   "cell_type": "code",
   "execution_count": null,
   "id": "b56da380-44d2-4c65-a82f-0fa1237a8890",
   "metadata": {},
   "outputs": [],
   "source": [
    "data.tail(1)[['player_name', 'batter', 'pitcher', 'pitcher.1']]"
   ]
  },
  {
   "cell_type": "code",
   "execution_count": null,
   "id": "d28786a9-8648-4168-890b-a45f7a2e6fc8",
   "metadata": {},
   "outputs": [],
   "source": [
    "print(data.columns)"
   ]
  },
  {
   "cell_type": "code",
   "execution_count": null,
   "id": "d2b4a1a0-1735-4e4c-bc08-2ccad59b7655",
   "metadata": {},
   "outputs": [],
   "source": []
  },
  {
   "cell_type": "code",
   "execution_count": null,
   "id": "d442cc4b-c805-4d4c-a3ab-e38960836b08",
   "metadata": {},
   "outputs": [],
   "source": []
  },
  {
   "cell_type": "code",
   "execution_count": null,
   "id": "997788b1-6132-47e8-b235-4f88bb531f31",
   "metadata": {},
   "outputs": [],
   "source": []
  },
  {
   "cell_type": "markdown",
   "id": "a4eb9e52-64bd-4b43-a4aa-08b23b919ffb",
   "metadata": {},
   "source": [
    "### Get Team and Player Data"
   ]
  },
  {
   "cell_type": "markdown",
   "id": "563fabd3-b4e1-48ac-ba7e-f386d2c459e6",
   "metadata": {},
   "source": [
    "Get Player Id and Team Id Reference Tables"
   ]
  },
  {
   "cell_type": "markdown",
   "id": "2881843c-7719-4fd0-ade3-4c05730e5ca2",
   "metadata": {},
   "source": [
    "# Team IDs: PHL - 143, STL - 135"
   ]
  },
  {
   "cell_type": "code",
   "execution_count": null,
   "id": "eb75161b-8081-4e84-83a8-eda49f1efbdf",
   "metadata": {},
   "outputs": [],
   "source": [
    "teams = [{'Team' : 'Los Angeles Angels', 'Team ID' : 108}\n",
    "         ,{'Team' : 'Houston Astros', 'Team ID' : 117}\n",
    "         ,{'Team' : 'Oakland Athletics', 'Team ID' : 133}\n",
    "         ,{'Team' : 'Toronto Blue Jays', 'Team ID' : 141}\n",
    "         ,{'Team' : 'Atlanta Braves', 'Team ID' : 144}\n",
    "         ,{'Team' : 'Milwaukee Brewers', 'Team ID' : 158}\n",
    "         ,{'Team' : 'St. Louis Cardinals', 'Team ID' : 138}\n",
    "         ,{'Team' : 'Chicago Cubs', 'Team ID' : 112}\n",
    "         ,{'Team' : 'Arizona Diamondbacks', 'Team ID' : 109}\n",
    "         ,{'Team' : 'Los Angeles Dodgers', 'Team ID' : 119}\n",
    "         ,{'Team' : 'San Francisco Giants', 'Team ID' : 137}\n",
    "         ,{'Team' : 'Cleveland Guardians', 'Team ID' : 114}\n",
    "         ,{'Team' : 'Seattle Mariners', 'Team ID' : 136}\n",
    "         ,{'Team' : 'Miami Marlins', 'Team ID' : 146}\n",
    "         ,{'Team' : 'New York Mets', 'Team ID' : 121}\n",
    "         ,{'Team' : 'Washington Nationals', 'Team ID' : 120}\n",
    "         ,{'Team' : 'Baltimore Orioles', 'Team ID' : 110}\n",
    "         ,{'Team' : 'San Diego Padres', 'Team ID' : 135}\n",
    "         ,{'Team' : 'Philadelphia Phillies', 'Team ID' : 143}\n",
    "         ,{'Team' : 'Pittsburgh Pirates', 'Team ID' : 134}\n",
    "         ,{'Team' : 'Texas Rangers', 'Team ID' : 140}\n",
    "         ,{'Team' : 'Tampa Bay Rays', 'Team ID' : 139}\n",
    "         ,{'Team' : 'Boston Red Sox', 'Team ID' : 111}\n",
    "         ,{'Team' : 'Cincinnati Reds', 'Team ID' : 113}\n",
    "         ,{'Team' : 'Colorado Rockies', 'Team ID' : 115}\n",
    "         ,{'Team' : 'Kansas City Royals', 'Team ID' : 118}\n",
    "         ,{'Team' : 'Detroit Tigers', 'Team ID' : 116}\n",
    "         ,{'Team' : 'Minnesota Twins', 'Team ID' : 142}\n",
    "         ,{'Team' : 'Chicago White Sox', 'Team ID' : 145}\n",
    "         ,{'Team' : 'New York Yankees', 'Team ID' : 147}\n",
    "        ]\n",
    "teams = pd.DataFrame(teams)\n",
    "\n",
    "phillies = 'Philadelphia Phillies'\n",
    "opponent = 'Los Angeles Angels'"
   ]
  },
  {
   "cell_type": "code",
   "execution_count": null,
   "id": "1baa99e6-bb72-4e5f-96a7-616a147e33a3",
   "metadata": {},
   "outputs": [],
   "source": [
    "philsgame_team_ids = list(teams[teams.Team.isin([phillies, opponent ])]['Team ID'])"
   ]
  },
  {
   "cell_type": "markdown",
   "id": "c2d6dd81-010c-431f-80c6-bb6e544401ce",
   "metadata": {},
   "source": [
    "## Player Lookup Table Grabbed From Internet"
   ]
  },
  {
   "cell_type": "code",
   "execution_count": null,
   "id": "b2e1f572-eb38-407c-8d9f-9df0ac9fd951",
   "metadata": {},
   "outputs": [],
   "source": [
    "players = pd.read_csv('SFBB Player ID Map - PLAYERIDMAP.csv')\n",
    "player_lookup_source = 'https://www.smartfantasybaseball.com/tools/'"
   ]
  },
  {
   "cell_type": "code",
   "execution_count": null,
   "id": "6751ecd4-ada2-47a6-ba8c-29bbe922e51d",
   "metadata": {},
   "outputs": [],
   "source": [
    "phillies_lineup = ['Kyle Schwarber'\n",
    "                   ,'Trea Turner'\n",
    "                   ,'Nick Castellanos'\n",
    "                   ,'Bryce Harper'\n",
    "                   ,'Alec Bohm'\n",
    "                   ,'Bryson Stott'\n",
    "                   ,'J.T. Realmuto'\n",
    "                   ,'Jake Cave'\n",
    "                   ,'Brandon Marsh'\n",
    "                  ]"
   ]
  },
  {
   "cell_type": "code",
   "execution_count": null,
   "id": "4b803c0e-7403-4ffd-94c1-2310d60ff9f1",
   "metadata": {},
   "outputs": [],
   "source": [
    "lineup_ids = players[players.PLAYERNAME.isin(phillies_lineup)].MLBID"
   ]
  },
  {
   "cell_type": "code",
   "execution_count": null,
   "id": "680fdad5-36ad-4278-8527-7eca025423a7",
   "metadata": {},
   "outputs": [],
   "source": [
    "players[players.PLAYERNAME.isin(phillies_lineup)][['PLAYERNAME','MLBID']]"
   ]
  },
  {
   "cell_type": "code",
   "execution_count": null,
   "id": "5bd3d26f-02af-42e8-938d-8708fb456368",
   "metadata": {},
   "outputs": [],
   "source": [
    "phillies_batters = data[data.batter.isin(lineup_ids)]"
   ]
  },
  {
   "cell_type": "code",
   "execution_count": null,
   "id": "886502a7-b2e0-45db-8bc3-95afa7e3a8c8",
   "metadata": {},
   "outputs": [],
   "source": [
    "schwarber = phillies_batters[phillies_batters.batter == 656941]"
   ]
  },
  {
   "cell_type": "code",
   "execution_count": null,
   "id": "de309361-cf4c-42c5-838c-dd51e1aeef1a",
   "metadata": {},
   "outputs": [],
   "source": [
    "schwarber.game_date = pd.to_datetime(schwarber.game_date)"
   ]
  },
  {
   "cell_type": "code",
   "execution_count": null,
   "id": "52ed2db7-d8ff-43c0-a733-f57099ca9241",
   "metadata": {},
   "outputs": [],
   "source": [
    "print(schwarber.columns)"
   ]
  },
  {
   "cell_type": "code",
   "execution_count": null,
   "id": "cb6510ae-b9ff-4d89-8cfd-6f74fba604b1",
   "metadata": {},
   "outputs": [],
   "source": [
    "pitchers = players[players['PLAYERNAME'].isin(['Taijuan Walker', 'Lucas Giolito'])][['PLAYERNAME', 'MLBID']]"
   ]
  },
  {
   "cell_type": "code",
   "execution_count": null,
   "id": "f09bc64b-88e8-45e0-968c-f614069b38ea",
   "metadata": {},
   "outputs": [],
   "source": [
    "pitcher_data = data[data.pitcher.isin(pitchers.MLBID)]"
   ]
  },
  {
   "cell_type": "code",
   "execution_count": null,
   "id": "f992ce7c-d5ae-46eb-b41b-93f29fecd65d",
   "metadata": {},
   "outputs": [],
   "source": [
    "giolito = pitcher_data[pitcher_data.pitcher == 608337]"
   ]
  },
  {
   "cell_type": "code",
   "execution_count": null,
   "id": "b9ea86ef-d5b5-437b-a4bb-368e7bec35d7",
   "metadata": {},
   "outputs": [],
   "source": [
    "print(data.columns)"
   ]
  },
  {
   "cell_type": "code",
   "execution_count": null,
   "id": "a15561d6-2fee-41c1-82ec-4a85237abad1",
   "metadata": {},
   "outputs": [],
   "source": [
    "giolito[(giolito.game_year == 2023)].batting_team.unique()"
   ]
  },
  {
   "cell_type": "code",
   "execution_count": null,
   "id": "2834138d-c663-4e75-b41e-8aab0d0968b1",
   "metadata": {},
   "outputs": [],
   "source": [
    "giolito_vs_cave = "
   ]
  },
  {
   "cell_type": "code",
   "execution_count": null,
   "id": "aed04236-f903-49f5-929d-93c76ad75d24",
   "metadata": {},
   "outputs": [],
   "source": []
  },
  {
   "cell_type": "code",
   "execution_count": null,
   "id": "45c61041-a3a5-4649-9bf3-d31a3444fa20",
   "metadata": {},
   "outputs": [],
   "source": []
  },
  {
   "cell_type": "code",
   "execution_count": null,
   "id": "d3726d8b-ad89-4449-a1ff-706c7384c4f0",
   "metadata": {
    "tags": []
   },
   "outputs": [],
   "source": [
    "walker = data[data.pitcher == 592836]"
   ]
  },
  {
   "cell_type": "code",
   "execution_count": null,
   "id": "ccaa9df2-b302-45dc-9eb4-8f32082ba387",
   "metadata": {},
   "outputs": [],
   "source": [
    "angels_lineup = ['Nolan Schanuel'\n",
    "                 ,'Shohei Ohtani'\n",
    "                 ,'Brandon Drury'\n",
    "                 ,'Mike Moustakas'\n",
    "                 ,'Luis Rengifo'\n",
    "                 ,'Mickey Moniak'\n",
    "                 ,\"Logan O'Hoppe\"\n",
    "                 ,'Trey Cabbage'\n",
    "                 ,'Randal Grichuk'\n",
    "                ]"
   ]
  },
  {
   "cell_type": "code",
   "execution_count": null,
   "id": "4c1bf368-dcaa-4666-b8a2-307bf438016f",
   "metadata": {},
   "outputs": [],
   "source": [
    "angels_ids = players[players.PLAYERNAME.isin(angels_lineup)].MLBID"
   ]
  },
  {
   "cell_type": "code",
   "execution_count": null,
   "id": "927c836e-4d59-4a36-bf0c-f910a7d736af",
   "metadata": {},
   "outputs": [],
   "source": [
    "players[players.PLAYERNAME == 'Craig Kimbrel'].MLBID"
   ]
  },
  {
   "cell_type": "code",
   "execution_count": null,
   "id": "ffa74446-68bf-45ed-8170-4a62fd9c8a60",
   "metadata": {},
   "outputs": [],
   "source": [
    "data[(data.game_year == 2023) & (data.pitcher == 518886)].game_date.unique()"
   ]
  },
  {
   "cell_type": "code",
   "execution_count": null,
   "id": "5f544c71-8ab3-4a4a-a357-0ddf28a0e771",
   "metadata": {},
   "outputs": [],
   "source": [
    "data[(data.game_year == 2023)].game_date.unique()"
   ]
  },
  {
   "cell_type": "code",
   "execution_count": null,
   "id": "8a55040d-c58e-4bb7-b887-9735cfe69d51",
   "metadata": {},
   "outputs": [],
   "source": [
    "data.groupby('game_date').agg({'game_date' : 'count'})"
   ]
  },
  {
   "cell_type": "code",
   "execution_count": null,
   "id": "4f449e91-849b-4209-ba54-218c66a9a9a0",
   "metadata": {},
   "outputs": [],
   "source": [
    "data.groupby('game_year').agg({'game_date' : 'count'})"
   ]
  },
  {
   "cell_type": "markdown",
   "id": "3df62e00-aeb5-4f98-b69c-920b528f6dbe",
   "metadata": {},
   "source": []
  },
  {
   "cell_type": "markdown",
   "id": "58c50d6e-1fb0-4dfd-be5f-dd90506aee4a",
   "metadata": {},
   "source": [
    "## Grandma Short died today."
   ]
  },
  {
   "cell_type": "markdown",
   "id": "04911494-77ec-46ff-8a12-15b14b8353fb",
   "metadata": {
    "tags": []
   },
   "source": [
    "# Mercy"
   ]
  },
  {
   "cell_type": "code",
   "execution_count": null,
   "id": "aee9e1eb-e9b9-4a66-ad8c-7125d06d9d7c",
   "metadata": {},
   "outputs": [],
   "source": [
    "import pandas as pd\n",
    "import os\n",
    "import glob"
   ]
  },
  {
   "cell_type": "code",
   "execution_count": null,
   "id": "ba96834c-4e0f-47a9-adde-2eb18c5c3415",
   "metadata": {},
   "outputs": [],
   "source": [
    "phillies_batting_history = pd.read_csv('Phillies Batting History.csv')"
   ]
  },
  {
   "cell_type": "code",
   "execution_count": null,
   "id": "a202f7b0-6c5c-4d5c-b544-1b02c4fbb8e5",
   "metadata": {},
   "outputs": [],
   "source": [
    "phillies_batting_history.game_date.min()"
   ]
  },
  {
   "cell_type": "markdown",
   "id": "302e6c69-34c9-4279-b78a-6189040a0264",
   "metadata": {},
   "source": [
    "# Phillies Defense"
   ]
  },
  {
   "cell_type": "markdown",
   "id": "5e94bbd8-c122-410c-8c3c-51bb5aac019a",
   "metadata": {},
   "source": [
    "## Lorenzen vs Padres"
   ]
  },
  {
   "cell_type": "code",
   "execution_count": null,
   "id": "b54d61e6-1df0-42e1-82f1-7a47d2a91bce",
   "metadata": {},
   "outputs": [],
   "source": [
    "import pandas as pd\n",
    "lorenzen = pd.read_csv('savant_data (1).csv')"
   ]
  },
  {
   "cell_type": "code",
   "execution_count": null,
   "id": "a0203159-9953-46fb-b2b4-d4249c17df06",
   "metadata": {},
   "outputs": [],
   "source": [
    "print(lorenzen.columns)"
   ]
  },
  {
   "cell_type": "code",
   "execution_count": null,
   "id": "bd7571d9-6ae8-44fe-816c-5fce251c0123",
   "metadata": {},
   "outputs": [],
   "source": [
    "lorenzen[lorenzen.player_name == 'Carpenter, Matt']"
   ]
  },
  {
   "cell_type": "code",
   "execution_count": null,
   "id": "626b5303-9b06-41fb-80b1-ffc659440b43",
   "metadata": {
    "tags": []
   },
   "outputs": [],
   "source": [
    "lorenzen.groupby('player_name').agg({'pitch_type' : 'count'}).sort_values()"
   ]
  },
  {
   "cell_type": "code",
   "execution_count": null,
   "id": "0b4d39a3-7017-4a25-ade3-ef091921de81",
   "metadata": {},
   "outputs": [],
   "source": [
    "lorenzen.player_name.unique()"
   ]
  },
  {
   "cell_type": "code",
   "execution_count": null,
   "id": "ca3fa4f9-72ad-4085-9358-1220d691bdec",
   "metadata": {},
   "outputs": [],
   "source": [
    "bip = lorenzen[lorenzen.description.isin(['hit_into_play'])]\n"
   ]
  },
  {
   "cell_type": "code",
   "execution_count": null,
   "id": "b5595b64-0174-42d0-a97f-377fcfa78b37",
   "metadata": {},
   "outputs": [],
   "source": [
    "lorenzen.groupby(description).agg({'"
   ]
  },
  {
   "cell_type": "code",
   "execution_count": null,
   "id": "7e06279f-150a-49fe-8722-e0c920626234",
   "metadata": {},
   "outputs": [],
   "source": [
    "lorenzen[lorenzen.player_name == 'Soto, Juan']"
   ]
  },
  {
   "cell_type": "code",
   "execution_count": null,
   "id": "18ae32ef-ea35-4652-80bf-244a9f1287a9",
   "metadata": {},
   "outputs": [],
   "source": []
  },
  {
   "cell_type": "code",
   "execution_count": null,
   "id": "c2f4455d-e00d-44d7-8efa-3501fbe38015",
   "metadata": {},
   "outputs": [],
   "source": []
  },
  {
   "cell_type": "markdown",
   "id": "7030c383-6a25-4401-a342-06bb6a855010",
   "metadata": {},
   "source": [
    "# Phillies Offense"
   ]
  },
  {
   "cell_type": "markdown",
   "id": "f109ede0-a078-4555-93a6-c9050c6fccf1",
   "metadata": {},
   "source": [
    "## Campusano Catching"
   ]
  },
  {
   "cell_type": "code",
   "execution_count": null,
   "id": "86cc99f1-a697-4306-83be-892ecd6089b8",
   "metadata": {},
   "outputs": [],
   "source": [
    "import pandas as pd"
   ]
  },
  {
   "cell_type": "code",
   "execution_count": null,
   "id": "51774b9d-4796-49d9-997d-a076d3e8a03f",
   "metadata": {},
   "outputs": [],
   "source": [
    "campusano = pd.read_csv('')"
   ]
  },
  {
   "cell_type": "code",
   "execution_count": null,
   "id": "2ffa83ec-9cd8-4354-b611-0615a41b8f3e",
   "metadata": {},
   "outputs": [],
   "source": []
  },
  {
   "cell_type": "markdown",
   "id": "6394d9ce-ccc1-4be1-a52a-69544a435ba4",
   "metadata": {},
   "source": [
    "# Braves Series"
   ]
  },
  {
   "cell_type": "code",
   "execution_count": null,
   "id": "9c2d2cda-c6ee-4b5a-8bee-8347f66c1af0",
   "metadata": {},
   "outputs": [],
   "source": [
    "import pandas as pd\n",
    "import glob\n",
    "import os"
   ]
  },
  {
   "cell_type": "code",
   "execution_count": null,
   "id": "c5a6dc0d-7aa3-4e3e-a3bb-38c4fbc49977",
   "metadata": {},
   "outputs": [],
   "source": [
    "data = pd.read_csv('braves.csv')\n",
    "player_ids = pd.read_csv('SFBB Player ID Map - PLAYERIDMAP.csv')"
   ]
  },
  {
   "cell_type": "code",
   "execution_count": null,
   "id": "da53dc8d-a6d3-483c-a507-f2ec86acd491",
   "metadata": {},
   "outputs": [],
   "source": [
    "wheeler = data[data.pitcher == 554430] # Zack Wheeler\n",
    "fried = data[data.pitcher == 608331] # Max Fried"
   ]
  },
  {
   "cell_type": "code",
   "execution_count": null,
   "id": "9cd2bc8d-cbea-46b3-8aa9-0bdf76029e0a",
   "metadata": {},
   "outputs": [],
   "source": [
    "strider = data[data.pitcher == 554430] # Spencer Strider\n",
    "sanchez = data[data.pitcher == 608331] # Cristopher Sanchez"
   ]
  },
  {
   "cell_type": "code",
   "execution_count": null,
   "id": "d96b2a0f-286b-4b65-a4fa-c425c7b357ea",
   "metadata": {},
   "outputs": [],
   "source": [
    "phillies_relievers = data[data.pitcher.isin(phillies_relievers)] # Phillies Relievers\n",
    "braves_relievers = data[data.pitcher.isin(braves_srelievers)] # Braves Relievers"
   ]
  },
  {
   "cell_type": "code",
   "execution_count": null,
   "id": "3d311ea5-582e-4483-95e4-0ac80b0b4556",
   "metadata": {},
   "outputs": [],
   "source": [
    "phillies_defense = data[data.1b.isin([phillies_lineup"
   ]
  },
  {
   "cell_type": "code",
   "execution_count": null,
   "id": "3d55fdfb-9b07-4fbb-bbb2-c88c3002137b",
   "metadata": {},
   "outputs": [],
   "source": [
    "braves_batters"
   ]
  },
  {
   "cell_type": "code",
   "execution_count": null,
   "id": "64378b42-daab-4a99-9cb7-b8d82469a156",
   "metadata": {},
   "outputs": [],
   "source": []
  },
  {
   "cell_type": "code",
   "execution_count": null,
   "id": "56617139-dad5-47f9-a675-c5a23fe77ee2",
   "metadata": {},
   "outputs": [],
   "source": [
    "phillies_batters.batter == phillies_batters[player_ids.PLAYERNAME.isin('Alec Bohm')]"
   ]
  },
  {
   "cell_type": "code",
   "execution_count": null,
   "id": "099894b8-9d61-4102-9ddf-afdbcd991468",
   "metadata": {},
   "outputs": [],
   "source": [
    "harper = phillies_batters[phillies_batters.PLAYAERNAME == 'Bryce Harper']"
   ]
  },
  {
   "cell_type": "code",
   "execution_count": null,
   "id": "13b2c89a-c438-48d3-a57d-e017f892285b",
   "metadata": {},
   "outputs": [],
   "source": [
    "phillies_lineup = ['Kyle Schwarber'\n",
    "                   ,'Trea Turner'\n",
    "                   ,'Nick Castellanos'\n",
    "                   ,'Bryce Harper'\n",
    "                   ,'Alec Bohm'\n",
    "                   ,'Bryson Stott'\n",
    "                   ,'J.T. Realmuto'\n",
    "                   ,'Jake Cave'\n",
    "                   ,'Brandon Marsh'\n",
    "                   ,'Johan Rojas'\n",
    "                  ]\n",
    "\n",
    "lineup_ids = player_ids[player_ids.PLAYERNAME.isin(phillies_lineup)].MLBID\n",
    "phillies_batters = data[data.batter.isin(lineup_ids)]"
   ]
  },
  {
   "cell_type": "code",
   "execution_count": null,
   "id": "bd8458af-2b4b-4c04-bc44-705c2a9bea8f",
   "metadata": {},
   "outputs": [],
   "source": [
    "braves_lineup = ['Ronald Acuna Jr.'\n",
    "                   ,'Ozzie Albies'\n",
    "                   ,'Austin Riley'\n",
    "                   ,'Matt Olson'\n",
    "                   ,'Sean Murphy'\n",
    "                   ,'Marcell Ozuna'\n",
    "                   ,'Michael Harris II'\n",
    "                   ,'Eddy Lewis'\n",
    "                   ,'Luke Williams'\n",
    "                   ,\"Travis d'Arnaud\"\n",
    "                  ]\n",
    "\n",
    "lineup_ids = player_ids[player_ids.PLAYERNAME.isin(braves_lineup)].MLBID\n",
    "braves_batters = data[data.batter.isin(lineup_ids)]"
   ]
  },
  {
   "cell_type": "code",
   "execution_count": null,
   "id": "9d5af87f-be5e-4f54-acbd-7fe3468e4938",
   "metadata": {},
   "outputs": [],
   "source": [
    "strider = phillies_batters[phillies_batters['player_name'] == 'Strider, Spencer']"
   ]
  },
  {
   "cell_type": "code",
   "execution_count": null,
   "id": "da34795d-3611-44e3-a918-5264f0000e62",
   "metadata": {},
   "outputs": [],
   "source": [
    "phillies_batters[player_ids[player_ids.PLAYERNAME == 'Bryson Stott'].MLBID"
   ]
  },
  {
   "cell_type": "code",
   "execution_count": null,
   "id": "14e11b9e-2829-447d-b24b-d4d5e672c93f",
   "metadata": {},
   "outputs": [],
   "source": [
    "batter_strider = phillies_batters.player_name == 'Spencer Strider'"
   ]
  },
  {
   "cell_type": "code",
   "execution_count": null,
   "id": "1fe9ba39-7e6d-4377-9cd0-0e4a0c8d11e7",
   "metadata": {},
   "outputs": [],
   "source": [
    "strider"
   ]
  },
  {
   "cell_type": "code",
   "execution_count": null,
   "id": "668f7d60-777b-4917-9f2a-6d7716f2af6f",
   "metadata": {},
   "outputs": [],
   "source": []
  },
  {
   "cell_type": "code",
   "execution_count": null,
   "id": "c7a7ff40-adbd-45cf-a5fa-0b730797edd4",
   "metadata": {},
   "outputs": [],
   "source": []
  },
  {
   "cell_type": "code",
   "execution_count": null,
   "id": "3ee0ebfe-f8dd-4da7-b15d-c9c424b9e085",
   "metadata": {},
   "outputs": [],
   "source": [
    "braves_batters[braves_batters.player_name == 'Sanchez, Cristopher'])"
   ]
  },
  {
   "cell_type": "code",
   "execution_count": null,
   "id": "e0e336c5-4be2-4272-b576-c7e362a50c27",
   "metadata": {},
   "outputs": [],
   "source": [
    "player_ids[player_ids['FIRSTNAME'] == 'Orlando'].mlbamid"
   ]
  },
  {
   "cell_type": "code",
   "execution_count": null,
   "id": "815a0326-f756-454b-88cc-8ac36030536b",
   "metadata": {},
   "outputs": [],
   "source": [
    "braves"
   ]
  },
  {
   "cell_type": "code",
   "execution_count": null,
   "id": "e5dd289c-4637-406c-af8c-665cc077b8c3",
   "metadata": {},
   "outputs": [],
   "source": [
    "645261_data"
   ]
  },
  {
   "cell_type": "code",
   "execution_count": null,
   "id": "a138cc30-6111-49d2-aa5b-c5beafa464b2",
   "metadata": {},
   "outputs": [],
   "source": []
  },
  {
   "cell_type": "markdown",
   "id": "798094e7-4408-40dc-8015-a0653b514bee",
   "metadata": {},
   "source": [
    "## Mets"
   ]
  },
  {
   "cell_type": "code",
   "execution_count": null,
   "id": "1b8ddfc9-21c6-4797-946b-ebd7855ef27e",
   "metadata": {},
   "outputs": [],
   "source": [
    "import pandas as pd\n",
    "\n",
    "pitchers = pd.read_csv('2023-09-22_pitcher_data.csv')\n",
    "batters = pd.read_csv('2023-09-22_batter_data.csv')"
   ]
  },
  {
   "cell_type": "code",
   "execution_count": null,
   "id": "669f0ab3-de7b-47d5-8404-9178d929ea21",
   "metadata": {},
   "outputs": [],
   "source": [
    "soto = pitchers[pitchers['player_name'] == 'Soto, Gregory']"
   ]
  },
  {
   "cell_type": "code",
   "execution_count": null,
   "id": "5923d948-b28a-4686-9594-a98b1b864ad2",
   "metadata": {},
   "outputs": [],
   "source": [
    "print(soto.columns)"
   ]
  },
  {
   "cell_type": "code",
   "execution_count": null,
   "id": "15e7ba7e-2bba-4f52-ad15-6db732a323db",
   "metadata": {},
   "outputs": [],
   "source": [
    "soto.groupby('batter').agg({'pitch_type' : 'count', 'estimated_ba_using_speedangle' : 'mean'}).sort_values(by = 'pitch_type', ascending = False).head(25)"
   ]
  },
  {
   "cell_type": "code",
   "execution_count": null,
   "id": "d26ec333-9f10-46d4-b996-dc744eb4b636",
   "metadata": {},
   "outputs": [],
   "source": [
    "smith = pitchers[pitchers.player_name == 'Smith, Drew']"
   ]
  },
  {
   "cell_type": "code",
   "execution_count": null,
   "id": "222cf8de-d3ba-40de-b7a5-b3015d6ad5d2",
   "metadata": {},
   "outputs": [],
   "source": [
    "batter_ids = pd.read_csv('2023-09-22_batter_ids.csv')"
   ]
  },
  {
   "cell_type": "code",
   "execution_count": null,
   "id": "96e5dec7-b57a-4abe-b6fc-25ffc957332b",
   "metadata": {},
   "outputs": [],
   "source": [
    "batter_ids[batter_ids.name_last.isin(['stott','realmuto','castellanos','marsh', 'rojas'])]"
   ]
  },
  {
   "cell_type": "code",
   "execution_count": null,
   "id": "3dced380-f0df-4c2d-a4d5-82090e71ad58",
   "metadata": {},
   "outputs": [],
   "source": [
    "batter_ids"
   ]
  },
  {
   "cell_type": "code",
   "execution_count": null,
   "id": "ac812682-65af-4db1-a270-1fdb5054f872",
   "metadata": {},
   "outputs": [],
   "source": [
    "smith"
   ]
  },
  {
   "cell_type": "code",
   "execution_count": null,
   "id": "bc500ad3-6314-48aa-ba6f-708cfd9cf8cf",
   "metadata": {},
   "outputs": [],
   "source": [
    "kimbrel = pitchers[pitchers.player_name == 'Kimbrel, Craig']"
   ]
  },
  {
   "cell_type": "code",
   "execution_count": null,
   "id": "b620e185-6f47-4b3c-b878-d061481198d1",
   "metadata": {},
   "outputs": [],
   "source": [
    "kimbrel"
   ]
  },
  {
   "cell_type": "code",
   "execution_count": null,
   "id": "2409af27-6c24-4333-b359-fe12be4c8ab6",
   "metadata": {},
   "outputs": [],
   "source": [
    "print(kimbrel.columns)"
   ]
  },
  {
   "cell_type": "code",
   "execution_count": null,
   "id": "963f768e-88a1-47d1-8aec-be74d815757e",
   "metadata": {},
   "outputs": [],
   "source": [
    "kimbrel.groupby('pitch_name').agg{'pitch_name' : 'count'}/len(kimbrel)"
   ]
  },
  {
   "cell_type": "code",
   "execution_count": null,
   "id": "20d7b1a2-8261-45da-9ede-d752ec4aab6f",
   "metadata": {},
   "outputs": [],
   "source": [
    "raley = pitchers[pitchers.player_name == 'Raley, Brooks']"
   ]
  },
  {
   "cell_type": "code",
   "execution_count": null,
   "id": "b43b5291-de9c-47f0-960d-343d43c591d8",
   "metadata": {},
   "outputs": [],
   "source": []
  },
  {
   "cell_type": "code",
   "execution_count": null,
   "id": "aca8ae2d-58b3-47c4-ba5b-a398f7b463cd",
   "metadata": {},
   "outputs": [],
   "source": [
    "raley.groupby('stand').agg({'estimated_ba_using_speedangle' : 'mean'})"
   ]
  },
  {
   "cell_type": "code",
   "execution_count": null,
   "id": "acc5a6ed-08e2-4a5e-a0d7-15f00de1b5f9",
   "metadata": {},
   "outputs": [],
   "source": [
    "raley.stand.unique()"
   ]
  },
  {
   "cell_type": "code",
   "execution_count": null,
   "id": "5c275f2b-6dfd-48e8-8e6d-b96958d46a50",
   "metadata": {},
   "outputs": [],
   "source": [
    "for c in raley.columns:\n",
    "    print(c)\n",
    "    print(raley[c].iloc[0])"
   ]
  },
  {
   "cell_type": "code",
   "execution_count": null,
   "id": "a4096e3d-899f-4d06-9976-83c919445a33",
   "metadata": {},
   "outputs": [],
   "source": [
    "raley.agg({'"
   ]
  },
  {
   "cell_type": "code",
   "execution_count": null,
   "id": "5aa442d8-460c-4224-a1f8-077300f0f67a",
   "metadata": {},
   "outputs": [],
   "source": []
  },
  {
   "cell_type": "code",
   "execution_count": null,
   "id": "cc4aba07-3ccd-41dc-8bd7-ead7ed16488f",
   "metadata": {},
   "outputs": [],
   "source": [
    "seranthony = pitchers[pitchers.player_name == 'Dominguez, Seranthony']"
   ]
  },
  {
   "cell_type": "code",
   "execution_count": null,
   "id": "8c72bad6-95e3-41e0-92e7-e1b83757e130",
   "metadata": {},
   "outputs": [],
   "source": [
    "pitcher_ids = pd.read_csv('2023-09-22_pitcher_ids.csv')"
   ]
  },
  {
   "cell_type": "code",
   "execution_count": null,
   "id": "05e206ec-1f2e-4379-a79c-e250ed2e8215",
   "metadata": {},
   "outputs": [],
   "source": [
    "seranthony = pitchers[pitchers.pitcher == 622554]"
   ]
  },
  {
   "cell_type": "code",
   "execution_count": null,
   "id": "766a16ca-4003-48c3-8251-ca2bd92735f4",
   "metadata": {},
   "outputs": [],
   "source": [
    "seranthony.agg({'estimated_ba_using_speedangle' : 'mean', '})"
   ]
  },
  {
   "cell_type": "code",
   "execution_count": null,
   "id": "55f4c590-a63c-4a8d-a102-8ad763a7ea49",
   "metadata": {},
   "outputs": [],
   "source": [
    "print(seranthony.columns)"
   ]
  },
  {
   "cell_type": "code",
   "execution_count": null,
   "id": "b9bc5e1b-df42-4ba7-928c-1a2c53ac5cb6",
   "metadata": {},
   "outputs": [],
   "source": [
    "pitcher_ids"
   ]
  },
  {
   "cell_type": "code",
   "execution_count": null,
   "id": "2371753c-adf1-4512-a14d-5af852f27d89",
   "metadata": {},
   "outputs": [],
   "source": [
    "batters"
   ]
  },
  {
   "cell_type": "code",
   "execution_count": null,
   "id": "1f398a94-490c-4e3f-8115-ed257c25da7f",
   "metadata": {},
   "outputs": [],
   "source": []
  },
  {
   "cell_type": "code",
   "execution_count": null,
   "id": "6f3d67d3-8fd0-4cda-9a0b-9f4bc101594d",
   "metadata": {},
   "outputs": [],
   "source": []
  },
  {
   "cell_type": "markdown",
   "id": "545b6bcd-e454-467d-a13c-0a32dbcf0f36",
   "metadata": {},
   "source": [
    "# THIS is the Algorithm, Eduardo!"
   ]
  },
  {
   "cell_type": "markdown",
   "id": "497e52a3-8da6-440d-b9cc-f3f5378c8082",
   "metadata": {},
   "source": [
    "I want to study want Michael Imburgio and Sam Goldberg (?) did to classify players using deep learning or some shit <br>\n",
    "I can classify baseball players as archetypes and that will help me to compare players to each other? <br>\n",
    "This way I can see how a batter matches up to this archetype of pitcher even if they have not faced this exact pitcher before <br>\n",
    "This is also relevant because players change their approach. So is Mike Lorenzen in 2023 the SP for the Phillies the same guy who JT Realmuto faced in 2016 in a random Marlins vs Reds game?"
   ]
  },
  {
   "cell_type": "markdown",
   "id": "e4f0db73-d0db-42d3-9e9c-2cf041bd8a50",
   "metadata": {},
   "source": [
    "There is value in knowing what is currently happening, but that is really difficult."
   ]
  },
  {
   "cell_type": "markdown",
   "id": "c0842bad-558c-4da0-ad14-7710e1d8b31d",
   "metadata": {},
   "source": [
    "Instead, statisticians and economists study what happened in the past?"
   ]
  },
  {
   "cell_type": "markdown",
   "id": "aa676a5f-0635-431a-9cd8-daf4d52f6cda",
   "metadata": {},
   "source": [
    "I want to think in the now."
   ]
  },
  {
   "cell_type": "code",
   "execution_count": null,
   "id": "44246ac2-4ece-48e8-92ec-b9b7a052ae94",
   "metadata": {},
   "outputs": [],
   "source": []
  },
  {
   "cell_type": "markdown",
   "id": "f83b931a-4d8a-4ace-8465-330f1c6eb65f",
   "metadata": {},
   "source": [
    "## Phillies Playoff Preparations"
   ]
  },
  {
   "cell_type": "code",
   "execution_count": null,
   "id": "af72853e-ce9c-4d9d-88a6-f29a71bdc4e8",
   "metadata": {},
   "outputs": [],
   "source": [
    "import pandas as pd\n",
    "import numpy as np\n",
    "import matplotlib.pyplot as plt\n",
    "\n",
    "# Get all the data in\n",
    "pl2023 = pd.read_csv('phillies lineup_2023.csv')\n",
    "pb2023 = pd.read_csv('phillies bench_2023.csv')\n",
    "b_playoff = pd.read_csv('phillies batters_playoff history.csv')\n",
    "phils_batters_nlwc_nlds = pd.read_csv('phils_batters_nlwc_nlds.csv')\n",
    "ps2023 = pd.read_csv('phillies starters_2023.csv')\n",
    "pr2023 = pd.read_csv('phillies relievers_2023.csv')\n",
    "p_playoff = pd.read_csv('phillies pitchers_playoff history.csv')\n",
    "phils_pitchers_nlwc_nlds = pd.read_csv('phils_pitchers_nlwc_nlds.csv')\n",
    "jean = pd.read_csv('segura_playoffs.csv')\n",
    "b_2023_09_30 = pd.read_csv('phillies_batters_2023-09030.csv')\n",
    "p_2023_09_30 = pd.read_csv('phillies_pitchers_2023-09030.csv')\n",
    "b_2023_10_01 = pd.read_csv('phillies_pitchers_2023_10_01.csv')\n",
    "p_2023_10_01 = pd.read_csv('phillies_batters_2023_10_01.csv')\n",
    "\n",
    "woba_weights = pd.read_csv('wOBA and FIP Constants.csv')\n",
    "\n",
    "\n",
    "## WC -- Marlins\n",
    "ml2023 = pd.read_csv('marlins_lineup_2023.csv')\n",
    "mb2023 = pd.read_csv('marlins_bench_2023.csv')\n",
    "m_b_playoff = pd.read_csv('marlins_batters_playoff history.csv')\n",
    "ms2023 = pd.read_csv('marlins_starters_2023.csv')\n",
    "mr2023 = pd.read_csv('marlins_relievers_2023.csv')\n",
    "m_p_playoff = pd.read_csv('marlins_pitchers_playoff history.csv')\n",
    "\n",
    "## NLDS -- Braves\n",
    "## KS Notes - I was in Raleigh for this series, no data analyses since I was spending time with my family.\n",
    "## KS Notes - I am super fucking baked rn, to put mildly this is a risky play. Baking and Coding?\n",
    "\n",
    "## NLCS -- Diamondbacks\n",
    "b_db2023 = pd.read_csv('az_batters_2023.csv')\n",
    "p_db2023 = pd.read_csv('az_pitchers_2023.csv')\n",
    "b_db_playoffs = pd.read_csv('az_batters_playoffs.csv')\n",
    "p_db_playoffs = pd.read_csv('az_pitchers_playoffs.csv')\n",
    "b_az_vs_phillies_history = pd.read_csv('b_az_vs_phillies_history.csv')\n",
    "p_az_vs_phillies_history = pd.read_csv('b_az_vs_phillies_history.csv')\n",
    "\n",
    "\n",
    "# Mash them together\n",
    "b_2023 = pd.concat([pl2023, pb2023, b_2023_09_30, b_2023_10_01, ml2023, mb2023])\n",
    "p_2023 = pd.concat([ps2023, pr2023, p_2023_09_30, p_2023_10_01, ms2023, mr2023])\n",
    "reg2023 = pd.concat([b_2023, p_2023]).merge(woba_weights, left_on = 'game_year', right_on = 'Season')\n",
    "playoffs = pd.concat([b_playoff, p_playoff, jean, m_b_playoff, m_p_playoff]).merge(woba_weights, left_on = 'game_year', right_on = 'Season')"
   ]
  },
  {
   "cell_type": "code",
   "execution_count": null,
   "id": "c7ad723d-10ad-4dbe-a88e-02315243b67a",
   "metadata": {},
   "outputs": [],
   "source": [
    "print(playoffs.columns)"
   ]
  },
  {
   "cell_type": "code",
   "execution_count": null,
   "id": "d5d6446d-6a98-4024-9321-69f6ae2aaaed",
   "metadata": {},
   "outputs": [],
   "source": [
    "for c in playoffs.columns:\n",
    "    print('\\033[1m' + c + '\\033[0m')\n",
    "    print(playoffs[c].iloc[0])"
   ]
  },
  {
   "cell_type": "code",
   "execution_count": null,
   "id": "dd75201e-a6bf-4e60-befc-fae6a4993f1f",
   "metadata": {},
   "outputs": [],
   "source": [
    "# Ranger Pitch Sequencing\n",
    "# Fuck this is really gonna mess up my actual organization, lol.\n",
    "# My acutal organization was derivative bullshit!"
   ]
  },
  {
   "cell_type": "code",
   "execution_count": null,
   "id": "5e87b805-b0bd-45cb-af47-460f3a01c64a",
   "metadata": {},
   "outputs": [],
   "source": []
  },
  {
   "cell_type": "code",
   "execution_count": null,
   "id": "027c408d-77d8-4352-ae25-3d3ff3a1d9c7",
   "metadata": {},
   "outputs": [],
   "source": []
  },
  {
   "cell_type": "markdown",
   "id": "352e2fa3-91bf-4ea2-a427-ae4d5cdd7ba7",
   "metadata": {},
   "source": [
    "## Get Stats Function\n",
    "This function takes in a dataframe (which you should filter) and level to aggregate the data at (ex. player, player/year, team, team/year, etc.) <br>\n",
    "It will return the result statistics for that"
   ]
  },
  {
   "cell_type": "code",
   "execution_count": null,
   "id": "d00f51ab-38db-45a6-a475-ff0019e71187",
   "metadata": {},
   "outputs": [],
   "source": [
    "def get_stats(level, df):\n",
    "    # Pitchesa\n",
    "\n",
    "    pitches = df.groupby(level).agg({'batter' : 'count'}).reset_index().rename(columns = {'count' : 'pitches'})\n",
    "\n",
    "    # Plate Appearances\n",
    "    plate_apps = df[~df.events.replace(pd.np.nan, 'NA').isin(['NA','pickoff_1b'])].groupby(level).agg({'batter' : 'count'})\n",
    "\n",
    "    plate_apps =plate_apps.reset_index().rename(columns = {'batter' : 'plate_apps'})\n",
    "\n",
    "    # At Bats\n",
    "    at_bats = df[~df.events.replace(pd.np.nan, 'NA').isin(['NA'\n",
    "                                                       ,'pickoff_1b'\n",
    "                                                       , 'walk'\n",
    "                                                       , 'intent_walk'\n",
    "                                                       , 'hit_by_pitch'\n",
    "                                                      ,'sac_fly'\n",
    "                                                      ,'sac_bunt'])].groupby(level).agg({'batter' : 'count'})\n",
    "\n",
    "    at_bats = at_bats.reset_index().rename(columns = {'batter' : 'at_bats'})\n",
    "\n",
    "    # Hits\n",
    "    hits = df[df.events.isin(['home_run'\n",
    "                          ,'single'\n",
    "                          ,'double'\n",
    "                          ,'triple'\n",
    "                         ])].groupby(level).agg({'batter' : 'count'})\n",
    "\n",
    "    hits = hits.reset_index().rename(columns = {'batter' : 'hits'})\n",
    "\n",
    "    # Singles\n",
    "    singles = df[df.events == 'single'].groupby(level).agg({'batter' : 'count'}).reset_index().rename(columns = {'batter' : 'singles'})\n",
    "    # Doubles\n",
    "    doubles = df[df.events == 'double'].groupby(level).agg({'batter' : 'count'}).reset_index().rename(columns = {'batter' : 'doubles'})\n",
    "    # Triples\n",
    "    triples = df[df.events == 'triple'].groupby(level).agg({'batter' : 'count'}).reset_index().rename(columns = {'batter' : 'triples'})\n",
    "    # Home Runs\n",
    "    hrs = df[df.events == 'home_run'].groupby(level).agg({'batter' : 'count'}).reset_index().rename(columns = {'batter' : 'hrs'})\n",
    "    # Walks\n",
    "    walks = df[df.events == 'walk'].groupby(level).agg({'batter' : 'count'}).reset_index().rename(columns = {'batter' : 'walks'})\n",
    "    # Hit By Pitch\n",
    "    hbp = df[df.events == 'hit_by_pitch'].groupby(level).agg({'batter' : 'count'}).reset_index().rename(columns = {'batter' : 'hbp'})\n",
    "    # Weighted Walks\n",
    "    wBB = df[df.events == 'walk'].groupby(level).agg({'wBB' : 'sum'}).reset_index()\n",
    "    # Weighted HBP\n",
    "    wHBP = df[df.events == 'hit_by_pitch'].groupby(level).agg({'wHBP' : 'sum'}).reset_index()\n",
    "    # Weighted Singles\n",
    "    w1B = df[df.events == 'single'].groupby(level).agg({'w1B' : 'sum'}).reset_index()\n",
    "    # Weighted Doubles\n",
    "    w2B = df[df.events == 'double'].groupby(level).agg({'w2B' : 'sum'}).reset_index()\n",
    "    # Weighted Triples\n",
    "    w3B = df[df.events == 'triple'].groupby(level).agg({'w3B' : 'sum'}).reset_index()\n",
    "    # Weighted Home runs\n",
    "    wHR = df[df.events == 'home_run'].groupby(level).agg({'wHR' : 'sum'}).reset_index()\n",
    "\n",
    "    a = pitches.merge(plate_apps, how = 'left', left_on = level, right_on = level)\n",
    "    b = a.merge(at_bats, how = 'left', left_on = level, right_on = level)\n",
    "    c = b.merge(hits, how = 'left', left_on = level, right_on = level)\n",
    "    d = c.merge(singles, how = 'left', left_on = level, right_on = level)\n",
    "    e = d.merge(doubles, how = 'left', left_on = level, right_on = level)\n",
    "    f = e.merge(triples, how = 'left', left_on = level, right_on = level)\n",
    "    g = f.merge(hrs, how = 'left', left_on = level, right_on = level)\n",
    "    h = g.merge(walks, how = 'left', left_on = level, right_on = level)\n",
    "    i = h.merge(hbp, how = 'left', left_on = level, right_on = level)\n",
    "    j = i.merge(wBB, how = 'left', left_on = level, right_on = level)\n",
    "    k = j.merge(wHBP, how = 'left', left_on = level, right_on = level)\n",
    "    l = k.merge(w1B, how = 'left', left_on = level, right_on = level)\n",
    "    m = l.merge(w2B, how = 'left', left_on = level, right_on = level)\n",
    "    n = m.merge(w3B, how = 'left', left_on = level, right_on = level)\n",
    "    stats = n.merge(wHR, how = 'left', left_on = level, right_on = level)\n",
    "\n",
    "    stats = stats.replace(pd.np.nan, 0)\n",
    "    \n",
    "    return stats"
   ]
  },
  {
   "cell_type": "code",
   "execution_count": null,
   "id": "3eae0016-dd13-4451-93f2-ef5c18f46a57",
   "metadata": {},
   "outputs": [],
   "source": [
    "# Extra things to consider\n",
    "# Additional Columns:\n",
    "# Expected BA, OBP, SLG, wOBA\n",
    "# FIP\n",
    "\n",
    "# How to Visualize\n",
    "# 3x3 grid of subplots, group at the player and zone level then plot in each area of the strike zone\n",
    "# Higher level callouts\n",
    "# grid of subplots for each of the players, group by players"
   ]
  },
  {
   "cell_type": "code",
   "execution_count": null,
   "id": "31a73fa8-af3a-4534-a338-c284900499a3",
   "metadata": {},
   "outputs": [],
   "source": [
    "def get_player_stats(df):\n",
    "    # Pitches\n",
    "\n",
    "    pitches = df.groupby('player_name').agg({'batter' : 'count'}).reset_index().rename(columns = {'count' : 'pitches'})\n",
    "\n",
    "    # Plate Appearances\n",
    "    plate_apps = df[~df.events.replace(pd.np.nan, 'NA').isin(['NA','pickoff_1b'])].groupby('player_name').agg({'batter' : 'count'})\n",
    "\n",
    "    plate_apps =plate_apps.reset_index().rename(columns = {'batter' : 'plate_apps'})\n",
    "\n",
    "    # At Bats\n",
    "    at_bats = df[~df.events.replace(pd.np.nan, 'NA').isin(['NA'\n",
    "                                                       ,'pickoff_1b'\n",
    "                                                       , 'walk'\n",
    "                                                       , 'intent_walk'\n",
    "                                                       , 'hit_by_pitch'\n",
    "                                                      ,'sac_fly'\n",
    "                                                      ,'sac_bunt'])].groupby('player_name').agg({'batter' : 'count'})\n",
    "\n",
    "    at_bats = at_bats.reset_index().rename(columns = {'batter' : 'at_bats'})\n",
    "\n",
    "    # Hits\n",
    "    hits = df[df.events.isin(['home_run'\n",
    "                          ,'single'\n",
    "                          ,'double'\n",
    "                          ,'triple'\n",
    "                         ])].groupby('player_name').agg({'batter' : 'count'})\n",
    "\n",
    "    hits = hits.reset_index().rename(columns = {'batter' : 'hits'})\n",
    "\n",
    "    # Singles\n",
    "    singles = df[df.events == 'single'].groupby('player_name').agg({'batter' : 'count'}).reset_index().rename(columns = {'batter' : 'singles'})\n",
    "    # Doubles\n",
    "    doubles = df[df.events == 'double'].groupby('player_name').agg({'batter' : 'count'}).reset_index().rename(columns = {'batter' : 'doubles'})\n",
    "    # Triples\n",
    "    triples = df[df.events == 'triple'].groupby('player_name').agg({'batter' : 'count'}).reset_index().rename(columns = {'batter' : 'triples'})\n",
    "    # Home Runs\n",
    "    hrs = df[df.events == 'home_run'].groupby('player_name').agg({'batter' : 'count'}).reset_index().rename(columns = {'batter' : 'hrs'})\n",
    "    # Walks\n",
    "    walks = df[df.events == 'walk'].groupby('player_name').agg({'batter' : 'count'}).reset_index().rename(columns = {'batter' : 'walks'})\n",
    "    # Hit By Pitch\n",
    "    hbp = df[df.events == 'hit_by_pitch'].groupby('player_name').agg({'batter' : 'count'}).reset_index().rename(columns = {'batter' : 'hbp'})\n",
    "    # Weighted Walks\n",
    "    wBB = df[df.events == 'walk'].groupby('player_name').agg({'wBB' : 'sum'}).reset_index()\n",
    "    # Weighted HBP\n",
    "    wHBP = df[df.events == 'hit_by_pitch'].groupby('player_name').agg({'wHBP' : 'sum'}).reset_index()\n",
    "    # Weighted Singles\n",
    "    w1B = df[df.events == 'single'].groupby('player_name').agg({'w1B' : 'sum'}).reset_index()\n",
    "    # Weighted Doubles\n",
    "    w2B = df[df.events == 'double'].groupby('player_name').agg({'w2B' : 'sum'}).reset_index()\n",
    "    # Weighted Triples\n",
    "    w3B = df[df.events == 'triple'].groupby('player_name').agg({'w3B' : 'sum'}).reset_index()\n",
    "    # Weighted Home runs\n",
    "    wHR = df[df.events == 'home_run'].groupby('player_name').agg({'wHR' : 'sum'}).reset_index()\n",
    "\n",
    "    a = pitches.merge(plate_apps, how = 'left', left_on = 'player_name', right_on = 'player_name')\n",
    "    b = a.merge(at_bats, how = 'left', left_on = 'player_name', right_on = 'player_name')\n",
    "    c = b.merge(hits, how = 'left', left_on = 'player_name', right_on = 'player_name')\n",
    "    d = c.merge(singles, how = 'left', left_on = 'player_name', right_on = 'player_name')\n",
    "    e = d.merge(doubles, how = 'left', left_on = 'player_name', right_on = 'player_name')\n",
    "    f = e.merge(triples, how = 'left', left_on = 'player_name', right_on = 'player_name')\n",
    "    g = f.merge(hrs, how = 'left', left_on = 'player_name', right_on = 'player_name')\n",
    "    h = g.merge(walks, how = 'left', left_on = 'player_name', right_on = 'player_name')\n",
    "    i = h.merge(hbp, how = 'left', left_on = 'player_name', right_on = 'player_name')\n",
    "    j = i.merge(wBB, how = 'left', left_on = 'player_name', right_on = 'player_name')\n",
    "    k = j.merge(wHBP, how = 'left', left_on = 'player_name', right_on = 'player_name')\n",
    "    l = k.merge(w1B, how = 'left', left_on = 'player_name', right_on = 'player_name')\n",
    "    m = l.merge(w2B, how = 'left', left_on = 'player_name', right_on = 'player_name')\n",
    "    n = m.merge(w3B, how = 'left', left_on = 'player_name', right_on = 'player_name')\n",
    "    player_stats = n.merge(wHR, how = 'left', left_on = 'player_name', right_on = 'player_name')\n",
    "\n",
    "    player_stats = player_stats.replace(pd.np.nan, 0)\n",
    "    \n",
    "    return player_stats"
   ]
  },
  {
   "cell_type": "code",
   "execution_count": null,
   "id": "68f3c046-1db2-487a-8998-99a36baa675d",
   "metadata": {},
   "outputs": [],
   "source": [
    "# I would like get_player_stats to take in multiple arguments that can be used to filter the data collected\n",
    "# Pass in a different groupby"
   ]
  },
  {
   "cell_type": "markdown",
   "id": "b75e12b7-e1f4-4bb7-bcad-314fd68a5476",
   "metadata": {},
   "source": [
    "### Measure Calculations Using Playoff History Data"
   ]
  },
  {
   "cell_type": "markdown",
   "id": "76315490-8ae2-46bd-958f-5aa7049963cb",
   "metadata": {},
   "source": [
    "The plan here is to recreate all the necessary statistics I can see in real time during a game based solely off their historical playoff data."
   ]
  },
  {
   "cell_type": "code",
   "execution_count": null,
   "id": "be3ef52a-e553-4d99-9c3b-492010a8125b",
   "metadata": {
    "tags": []
   },
   "outputs": [],
   "source": [
    "player_stats = get_player_stats(playoffs)\n",
    "\n",
    "player_stats.rename(columns = {'batter' : 'pitches'},inplace = True)\n",
    "\n",
    "player_stats['ba'] = player_stats['hits']/player_stats['at_bats']\n",
    "player_stats['obp'] = (player_stats.hits + player_stats.walks + player_stats.hbp) / (player_stats.plate_apps)\n",
    "player_stats['slg'] = (player_stats.singles + 2*player_stats.doubles + 3*player_stats.triples + 4*player_stats.hrs) / (player_stats.at_bats)\n",
    "player_stats['ops'] = player_stats.obp + player_stats.slg\n",
    "player_stats['woba'] = (player_stats.wBB + player_stats.wHBP+ player_stats.w1B+ player_stats.w2B+ player_stats.w3B+ player_stats.wHR) / (player_stats.plate_apps)"
   ]
  },
  {
   "cell_type": "code",
   "execution_count": null,
   "id": "70c916e3-cd88-4215-ad02-1a27f43e2bc2",
   "metadata": {},
   "outputs": [],
   "source": [
    "player_stats"
   ]
  },
  {
   "cell_type": "code",
   "execution_count": null,
   "id": "2f749a7d-12d3-47c3-976b-8fa01d1f5c3d",
   "metadata": {},
   "outputs": [],
   "source": [
    "import pandas as pd\n",
    "import numpy as np\n",
    "import matplotlib.pyplot as plt"
   ]
  },
  {
   "cell_type": "code",
   "execution_count": null,
   "id": "d718edd1-d5e0-4968-a4d6-88c0bf9c5507",
   "metadata": {},
   "outputs": [],
   "source": [
    "df = pd.read_csv('walker_career pitches maybe wait F.csv').merge(woba_weights, left_on = 'game_year', right_on = 'Season')"
   ]
  },
  {
   "cell_type": "code",
   "execution_count": null,
   "id": "6f20015c-84dd-4436-9c12-1e549109c5be",
   "metadata": {},
   "outputs": [],
   "source": []
  },
  {
   "cell_type": "code",
   "execution_count": null,
   "id": "82e3ff7c-1ab6-483e-8455-fc502d2e00e0",
   "metadata": {},
   "outputs": [],
   "source": []
  },
  {
   "cell_type": "markdown",
   "id": "ddfd43ae-a329-4a4e-9822-81a6b47ba960",
   "metadata": {},
   "source": [
    "### Phillies vs Marlins Game 1"
   ]
  },
  {
   "cell_type": "code",
   "execution_count": null,
   "id": "d5551451-a150-497b-9a77-10bc36cdd121",
   "metadata": {},
   "outputs": [],
   "source": [
    "player_playoffs = get_stats('player_name', playoffs)"
   ]
  },
  {
   "cell_type": "code",
   "execution_count": null,
   "id": "a41981a1-1af1-45a7-a574-ea877ea5d5d3",
   "metadata": {},
   "outputs": [],
   "source": [
    "player_2023 = get_stats('player_name', reg2023)"
   ]
  },
  {
   "cell_type": "code",
   "execution_count": null,
   "id": "3043f6a4-fddd-4c30-bf48-63bee2f459dc",
   "metadata": {},
   "outputs": [],
   "source": [
    "wheeler_playoffs = player_playoffs[player_playoffs['player_name'] == 'Wheeler, Zack']"
   ]
  },
  {
   "cell_type": "code",
   "execution_count": null,
   "id": "b2863d5c-a4c9-4ac2-8be8-5382817e1ea0",
   "metadata": {},
   "outputs": [],
   "source": [
    "wheeler_playoffs"
   ]
  },
  {
   "cell_type": "code",
   "execution_count": null,
   "id": "04b7cf3b-da95-4228-8cf4-71ef29668923",
   "metadata": {},
   "outputs": [],
   "source": [
    "rojas = reg2023[reg2023['player_name'] == 'Rojas, Johan']"
   ]
  },
  {
   "cell_type": "code",
   "execution_count": null,
   "id": "f9ae1c92-f3fa-4dc5-a2fa-7a3db24972e8",
   "metadata": {},
   "outputs": [],
   "source": []
  },
  {
   "cell_type": "code",
   "execution_count": null,
   "id": "067da078-c15e-4929-8c94-579485f2ee08",
   "metadata": {},
   "outputs": [],
   "source": [
    "get_stats('pitch_name',rojas[(rojas.p_throws == 'L') & (rojas.pitch_name == 'Changeup')])"
   ]
  },
  {
   "cell_type": "code",
   "execution_count": null,
   "id": "f3e26e3f-e6b6-48b4-80d1-715b9514bf05",
   "metadata": {},
   "outputs": [],
   "source": [
    "playoffs[(playoffs.player_name == 'Wheeler, Zack')\n",
    "        &(playoffs.pitch_name.isin(['Sinker', '4-Seam Fastball']))\n",
    "        ].groupby('pitch_name').agg({'release_speed' : 'mean'})"
   ]
  },
  {
   "cell_type": "code",
   "execution_count": null,
   "id": "909589a2-11b6-4de5-bcaf-cd6d7ea832d8",
   "metadata": {},
   "outputs": [],
   "source": [
    "reg2023[(reg2023.player_name == 'Wheeler, Zack')\n",
    "        &(reg2023.pitch_name.isin(['Sinker', '4-Seam Fastball']))\n",
    "        ].groupby('pitch_name').agg({'release_speed' : 'mean'})"
   ]
  },
  {
   "cell_type": "code",
   "execution_count": null,
   "id": "7b683665-f2e6-4eac-af1b-6a3ff5b1c1cb",
   "metadata": {},
   "outputs": [],
   "source": [
    "soriano_pitches = get_stats('pitch_name', reg2023[reg2023.player_name == 'Soriano, George'])"
   ]
  },
  {
   "cell_type": "code",
   "execution_count": null,
   "id": "377f1a24-b2c6-4249-b430-3bac164f703d",
   "metadata": {},
   "outputs": [],
   "source": [
    "soriano_pitches"
   ]
  },
  {
   "cell_type": "code",
   "execution_count": null,
   "id": "a96b8a9f-c7c3-4a48-b431-7da2004fd972",
   "metadata": {},
   "outputs": [],
   "source": [
    "reg2023[reg2023.player_name == 'Soriano, George'].groupby('pitch_name').agg({'release_speed' : 'mean'\n",
    "                                                                             ,'release_spin_rate' : 'mean'\n",
    "                                                                             ,'pfx_x' : 'mean'\n",
    "                                                                             ,'pfx_z' : 'mean'\n",
    "                                                                            })"
   ]
  },
  {
   "cell_type": "code",
   "execution_count": null,
   "id": "ea74e0f2-5cda-4e9c-8983-cb719b4d26d4",
   "metadata": {},
   "outputs": [],
   "source": [
    "soriano_pitches.rename(columns = {'batter' : 'pitches'},inplace = True)\n",
    "\n",
    "soriano_pitches['ba'] = soriano_pitches['hits']/soriano_pitches['at_bats']\n",
    "soriano_pitches['obp'] = (soriano_pitches.hits + soriano_pitches.walks + soriano_pitches.hbp) / (soriano_pitches.plate_apps)\n",
    "soriano_pitches['slg'] = (soriano_pitches.singles + 2*soriano_pitches.doubles + 3*soriano_pitches.triples + 4*soriano_pitches.hrs) / (soriano_pitches.at_bats)\n",
    "soriano_pitches['ops'] = soriano_pitches.obp + soriano_pitches.slg\n",
    "soriano_pitches['woba'] = (soriano_pitches.wBB + soriano_pitches.wHBP+ soriano_pitches.w1B+ soriano_pitches.w2B+ soriano_pitches.w3B+ soriano_pitches.wHR) / (soriano_pitches.plate_apps)"
   ]
  },
  {
   "cell_type": "code",
   "execution_count": null,
   "id": "f81c1c43-79c6-419e-9f96-966164e42a00",
   "metadata": {},
   "outputs": [],
   "source": [
    "soriano_pitches.loc[:, ['pitch_name', 'ba', 'obp', 'slg', 'ops', 'woba']]"
   ]
  },
  {
   "cell_type": "code",
   "execution_count": null,
   "id": "66d27e97-6e96-44b1-87d5-91911e1e66f2",
   "metadata": {},
   "outputs": [],
   "source": []
  },
  {
   "cell_type": "code",
   "execution_count": null,
   "id": "b1c2c8a2-aabe-4c3b-b8f6-02339bf7268b",
   "metadata": {},
   "outputs": [],
   "source": [
    "brazoban = reg2023[reg2023.player_name == 'Brazoban, Huascar']"
   ]
  },
  {
   "cell_type": "code",
   "execution_count": null,
   "id": "255e7146-3980-4849-afdf-8ea9cac4c970",
   "metadata": {},
   "outputs": [],
   "source": [
    "brazoban_pitches = brazoban.groupby('pitch_name').agg({'pitch_type' : 'count'\n",
    "                                    ,'release_speed' : 'mean'\n",
    "                                    ,'release_spin_rate' : 'mean'\n",
    "                                    ,'pfx_x' : 'mean'\n",
    "                                    ,'pfx_z' : 'mean'\n",
    "                                   }).reset_index()"
   ]
  },
  {
   "cell_type": "code",
   "execution_count": null,
   "id": "dc46cf20-77f9-4fec-8352-3cdf2ac1990c",
   "metadata": {},
   "outputs": [],
   "source": [
    "brazoban_stats = get_stats('pitch_name', brazoban)"
   ]
  },
  {
   "cell_type": "code",
   "execution_count": null,
   "id": "baaca6ae-72d1-4965-95d8-6e0d5ec6c8b4",
   "metadata": {},
   "outputs": [],
   "source": [
    "brazoban_stats.rename(columns = {'batter' : 'pitches'},inplace = True)\n",
    "\n",
    "brazoban_stats['ba'] = brazoban_stats['hits']/brazoban_stats['at_bats']\n",
    "brazoban_stats['obp'] = (brazoban_stats.hits + brazoban_stats.walks + brazoban_stats.hbp) / (brazoban_stats.plate_apps)\n",
    "brazoban_stats['slg'] = (brazoban_stats.singles + 2*brazoban_stats.doubles + 3*brazoban_stats.triples + 4*soriano_pitches.hrs) / (brazoban_stats.at_bats)\n",
    "brazoban_stats['ops'] = brazoban_stats.obp + brazoban_stats.slg\n",
    "brazoban_stats['woba'] = (brazoban_stats.wBB + brazoban_stats.wHBP+ brazoban_stats.w1B+ brazoban_stats.w2B+ brazoban_stats.w3B+ brazoban_stats.wHR) / (brazoban_stats.plate_apps)"
   ]
  },
  {
   "cell_type": "code",
   "execution_count": null,
   "id": "0ca095a6-e717-494c-ba86-aabbedc7d478",
   "metadata": {},
   "outputs": [],
   "source": [
    "brazoban_pitches"
   ]
  },
  {
   "cell_type": "code",
   "execution_count": null,
   "id": "58aa57d9-1684-4604-9d66-be5a2068567e",
   "metadata": {
    "tags": []
   },
   "outputs": [],
   "source": [
    "brazoban_stats.merge(brazoban_pitches, left_on = 'pitch_name', right_on = 'pitch_name')[['pitch_name', 'pitch_type', 'release_speed', 'ba', 'obp', 'slg', 'ops', 'woba']]"
   ]
  },
  {
   "cell_type": "code",
   "execution_count": null,
   "id": "fa97922e-8255-43a3-867c-22abe8f94d47",
   "metadata": {},
   "outputs": [],
   "source": []
  },
  {
   "cell_type": "code",
   "execution_count": null,
   "id": "4f9bf8cb-b4de-427e-8280-efff37cf218c",
   "metadata": {},
   "outputs": [],
   "source": [
    "get_stats('player_name',reg2023[(reg2023.player_name == 'Soler, Jorge') & (reg2023.p_throws == 'R') & (reg2023.pitch_name == 'Slider')])"
   ]
  },
  {
   "cell_type": "code",
   "execution_count": null,
   "id": "a815c0bb-0497-46dc-b01d-2c20b7e2b50a",
   "metadata": {},
   "outputs": [],
   "source": [
    "kerkering = reg2023[reg2023.player_name == 'Kerkering, Orion']"
   ]
  },
  {
   "cell_type": "code",
   "execution_count": null,
   "id": "447fffe3-9d7c-4f33-a680-713bbd043934",
   "metadata": {},
   "outputs": [],
   "source": [
    "kerkering['h_break'] = kerkering.pfx_x*12"
   ]
  },
  {
   "cell_type": "code",
   "execution_count": null,
   "id": "6f7bbecd-5f2a-493d-8053-09c5652b2fef",
   "metadata": {},
   "outputs": [],
   "source": [
    "kerkering[(kerkering.pitch_name == 'Sweeper') & (kerkering.h_break >= 17)].agg({'pitch_type' : 'count', 'release_speed' : 'mean'})"
   ]
  },
  {
   "cell_type": "code",
   "execution_count": null,
   "id": "7d331a6d-c1ca-41fd-9bc8-3fe28b157899",
   "metadata": {},
   "outputs": [],
   "source": [
    "len(kerkering)"
   ]
  },
  {
   "cell_type": "markdown",
   "id": "60ea9f16-22e9-418c-9f28-4ecbfed906de",
   "metadata": {},
   "source": [
    "### Boxplots of home runs for each player"
   ]
  },
  {
   "cell_type": "code",
   "execution_count": null,
   "id": "44baf3de-563d-498b-bd39-5453b114c717",
   "metadata": {},
   "outputs": [],
   "source": [
    "hrs = b_2023[b_2023.events == 'home_run']"
   ]
  },
  {
   "cell_type": "code",
   "execution_count": null,
   "id": "a77d2f27-f8f3-4f8a-9362-636cbb5ea2bf",
   "metadata": {},
   "outputs": [],
   "source": [
    "plt.boxplot(hrs['hit_distance_sc'])"
   ]
  },
  {
   "cell_type": "code",
   "execution_count": null,
   "id": "a25c9296-82c8-4926-9b3e-633641ecb00d",
   "metadata": {},
   "outputs": [],
   "source": []
  },
  {
   "cell_type": "code",
   "execution_count": null,
   "id": "32a488ce-7bbc-40eb-a9a4-2e64af5cb9bb",
   "metadata": {},
   "outputs": [],
   "source": []
  },
  {
   "cell_type": "markdown",
   "id": "ef9d7857-99e4-4baf-ab40-03b79f742fc0",
   "metadata": {},
   "source": [
    "### find Bryce Harper's home run"
   ]
  },
  {
   "cell_type": "code",
   "execution_count": null,
   "id": "0a861d60-73c4-4a87-abf3-949312addd93",
   "metadata": {},
   "outputs": [],
   "source": [
    "harper_hrs = b_2023[(b_2023.player_name == 'Harper, Bryce') & (b_2023.events == 'home_run')]"
   ]
  },
  {
   "cell_type": "code",
   "execution_count": null,
   "id": "20e7fa31-27ac-4666-abbd-d2cf9e8f56fb",
   "metadata": {},
   "outputs": [],
   "source": [
    "import numpy as np\n",
    "def runners_on(x,y,z):\n",
    "    first = 0\n",
    "    second = 0\n",
    "    third = 0\n",
    "    \n",
    "    if np.isnan(x) == False:\n",
    "        first = 1\n",
    "        \n",
    "    if np.isnan(y) == False:\n",
    "        second = 1\n",
    "    \n",
    "    if np.isnan(z) == False:\n",
    "        third = 1\n",
    "        \n",
    "    return first+second+third\n",
    "\n",
    "harper_hrs['runners_on'] = ''\n",
    "for i in range(len(harper_hrs)):\n",
    "    harper_hrs['runners_on'].iloc[i] = runners_on(harper_hrs['on_1b'].iloc[i],harper_hrs['on_2b'].iloc[i],harper_hrs['on_3b'].iloc[i])"
   ]
  },
  {
   "cell_type": "code",
   "execution_count": null,
   "id": "c4350388-d03d-4c07-b630-8d219d6b0204",
   "metadata": {},
   "outputs": [],
   "source": [
    "harper_hrs['count'] = harper_hrs['balls'].astype(str) + ' - ' + harper_hrs['strikes'].astype(str)"
   ]
  },
  {
   "cell_type": "code",
   "execution_count": null,
   "id": "31ae17c1-ee38-4929-90cb-a7c08c2f984b",
   "metadata": {},
   "outputs": [],
   "source": [
    "print(harper_hrs.columns)"
   ]
  },
  {
   "cell_type": "code",
   "execution_count": null,
   "id": "9da07a1d-e73c-4d00-95e7-6f5823eb6068",
   "metadata": {},
   "outputs": [],
   "source": [
    "harper_hrs = harper_hrs[\n",
    "    ['inning_topbot'\n",
    "     ,'inning'\n",
    "     ,'count'\n",
    "     ,'outs_when_up'\n",
    "     ,'runners_on'\n",
    "     ,'p_throws'\n",
    "     ,'pitch_type'\n",
    "     ,'pitch_name'\n",
    "     ,'release_speed'\n",
    "     ,'pfx_x'\n",
    "     ,'pfx_z'\n",
    "     ,'release_spin_rate'\n",
    "     ,'zone'\n",
    "     ,'hc_x'\n",
    "     ,'hc_y'\n",
    "     ,'hit_distance_sc'\n",
    "     ,'launch_speed'\n",
    "     ,'launch_angle'\n",
    "    ]\n",
    "]"
   ]
  },
  {
   "cell_type": "code",
   "execution_count": null,
   "id": "4dd451bb-6fa4-4a79-a0ae-68f0629e1d5b",
   "metadata": {},
   "outputs": [],
   "source": [
    "harper_hrs.groupby('runners_on').agg({'hit_distance_sc':'count'}).sort_values(['hit_distance_sc'],ascending=False)"
   ]
  },
  {
   "cell_type": "code",
   "execution_count": null,
   "id": "b1b8c981-a83f-4173-8828-ca7d687a312b",
   "metadata": {},
   "outputs": [],
   "source": [
    "harper_hrs.reset_index(drop=False,inplace=True)"
   ]
  },
  {
   "cell_type": "code",
   "execution_count": null,
   "id": "b5cafd9b-f365-419d-9a7b-e3426a9c928e",
   "metadata": {},
   "outputs": [],
   "source": [
    "harper_hrs.plot.scatter('index','launch_speed',c = 'pitch_name', colormap = 'viridis')"
   ]
  },
  {
   "cell_type": "code",
   "execution_count": null,
   "id": "89cedf0d-922d-4472-83e3-bf31788fdfac",
   "metadata": {},
   "outputs": [],
   "source": []
  },
  {
   "cell_type": "code",
   "execution_count": null,
   "id": "7ed10f5a-e886-4bc8-a54c-2dcd5f252841",
   "metadata": {},
   "outputs": [],
   "source": []
  },
  {
   "cell_type": "code",
   "execution_count": null,
   "id": "3bf9b9c0-549d-44aa-a403-3dd12727611b",
   "metadata": {},
   "outputs": [],
   "source": []
  },
  {
   "cell_type": "code",
   "execution_count": null,
   "id": "f03e8c7e-53d0-4f35-8db1-a6ddbf09c4af",
   "metadata": {},
   "outputs": [],
   "source": []
  },
  {
   "cell_type": "code",
   "execution_count": null,
   "id": "9c0c95f5-0c50-4f11-8246-092663f9f8a5",
   "metadata": {},
   "outputs": [],
   "source": [
    "harper_hrs.sort_values(by = 'game_date') # I infer from here that the dong I want was from 2023-08-15\n",
    "harper_hrs[harper_hrs.game_date == '2023-07-15'].inning\n",
    "\n",
    "# For my next trick I will graph all of the hoem runs over time by.. let's go with... a list of metrics\n",
    "# Do it for exit velocity first\n",
    "# Then I will do it for launch angle?\n",
    "# Then I think I will do it for "
   ]
  },
  {
   "cell_type": "code",
   "execution_count": null,
   "id": "b126c42b-a95f-459e-a369-150b6f095b21",
   "metadata": {},
   "outputs": [],
   "source": [
    "harper_hrs.reset_index(inplace=True)"
   ]
  },
  {
   "cell_type": "code",
   "execution_count": null,
   "id": "35fcc2d0-1932-4a95-b19e-4925cdae2d0d",
   "metadata": {},
   "outputs": [],
   "source": [
    "ys = ['hit_distance_sc', 'launch_speed', 'launch_angle']\n",
    "\n",
    "for y in ys:\n",
    "    harper_hrs.plot.scatter('index',y)"
   ]
  },
  {
   "cell_type": "code",
   "execution_count": null,
   "id": "57643f3f-37cf-4254-a974-ffcc3d9d5074",
   "metadata": {},
   "outputs": [],
   "source": [
    "harper_hrs.plot.line('index', 'launch_speed')"
   ]
  },
  {
   "cell_type": "code",
   "execution_count": null,
   "id": "7319c845-8dcf-43d2-b10c-4fca1dbd7dfd",
   "metadata": {},
   "outputs": [],
   "source": [
    "hit_distance_sc\n",
    "427.0\n",
    "launch_speed\n",
    "107.2\n",
    "launch_angle"
   ]
  },
  {
   "cell_type": "code",
   "execution_count": null,
   "id": "62a145d3-e6cb-4706-af62-ac0cea12ccb0",
   "metadata": {},
   "outputs": [],
   "source": [
    "for c in harper_hrs.columns:\n",
    "    print(c)\n",
    "    print(harper_hrs[c].iloc[0])"
   ]
  },
  {
   "cell_type": "code",
   "execution_count": null,
   "id": "4dd6f5bf-7e2f-4fe4-9e71-03d79c976503",
   "metadata": {},
   "outputs": [],
   "source": []
  },
  {
   "cell_type": "markdown",
   "id": "3890909f-77a3-45c0-931c-c31876da66be",
   "metadata": {},
   "source": [
    "# Outs in Statcast Data"
   ]
  },
  {
   "cell_type": "code",
   "execution_count": null,
   "id": "0d55299b-1ea1-4eb4-9835-33b7f9671c40",
   "metadata": {},
   "outputs": [],
   "source": [
    "## Define \"Out\" Events in the statcast data\n",
    "outs = ['strikeout'\n",
    "        ,'field_out'\n",
    "        ,'force_out'\n",
    "        ,'sac_fly'\n",
    "        ,'grounded_into_double_play'\n",
    "        ##,'fielders_choice'\n",
    "        ,'double_play'\n",
    "        ,'fielders_choice_out'\n",
    "        ,'strikeout_double_play'\n",
    "        ,'other_out'\n",
    "       ]\n",
    "\n",
    "df = pd.read_csv('b_nlcs.csv')\n",
    "po23 = df\n",
    "## Filter Phillies Offense to the Events that were in the list of outs\n",
    "phils_outs_23 = po23[po23.events.isin(outs)]\n",
    "\n",
    "## The Phillies One Other Out of the Year\n",
    "po23[po23.events == 'other_out'].loc[:, ['game_pk'\n",
    "                                         ,'game_date'\n",
    "                                         ,'player_name'\n",
    "                                         ,'inning_topbot'\n",
    "                                         , 'inning'\n",
    "                                         ,'outs_when_up'\n",
    "                                         , 'pitcher'\n",
    "                                         ,'batter'\n",
    "                                         ,'estimated_ba_using_speedangle'\n",
    "                                         ,'pitch_type'\n",
    "                                         ,'pitch_name'\n",
    "                                         ,'release_speed'\n",
    "                                         ,'launch_speed'\n",
    "                                         ,'launch_angle'\n",
    "                                         ,'hit_distance_sc'\n",
    "                                         ,'type'\n",
    "                                         ,'des'\n",
    "                                        ]\n",
    "                                    ]"
   ]
  },
  {
   "cell_type": "markdown",
   "id": "85f24ebf-8674-4049-8213-707e59bdbaad",
   "metadata": {},
   "source": [
    "# Arm Strength vs Thrown Out\n",
    "The question is: **Are guys accurately assessing arm ability? Do better throwers cause more holds?** <br>\n",
    "The answer is: **Yes**"
   ]
  },
  {
   "cell_type": "code",
   "execution_count": null,
   "id": "dd7e3c8a-1842-46fe-a58d-7ace23a3374c",
   "metadata": {},
   "outputs": [],
   "source": [
    "import pandas as pd\n",
    "import numpy as np\n",
    "import matplotlib.pyplot as plt"
   ]
  },
  {
   "cell_type": "code",
   "execution_count": null,
   "id": "4853d054-df8b-47f3-a86e-ff08e971edcd",
   "metadata": {},
   "outputs": [],
   "source": [
    "baserunning = pd.read_csv('base_running.csv') # Read in Baserunning Data split by Year\n",
    "\n",
    "as20 = pd.read_csv('arm_strength_20.csv') # 2020 Arm Strength Data\n",
    "as21 = pd.read_csv('arm_strength_21.csv') # 2021 Arm Strength Data\n",
    "as22 = pd.read_csv('arm_strength_22.csv') # 2022 Arm Strength Data\n",
    "as23 = pd.read_csv('arm_strength_23.csv') # 2023 Arm Strength Data\n",
    "\n",
    "# Loop through available Arm Strength Years and add a column for year\n",
    "arm_strength = pd.DataFrame()\n",
    "i = 2020\n",
    "for df in [as20,as21,as22,as23]:\n",
    "    df['year'] = i\n",
    "    i+=1\n",
    "    arm_strength = pd.concat([arm_strength,df])"
   ]
  },
  {
   "cell_type": "code",
   "execution_count": null,
   "id": "5a4321a6-50c0-430e-949b-990545b84ce1",
   "metadata": {},
   "outputs": [],
   "source": [
    "br = baserunning\n",
    "br.year.unique()"
   ]
  },
  {
   "cell_type": "code",
   "execution_count": null,
   "id": "5ef89330-5799-406d-a9d1-c506a3715629",
   "metadata": {},
   "outputs": [],
   "source": [
    "df = br.merge(arm_strength, left_on = 'year', right_on = 'year')"
   ]
  },
  {
   "cell_type": "code",
   "execution_count": null,
   "id": "5893bebf-3c3e-4d6b-8249-59a47871301c",
   "metadata": {},
   "outputs": [],
   "source": [
    "# Baserunners\n",
    "df = br.merge(players, left_on = 'entity_name', right_on = 'NFBCLASTFIRST', how='left', suffixes = ('', '_p'))\n",
    "print('Baserunners Length: ' + str(len(br)) + ' | Merged Length: ' + str(len(df)))"
   ]
  },
  {
   "cell_type": "code",
   "execution_count": null,
   "id": "413c5318-ade7-416e-a94e-7e104bab5d48",
   "metadata": {},
   "outputs": [],
   "source": [
    "for x in [0,1,2,3,4]:\n",
    "    i = x*10\n",
    "    print(players[players['FIRSTNAME'] == 'Ronald'].iloc[3: ,i:i+10])"
   ]
  },
  {
   "cell_type": "code",
   "execution_count": null,
   "id": "620e3dee-253b-4b12-99e1-308514a39777",
   "metadata": {},
   "outputs": [],
   "source": [
    "bad = df[df['ACTIVE'].isna() == True].loc[:, ['entity_name'\n",
    "                                              ,'team_name'\n",
    "                                              ,'year'\n",
    "                                             ]\n",
    "                                         ].sort_values(by = ['year','team_name']).reset_index(drop = True)"
   ]
  },
  {
   "cell_type": "code",
   "execution_count": null,
   "id": "ebfb3a1c-8e21-43cf-b1e1-7893ed216c34",
   "metadata": {},
   "outputs": [],
   "source": [
    "bad[bad.team_name == 'PHI']"
   ]
  },
  {
   "cell_type": "code",
   "execution_count": null,
   "id": "18b16e7c-c915-4c18-a8fb-22c55ffb4ece",
   "metadata": {},
   "outputs": [],
   "source": [
    "# Arm Strength\n",
    "arm_strength.player_id = arm_strength.player_id.astype('float')\n",
    "df = arm_strength.merge(players, left_on = 'player_id', right_on = 'MLBID', how = 'left',suffixes = ('', '_p'))\n",
    "print('Arm Strength Length: ' + str(len(arm_strength)) + ' | Merged Length: ' + str(len(df)))"
   ]
  },
  {
   "cell_type": "code",
   "execution_count": null,
   "id": "decb9a3b-ab98-40ec-974d-63994e8b7737",
   "metadata": {},
   "outputs": [],
   "source": [
    "arm_strength.reset_index(inplace=True)"
   ]
  },
  {
   "cell_type": "code",
   "execution_count": null,
   "id": "39d60a16-30dc-4286-9c00-7eff419da571",
   "metadata": {},
   "outputs": [],
   "source": [
    "df.reset_index(inplace = True)"
   ]
  },
  {
   "cell_type": "code",
   "execution_count": null,
   "id": "c13a11af-143a-46cf-9ec9-ec6b42bd156e",
   "metadata": {},
   "outputs": [],
   "source": [
    "df.merge(arm_strength, left_on = 'index', right_on = 'level_0', how='left', suffixes = ('','_y'))"
   ]
  },
  {
   "cell_type": "code",
   "execution_count": null,
   "id": "6c375061-9bd2-4073-a915-378980115284",
   "metadata": {},
   "outputs": [],
   "source": [
    "# These are the 8 bozos who do not have a player_id in the players dataset but are present in Arm Strength\n",
    "df[df['ACTIVE'].isna() == True].loc[:, ['fielder_name'\n",
    "                     ,'player_id'\n",
    "                     ,'year'\n",
    "                     #,'team_name' ## These are just NaNs\n",
    "                     ,'primary_position_name'\n",
    "                     ,'primary_position'\n",
    "                     ,'total_throws'\n",
    "                     ,'max_arm_strength'\n",
    "                     ,'arm_overall'\n",
    "                    ]\n",
    "                ].reset_index(drop = True)"
   ]
  },
  {
   "cell_type": "code",
   "execution_count": null,
   "id": "efc12342-d0ea-459e-ac82-7ff51a1f7166",
   "metadata": {},
   "outputs": [],
   "source": [
    "arm_strength.loc[:, ['fielder_name'\n",
    "                     ,'player_id'\n",
    "                     ,'year'\n",
    "                     #,'team_name' ## These are just NaNs\n",
    "                     ,'primary_position_name'\n",
    "                     ,'primary_position'\n",
    "                     ,'total_throws'\n",
    "                     ,'max_arm_strength'\n",
    "                     ,'arm_overall'\n",
    "                    ]\n",
    "                ]\n",
    "#arm_strength.columns.tolist()"
   ]
  },
  {
   "cell_type": "code",
   "execution_count": null,
   "id": "0414f247-7f09-4d78-9f1b-85451374c2b6",
   "metadata": {},
   "outputs": [],
   "source": [
    "players.loc[:, ['PLAYERNAME'\n",
    "                ,'TEAM'\n",
    "                ,'LG'\n",
    "                ,'POS'\n",
    "                ,'MLBID'\n",
    "                ,'NFBCLASTFIRST'\n",
    "               ]\n",
    "           ]"
   ]
  },
  {
   "cell_type": "code",
   "execution_count": null,
   "id": "6169e59c-cbc0-4695-811b-e8ea4f926005",
   "metadata": {},
   "outputs": [],
   "source": []
  },
  {
   "cell_type": "markdown",
   "id": "22178147-30c6-4540-a595-3dcbe5b8067d",
   "metadata": {},
   "source": [
    "## Too Many Data Quality Issues\n",
    "We go back to our clients and complain about their data cleaning <br>\n",
    "Our job is to clean the data. <br>\n",
    "Fuck that sucks."
   ]
  },
  {
   "cell_type": "code",
   "execution_count": null,
   "id": "5cc80fa8-4624-4d2a-8657-18eb49257c19",
   "metadata": {},
   "outputs": [],
   "source": [
    "df = df.merge(br, left_on = ['NFBCLASTFIRST', 'year'], right_on = ['entity_name','year'], how = 'left', suffixes = ('', '_br'))"
   ]
  },
  {
   "cell_type": "code",
   "execution_count": null,
   "id": "13dd0262-2d67-4cfd-a282-bafa18391bde",
   "metadata": {},
   "outputs": [],
   "source": [
    "df = df.loc[:,['fielder_name'\n",
    "          ,'team_name'\n",
    "          ,'year'\n",
    "          ,'primary_position_name'\n",
    "          ,'primary_position'\n",
    "          ,'total_throws'\n",
    "          ,'max_arm_strength'\n",
    "          ,'arm_overall'\n",
    "          ,'fielder_runs'\n",
    "          ,'fielder_runs_advances'\n",
    "          ,'fielder_runs_hold'\n",
    "          ,'fielder_runs_hold'\n",
    "          ,'n_opp_xb'\n",
    "          ,'n_att_xb'\n",
    "          ,'rate_att_xb'\n",
    "          ,'est_rate_att_generic_runner'\n",
    "          ,'est_rate_att_generic_fielder'\n",
    "          ,'n_out'\n",
    "          ,'n_safe'\n",
    "          ,'rate_safe'\n",
    "          ,'rate_safe_per_attempt'\n",
    "         ]\n",
    "      ]"
   ]
  },
  {
   "cell_type": "code",
   "execution_count": null,
   "id": "78a45a18-710e-4064-931b-107fa7ad534e",
   "metadata": {},
   "outputs": [],
   "source": [
    "outfielders = df[df.primary_position.isin([7,8,9])]"
   ]
  },
  {
   "cell_type": "code",
   "execution_count": null,
   "id": "118c85eb-0d04-40d5-922b-4c6c1a244d24",
   "metadata": {},
   "outputs": [],
   "source": [
    "df = outfielders\n",
    "\n",
    "# Define Variables\n",
    "x = df.n_out.fillna(0) # Define x\n",
    "y = df.max_arm_strength # Define y\n",
    "r = round(x.corr(y),2) # Calculate correlation coefficient\n",
    "m, b = np.polyfit(x, y, 1) # Fit a polynomial between the two variables\n",
    "title = 'Arm Strength vs Thrown out' # Title the graph\n",
    "xlabel = 'Max Arm Strength' # Label the x axis\n",
    "ylabel = 'Number of Runners Thrown Out' # Label the y axis\n",
    "\n",
    "# Build the plot\n",
    "plt.scatter(x, y, color = '#a2a6a9', alpha = 1) # Scatter plot, intentionally made transparent\n",
    "plt.plot(x.values, (m*x + b).values, color = '#003469') # Regression line\n",
    "plt.axvline(x = x.median(), color = '#000000') # Vertical line at median of x\n",
    "plt.axhline(y = y.median(), color = '#000000') # Horizontal Line at median of y\n",
    "plt.suptitle(title, fontsize = 18, fontname = 'Verdana') # Title\n",
    "plt.title('r = {}'.format(r), fontsize = 10, fontname = 'Verdana') # Subtitle\n",
    "plt.xlabel(xlabel) # Label the x axis\n",
    "plt.ylabel(ylabel) # Label the y axis\n",
    "plt.show()"
   ]
  },
  {
   "cell_type": "code",
   "execution_count": null,
   "id": "00c688c0-97a1-4fc4-b928-4e80f08fae02",
   "metadata": {},
   "outputs": [],
   "source": [
    "df = outfielders\n",
    "df['holds'] = df.n_opp_xb - df.n_att_xb\n",
    "\n",
    "# Define Variables\n",
    "x = df.max_arm_strength # Define x\n",
    "y = df.holds.fillna(0) # Define y\n",
    "r = round(x.corr(y),2) # Calculate correlation coefficient\n",
    "m, b = np.polyfit(x, y, 1) # Fit a polynomial between the two variables\n",
    "title = 'Holds vs Arm Strength' # Title the graph\n",
    "xlabel = 'Max Arm Strength' # Label the x axis\n",
    "ylabel = 'Number of Runners Held' # Label the y axis\n",
    "\n",
    "# Build the plot\n",
    "plt.scatter(x, y, color = '#a2a6a9', alpha = 1) # Scatter plot, intentionally made transparent\n",
    "plt.plot(x.values, (m*x + b).values, color = '#003469') # Regression line\n",
    "plt.axvline(x = x.median(), color = '#000000') # Vertical line at median of x\n",
    "plt.axhline(y = y.median(), color = '#000000') # Horizontal Line at median of y\n",
    "plt.suptitle(title, fontsize = 18, fontname = 'Verdana') # Title\n",
    "plt.title('r = {}'.format(r), fontsize = 10, fontname = 'Verdana') # Subtitle\n",
    "plt.xlabel(xlabel) # Label the x axis\n",
    "plt.ylabel(ylabel) # Label the y axis\n",
    "plt.show()"
   ]
  },
  {
   "cell_type": "code",
   "execution_count": null,
   "id": "189a82ea-5e92-4aea-babe-3f18ba9266b0",
   "metadata": {},
   "outputs": [],
   "source": [
    "# More than 0 Holds\n",
    "df = df[df.holds.fillna(0) > 0]\n",
    "\n",
    "# Define Variables\n",
    "x = df.max_arm_strength # Define x\n",
    "y = df.holds # Define y\n",
    "r = round(x.corr(y),2) # Calculate correlation coefficient\n",
    "m, b = np.polyfit(x, y, 1) # Fit a polynomial between the two variables\n",
    "title = 'Holds vs Arm Strength' # Title the graph\n",
    "xlabel = 'Max Arm Strength' # Label the x axis\n",
    "ylabel = 'Number of Runners Held' # Label the y axis\n",
    "\n",
    "# Build the plot\n",
    "plt.scatter(x, y, color = '#a2a6a9', alpha = 1) # Scatter plot, intentionally made transparent\n",
    "plt.plot(x.values, (m*x + b).values, color = '#003469') # Regression line\n",
    "plt.axvline(x = x.median(), color = '#000000') # Vertical line at median of x\n",
    "plt.axhline(y = y.median(), color = '#000000') # Horizontal Line at median of y\n",
    "plt.suptitle(title, fontsize = 18, fontname = 'Verdana') # Title\n",
    "plt.title('r = {}'.format(r), fontsize = 10, fontname = 'Verdana') # Subtitle\n",
    "plt.xlabel(xlabel) # Label the x axis\n",
    "plt.ylabel(ylabel) # Label the y axis\n",
    "plt.show()"
   ]
  },
  {
   "cell_type": "code",
   "execution_count": null,
   "id": "15dc5023-f3a1-48de-bc10-a85c41faf05e",
   "metadata": {},
   "outputs": [],
   "source": [
    "# Holds as a Function of Arm Strength\n",
    "# holds = n_opp_xb - n_att_xb\n",
    "# y = holds, x = max_arm_strength"
   ]
  },
  {
   "cell_type": "code",
   "execution_count": null,
   "id": "d1975f1c-a2ed-4fad-a84f-ea60f32977e0",
   "metadata": {},
   "outputs": [],
   "source": []
  },
  {
   "cell_type": "markdown",
   "id": "3f77f0ea-009f-4d1e-93eb-90b47993fce3",
   "metadata": {},
   "source": [
    "# Phillies Grouped by Season"
   ]
  },
  {
   "cell_type": "code",
   "execution_count": 26,
   "id": "d9e61f4c-41fd-4a36-a8e6-fd889c6a2745",
   "metadata": {},
   "outputs": [],
   "source": [
    "import pandas as pd\n",
    "import numpy as np\n",
    "import matplotlib.pyplot as plt\n",
    "\n",
    "odf = pd.read_csv('phillies_offense_pitches_by_season.csv')\n",
    "pdf = pd.read_csv('phillies_pitching_pitches_by_season.csv')"
   ]
  },
  {
   "cell_type": "code",
   "execution_count": null,
   "id": "b18f1d8b-e6d9-4075-a15b-945a29d5b814",
   "metadata": {},
   "outputs": [],
   "source": [
    "odf"
   ]
  },
  {
   "cell_type": "code",
   "execution_count": null,
   "id": "52ecd5b4-5ff8-4827-97f6-b4b45b3689fb",
   "metadata": {},
   "outputs": [],
   "source": [
    "# Includes Postseason\n",
    "pos.groupby('game_year', as_index = False).agg({'description' : 'count'\n",
    "                                                ,'game_pk' : 'nunique'\n",
    "                                               }\n",
    "                                              ).rename(columns = {'description' : 'pitches'\n",
    "                                                                  ,'game_pk' : 'games'\n",
    "                                                                 }\n",
    "                                                      )"
   ]
  },
  {
   "cell_type": "code",
   "execution_count": 27,
   "id": "c43106b2-0a98-4390-8662-b70f56162bed",
   "metadata": {},
   "outputs": [
    {
     "data": {
      "text/html": [
       "<div>\n",
       "<style scoped>\n",
       "    .dataframe tbody tr th:only-of-type {\n",
       "        vertical-align: middle;\n",
       "    }\n",
       "\n",
       "    .dataframe tbody tr th {\n",
       "        vertical-align: top;\n",
       "    }\n",
       "\n",
       "    .dataframe thead th {\n",
       "        text-align: right;\n",
       "    }\n",
       "</style>\n",
       "<table border=\"1\" class=\"dataframe\">\n",
       "  <thead>\n",
       "    <tr style=\"text-align: right;\">\n",
       "      <th></th>\n",
       "      <th>pitches</th>\n",
       "      <th>player_id</th>\n",
       "      <th>player_name</th>\n",
       "      <th>year</th>\n",
       "      <th>total_pitches</th>\n",
       "      <th>pitch_percent</th>\n",
       "      <th>ba</th>\n",
       "      <th>iso</th>\n",
       "      <th>babip</th>\n",
       "      <th>slg</th>\n",
       "      <th>...</th>\n",
       "      <th>release_extension</th>\n",
       "      <th>pos3_int_start_distance</th>\n",
       "      <th>pos4_int_start_distance</th>\n",
       "      <th>pos5_int_start_distance</th>\n",
       "      <th>pos6_int_start_distance</th>\n",
       "      <th>pos7_int_start_distance</th>\n",
       "      <th>pos8_int_start_distance</th>\n",
       "      <th>pos9_int_start_distance</th>\n",
       "      <th>pitcher_run_exp</th>\n",
       "      <th>run_exp</th>\n",
       "    </tr>\n",
       "  </thead>\n",
       "  <tbody>\n",
       "    <tr>\n",
       "      <th>0</th>\n",
       "      <td>25618</td>\n",
       "      <td>143</td>\n",
       "      <td>PHI</td>\n",
       "      <td>2022</td>\n",
       "      <td>25618</td>\n",
       "      <td>100</td>\n",
       "      <td>0.242</td>\n",
       "      <td>0.144</td>\n",
       "      <td>0.300</td>\n",
       "      <td>0.386</td>\n",
       "      <td>...</td>\n",
       "      <td>6.63</td>\n",
       "      <td>110</td>\n",
       "      <td>151</td>\n",
       "      <td>119</td>\n",
       "      <td>145</td>\n",
       "      <td>297</td>\n",
       "      <td>326</td>\n",
       "      <td>291</td>\n",
       "      <td>14.0</td>\n",
       "      <td>-14.0</td>\n",
       "    </tr>\n",
       "    <tr>\n",
       "      <th>1</th>\n",
       "      <td>25442</td>\n",
       "      <td>143</td>\n",
       "      <td>PHI</td>\n",
       "      <td>2023</td>\n",
       "      <td>25442</td>\n",
       "      <td>100</td>\n",
       "      <td>0.238</td>\n",
       "      <td>0.152</td>\n",
       "      <td>0.290</td>\n",
       "      <td>0.391</td>\n",
       "      <td>...</td>\n",
       "      <td>6.56</td>\n",
       "      <td>111</td>\n",
       "      <td>147</td>\n",
       "      <td>117</td>\n",
       "      <td>148</td>\n",
       "      <td>294</td>\n",
       "      <td>323</td>\n",
       "      <td>292</td>\n",
       "      <td>77.6</td>\n",
       "      <td>-77.6</td>\n",
       "    </tr>\n",
       "    <tr>\n",
       "      <th>2</th>\n",
       "      <td>24310</td>\n",
       "      <td>143</td>\n",
       "      <td>PHI</td>\n",
       "      <td>2019</td>\n",
       "      <td>24310</td>\n",
       "      <td>100</td>\n",
       "      <td>0.261</td>\n",
       "      <td>0.192</td>\n",
       "      <td>0.301</td>\n",
       "      <td>0.453</td>\n",
       "      <td>...</td>\n",
       "      <td>6.10</td>\n",
       "      <td>110</td>\n",
       "      <td>151</td>\n",
       "      <td>117</td>\n",
       "      <td>149</td>\n",
       "      <td>299</td>\n",
       "      <td>323</td>\n",
       "      <td>294</td>\n",
       "      <td>-24.7</td>\n",
       "      <td>24.7</td>\n",
       "    </tr>\n",
       "    <tr>\n",
       "      <th>3</th>\n",
       "      <td>23972</td>\n",
       "      <td>143</td>\n",
       "      <td>PHI</td>\n",
       "      <td>2017</td>\n",
       "      <td>23972</td>\n",
       "      <td>100</td>\n",
       "      <td>0.265</td>\n",
       "      <td>0.183</td>\n",
       "      <td>0.307</td>\n",
       "      <td>0.447</td>\n",
       "      <td>...</td>\n",
       "      <td>6.25</td>\n",
       "      <td>109</td>\n",
       "      <td>151</td>\n",
       "      <td>109</td>\n",
       "      <td>148</td>\n",
       "      <td>290</td>\n",
       "      <td>314</td>\n",
       "      <td>289</td>\n",
       "      <td>-27.4</td>\n",
       "      <td>27.4</td>\n",
       "    </tr>\n",
       "    <tr>\n",
       "      <th>4</th>\n",
       "      <td>23839</td>\n",
       "      <td>143</td>\n",
       "      <td>PHI</td>\n",
       "      <td>2015</td>\n",
       "      <td>23839</td>\n",
       "      <td>100</td>\n",
       "      <td>0.280</td>\n",
       "      <td>0.165</td>\n",
       "      <td>0.319</td>\n",
       "      <td>0.445</td>\n",
       "      <td>...</td>\n",
       "      <td>6.14</td>\n",
       "      <td>110</td>\n",
       "      <td>150</td>\n",
       "      <td>110</td>\n",
       "      <td>148</td>\n",
       "      <td>289</td>\n",
       "      <td>314</td>\n",
       "      <td>289</td>\n",
       "      <td>-136.2</td>\n",
       "      <td>136.2</td>\n",
       "    </tr>\n",
       "    <tr>\n",
       "      <th>5</th>\n",
       "      <td>23836</td>\n",
       "      <td>143</td>\n",
       "      <td>PHI</td>\n",
       "      <td>2016</td>\n",
       "      <td>23836</td>\n",
       "      <td>100</td>\n",
       "      <td>0.265</td>\n",
       "      <td>0.183</td>\n",
       "      <td>0.307</td>\n",
       "      <td>0.448</td>\n",
       "      <td>...</td>\n",
       "      <td>6.12</td>\n",
       "      <td>110</td>\n",
       "      <td>149</td>\n",
       "      <td>109</td>\n",
       "      <td>147</td>\n",
       "      <td>287</td>\n",
       "      <td>314</td>\n",
       "      <td>288</td>\n",
       "      <td>-76.3</td>\n",
       "      <td>76.3</td>\n",
       "    </tr>\n",
       "    <tr>\n",
       "      <th>6</th>\n",
       "      <td>23750</td>\n",
       "      <td>143</td>\n",
       "      <td>PHI</td>\n",
       "      <td>2018</td>\n",
       "      <td>23750</td>\n",
       "      <td>100</td>\n",
       "      <td>0.249</td>\n",
       "      <td>0.158</td>\n",
       "      <td>0.306</td>\n",
       "      <td>0.407</td>\n",
       "      <td>...</td>\n",
       "      <td>6.17</td>\n",
       "      <td>107</td>\n",
       "      <td>154</td>\n",
       "      <td>112</td>\n",
       "      <td>147</td>\n",
       "      <td>295</td>\n",
       "      <td>323</td>\n",
       "      <td>293</td>\n",
       "      <td>-1.7</td>\n",
       "      <td>1.7</td>\n",
       "    </tr>\n",
       "    <tr>\n",
       "      <th>7</th>\n",
       "      <td>23739</td>\n",
       "      <td>143</td>\n",
       "      <td>PHI</td>\n",
       "      <td>2021</td>\n",
       "      <td>23739</td>\n",
       "      <td>100</td>\n",
       "      <td>0.244</td>\n",
       "      <td>0.170</td>\n",
       "      <td>0.298</td>\n",
       "      <td>0.414</td>\n",
       "      <td>...</td>\n",
       "      <td>6.60</td>\n",
       "      <td>110</td>\n",
       "      <td>151</td>\n",
       "      <td>114</td>\n",
       "      <td>148</td>\n",
       "      <td>296</td>\n",
       "      <td>323</td>\n",
       "      <td>292</td>\n",
       "      <td>-16.9</td>\n",
       "      <td>16.9</td>\n",
       "    </tr>\n",
       "    <tr>\n",
       "      <th>8</th>\n",
       "      <td>8570</td>\n",
       "      <td>143</td>\n",
       "      <td>PHI</td>\n",
       "      <td>2020</td>\n",
       "      <td>8570</td>\n",
       "      <td>100</td>\n",
       "      <td>0.279</td>\n",
       "      <td>0.189</td>\n",
       "      <td>0.344</td>\n",
       "      <td>0.468</td>\n",
       "      <td>...</td>\n",
       "      <td>6.58</td>\n",
       "      <td>110</td>\n",
       "      <td>151</td>\n",
       "      <td>118</td>\n",
       "      <td>148</td>\n",
       "      <td>296</td>\n",
       "      <td>325</td>\n",
       "      <td>294</td>\n",
       "      <td>-43.2</td>\n",
       "      <td>43.2</td>\n",
       "    </tr>\n",
       "  </tbody>\n",
       "</table>\n",
       "<p>9 rows × 34 columns</p>\n",
       "</div>"
      ],
      "text/plain": [
       "   pitches  player_id player_name  year  total_pitches  pitch_percent     ba  \\\n",
       "0    25618        143         PHI  2022          25618            100  0.242   \n",
       "1    25442        143         PHI  2023          25442            100  0.238   \n",
       "2    24310        143         PHI  2019          24310            100  0.261   \n",
       "3    23972        143         PHI  2017          23972            100  0.265   \n",
       "4    23839        143         PHI  2015          23839            100  0.280   \n",
       "5    23836        143         PHI  2016          23836            100  0.265   \n",
       "6    23750        143         PHI  2018          23750            100  0.249   \n",
       "7    23739        143         PHI  2021          23739            100  0.244   \n",
       "8     8570        143         PHI  2020           8570            100  0.279   \n",
       "\n",
       "     iso  babip    slg  ...  release_extension  pos3_int_start_distance  \\\n",
       "0  0.144  0.300  0.386  ...               6.63                      110   \n",
       "1  0.152  0.290  0.391  ...               6.56                      111   \n",
       "2  0.192  0.301  0.453  ...               6.10                      110   \n",
       "3  0.183  0.307  0.447  ...               6.25                      109   \n",
       "4  0.165  0.319  0.445  ...               6.14                      110   \n",
       "5  0.183  0.307  0.448  ...               6.12                      110   \n",
       "6  0.158  0.306  0.407  ...               6.17                      107   \n",
       "7  0.170  0.298  0.414  ...               6.60                      110   \n",
       "8  0.189  0.344  0.468  ...               6.58                      110   \n",
       "\n",
       "   pos4_int_start_distance  pos5_int_start_distance  pos6_int_start_distance  \\\n",
       "0                      151                      119                      145   \n",
       "1                      147                      117                      148   \n",
       "2                      151                      117                      149   \n",
       "3                      151                      109                      148   \n",
       "4                      150                      110                      148   \n",
       "5                      149                      109                      147   \n",
       "6                      154                      112                      147   \n",
       "7                      151                      114                      148   \n",
       "8                      151                      118                      148   \n",
       "\n",
       "   pos7_int_start_distance  pos8_int_start_distance  pos9_int_start_distance  \\\n",
       "0                      297                      326                      291   \n",
       "1                      294                      323                      292   \n",
       "2                      299                      323                      294   \n",
       "3                      290                      314                      289   \n",
       "4                      289                      314                      289   \n",
       "5                      287                      314                      288   \n",
       "6                      295                      323                      293   \n",
       "7                      296                      323                      292   \n",
       "8                      296                      325                      294   \n",
       "\n",
       "   pitcher_run_exp  run_exp  \n",
       "0             14.0    -14.0  \n",
       "1             77.6    -77.6  \n",
       "2            -24.7     24.7  \n",
       "3            -27.4     27.4  \n",
       "4           -136.2    136.2  \n",
       "5            -76.3     76.3  \n",
       "6             -1.7      1.7  \n",
       "7            -16.9     16.9  \n",
       "8            -43.2     43.2  \n",
       "\n",
       "[9 rows x 34 columns]"
      ]
     },
     "execution_count": 27,
     "metadata": {},
     "output_type": "execute_result"
    }
   ],
   "source": [
    "pdf"
   ]
  },
  {
   "cell_type": "code",
   "execution_count": 28,
   "id": "3c8f735c-53c4-496d-82a4-237684df9fe5",
   "metadata": {},
   "outputs": [
    {
     "data": {
      "text/html": [
       "<div>\n",
       "<style scoped>\n",
       "    .dataframe tbody tr th:only-of-type {\n",
       "        vertical-align: middle;\n",
       "    }\n",
       "\n",
       "    .dataframe tbody tr th {\n",
       "        vertical-align: top;\n",
       "    }\n",
       "\n",
       "    .dataframe thead th {\n",
       "        text-align: right;\n",
       "    }\n",
       "</style>\n",
       "<table border=\"1\" class=\"dataframe\">\n",
       "  <thead>\n",
       "    <tr style=\"text-align: right;\">\n",
       "      <th></th>\n",
       "      <th>game_year</th>\n",
       "      <th>pitches</th>\n",
       "      <th>games</th>\n",
       "    </tr>\n",
       "  </thead>\n",
       "  <tbody>\n",
       "    <tr>\n",
       "      <th>0</th>\n",
       "      <td>2015</td>\n",
       "      <td>23839</td>\n",
       "      <td>162</td>\n",
       "    </tr>\n",
       "    <tr>\n",
       "      <th>1</th>\n",
       "      <td>2016</td>\n",
       "      <td>23836</td>\n",
       "      <td>162</td>\n",
       "    </tr>\n",
       "    <tr>\n",
       "      <th>2</th>\n",
       "      <td>2017</td>\n",
       "      <td>23972</td>\n",
       "      <td>162</td>\n",
       "    </tr>\n",
       "    <tr>\n",
       "      <th>3</th>\n",
       "      <td>2018</td>\n",
       "      <td>23750</td>\n",
       "      <td>162</td>\n",
       "    </tr>\n",
       "    <tr>\n",
       "      <th>4</th>\n",
       "      <td>2019</td>\n",
       "      <td>24310</td>\n",
       "      <td>162</td>\n",
       "    </tr>\n",
       "    <tr>\n",
       "      <th>5</th>\n",
       "      <td>2020</td>\n",
       "      <td>8570</td>\n",
       "      <td>60</td>\n",
       "    </tr>\n",
       "    <tr>\n",
       "      <th>6</th>\n",
       "      <td>2021</td>\n",
       "      <td>23739</td>\n",
       "      <td>162</td>\n",
       "    </tr>\n",
       "    <tr>\n",
       "      <th>7</th>\n",
       "      <td>2022</td>\n",
       "      <td>28003</td>\n",
       "      <td>179</td>\n",
       "    </tr>\n",
       "    <tr>\n",
       "      <th>8</th>\n",
       "      <td>2023</td>\n",
       "      <td>27221</td>\n",
       "      <td>175</td>\n",
       "    </tr>\n",
       "  </tbody>\n",
       "</table>\n",
       "</div>"
      ],
      "text/plain": [
       "   game_year  pitches  games\n",
       "0       2015    23839    162\n",
       "1       2016    23836    162\n",
       "2       2017    23972    162\n",
       "3       2018    23750    162\n",
       "4       2019    24310    162\n",
       "5       2020     8570     60\n",
       "6       2021    23739    162\n",
       "7       2022    28003    179\n",
       "8       2023    27221    175"
      ]
     },
     "execution_count": 28,
     "metadata": {},
     "output_type": "execute_result"
    }
   ],
   "source": [
    "# Includes Postseason\n",
    "pps.groupby('game_year', as_index = False).agg({'description' : 'count'\n",
    "                                                ,'game_pk' : 'nunique'\n",
    "                                               }\n",
    "                                              ).rename(columns = {'description' : 'pitches'\n",
    "                                                                  ,'game_pk' : 'games'\n",
    "                                                                 }\n",
    "                                                      )"
   ]
  },
  {
   "cell_type": "markdown",
   "id": "867322d0-6f5e-4bbd-ae94-ea812d0f7725",
   "metadata": {},
   "source": [
    "# Leaguewide Statcast Data"
   ]
  },
  {
   "cell_type": "code",
   "execution_count": 62,
   "id": "db01d4de-34be-4f55-ac6c-8795dd918c9b",
   "metadata": {},
   "outputs": [],
   "source": [
    "df = pd.read_csv('league_sc_data.csv')"
   ]
  },
  {
   "cell_type": "code",
   "execution_count": 63,
   "id": "89db14aa-4b03-4839-b7ce-3de5a2f1e59c",
   "metadata": {},
   "outputs": [],
   "source": [
    "df = df.loc[:, ['player_name'\n",
    "           ,'year'\n",
    "           ,'total_pitches'\n",
    "           ,'ba'\n",
    "           ,'xba'\n",
    "           ,'woba'\n",
    "           ,'xwoba'\n",
    "           ,'iso'\n",
    "           ,'babip'\n",
    "           ,'slg'\n",
    "           ,'launch_speed'\n",
    "           ,'launch_angle'\n",
    "           ,'spin_rate'\n",
    "           ,'velocity'\n",
    "          ]\n",
    "      ]\n",
    "           "
   ]
  },
  {
   "cell_type": "code",
   "execution_count": 64,
   "id": "87c12232-628b-4aee-9953-acaab97579a6",
   "metadata": {},
   "outputs": [
    {
     "data": {
      "text/html": [
       "<div>\n",
       "<style scoped>\n",
       "    .dataframe tbody tr th:only-of-type {\n",
       "        vertical-align: middle;\n",
       "    }\n",
       "\n",
       "    .dataframe tbody tr th {\n",
       "        vertical-align: top;\n",
       "    }\n",
       "\n",
       "    .dataframe thead th {\n",
       "        text-align: right;\n",
       "    }\n",
       "</style>\n",
       "<table border=\"1\" class=\"dataframe\">\n",
       "  <thead>\n",
       "    <tr style=\"text-align: right;\">\n",
       "      <th></th>\n",
       "      <th>player_name</th>\n",
       "      <th>year</th>\n",
       "      <th>total_pitches</th>\n",
       "      <th>ba</th>\n",
       "      <th>xba</th>\n",
       "      <th>woba</th>\n",
       "      <th>xwoba</th>\n",
       "      <th>iso</th>\n",
       "      <th>babip</th>\n",
       "      <th>slg</th>\n",
       "      <th>launch_speed</th>\n",
       "      <th>launch_angle</th>\n",
       "      <th>spin_rate</th>\n",
       "      <th>velocity</th>\n",
       "    </tr>\n",
       "  </thead>\n",
       "  <tbody>\n",
       "    <tr>\n",
       "      <th>0</th>\n",
       "      <td>League</td>\n",
       "      <td>2019</td>\n",
       "      <td>743572</td>\n",
       "      <td>0.254</td>\n",
       "      <td>0.247</td>\n",
       "      <td>0.323</td>\n",
       "      <td>0.321</td>\n",
       "      <td>0.187</td>\n",
       "      <td>0.299</td>\n",
       "      <td>0.441</td>\n",
       "      <td>88.7</td>\n",
       "      <td>13.1</td>\n",
       "      <td>2249</td>\n",
       "      <td>88.5</td>\n",
       "    </tr>\n",
       "    <tr>\n",
       "      <th>1</th>\n",
       "      <td>League</td>\n",
       "      <td>2017</td>\n",
       "      <td>732477</td>\n",
       "      <td>0.254</td>\n",
       "      <td>0.250</td>\n",
       "      <td>0.320</td>\n",
       "      <td>0.320</td>\n",
       "      <td>0.172</td>\n",
       "      <td>0.297</td>\n",
       "      <td>0.426</td>\n",
       "      <td>87.5</td>\n",
       "      <td>12.4</td>\n",
       "      <td>2236</td>\n",
       "      <td>88.5</td>\n",
       "    </tr>\n",
       "    <tr>\n",
       "      <th>2</th>\n",
       "      <td>League</td>\n",
       "      <td>2018</td>\n",
       "      <td>731207</td>\n",
       "      <td>0.250</td>\n",
       "      <td>0.244</td>\n",
       "      <td>0.318</td>\n",
       "      <td>0.317</td>\n",
       "      <td>0.167</td>\n",
       "      <td>0.296</td>\n",
       "      <td>0.417</td>\n",
       "      <td>88.4</td>\n",
       "      <td>12.8</td>\n",
       "      <td>2235</td>\n",
       "      <td>88.5</td>\n",
       "    </tr>\n",
       "    <tr>\n",
       "      <th>3</th>\n",
       "      <td>League</td>\n",
       "      <td>2023</td>\n",
       "      <td>729774</td>\n",
       "      <td>0.246</td>\n",
       "      <td>0.245</td>\n",
       "      <td>0.316</td>\n",
       "      <td>0.318</td>\n",
       "      <td>0.165</td>\n",
       "      <td>0.294</td>\n",
       "      <td>0.411</td>\n",
       "      <td>88.6</td>\n",
       "      <td>13.0</td>\n",
       "      <td>2248</td>\n",
       "      <td>89.1</td>\n",
       "    </tr>\n",
       "    <tr>\n",
       "      <th>5</th>\n",
       "      <td>League</td>\n",
       "      <td>2016</td>\n",
       "      <td>726021</td>\n",
       "      <td>0.256</td>\n",
       "      <td>0.249</td>\n",
       "      <td>0.319</td>\n",
       "      <td>0.316</td>\n",
       "      <td>0.165</td>\n",
       "      <td>0.299</td>\n",
       "      <td>0.421</td>\n",
       "      <td>88.5</td>\n",
       "      <td>11.8</td>\n",
       "      <td>2201</td>\n",
       "      <td>88.4</td>\n",
       "    </tr>\n",
       "    <tr>\n",
       "      <th>4</th>\n",
       "      <td>League</td>\n",
       "      <td>2021</td>\n",
       "      <td>720638</td>\n",
       "      <td>0.246</td>\n",
       "      <td>0.245</td>\n",
       "      <td>0.316</td>\n",
       "      <td>0.320</td>\n",
       "      <td>0.168</td>\n",
       "      <td>0.293</td>\n",
       "      <td>0.414</td>\n",
       "      <td>88.5</td>\n",
       "      <td>12.8</td>\n",
       "      <td>2223</td>\n",
       "      <td>88.8</td>\n",
       "    </tr>\n",
       "    <tr>\n",
       "      <th>7</th>\n",
       "      <td>League</td>\n",
       "      <td>2022</td>\n",
       "      <td>720272</td>\n",
       "      <td>0.241</td>\n",
       "      <td>0.240</td>\n",
       "      <td>0.306</td>\n",
       "      <td>0.309</td>\n",
       "      <td>0.149</td>\n",
       "      <td>0.287</td>\n",
       "      <td>0.390</td>\n",
       "      <td>88.2</td>\n",
       "      <td>12.7</td>\n",
       "      <td>2244</td>\n",
       "      <td>88.8</td>\n",
       "    </tr>\n",
       "    <tr>\n",
       "      <th>6</th>\n",
       "      <td>League</td>\n",
       "      <td>2015</td>\n",
       "      <td>712839</td>\n",
       "      <td>0.253</td>\n",
       "      <td>0.246</td>\n",
       "      <td>0.313</td>\n",
       "      <td>0.311</td>\n",
       "      <td>0.153</td>\n",
       "      <td>0.295</td>\n",
       "      <td>0.406</td>\n",
       "      <td>88.1</td>\n",
       "      <td>11.4</td>\n",
       "      <td>2135</td>\n",
       "      <td>88.5</td>\n",
       "    </tr>\n",
       "    <tr>\n",
       "      <th>8</th>\n",
       "      <td>League</td>\n",
       "      <td>2020</td>\n",
       "      <td>279660</td>\n",
       "      <td>0.244</td>\n",
       "      <td>0.244</td>\n",
       "      <td>0.319</td>\n",
       "      <td>0.323</td>\n",
       "      <td>0.173</td>\n",
       "      <td>0.291</td>\n",
       "      <td>0.417</td>\n",
       "      <td>88.1</td>\n",
       "      <td>12.7</td>\n",
       "      <td>2239</td>\n",
       "      <td>88.3</td>\n",
       "    </tr>\n",
       "  </tbody>\n",
       "</table>\n",
       "</div>"
      ],
      "text/plain": [
       "  player_name  year  total_pitches     ba    xba   woba  xwoba    iso  babip  \\\n",
       "0      League  2019         743572  0.254  0.247  0.323  0.321  0.187  0.299   \n",
       "1      League  2017         732477  0.254  0.250  0.320  0.320  0.172  0.297   \n",
       "2      League  2018         731207  0.250  0.244  0.318  0.317  0.167  0.296   \n",
       "3      League  2023         729774  0.246  0.245  0.316  0.318  0.165  0.294   \n",
       "5      League  2016         726021  0.256  0.249  0.319  0.316  0.165  0.299   \n",
       "4      League  2021         720638  0.246  0.245  0.316  0.320  0.168  0.293   \n",
       "7      League  2022         720272  0.241  0.240  0.306  0.309  0.149  0.287   \n",
       "6      League  2015         712839  0.253  0.246  0.313  0.311  0.153  0.295   \n",
       "8      League  2020         279660  0.244  0.244  0.319  0.323  0.173  0.291   \n",
       "\n",
       "     slg  launch_speed  launch_angle  spin_rate  velocity  \n",
       "0  0.441          88.7          13.1       2249      88.5  \n",
       "1  0.426          87.5          12.4       2236      88.5  \n",
       "2  0.417          88.4          12.8       2235      88.5  \n",
       "3  0.411          88.6          13.0       2248      89.1  \n",
       "5  0.421          88.5          11.8       2201      88.4  \n",
       "4  0.414          88.5          12.8       2223      88.8  \n",
       "7  0.390          88.2          12.7       2244      88.8  \n",
       "6  0.406          88.1          11.4       2135      88.5  \n",
       "8  0.417          88.1          12.7       2239      88.3  "
      ]
     },
     "execution_count": 64,
     "metadata": {},
     "output_type": "execute_result"
    }
   ],
   "source": [
    "df.sort_values(by='total_pitches',ascending = False)"
   ]
  },
  {
   "cell_type": "markdown",
   "id": "795cda37-6118-4a6c-8378-5c4538a07892",
   "metadata": {},
   "source": [
    "# Phillies Statcast Data"
   ]
  },
  {
   "cell_type": "code",
   "execution_count": 5,
   "id": "a2cc7e2a-7549-48b6-94a0-a459b9812a13",
   "metadata": {},
   "outputs": [
    {
     "data": {
      "text/plain": [
       "(26236, 25618)"
      ]
     },
     "execution_count": 5,
     "metadata": {},
     "output_type": "execute_result"
    }
   ],
   "source": [
    "import pandas as pd\n",
    "import numpy as np\n",
    "import matplotlib.pyplot as plt\n",
    "\n",
    "reg_po22 = pd.read_csv('reg_po22.csv')\n",
    "reg_pp22 = pd.read_csv('reg_pp22.csv')\n",
    "post_po22 = pd.read_csv('post_po22.csv')\n",
    "post_pp22 = pd.read_csv('post_pp22.csv')\n",
    "\n",
    "po22 = pd.concat([reg_po22, post_po22])\n",
    "pp22 = pd.concat([reg_pp22, post_pp22])\n",
    "\n",
    "len(po22), len(pp22)"
   ]
  },
  {
   "cell_type": "code",
   "execution_count": 6,
   "id": "f6e83b2c-399e-4347-9686-303cc9becbc4",
   "metadata": {},
   "outputs": [
    {
     "ename": "NameError",
     "evalue": "name 'odf' is not defined",
     "output_type": "error",
     "traceback": [
      "\u001b[1;31m---------------------------------------------------------------------------\u001b[0m",
      "\u001b[1;31mNameError\u001b[0m                                 Traceback (most recent call last)",
      "Input \u001b[1;32mIn [6]\u001b[0m, in \u001b[0;36m<cell line: 1>\u001b[1;34m()\u001b[0m\n\u001b[1;32m----> 1\u001b[0m \u001b[43modf\u001b[49m[odf\u001b[38;5;241m.\u001b[39myear \u001b[38;5;241m==\u001b[39m \u001b[38;5;241m2022\u001b[39m]\u001b[38;5;241m.\u001b[39mtotal_pitches, pdf[pdf\u001b[38;5;241m.\u001b[39myear \u001b[38;5;241m==\u001b[39m \u001b[38;5;241m2022\u001b[39m]\u001b[38;5;241m.\u001b[39mpitches\n",
      "\u001b[1;31mNameError\u001b[0m: name 'odf' is not defined"
     ]
    }
   ],
   "source": [
    "odf[odf.year == 2022].total_pitches, pdf[pdf.year == 2022].pitches"
   ]
  },
  {
   "cell_type": "code",
   "execution_count": 7,
   "id": "e1c1aa48-0f72-47b9-8696-dfadf8ad19a8",
   "metadata": {},
   "outputs": [
    {
     "ename": "NameError",
     "evalue": "name 'odf' is not defined",
     "output_type": "error",
     "traceback": [
      "\u001b[1;31m---------------------------------------------------------------------------\u001b[0m",
      "\u001b[1;31mNameError\u001b[0m                                 Traceback (most recent call last)",
      "Input \u001b[1;32mIn [7]\u001b[0m, in \u001b[0;36m<cell line: 9>\u001b[1;34m()\u001b[0m\n\u001b[0;32m      6\u001b[0m po23 \u001b[38;5;241m=\u001b[39m pd\u001b[38;5;241m.\u001b[39mconcat([reg_po23, post_po23])\n\u001b[0;32m      7\u001b[0m pp23 \u001b[38;5;241m=\u001b[39m pd\u001b[38;5;241m.\u001b[39mconcat([reg_pp23, post_pp23])\n\u001b[1;32m----> 9\u001b[0m \u001b[38;5;28mlen\u001b[39m(po23), \u001b[43modf\u001b[49m[odf\u001b[38;5;241m.\u001b[39myear \u001b[38;5;241m==\u001b[39m \u001b[38;5;241m2023\u001b[39m]\u001b[38;5;241m.\u001b[39mtotal_pitches, \u001b[38;5;28mlen\u001b[39m(pp23), pdf[pdf\u001b[38;5;241m.\u001b[39myear \u001b[38;5;241m==\u001b[39m \u001b[38;5;241m2023\u001b[39m]\u001b[38;5;241m.\u001b[39mpitches\n",
      "\u001b[1;31mNameError\u001b[0m: name 'odf' is not defined"
     ]
    }
   ],
   "source": [
    "reg_po23 = pd.read_csv('reg_po23.csv')\n",
    "reg_pp23 = pd.read_csv('reg_pp23.csv')\n",
    "post_po23 = pd.read_csv('post_po23.csv')\n",
    "post_pp23 = pd.read_csv('post_pp23.csv')\n",
    "\n",
    "po23 = pd.concat([reg_po23, post_po23])\n",
    "pp23 = pd.concat([reg_pp23, post_pp23])\n",
    "\n",
    "len(po23), odf[odf.year == 2023].total_pitches, len(pp23), pdf[pdf.year == 2023].pitches"
   ]
  },
  {
   "cell_type": "code",
   "execution_count": null,
   "id": "1fd49b5f-ede6-44f2-a3f8-817d9b182ca2",
   "metadata": {},
   "outputs": [],
   "source": [
    "odf.loc[: , ['year', 'xba']]"
   ]
  },
  {
   "cell_type": "markdown",
   "id": "62234e3a-23a0-49dd-b289-df8f7e674e80",
   "metadata": {},
   "source": [
    "# Players w Full History\n",
    "Any Phillies player on the 40 man. <br>\n",
    "- Harper <br>\n",
    "- Schwarber <br>\n",
    "- Turner <br>\n",
    "- Nick Castellanoa <br>\n",
    "- Edmundo Sosa <br>\n",
    "- Cristian Pache <br>\n",
    "- Brandon Marsh <br>\n",
    "- Garrett Stubbs <br>\n",
    "- J.T. Realmuto <br>\n",
    "- Jake Cave <br>\n",
    "- Kody Clemens <br>\n",
    "- Rodolfo Castro <br>\n",
    "\n",
    "Historical: <br>\n",
    "- Jean Segura <br>\n",
    "- Chase Utley <br>\n",
    "- J.P. Crawford <br>\n",
    "- Jimmy Rollins <br>\n",
    "- Jorge Alfaro <br>\n",
    "- Andrew McCutchen <br>\n",
    "- Roman Quinn <br>\n",
    "- Carlos Santana <br>\n",
    "\n",
    "- **Pitchers** <br>\n",
    "40 Man: <br>\n",
    "- Jose Alvarado <br>\n",
    "- Gregory Soto <br>\n",
    "- Matt Strahm <br>\n",
    "- Andrew Bellatti <br>\n",
    "- Yunior Marte <br>\n",
    "- Taijuan Walker <br>\n",
    "- Dylan Covey <br>\n",
    "- Jeff Hoffman - We rode his hot hand last year<br>\n",
    "- Nick Nelson - due for positive regression<br> \n",
    "- Luis F. Ortiz <br>\n",
    "- Zack Wheeler <br>\n",
    "\n",
    "Historical: <br>\n",
    "- Zach Eflin <br>\n",
    "- Craig Kimbrel <br>\n",
    "- Yacksel Rios <br>\n",
    "- Enyel De Los Santos <br>\n",
    "- Spencer Howard <br>\n",
    "- Jerad Eickhoff <br>\n",
    "- Jojo Romero <br>\n",
    "- Cole Hamels <br>\n",
    "- Charlie Morton <br>\n",
    "- Chase Anderson - how similar was he to a 2016-18 Eickhoff/Hellickson/Nola/year?<br>\n",
    "- Matt Moore <br>\n",
    "- Brad Hand - compare to idiot fucking relievers from 15-19 <br>\n",
    "- Hector Neris <br>\n",
    "- Ken \"100 Miles\" Giles <br>\n",
    "- Jake Diekman <br>\n",
    "- Jeanmar Gomez <br>"
   ]
  },
  {
   "cell_type": "markdown",
   "id": "dda09a50-bff8-4a98-b546-fad7a2866a20",
   "metadata": {},
   "source": [
    "# Loop Through List of Levels to Generate the Stats of all the possible levels"
   ]
  },
  {
   "cell_type": "code",
   "execution_count": null,
   "id": "7b96d87e-ff07-4e3a-8176-86ff079ae80d",
   "metadata": {},
   "outputs": [],
   "source": [
    "df = phillies_offense"
   ]
  },
  {
   "cell_type": "code",
   "execution_count": null,
   "id": "2f54343d-34a2-43ef-a65b-4e22c204dc27",
   "metadata": {},
   "outputs": [],
   "source": [
    "levels = df.columns.tolist()"
   ]
  },
  {
   "cell_type": "code",
   "execution_count": null,
   "id": "6993b1cd-c857-48d3-81b4-f7e0142777d2",
   "metadata": {},
   "outputs": [],
   "source": [
    "# should look for index values\n",
    "\n",
    "x = 0\n",
    "df.iloc[0:15,x:x+10]\n",
    "\n"
   ]
  },
  {
   "cell_type": "markdown",
   "id": "07b6576f-adad-4396-9c69-be0fce228961",
   "metadata": {},
   "source": [
    "pull league average in too if available <br>\n",
    "pull historical phillies average in"
   ]
  },
  {
   "cell_type": "code",
   "execution_count": null,
   "id": "59cdf981-5f0a-4770-98d7-227edafec4be",
   "metadata": {},
   "outputs": [],
   "source": [
    "players = get_stats('player_name',df)\n",
    "team = get_stats('game_year',df)\n",
    "df = pd.concat([players,team])\n",
    "df.reset_index(drop = True, inplace = True)\n",
    "df.iloc[17,0] = 'Phillies'"
   ]
  },
  {
   "cell_type": "code",
   "execution_count": null,
   "id": "ebf0448f-a59f-43ee-9076-6412cf43ed07",
   "metadata": {},
   "outputs": [],
   "source": [
    "ballparks = get_stats('home_team',phillies_offense)\n",
    "bpks = measure_calcs(ballparks)#[ballparks.home_team == 'PHI']"
   ]
  },
  {
   "cell_type": "code",
   "execution_count": null,
   "id": "c355e3d3-2628-4465-b655-a40f3410d190",
   "metadata": {},
   "outputs": [],
   "source": [
    "bpks.iloc[:,0:]"
   ]
  },
  {
   "cell_type": "code",
   "execution_count": null,
   "id": "e2306b4d-4f6a-47ea-a6bb-0d1b7d1cc2d3",
   "metadata": {},
   "outputs": [],
   "source": [
    "bpks[['home_team','pitches','plate_apps','woba']].sort_values(by='woba',ascending = False)"
   ]
  },
  {
   "cell_type": "code",
   "execution_count": null,
   "id": "52d9ef56-ec4f-4ba4-bb79-8fae46fd2ac4",
   "metadata": {},
   "outputs": [],
   "source": [
    "df = measure_calcs(df)"
   ]
  },
  {
   "cell_type": "code",
   "execution_count": null,
   "id": "18c594ca-e728-4d5b-8807-20a17adcbaa4",
   "metadata": {},
   "outputs": [],
   "source": [
    "df.iloc[:,0:12]"
   ]
  },
  {
   "cell_type": "code",
   "execution_count": null,
   "id": "ab370c09-c9a1-4fd0-81b7-b18cd368eb78",
   "metadata": {},
   "outputs": [],
   "source": [
    "df.iloc[:, [0,12,13,14,15,16,17,18,19,20,21,22,23]]"
   ]
  },
  {
   "cell_type": "code",
   "execution_count": null,
   "id": "84939325-7995-4e1c-9c2d-832f29482f5e",
   "metadata": {},
   "outputs": [],
   "source": [
    "x = 20\n",
    "df.iloc[:,x:x+10]"
   ]
  },
  {
   "cell_type": "code",
   "execution_count": null,
   "id": "e3986bd4-ace1-46c5-86d3-a6159f28bae0",
   "metadata": {},
   "outputs": [],
   "source": [
    "df.loc[:,'player_name'"
   ]
  },
  {
   "cell_type": "markdown",
   "id": "2404a49b-56d8-4f10-baa9-05fe194142de",
   "metadata": {},
   "source": [
    "# Yo DOWN HERE, K DAWG"
   ]
  },
  {
   "cell_type": "code",
   "execution_count": null,
   "id": "5b39f6fc-7336-4443-827c-a122171b31a0",
   "metadata": {},
   "outputs": [],
   "source": [
    "levels = df.loc[:, ['pitch_type' # team against fastballs vs breaking\n",
    "                    ,'game_date' # seasonal trends, months, days of week, stretches of days\n",
    "                    ,'player_name' # batter at the dish\n",
    "                    ,'batter' # id for player_name field\n",
    "                    ,'pitcher' # will need lookup table for pitcher ids\n",
    "                    ,'events' # could then filter, really shouldn't need to with measure calcs\n",
    "                    ,'zone' # Look up baseball savant strike zone\n",
    "                    ,'stand' # for switch hitters\n",
    "                    ,'p_throws' # lefty-right splits\n",
    "                    ,'home_team' # CBP\n",
    "                    ,'away_team' # Why is JT so good away from home?\n",
    "                    ,'type' # batted ball vs non\n",
    "                    ,'hit_location'\n",
    "                    ,'bb_type' # liner, grounder, fly ball\n",
    "                    ,'balls'\n",
    "                    ,'strikes'\n",
    "                    # create a count field\n",
    "                    ,'game_year' # for team total\n",
    "                    ,'\n",
    "                   ]\n",
    "               ]"
   ]
  },
  {
   "cell_type": "code",
   "execution_count": null,
   "id": "11a0f287-8366-4025-b307-364cee4f1d4c",
   "metadata": {},
   "outputs": [],
   "source": []
  },
  {
   "cell_type": "code",
   "execution_count": null,
   "id": "7d2aa542-6869-4fcb-97fe-b68fbe9d76ff",
   "metadata": {},
   "outputs": [],
   "source": [
    "# This is giving you an idea of the defense played against you. Instead you want to look at it from the perspective of the Phillies batter.\n",
    "# That batter will just be player_name"
   ]
  },
  {
   "cell_type": "code",
   "execution_count": null,
   "id": "276e15fc-b308-4359-ab54-92716fb0e2a1",
   "metadata": {},
   "outputs": [],
   "source": [
    "for l in levels:\n",
    "    print(l)"
   ]
  },
  {
   "cell_type": "code",
   "execution_count": null,
   "id": "caf9f8b7-27c6-446c-a352-b92b5b7e075b",
   "metadata": {},
   "outputs": [],
   "source": [
    "longest_hr = batting[batting.hit_distance_sc == batting.hit_distance_sc.max()]"
   ]
  },
  {
   "cell_type": "code",
   "execution_count": null,
   "id": "8fa0ebbe-84a6-453e-aa64-849416145a9f",
   "metadata": {},
   "outputs": [],
   "source": [
    "maxEV = batting[batting.launch_speed == batting.launch_speed.max()]"
   ]
  },
  {
   "cell_type": "code",
   "execution_count": null,
   "id": "13423ecc-e7a8-419b-b5ce-632f939067f0",
   "metadata": {},
   "outputs": [],
   "source": [
    "maxEV_in_play = batting[batting[batting.description != 'foul'].launch_speed \n",
    "                        == batting[batting.description != 'foul'].launch_speed.max()]"
   ]
  },
  {
   "cell_type": "code",
   "execution_count": null,
   "id": "a1af5745-bae0-4927-a8c4-87937a6683b6",
   "metadata": {},
   "outputs": [],
   "source": [
    "# Optimal Launch Angle\n",
    "# Optimizing With \n",
    "def ola():\n",
    "    \n",
    "    \n",
    "    \n",
    "    \n",
    "optimal_launch_angle = batting[batting.launch_angle == ola(batting.launch_angle)]"
   ]
  },
  {
   "cell_type": "code",
   "execution_count": null,
   "id": "8a1e7a1a-3bda-40bd-9d5f-0cdf5ce43d70",
   "metadata": {},
   "outputs": [],
   "source": [
    "optimal_evla = batting[batting.launch_angle == evla(batting.launch_angle)]"
   ]
  },
  {
   "cell_type": "code",
   "execution_count": null,
   "id": "090480cf-c4c3-4886-aa15-da3741c3fedd",
   "metadata": {},
   "outputs": [],
   "source": [
    "batting_stats = ['hit_distance_sc', 'launch_speed', 'launch_angle', 'effective_speed','release_spin_rate']"
   ]
  },
  {
   "cell_type": "code",
   "execution_count": null,
   "id": "1b8235d9-578f-4eac-9edf-23c4a18f2f27",
   "metadata": {},
   "outputs": [],
   "source": [
    "b = batting_stats[0]\n",
    "pitching[pitching.b == pitching.b,max()]"
   ]
  },
  {
   "cell_type": "code",
   "execution_count": null,
   "id": "320a4c65-dd59-4b1e-b940-0370befda664",
   "metadata": {},
   "outputs": [],
   "source": [
    "measure_calcs()"
   ]
  },
  {
   "cell_type": "code",
   "execution_count": null,
   "id": "880b23b1-ac82-4723-a541-1d8e6abd8e47",
   "metadata": {},
   "outputs": [],
   "source": [
    "phils_batter_ids = reg2023.groupby('player_name').agg({'batter' : 'max'}).reset_index().rename(columns = {'batter' : 'id'})"
   ]
  },
  {
   "cell_type": "code",
   "execution_count": null,
   "id": "c004e7ee-1fee-4a38-90c5-8f8fd0c28222",
   "metadata": {},
   "outputs": [],
   "source": []
  },
  {
   "cell_type": "markdown",
   "id": "bbd444b8-9547-4836-9e7e-59b87e8f766d",
   "metadata": {},
   "source": [
    "# Pitcher Share of Total Pitches vs Percent of Career Spent with Phillies"
   ]
  },
  {
   "cell_type": "code",
   "execution_count": 89,
   "id": "a1cbefec-7b88-4e8f-a28a-ec5a24fa9ff1",
   "metadata": {},
   "outputs": [
    {
     "ename": "IndentationError",
     "evalue": "unexpected indent (3372967974.py, line 96)",
     "output_type": "error",
     "traceback": [
      "\u001b[1;36m  Input \u001b[1;32mIn [89]\u001b[1;36m\u001b[0m\n\u001b[1;33m    :\u001b[0m\n\u001b[1;37m    ^\u001b[0m\n\u001b[1;31mIndentationError\u001b[0m\u001b[1;31m:\u001b[0m unexpected indent\n"
     ]
    }
   ],
   "source": [
    "import pandas as pd\n",
    "import glob\n",
    "import os\n",
    "import numpy as np\n",
    "import matplotlib.pyplot as plt\n",
    "import warnings\n",
    "warnings.filterwarnings('ignore')\n",
    "\n",
    "%run \"Baseball Functions.ipynb\"\n",
    "woba_weights = pd.read_csv('wOBA and FIP Constants.csv')\n",
    "\n",
    "# Load All Non-Phillies Player Data\n",
    "np_files = [i for i in glob.glob('*_np.csv')]\n",
    "nphl = pd.DataFrame()\n",
    "for f in np_files:\n",
    "    df = pd.read_csv(f)\n",
    "    nphl = pd.concat([nphl,df])\n",
    "\n",
    "nphl.groupby(['player_name','game_year'],as_index=False\n",
    "          ).agg({'game_pk' : 'nunique'\n",
    "                 ,'des' : 'count'\n",
    "                } ## Group by player and year, count(distinct game_pk), count(1) pitches\n",
    "               ).rename(columns = {'game_pk' : 'games'\n",
    "                                   ,'des' : 'pitches'\n",
    "                                  }\n",
    "                       ) # Roughly 212 Player/Years of Non-Phillies Data\n",
    "\n",
    "\n",
    "nphl['source'] = 'n'\n",
    "\n",
    "print('Length of np dataframe: ' + str(len(nphl)))    \n",
    "\n",
    "# Load Phillies Player Data With Function I wrote lol\n",
    "phils_sc, pos, pps = get_phillies_data()\n",
    "\n",
    "# My Filtering Function\n",
    "df = phils_sc\n",
    "field = 'game_year'\n",
    "criteria = 2020\n",
    "def ks_filter(df,field,criteria):\n",
    "    df = df[df[field] == criteria]\n",
    "    return df\n",
    "\n",
    "ks_filter(pd.concat([phils_sc,nphl]),'player_name','Harper, Bryce')\n",
    "    \n",
    "\n",
    "# This is something else:\n",
    "batter_ids = df.batter.unique().tolist()\n",
    "\n",
    "pitcher_ids = df.pitcher.unique().tolist()\n",
    "\n",
    "phl_batter_ids = pos.batter.unique().tolist()\n",
    "\n",
    "phl_pitcher_ids = pps.pitcher.unique().tolist()\n",
    "\n",
    "user_input = 'Harper, Bryce'\n",
    "\n",
    "harper_phils = pos[pos.player_name == user_input]\n",
    "\n",
    "harper_id = harper_phils.batter.iloc[0]\n",
    "harper_id\n",
    "\n",
    "harper_non_phils = nphl[nphl.batter == harper_id]\n",
    "\n",
    "harper = pd.concat([harper_non_phils, harper_phils])\n",
    "len(harper), len(harper_non_phils), len(harper_phils)\n",
    "\n",
    "\n",
    "\n",
    "harper = harper[harper.player_name == user_input]\n",
    "vs_harper = harper[harper.player_name != user_input]\n",
    "\n",
    "# Call Results Function\n",
    "# Career Results\n",
    "x = harper\n",
    "df = last_pitch_abs(x)\n",
    "level = 'player_name'\n",
    "results(level)\n",
    "# I can determine Bryce Harper's xwoba from estimated_woba_using_speedangle. \n",
    "# Train a really good model on the estimated_woba_using_speedangle. \n",
    "# Analyze the variance to accurate xwoba to determine a model for xwoba\n",
    "# I don't think that makes a lick of fucking sense, Kellen.That will vary from the True Woba\n",
    "\n",
    "#### Through 20.5K pitches seen by Bryce Harper in the Statcast ERA, he has hit 263 home runs. I am not even going all the way back to the \n",
    "\n",
    "# So look at some Result Ratios:\n",
    "df = harper_sc = results(level)\n",
    "\n",
    "df\n",
    "\n",
    "df['hr-to-pitch'] = df.hrs / df.pitches\n",
    "df['hr-to-pa'] = df.hrs / df.plate_apps\n",
    "df['hr-to-bip'] = df.hrs / df.bip\n",
    "cx = 'hrs'\n",
    "cy = 'hits'\n",
    "df['{}-to-{}'.format(cx,cy)] = df[cx] / df[cy]\n",
    "\n",
    "# In the statcast era, Bryce Harper's home runs per season rate is averaging\n",
    "\n",
    "# Focus on Output, then explain with the inputs.\n",
    "\n",
    " :\n",
    "\n",
    "harper.groupby(['game_year'], as_index = False).agg({'description' : 'count'\n",
    "                                                     ,'game_pk' : 'nunique'\n",
    "                                                    }).rename(columns = {'description' : 'pitches'\n",
    "                                                                         ,'game_pk' : 'games'\n",
    "                                                                         , : 'plate_apps'\n",
    "                                                                        })\n",
    "\n",
    "harper.groupby('game_year', as_index = False).agg({'description' : 'count'\n",
    "                                                   , : 'nunique'\n",
    "\n",
    "print('Home Run to Plate Appearance: ', df['hr-to-pitch'].iloc[0].round(3))\n",
    "\n",
    "print('Games to Season: ', df['game_pk-to-game_year'].iloc[0].round(3))\n",
    "\n",
    "## there is no way my xWOBA calculation is correct\n",
    "\n",
    "# let's investigate\n",
    "\n",
    "xwobas = pd.read_csv('savant_data.csv')\n",
    "\n",
    "\n",
    "\n",
    "\n",
    "\n",
    "\n",
    "\n",
    "# Loop This Through The List of Available Fields And Criterias!\n",
    "for f,c in zip(fields,criterion):\n",
    "    \n",
    "\n",
    "# Pitches by Year\n",
    "df = pitches_by_year = phils_sc[phils_sc == criteria].groupby('game_year',as_index=False).agg({'player_name' : 'count'})\n",
    "\n",
    "phils_sc[phils_sc.player_name.count() == max(phils_sc.player_name.count())]\n",
    "\n",
    "# filter to Phillies Player I am examining:\n",
    "player = 'Harper, Brcye'\n",
    "df = harper_phils = phils_sc[phils_sc.player_name == player]\n",
    "len(harper_phils)\n",
    "df.merge(nphl[nphl.player_name == player], left_on = 'player_name', right_on = 'player_name', suffixes = ('_ph','np'))\n",
    "\n",
    "# Load All Phillies Player Data\n",
    "# This fucks up current year data!\n",
    "# Because of the additional name with reg and post\n",
    "pos = pd.DataFrame()\n",
    "pps = pd.DataFrame()\n",
    "phils_sc = pd.DataFrame()\n",
    "\n",
    "for k in ['15','16','17','18','19','20','21','22','23']:\n",
    "    po = [i for i in glob.glob('*po{}.csv'.format(str(k)))]\n",
    "    dfpo = pd.read_csv(po[0])\n",
    "    pos = pd.concat([pos,dfpo])\n",
    "    \n",
    "    pp = [i for i in glob.glob('*pp{}.csv'.format(str(k)))]\n",
    "    dfpp = pd.read_csv(pp[0])\n",
    "    pps = pd.concat([pps, dfpp])\n",
    "    \n",
    "phils_sc = pd.concat([pos,pps])\n",
    "\n",
    "print('Length of phils_sc dataframe: ' + str(len(phils_sc)))\n",
    "\n",
    "regpo22 = pd.read_csv('reg_po22.csv')\n",
    "regpp22 = pd.read_csv('reg_pp22.csv')\n",
    "regpo23 = pd.read_csv('reg_po23.csv')\n",
    "regpp23 = pd.read_csv('reg_pp23.csv')\n",
    "\n",
    "postpo22 = pd.read_csv('post_po22.csv')\n",
    "postpp22 = pd.read_csv('post_pp22.csv')\n",
    "postpo23 = pd.read_csv('post_po23.csv')\n",
    "postpp23 = pd.read_csv('post_pp23.csv')\n",
    "\n",
    "po22 = pd.concat([regpo22, postpo22])\n",
    "pp22 = pd.concat([regpp22, postpp22])\n",
    "po23 = pd.concat([regpo23, postpo23])\n",
    "pp23 = pd.concat([regpp23, postpp23])\n",
    "\n",
    "pos = pd.concat([pos, po22, po23])\n",
    "pps = pd.concat([pps, pp22, pp23])\n",
    "phils_sc = pd.concat([pos, pps])\n",
    "\n",
    "pps['source'] = 'p'\n",
    "\n",
    "df=phils_sc\n",
    "df.groupby(['player_name','game_year'],as_index=False\n",
    "          ).agg({'game_pk' : 'nunique'\n",
    "                 ,'des' : 'count'\n",
    "                } ## Group by player and year, count(distinct game_pk), count(1) pitches\n",
    "               ).rename(columns = {'game_pk' : 'games'\n",
    "                                   ,'des' : 'pitches'\n",
    "                                  }\n",
    "                       ) ## 405 Player/Years of Phillies Data\n",
    "\n",
    "# An Equation\n",
    "py_ratio = len(df)/len(np)\n",
    "print(str(round(py_ratio*100,1)) + '% of the Non-Phillies df constitutes all of the Phillies dataframe')"
   ]
  },
  {
   "cell_type": "code",
   "execution_count": 93,
   "id": "61853612-e56a-4154-ad46-520490992555",
   "metadata": {},
   "outputs": [],
   "source": [
    "schwarber = ks_filter(pd.concat([phils_sc,nphl]),'player_name', 'Schwarber, Kyle')"
   ]
  },
  {
   "cell_type": "code",
   "execution_count": 94,
   "id": "99db9251-9b7e-42f5-bcf7-0d427de4b675",
   "metadata": {},
   "outputs": [
    {
     "data": {
      "text/plain": [
       "17955"
      ]
     },
     "execution_count": 94,
     "metadata": {},
     "output_type": "execute_result"
    }
   ],
   "source": [
    "len(schwarber)"
   ]
  },
  {
   "cell_type": "code",
   "execution_count": 95,
   "id": "fe0d18ab-e3fc-4e0b-999e-fdb1d982622d",
   "metadata": {},
   "outputs": [
    {
     "ename": "KeyError",
     "evalue": "\"Column(s) ['wBB'] do not exist\"",
     "output_type": "error",
     "traceback": [
      "\u001b[1;31m---------------------------------------------------------------------------\u001b[0m",
      "\u001b[1;31mKeyError\u001b[0m                                  Traceback (most recent call last)",
      "Input \u001b[1;32mIn [95]\u001b[0m, in \u001b[0;36m<cell line: 2>\u001b[1;34m()\u001b[0m\n\u001b[0;32m      1\u001b[0m df \u001b[38;5;241m=\u001b[39m schwarber\n\u001b[1;32m----> 2\u001b[0m \u001b[43mresults\u001b[49m\u001b[43m(\u001b[49m\u001b[43mlevel\u001b[49m\u001b[43m)\u001b[49m\n",
      "File \u001b[1;32m~\\AppData\\Local\\Temp\\ipykernel_22552\\334234274.py:2\u001b[0m, in \u001b[0;36mresults\u001b[1;34m(level)\u001b[0m\n\u001b[0;32m      1\u001b[0m \u001b[38;5;28;01mdef\u001b[39;00m \u001b[38;5;21mresults\u001b[39m(level):\n\u001b[1;32m----> 2\u001b[0m     x \u001b[38;5;241m=\u001b[39m \u001b[43mmcgs\u001b[49m\u001b[43m(\u001b[49m\u001b[43m[\u001b[49m\u001b[43mlevel\u001b[49m\u001b[43m]\u001b[49m\u001b[43m,\u001b[49m\u001b[43m \u001b[49m\u001b[43mdf\u001b[49m\u001b[43m)\u001b[49m\u001b[38;5;241m.\u001b[39mloc[:, [\u001b[38;5;66;03m##'game_year'\u001b[39;00m\n\u001b[0;32m      3\u001b[0m                                                          \u001b[38;5;66;03m#'player_name'\u001b[39;00m\n\u001b[0;32m      4\u001b[0m                                                          \u001b[38;5;66;03m##,'p_throws'\u001b[39;00m\n\u001b[0;32m      5\u001b[0m                                                          \u001b[38;5;66;03m##,'pitch_name'\u001b[39;00m\n\u001b[0;32m      6\u001b[0m                                                          \u001b[38;5;66;03m##,'pitch_type'\u001b[39;00m\n\u001b[0;32m      7\u001b[0m                                                          \n\u001b[0;32m      8\u001b[0m                                                       level   \n\u001b[0;32m      9\u001b[0m                                                       ,\u001b[38;5;124m'\u001b[39m\u001b[38;5;124mpitches\u001b[39m\u001b[38;5;124m'\u001b[39m\n\u001b[0;32m     10\u001b[0m                                                       ,\u001b[38;5;124m'\u001b[39m\u001b[38;5;124mplate_apps\u001b[39m\u001b[38;5;124m'\u001b[39m\n\u001b[0;32m     11\u001b[0m                                                       \u001b[38;5;66;03m##,'at_bats'\u001b[39;00m\n\u001b[0;32m     12\u001b[0m                                                       ,\u001b[38;5;124m'\u001b[39m\u001b[38;5;124mbip\u001b[39m\u001b[38;5;124m'\u001b[39m\n\u001b[0;32m     13\u001b[0m                                                       ,\u001b[38;5;124m'\u001b[39m\u001b[38;5;124mhits\u001b[39m\u001b[38;5;124m'\u001b[39m\n\u001b[0;32m     14\u001b[0m                                                       \u001b[38;5;66;03m##,'singles'\u001b[39;00m\n\u001b[0;32m     15\u001b[0m                                                       \u001b[38;5;66;03m##,'doubles'\u001b[39;00m\n\u001b[0;32m     16\u001b[0m                                                       \u001b[38;5;66;03m##,'triples'\u001b[39;00m\n\u001b[0;32m     17\u001b[0m                                                       ,\u001b[38;5;124m'\u001b[39m\u001b[38;5;124mhrs\u001b[39m\u001b[38;5;124m'\u001b[39m\n\u001b[0;32m     18\u001b[0m                                                       ,\u001b[38;5;124m'\u001b[39m\u001b[38;5;124mwalks\u001b[39m\u001b[38;5;124m'\u001b[39m\n\u001b[0;32m     19\u001b[0m                                                       ,\u001b[38;5;124m'\u001b[39m\u001b[38;5;124mstrikeouts\u001b[39m\u001b[38;5;124m'\u001b[39m\n\u001b[0;32m     20\u001b[0m                                                       \u001b[38;5;66;03m##,'hbp'\u001b[39;00m\n\u001b[0;32m     21\u001b[0m                                                       \u001b[38;5;66;03m##,'wBB'\u001b[39;00m\n\u001b[0;32m     22\u001b[0m                                                       \u001b[38;5;66;03m##,'wHBP'\u001b[39;00m\n\u001b[0;32m     23\u001b[0m                                                       \u001b[38;5;66;03m##,'w1B'\u001b[39;00m\n\u001b[0;32m     24\u001b[0m                                                       \u001b[38;5;66;03m##,'w2B'\u001b[39;00m\n\u001b[0;32m     25\u001b[0m                                                       \u001b[38;5;66;03m##,'w3B'\u001b[39;00m\n\u001b[0;32m     26\u001b[0m                                                       \u001b[38;5;66;03m##,'wHR'\u001b[39;00m\n\u001b[0;32m     27\u001b[0m                                                       ,\u001b[38;5;124m'\u001b[39m\u001b[38;5;124mba\u001b[39m\u001b[38;5;124m'\u001b[39m\n\u001b[0;32m     28\u001b[0m                                                       ,\u001b[38;5;124m'\u001b[39m\u001b[38;5;124mxba\u001b[39m\u001b[38;5;124m'\u001b[39m\n\u001b[0;32m     29\u001b[0m                                                       ,\u001b[38;5;124m'\u001b[39m\u001b[38;5;124mobp\u001b[39m\u001b[38;5;124m'\u001b[39m\n\u001b[0;32m     30\u001b[0m                                                       ,\u001b[38;5;124m'\u001b[39m\u001b[38;5;124mslg\u001b[39m\u001b[38;5;124m'\u001b[39m\n\u001b[0;32m     31\u001b[0m                                                       ,\u001b[38;5;124m'\u001b[39m\u001b[38;5;124mops\u001b[39m\u001b[38;5;124m'\u001b[39m\n\u001b[0;32m     32\u001b[0m                                                       ,\u001b[38;5;124m'\u001b[39m\u001b[38;5;124mwoba\u001b[39m\u001b[38;5;124m'\u001b[39m\n\u001b[0;32m     33\u001b[0m                                                       ,\u001b[38;5;124m'\u001b[39m\u001b[38;5;124mxwoba\u001b[39m\u001b[38;5;124m'\u001b[39m\n\u001b[0;32m     34\u001b[0m                                                      ]\n\u001b[0;32m     35\u001b[0m                                                  ]\u001b[38;5;241m.\u001b[39mround(\u001b[38;5;241m3\u001b[39m)\n\u001b[0;32m     36\u001b[0m     \u001b[38;5;28;01mreturn\u001b[39;00m x\n",
      "File \u001b[1;32m~\\AppData\\Local\\Temp\\ipykernel_22552\\2700464930.py:2\u001b[0m, in \u001b[0;36mmcgs\u001b[1;34m(level, df)\u001b[0m\n\u001b[0;32m      1\u001b[0m \u001b[38;5;28;01mdef\u001b[39;00m \u001b[38;5;21mmcgs\u001b[39m(level,df):\n\u001b[1;32m----> 2\u001b[0m     \u001b[38;5;28;01mreturn\u001b[39;00m measure_calcs(\u001b[43mget_stats\u001b[49m\u001b[43m(\u001b[49m\u001b[43mlevel\u001b[49m\u001b[43m,\u001b[49m\u001b[43mdf\u001b[49m\u001b[43m)\u001b[49m)\u001b[38;5;241m.\u001b[39mrename(columns \u001b[38;5;241m=\u001b[39m {\u001b[38;5;124m'\u001b[39m\u001b[38;5;124mdescription\u001b[39m\u001b[38;5;124m'\u001b[39m : \u001b[38;5;124m'\u001b[39m\u001b[38;5;124mpitches\u001b[39m\u001b[38;5;124m'\u001b[39m})\n",
      "File \u001b[1;32m~\\AppData\\Local\\Temp\\ipykernel_22552\\3254978039.py:49\u001b[0m, in \u001b[0;36mget_stats\u001b[1;34m(level, df)\u001b[0m\n\u001b[0;32m     47\u001b[0m hbp \u001b[38;5;241m=\u001b[39m df[df\u001b[38;5;241m.\u001b[39mevents \u001b[38;5;241m==\u001b[39m \u001b[38;5;124m'\u001b[39m\u001b[38;5;124mhit_by_pitch\u001b[39m\u001b[38;5;124m'\u001b[39m]\u001b[38;5;241m.\u001b[39mgroupby(level,as_index\u001b[38;5;241m=\u001b[39m\u001b[38;5;28;01mTrue\u001b[39;00m)\u001b[38;5;241m.\u001b[39magg({\u001b[38;5;124m'\u001b[39m\u001b[38;5;124mdescription\u001b[39m\u001b[38;5;124m'\u001b[39m : \u001b[38;5;124m'\u001b[39m\u001b[38;5;124mcount\u001b[39m\u001b[38;5;124m'\u001b[39m})\u001b[38;5;241m.\u001b[39mrename(columns \u001b[38;5;241m=\u001b[39m {\u001b[38;5;124m'\u001b[39m\u001b[38;5;124mdescription\u001b[39m\u001b[38;5;124m'\u001b[39m : \u001b[38;5;124m'\u001b[39m\u001b[38;5;124mhbp\u001b[39m\u001b[38;5;124m'\u001b[39m})\n\u001b[0;32m     48\u001b[0m \u001b[38;5;66;03m# Weighted Walks\u001b[39;00m\n\u001b[1;32m---> 49\u001b[0m wBB \u001b[38;5;241m=\u001b[39m \u001b[43mdf\u001b[49m\u001b[43m[\u001b[49m\u001b[43mdf\u001b[49m\u001b[38;5;241;43m.\u001b[39;49m\u001b[43mevents\u001b[49m\u001b[43m \u001b[49m\u001b[38;5;241;43m==\u001b[39;49m\u001b[43m \u001b[49m\u001b[38;5;124;43m'\u001b[39;49m\u001b[38;5;124;43mwalk\u001b[39;49m\u001b[38;5;124;43m'\u001b[39;49m\u001b[43m]\u001b[49m\u001b[38;5;241;43m.\u001b[39;49m\u001b[43mgroupby\u001b[49m\u001b[43m(\u001b[49m\u001b[43mlevel\u001b[49m\u001b[43m,\u001b[49m\u001b[43mas_index\u001b[49m\u001b[38;5;241;43m=\u001b[39;49m\u001b[38;5;28;43;01mFalse\u001b[39;49;00m\u001b[43m)\u001b[49m\u001b[38;5;241;43m.\u001b[39;49m\u001b[43magg\u001b[49m\u001b[43m(\u001b[49m\u001b[43m{\u001b[49m\u001b[38;5;124;43m'\u001b[39;49m\u001b[38;5;124;43mwBB\u001b[39;49m\u001b[38;5;124;43m'\u001b[39;49m\u001b[43m \u001b[49m\u001b[43m:\u001b[49m\u001b[43m \u001b[49m\u001b[38;5;124;43m'\u001b[39;49m\u001b[38;5;124;43msum\u001b[39;49m\u001b[38;5;124;43m'\u001b[39;49m\u001b[43m}\u001b[49m\u001b[43m)\u001b[49m\n\u001b[0;32m     50\u001b[0m \u001b[38;5;66;03m# Weighted HBP\u001b[39;00m\n\u001b[0;32m     51\u001b[0m wHBP \u001b[38;5;241m=\u001b[39m df[df\u001b[38;5;241m.\u001b[39mevents \u001b[38;5;241m==\u001b[39m \u001b[38;5;124m'\u001b[39m\u001b[38;5;124mhit_by_pitch\u001b[39m\u001b[38;5;124m'\u001b[39m]\u001b[38;5;241m.\u001b[39mgroupby(level,as_index\u001b[38;5;241m=\u001b[39m\u001b[38;5;28;01mFalse\u001b[39;00m)\u001b[38;5;241m.\u001b[39magg({\u001b[38;5;124m'\u001b[39m\u001b[38;5;124mwHBP\u001b[39m\u001b[38;5;124m'\u001b[39m : \u001b[38;5;124m'\u001b[39m\u001b[38;5;124msum\u001b[39m\u001b[38;5;124m'\u001b[39m})\n",
      "File \u001b[1;32m~\\anaconda3\\lib\\site-packages\\pandas\\core\\groupby\\generic.py:1269\u001b[0m, in \u001b[0;36mDataFrameGroupBy.aggregate\u001b[1;34m(self, func, engine, engine_kwargs, *args, **kwargs)\u001b[0m\n\u001b[0;32m   1266\u001b[0m func \u001b[38;5;241m=\u001b[39m maybe_mangle_lambdas(func)\n\u001b[0;32m   1268\u001b[0m op \u001b[38;5;241m=\u001b[39m GroupByApply(\u001b[38;5;28mself\u001b[39m, func, args, kwargs)\n\u001b[1;32m-> 1269\u001b[0m result \u001b[38;5;241m=\u001b[39m \u001b[43mop\u001b[49m\u001b[38;5;241;43m.\u001b[39;49m\u001b[43magg\u001b[49m\u001b[43m(\u001b[49m\u001b[43m)\u001b[49m\n\u001b[0;32m   1270\u001b[0m \u001b[38;5;28;01mif\u001b[39;00m \u001b[38;5;129;01mnot\u001b[39;00m is_dict_like(func) \u001b[38;5;129;01mand\u001b[39;00m result \u001b[38;5;129;01mis\u001b[39;00m \u001b[38;5;129;01mnot\u001b[39;00m \u001b[38;5;28;01mNone\u001b[39;00m:\n\u001b[0;32m   1271\u001b[0m     \u001b[38;5;28;01mreturn\u001b[39;00m result\n",
      "File \u001b[1;32m~\\anaconda3\\lib\\site-packages\\pandas\\core\\apply.py:163\u001b[0m, in \u001b[0;36mApply.agg\u001b[1;34m(self)\u001b[0m\n\u001b[0;32m    160\u001b[0m     \u001b[38;5;28;01mreturn\u001b[39;00m \u001b[38;5;28mself\u001b[39m\u001b[38;5;241m.\u001b[39mapply_str()\n\u001b[0;32m    162\u001b[0m \u001b[38;5;28;01mif\u001b[39;00m is_dict_like(arg):\n\u001b[1;32m--> 163\u001b[0m     \u001b[38;5;28;01mreturn\u001b[39;00m \u001b[38;5;28;43mself\u001b[39;49m\u001b[38;5;241;43m.\u001b[39;49m\u001b[43magg_dict_like\u001b[49m\u001b[43m(\u001b[49m\u001b[43m)\u001b[49m\n\u001b[0;32m    164\u001b[0m \u001b[38;5;28;01melif\u001b[39;00m is_list_like(arg):\n\u001b[0;32m    165\u001b[0m     \u001b[38;5;66;03m# we require a list, but not a 'str'\u001b[39;00m\n\u001b[0;32m    166\u001b[0m     \u001b[38;5;28;01mreturn\u001b[39;00m \u001b[38;5;28mself\u001b[39m\u001b[38;5;241m.\u001b[39magg_list_like()\n",
      "File \u001b[1;32m~\\anaconda3\\lib\\site-packages\\pandas\\core\\apply.py:403\u001b[0m, in \u001b[0;36mApply.agg_dict_like\u001b[1;34m(self)\u001b[0m\n\u001b[0;32m    400\u001b[0m     selected_obj \u001b[38;5;241m=\u001b[39m obj\u001b[38;5;241m.\u001b[39m_selected_obj\n\u001b[0;32m    401\u001b[0m     selection \u001b[38;5;241m=\u001b[39m obj\u001b[38;5;241m.\u001b[39m_selection\n\u001b[1;32m--> 403\u001b[0m arg \u001b[38;5;241m=\u001b[39m \u001b[38;5;28;43mself\u001b[39;49m\u001b[38;5;241;43m.\u001b[39;49m\u001b[43mnormalize_dictlike_arg\u001b[49m\u001b[43m(\u001b[49m\u001b[38;5;124;43m\"\u001b[39;49m\u001b[38;5;124;43magg\u001b[39;49m\u001b[38;5;124;43m\"\u001b[39;49m\u001b[43m,\u001b[49m\u001b[43m \u001b[49m\u001b[43mselected_obj\u001b[49m\u001b[43m,\u001b[49m\u001b[43m \u001b[49m\u001b[43marg\u001b[49m\u001b[43m)\u001b[49m\n\u001b[0;32m    405\u001b[0m is_groupby \u001b[38;5;241m=\u001b[39m \u001b[38;5;28misinstance\u001b[39m(obj, (DataFrameGroupBy, SeriesGroupBy))\n\u001b[0;32m    406\u001b[0m context_manager: ContextManager\n",
      "File \u001b[1;32m~\\anaconda3\\lib\\site-packages\\pandas\\core\\apply.py:535\u001b[0m, in \u001b[0;36mApply.normalize_dictlike_arg\u001b[1;34m(self, how, obj, func)\u001b[0m\n\u001b[0;32m    533\u001b[0m     \u001b[38;5;28;01mif\u001b[39;00m \u001b[38;5;28mlen\u001b[39m(cols) \u001b[38;5;241m>\u001b[39m \u001b[38;5;241m0\u001b[39m:\n\u001b[0;32m    534\u001b[0m         cols_sorted \u001b[38;5;241m=\u001b[39m \u001b[38;5;28mlist\u001b[39m(safe_sort(\u001b[38;5;28mlist\u001b[39m(cols)))\n\u001b[1;32m--> 535\u001b[0m         \u001b[38;5;28;01mraise\u001b[39;00m \u001b[38;5;167;01mKeyError\u001b[39;00m(\u001b[38;5;124mf\u001b[39m\u001b[38;5;124m\"\u001b[39m\u001b[38;5;124mColumn(s) \u001b[39m\u001b[38;5;132;01m{\u001b[39;00mcols_sorted\u001b[38;5;132;01m}\u001b[39;00m\u001b[38;5;124m do not exist\u001b[39m\u001b[38;5;124m\"\u001b[39m)\n\u001b[0;32m    537\u001b[0m aggregator_types \u001b[38;5;241m=\u001b[39m (\u001b[38;5;28mlist\u001b[39m, \u001b[38;5;28mtuple\u001b[39m, \u001b[38;5;28mdict\u001b[39m)\n\u001b[0;32m    539\u001b[0m \u001b[38;5;66;03m# if we have a dict of any non-scalars\u001b[39;00m\n\u001b[0;32m    540\u001b[0m \u001b[38;5;66;03m# eg. {'A' : ['mean']}, normalize all to\u001b[39;00m\n\u001b[0;32m    541\u001b[0m \u001b[38;5;66;03m# be list-likes\u001b[39;00m\n\u001b[0;32m    542\u001b[0m \u001b[38;5;66;03m# Cannot use func.values() because arg may be a Series\u001b[39;00m\n",
      "\u001b[1;31mKeyError\u001b[0m: \"Column(s) ['wBB'] do not exist\""
     ]
    }
   ],
   "source": [
    "df = schwarber\n",
    "results(level)"
   ]
  },
  {
   "cell_type": "markdown",
   "id": "d67665c7-abf4-4a51-a64c-53cdec8f6cb7",
   "metadata": {},
   "source": [
    "## Pitcher Share of Total Pitches in a Season"
   ]
  },
  {
   "cell_type": "code",
   "execution_count": null,
   "id": "890943de-906a-4841-b0fe-c9939dd46128",
   "metadata": {},
   "outputs": [],
   "source": [
    "df = phils_sc\n",
    "len(df)"
   ]
  },
  {
   "cell_type": "code",
   "execution_count": 11,
   "id": "674eedbc-9267-414d-8c31-1f58dab73c36",
   "metadata": {},
   "outputs": [],
   "source": [
    "pitcher_yr_pitches_games = pps.groupby(['pitcher'\n",
    "                                       ,'game_year'\n",
    "                                       #,'p_throws'\n",
    "                                       #,'stand'\n",
    "                                       #,''\n",
    "                                      ],as_index = False\n",
    "                                     ).agg({'des' : 'count'\n",
    "                                            ,'game_pk' : 'nunique'\n",
    "                                           }\n",
    "                                          ).rename(columns = {'des' : 'pitches'\n",
    "                                                              ,'game_pk' : 'games'\n",
    "                                                              #,'outs'\n",
    "                                                             }\n",
    "                                                  )"
   ]
  },
  {
   "cell_type": "code",
   "execution_count": 12,
   "id": "a7aa6325-43d6-4997-8ed9-724bcd2f6bf1",
   "metadata": {},
   "outputs": [
    {
     "data": {
      "text/html": [
       "<div>\n",
       "<style scoped>\n",
       "    .dataframe tbody tr th:only-of-type {\n",
       "        vertical-align: middle;\n",
       "    }\n",
       "\n",
       "    .dataframe tbody tr th {\n",
       "        vertical-align: top;\n",
       "    }\n",
       "\n",
       "    .dataframe thead th {\n",
       "        text-align: right;\n",
       "    }\n",
       "</style>\n",
       "<table border=\"1\" class=\"dataframe\">\n",
       "  <thead>\n",
       "    <tr style=\"text-align: right;\">\n",
       "      <th></th>\n",
       "      <th>pitcher</th>\n",
       "      <th>game_year</th>\n",
       "      <th>pitches</th>\n",
       "      <th>games</th>\n",
       "    </tr>\n",
       "  </thead>\n",
       "  <tbody>\n",
       "    <tr>\n",
       "      <th>0</th>\n",
       "      <td>276542</td>\n",
       "      <td>2017</td>\n",
       "      <td>699</td>\n",
       "      <td>44</td>\n",
       "    </tr>\n",
       "    <tr>\n",
       "      <th>1</th>\n",
       "      <td>421685</td>\n",
       "      <td>2015</td>\n",
       "      <td>2844</td>\n",
       "      <td>29</td>\n",
       "    </tr>\n",
       "    <tr>\n",
       "      <th>2</th>\n",
       "      <td>425532</td>\n",
       "      <td>2015</td>\n",
       "      <td>1978</td>\n",
       "      <td>33</td>\n",
       "    </tr>\n",
       "    <tr>\n",
       "      <th>3</th>\n",
       "      <td>425796</td>\n",
       "      <td>2015</td>\n",
       "      <td>48</td>\n",
       "      <td>1</td>\n",
       "    </tr>\n",
       "    <tr>\n",
       "      <th>4</th>\n",
       "      <td>429400</td>\n",
       "      <td>2015</td>\n",
       "      <td>393</td>\n",
       "      <td>20</td>\n",
       "    </tr>\n",
       "    <tr>\n",
       "      <th>...</th>\n",
       "      <td>...</td>\n",
       "      <td>...</td>\n",
       "      <td>...</td>\n",
       "      <td>...</td>\n",
       "    </tr>\n",
       "    <tr>\n",
       "      <th>271</th>\n",
       "      <td>675971</td>\n",
       "      <td>2021</td>\n",
       "      <td>20</td>\n",
       "      <td>1</td>\n",
       "    </tr>\n",
       "    <tr>\n",
       "      <th>272</th>\n",
       "      <td>676103</td>\n",
       "      <td>2021</td>\n",
       "      <td>11</td>\n",
       "      <td>1</td>\n",
       "    </tr>\n",
       "    <tr>\n",
       "      <th>273</th>\n",
       "      <td>676103</td>\n",
       "      <td>2022</td>\n",
       "      <td>105</td>\n",
       "      <td>4</td>\n",
       "    </tr>\n",
       "    <tr>\n",
       "      <th>274</th>\n",
       "      <td>686842</td>\n",
       "      <td>2023</td>\n",
       "      <td>86</td>\n",
       "      <td>3</td>\n",
       "    </tr>\n",
       "    <tr>\n",
       "      <th>275</th>\n",
       "      <td>689147</td>\n",
       "      <td>2023</td>\n",
       "      <td>268</td>\n",
       "      <td>10</td>\n",
       "    </tr>\n",
       "  </tbody>\n",
       "</table>\n",
       "<p>276 rows × 4 columns</p>\n",
       "</div>"
      ],
      "text/plain": [
       "     pitcher  game_year  pitches  games\n",
       "0     276542       2017      699     44\n",
       "1     421685       2015     2844     29\n",
       "2     425532       2015     1978     33\n",
       "3     425796       2015       48      1\n",
       "4     429400       2015      393     20\n",
       "..       ...        ...      ...    ...\n",
       "271   675971       2021       20      1\n",
       "272   676103       2021       11      1\n",
       "273   676103       2022      105      4\n",
       "274   686842       2023       86      3\n",
       "275   689147       2023      268     10\n",
       "\n",
       "[276 rows x 4 columns]"
      ]
     },
     "execution_count": 12,
     "metadata": {},
     "output_type": "execute_result"
    }
   ],
   "source": [
    "pypg = pitcher_yr_pitches_games\n",
    "pypg"
   ]
  },
  {
   "cell_type": "code",
   "execution_count": 13,
   "id": "0c650524-1a92-48f7-8ae4-53439ff056e6",
   "metadata": {},
   "outputs": [],
   "source": [
    "pitcher_ids = pps.groupby(['player_name','game_year'],as_index=False).agg({'pitcher' : 'max'}).rename(columns={'pitcher' : 'player_id'})"
   ]
  },
  {
   "cell_type": "code",
   "execution_count": 14,
   "id": "bf60c7c8-7898-4e5c-9ea0-f068b2f694ad",
   "metadata": {},
   "outputs": [],
   "source": [
    "pids = pypg.pitcher.unique().tolist()"
   ]
  },
  {
   "cell_type": "code",
   "execution_count": 15,
   "id": "81dce190-519d-4630-9f55-c1cf1fd1f3f4",
   "metadata": {},
   "outputs": [
    {
     "data": {
      "text/plain": [
       "(276, 160)"
      ]
     },
     "execution_count": 15,
     "metadata": {},
     "output_type": "execute_result"
    }
   ],
   "source": [
    "len(pitcher_ids), len(pids)\n",
    "# There have been 160 different pitchers for the Phillies in the Statcast Era \n",
    "# There have been 276 different pitcher/year combos for the Phillies in the Statcast Era"
   ]
  },
  {
   "cell_type": "code",
   "execution_count": 16,
   "id": "6dd7d66d-52cd-4829-b4f2-12d5cb73fdd4",
   "metadata": {},
   "outputs": [],
   "source": [
    "# Merge my pitcher year pitches games to the pitcher_ids to get player_names\n",
    "df = pypg.merge(pitcher_ids, left_on = ['pitcher', 'game_year'], right_on = ['player_id', 'game_year'], suffixes = ('','_id'))\n",
    "\n",
    "pitches_by_year = df.groupby('game_year', as_index = False).agg({'pitches' : 'sum'})\n",
    "pby = pitches_by_year\n",
    "df = df.merge(pby, left_on = 'game_year', right_on = 'game_year', suffixes = ('','_pby')).rename(columns = {'{}_pby'.format('pitches') : 'total_{}'.format('pitches')\n",
    "                                                                                                            }\n",
    "                                                                                                )\n",
    "df['%share_pitches'] = df.pitches/df.total_pitches\n",
    "df = df.loc[:, ['game_year'\n",
    "           ,'player_name'\n",
    "           ,'games'\n",
    "           ,'pitches'\n",
    "           ,'total_pitches'\n",
    "           ,'%share_pitches'\n",
    "          ]\n",
    "      ].round(4)\n",
    "           "
   ]
  },
  {
   "cell_type": "code",
   "execution_count": null,
   "id": "4868cb6d-c90a-48be-8b89-6cfb73df9223",
   "metadata": {},
   "outputs": [],
   "source": [
    "# Define the single row that is the max or min for a given year\n",
    "most = df.groupby(['game_year'], as_index = False).agg({'pitches' : 'max'\n",
    "                                                 ,'%share_pitches' : 'max'\n",
    "                                                }).sort_values(by='pitches',ascending = False)\n",
    "\n",
    "least = df.groupby(['game_year'], as_index = False).agg({'pitches' : 'min'\n",
    "                                                 ,'%share_pitches' : 'min'\n",
    "                                                }).sort_values(by='pitches')\n",
    "\n",
    "# My merging to those single rows I effectively filter down to the min for that year\n",
    "single_yr_leaders = df.merge(most, left_on = ['game_year', 'pitches', '%share_pitches'], right_on = ['game_year', 'pitches', '%share_pitches'], suffixes = ('','_max'))\n",
    "single_yr_bottom = df.merge(least, left_on = ['game_year', 'pitches', '%share_pitches'], right_on = ['game_year', 'pitches', '%share_pitches'], suffixes = ('','_min'))"
   ]
  },
  {
   "cell_type": "code",
   "execution_count": 17,
   "id": "27d425a1-1f94-4273-8e64-5278da87c017",
   "metadata": {},
   "outputs": [
    {
     "data": {
      "text/html": [
       "<div>\n",
       "<style scoped>\n",
       "    .dataframe tbody tr th:only-of-type {\n",
       "        vertical-align: middle;\n",
       "    }\n",
       "\n",
       "    .dataframe tbody tr th {\n",
       "        vertical-align: top;\n",
       "    }\n",
       "\n",
       "    .dataframe thead th {\n",
       "        text-align: right;\n",
       "    }\n",
       "</style>\n",
       "<table border=\"1\" class=\"dataframe\">\n",
       "  <thead>\n",
       "    <tr style=\"text-align: right;\">\n",
       "      <th></th>\n",
       "      <th>game_year</th>\n",
       "      <th>player_name</th>\n",
       "      <th>pitches</th>\n",
       "      <th>total_pitches</th>\n",
       "      <th>%share_pitches</th>\n",
       "    </tr>\n",
       "  </thead>\n",
       "  <tbody>\n",
       "    <tr>\n",
       "      <th>253</th>\n",
       "      <td>2023</td>\n",
       "      <td>Wheeler, Zack</td>\n",
       "      <td>3959</td>\n",
       "      <td>27221</td>\n",
       "      <td>0.1454</td>\n",
       "    </tr>\n",
       "    <tr>\n",
       "      <th>257</th>\n",
       "      <td>2023</td>\n",
       "      <td>Nola, Aaron</td>\n",
       "      <td>3775</td>\n",
       "      <td>27221</td>\n",
       "      <td>0.1387</td>\n",
       "    </tr>\n",
       "    <tr>\n",
       "      <th>256</th>\n",
       "      <td>2023</td>\n",
       "      <td>Walker, Taijuan</td>\n",
       "      <td>2837</td>\n",
       "      <td>27221</td>\n",
       "      <td>0.1042</td>\n",
       "    </tr>\n",
       "    <tr>\n",
       "      <th>262</th>\n",
       "      <td>2023</td>\n",
       "      <td>Suárez, Ranger</td>\n",
       "      <td>2555</td>\n",
       "      <td>27221</td>\n",
       "      <td>0.0939</td>\n",
       "    </tr>\n",
       "    <tr>\n",
       "      <th>260</th>\n",
       "      <td>2023</td>\n",
       "      <td>Strahm, Matt</td>\n",
       "      <td>1552</td>\n",
       "      <td>27221</td>\n",
       "      <td>0.0570</td>\n",
       "    </tr>\n",
       "  </tbody>\n",
       "</table>\n",
       "</div>"
      ],
      "text/plain": [
       "     game_year      player_name  pitches  total_pitches  %share_pitches\n",
       "253       2023    Wheeler, Zack     3959          27221          0.1454\n",
       "257       2023      Nola, Aaron     3775          27221          0.1387\n",
       "256       2023  Walker, Taijuan     2837          27221          0.1042\n",
       "262       2023   Suárez, Ranger     2555          27221          0.0939\n",
       "260       2023     Strahm, Matt     1552          27221          0.0570"
      ]
     },
     "execution_count": 17,
     "metadata": {},
     "output_type": "execute_result"
    }
   ],
   "source": [
    "# Top 5 in a Given year\n",
    "gy = 2023\n",
    "df[df.game_year==gy].loc[:,['game_year'\n",
    "                             ,'player_name'\n",
    "                             ,'pitches'\n",
    "                             ,'total_pitches'\n",
    "                             ,'%share_pitches'\n",
    "                             ]\n",
    "                          ].sort_values(by='pitches', ascending = False).head(5)"
   ]
  },
  {
   "cell_type": "code",
   "execution_count": 18,
   "id": "71065581-bad1-4332-a785-7e1c250416f1",
   "metadata": {},
   "outputs": [
    {
     "data": {
      "text/html": [
       "<div>\n",
       "<style scoped>\n",
       "    .dataframe tbody tr th:only-of-type {\n",
       "        vertical-align: middle;\n",
       "    }\n",
       "\n",
       "    .dataframe tbody tr th {\n",
       "        vertical-align: top;\n",
       "    }\n",
       "\n",
       "    .dataframe thead th {\n",
       "        text-align: right;\n",
       "    }\n",
       "</style>\n",
       "<table border=\"1\" class=\"dataframe\">\n",
       "  <thead>\n",
       "    <tr style=\"text-align: right;\">\n",
       "      <th></th>\n",
       "      <th>game_year</th>\n",
       "      <th>player_name</th>\n",
       "      <th>pitches</th>\n",
       "      <th>%share_pitches</th>\n",
       "    </tr>\n",
       "  </thead>\n",
       "  <tbody>\n",
       "    <tr>\n",
       "      <th>275</th>\n",
       "      <td>2023</td>\n",
       "      <td>Wheeler, Zack</td>\n",
       "      <td>3959</td>\n",
       "      <td>0.1454</td>\n",
       "    </tr>\n",
       "    <tr>\n",
       "      <th>239</th>\n",
       "      <td>2022</td>\n",
       "      <td>Nola, Aaron</td>\n",
       "      <td>3879</td>\n",
       "      <td>0.1385</td>\n",
       "    </tr>\n",
       "    <tr>\n",
       "      <th>265</th>\n",
       "      <td>2023</td>\n",
       "      <td>Nola, Aaron</td>\n",
       "      <td>3775</td>\n",
       "      <td>0.1387</td>\n",
       "    </tr>\n",
       "    <tr>\n",
       "      <th>139</th>\n",
       "      <td>2019</td>\n",
       "      <td>Nola, Aaron</td>\n",
       "      <td>3332</td>\n",
       "      <td>0.1371</td>\n",
       "    </tr>\n",
       "    <tr>\n",
       "      <th>249</th>\n",
       "      <td>2022</td>\n",
       "      <td>Wheeler, Zack</td>\n",
       "      <td>3326</td>\n",
       "      <td>0.1188</td>\n",
       "    </tr>\n",
       "  </tbody>\n",
       "</table>\n",
       "</div>"
      ],
      "text/plain": [
       "     game_year    player_name  pitches  %share_pitches\n",
       "275       2023  Wheeler, Zack     3959          0.1454\n",
       "239       2022    Nola, Aaron     3879          0.1385\n",
       "265       2023    Nola, Aaron     3775          0.1387\n",
       "139       2019    Nola, Aaron     3332          0.1371\n",
       "249       2022  Wheeler, Zack     3326          0.1188"
      ]
     },
     "execution_count": 18,
     "metadata": {},
     "output_type": "execute_result"
    }
   ],
   "source": [
    "# Top 5 Overall Player/Season Combo\n",
    "df.groupby(['game_year','player_name'], as_index = False).agg({'pitches' : 'max'\n",
    "                                                               ,'%share_pitches' : 'max'\n",
    "                                                              }).sort_values(by='pitches',ascending = False).head(5)"
   ]
  },
  {
   "cell_type": "code",
   "execution_count": 19,
   "id": "77712899-d51d-4e6d-8ea2-7e37747f6441",
   "metadata": {},
   "outputs": [
    {
     "data": {
      "text/html": [
       "<div>\n",
       "<style scoped>\n",
       "    .dataframe tbody tr th:only-of-type {\n",
       "        vertical-align: middle;\n",
       "    }\n",
       "\n",
       "    .dataframe tbody tr th {\n",
       "        vertical-align: top;\n",
       "    }\n",
       "\n",
       "    .dataframe thead th {\n",
       "        text-align: right;\n",
       "    }\n",
       "</style>\n",
       "<table border=\"1\" class=\"dataframe\">\n",
       "  <thead>\n",
       "    <tr style=\"text-align: right;\">\n",
       "      <th></th>\n",
       "      <th>player_name</th>\n",
       "      <th>pitches</th>\n",
       "      <th>%share_pitches</th>\n",
       "    </tr>\n",
       "  </thead>\n",
       "  <tbody>\n",
       "    <tr>\n",
       "      <th>25</th>\n",
       "      <td>Wheeler, Zack</td>\n",
       "      <td>3959</td>\n",
       "      <td>0.1454</td>\n",
       "    </tr>\n",
       "    <tr>\n",
       "      <th>15</th>\n",
       "      <td>Nola, Aaron</td>\n",
       "      <td>3775</td>\n",
       "      <td>0.1387</td>\n",
       "    </tr>\n",
       "    <tr>\n",
       "      <th>24</th>\n",
       "      <td>Walker, Taijuan</td>\n",
       "      <td>2837</td>\n",
       "      <td>0.1042</td>\n",
       "    </tr>\n",
       "    <tr>\n",
       "      <th>20</th>\n",
       "      <td>Suárez, Ranger</td>\n",
       "      <td>2555</td>\n",
       "      <td>0.0939</td>\n",
       "    </tr>\n",
       "    <tr>\n",
       "      <th>19</th>\n",
       "      <td>Strahm, Matt</td>\n",
       "      <td>1552</td>\n",
       "      <td>0.0570</td>\n",
       "    </tr>\n",
       "  </tbody>\n",
       "</table>\n",
       "</div>"
      ],
      "text/plain": [
       "        player_name  pitches  %share_pitches\n",
       "25    Wheeler, Zack     3959          0.1454\n",
       "15      Nola, Aaron     3775          0.1387\n",
       "24  Walker, Taijuan     2837          0.1042\n",
       "20   Suárez, Ranger     2555          0.0939\n",
       "19     Strahm, Matt     1552          0.0570"
      ]
     },
     "execution_count": 19,
     "metadata": {},
     "output_type": "execute_result"
    }
   ],
   "source": [
    "# Top 5 for a Define Year\n",
    "gy = 2023\n",
    "df[df.game_year == gy].groupby(['player_name'], as_index = False).agg({'pitches' : 'max'\n",
    "                                                                       ,'%share_pitches' : 'max'\n",
    "                                                                      }\n",
    "                                                                     ).sort_values(by='pitches',ascending = False\n",
    "                                                                                  ).head(5)"
   ]
  },
  {
   "cell_type": "code",
   "execution_count": null,
   "id": "ea1880e3-bdcf-46a1-ba51-0dd72f009d69",
   "metadata": {},
   "outputs": [],
   "source": [
    "syrl = single_yr_leaders\n",
    "syrb = single_yr_bottom"
   ]
  },
  {
   "cell_type": "code",
   "execution_count": null,
   "id": "54a8fc51-83e0-4e48-861a-75458aaada28",
   "metadata": {},
   "outputs": [],
   "source": [
    "x = syrl.game_year\n",
    "y = syrl['%share_pitches']\n",
    "plt.bar(x,y)"
   ]
  },
  {
   "cell_type": "code",
   "execution_count": null,
   "id": "78ff24f9-98b2-4ddd-9334-0a98348bd319",
   "metadata": {},
   "outputs": [],
   "source": [
    "# Define Variables\n",
    "x = df['pitches']\n",
    "y = df['%share_pitches']\n",
    "r = round(x.corr(y),2) # Calculate correlation coefficient\n",
    "m, b = np.polyfit(x, y, 1) # Fit a polynomial between the two variables\n",
    "title = 'Pct Share of PHI Pitches vs. Pitches' # Title the graph\n",
    "xlabel = 'Pitches' # Label the x axis\n",
    "ylabel = '% share of PHI Pitches' # Label the y axis\n",
    "\n",
    "# Build the plot\n",
    "plt.scatter(x, y, color = '#a2a6a9', alpha = 1) # Scatter plot, intentionally made transparent\n",
    "plt.plot(x.values, (m*x + b).values, color = '#003469') # Regression line\n",
    "plt.axvline(x = x.median(), color = '#000000') # Vertical line at median of x\n",
    "plt.axhline(y = y.median(), color = '#000000') # Horizontal Line at median of y\n",
    "plt.suptitle(title, fontsize = 18, fontname = 'Verdana') # Title\n",
    "plt.title('r = {}'.format(r), fontsize = 10, fontname = 'Verdana') # Subtitle\n",
    "plt.xlabel(xlabel) # Label the x axis\n",
    "plt.ylabel(ylabel) # Label the y axis\n",
    "plt.show()"
   ]
  },
  {
   "cell_type": "markdown",
   "id": "54abc330-fdb9-486b-9bf0-1ace2d3b8d19",
   "metadata": {},
   "source": [
    "## Pitcher Share of Career Pitches Thrown for PHI\n",
    "np.groupby(['pitcher', 'player_name'], as_index=False).agg({'des' : 'count', 'game_pk' : 'nunique'})"
   ]
  },
  {
   "cell_type": "code",
   "execution_count": 20,
   "id": "1a34e8b5-601c-4f1e-a0fa-d0697b0a0ead",
   "metadata": {},
   "outputs": [],
   "source": [
    "pitching = pd.concat([pps, nphl]).merge(woba_weights, left_on = 'game_year', right_on = 'Season')\n",
    "mcgsp = mcgs('player_name', last_pitch_abs(pitching))"
   ]
  },
  {
   "cell_type": "code",
   "execution_count": 21,
   "id": "3e856907-cfc9-4f7e-b706-c79649fb3c9c",
   "metadata": {},
   "outputs": [],
   "source": [
    "player_source = pitching.groupby(['player_name','source'],as_index=False).agg({'des' : 'count'\n",
    "                                                                               ,'game_pk' : 'nunique'\n",
    "                                                                              }\n",
    "                                                                             ).rename(columns = {'des' : 'pitches'\n",
    "                                                                                                 ,'game_pk' : 'games'\n",
    "                                                                                                }\n",
    "                                                                                     )\n",
    "\n",
    "#z = pd.melt(z, id_vars = ['player_name','source'], value_vars = ['pitches'], value_name = 'Pitches')\n",
    "\n",
    "ct = pitching.groupby('player_name', as_index = False).agg({'des' : 'count'\n",
    "                                                            ,'game_pk' : 'nunique'\n",
    "                                                            }\n",
    "                                                          ).rename(columns={'des' : 'career_total_pitches'\n",
    "                                                                            ,'game_pk' : 'career_total_games'\n",
    "                                                                           })\n",
    "\n",
    "\n",
    "#z = z.merge(ct, left_on = 'player_name', right_on ='player_name', suffixes = ('','_ct'))\n",
    "#z['%career_share'] = round((z.Pitches / z.career_total)*100,1) \n",
    "#z = z[z.source=='p']"
   ]
  },
  {
   "cell_type": "code",
   "execution_count": 22,
   "id": "35f9f91d-d50d-4570-9bfb-09120fb80019",
   "metadata": {},
   "outputs": [],
   "source": [
    "df = mcgs(['player_name', 'game_year','source'],last_pitch_abs(pitching))"
   ]
  },
  {
   "cell_type": "code",
   "execution_count": 24,
   "id": "b6d984bc-8fb1-47df-b099-0ffbc5eb0b3e",
   "metadata": {},
   "outputs": [],
   "source": [
    "df = df.merge(ct, left_on = ['player_name'], right_on = ['player_name'], suffixes = ('','_ps'))"
   ]
  },
  {
   "cell_type": "code",
   "execution_count": 25,
   "id": "526c51ed-540d-485d-872a-fad1babff2e6",
   "metadata": {},
   "outputs": [
    {
     "data": {
      "text/html": [
       "<div>\n",
       "<style scoped>\n",
       "    .dataframe tbody tr th:only-of-type {\n",
       "        vertical-align: middle;\n",
       "    }\n",
       "\n",
       "    .dataframe tbody tr th {\n",
       "        vertical-align: top;\n",
       "    }\n",
       "\n",
       "    .dataframe thead th {\n",
       "        text-align: right;\n",
       "    }\n",
       "</style>\n",
       "<table border=\"1\" class=\"dataframe\">\n",
       "  <thead>\n",
       "    <tr style=\"text-align: right;\">\n",
       "      <th></th>\n",
       "      <th>game_year</th>\n",
       "      <th>source</th>\n",
       "      <th>pitches</th>\n",
       "    </tr>\n",
       "  </thead>\n",
       "  <tbody>\n",
       "    <tr>\n",
       "      <th>0</th>\n",
       "      <td>2015</td>\n",
       "      <td>p</td>\n",
       "      <td>24077</td>\n",
       "    </tr>\n",
       "    <tr>\n",
       "      <th>1</th>\n",
       "      <td>2016</td>\n",
       "      <td>p</td>\n",
       "      <td>24094</td>\n",
       "    </tr>\n",
       "    <tr>\n",
       "      <th>2</th>\n",
       "      <td>2017</td>\n",
       "      <td>p</td>\n",
       "      <td>24251</td>\n",
       "    </tr>\n",
       "    <tr>\n",
       "      <th>3</th>\n",
       "      <td>2018</td>\n",
       "      <td>p</td>\n",
       "      <td>24030</td>\n",
       "    </tr>\n",
       "    <tr>\n",
       "      <th>4</th>\n",
       "      <td>2019</td>\n",
       "      <td>p</td>\n",
       "      <td>24480</td>\n",
       "    </tr>\n",
       "    <tr>\n",
       "      <th>5</th>\n",
       "      <td>2020</td>\n",
       "      <td>p</td>\n",
       "      <td>8625</td>\n",
       "    </tr>\n",
       "    <tr>\n",
       "      <th>6</th>\n",
       "      <td>2021</td>\n",
       "      <td>p</td>\n",
       "      <td>23932</td>\n",
       "    </tr>\n",
       "    <tr>\n",
       "      <th>7</th>\n",
       "      <td>2022</td>\n",
       "      <td>p</td>\n",
       "      <td>29352</td>\n",
       "    </tr>\n",
       "    <tr>\n",
       "      <th>8</th>\n",
       "      <td>2023</td>\n",
       "      <td>p</td>\n",
       "      <td>28209</td>\n",
       "    </tr>\n",
       "  </tbody>\n",
       "</table>\n",
       "</div>"
      ],
      "text/plain": [
       "   game_year source  pitches\n",
       "0       2015      p    24077\n",
       "1       2016      p    24094\n",
       "2       2017      p    24251\n",
       "3       2018      p    24030\n",
       "4       2019      p    24480\n",
       "5       2020      p     8625\n",
       "6       2021      p    23932\n",
       "7       2022      p    29352\n",
       "8       2023      p    28209"
      ]
     },
     "execution_count": 25,
     "metadata": {},
     "output_type": "execute_result"
    }
   ],
   "source": [
    "df[df.source=='p'].groupby(['game_year', 'source'],as_index=False).agg({'pitches' : 'sum'})"
   ]
  },
  {
   "cell_type": "code",
   "execution_count": null,
   "id": "9f900ec1-0208-457c-a5c9-88e4f752f021",
   "metadata": {},
   "outputs": [],
   "source": [
    "df['%phillies_share'] = \n",
    "df['%career_share'] = "
   ]
  },
  {
   "cell_type": "markdown",
   "id": "f217384a-3f97-4aca-bc1c-75adc9059e38",
   "metadata": {},
   "source": [
    "# Answer the Question"
   ]
  },
  {
   "cell_type": "code",
   "execution_count": null,
   "id": "dbbeb8b9-635a-4a4b-acb2-f92ac881686d",
   "metadata": {},
   "outputs": [],
   "source": [
    "final = df.merge(z, left_on = 'player_name', right_on = 'player_name', suffixes = ('', '_ct'))\n",
    "final.loc[:, ['game_year'\n",
    "              ,'player_name'\n",
    "              ,'pitches'\n",
    "              ,'%share_pitches'\n",
    "              ,'%career_share'"
   ]
  },
  {
   "cell_type": "code",
   "execution_count": null,
   "id": "d0362404-142b-4a51-a10e-68f278a6253a",
   "metadata": {},
   "outputs": [],
   "source": [
    "df"
   ]
  },
  {
   "cell_type": "markdown",
   "id": "2c68cf1b-aaa9-4a98-9239-ada8d59db7e1",
   "metadata": {},
   "source": [
    "## Solving a Human Error in Moving the Files"
   ]
  },
  {
   "cell_type": "code",
   "execution_count": null,
   "id": "6ddc39df-41c6-4a03-882d-5ef846c180bd",
   "metadata": {},
   "outputs": [],
   "source": [
    "p=pd.read_csv('pp_16.csv') ## SHOULD BE pp16\n",
    "b=pd.read_csv('pp16.csv') ## SHOULD BE po16\n",
    "len(p), len(b)"
   ]
  },
  {
   "cell_type": "code",
   "execution_count": null,
   "id": "151fccef-4715-4c96-a1f8-29eb53b4f047",
   "metadata": {},
   "outputs": [],
   "source": [
    "b.groupby('player_name', as_index=False\n",
    "         ).agg({'des' : 'count'}\n",
    "              ).rename(columns={'des' : 'pitches'}\n",
    "                      ).sort_values(by='pitches',ascending = False\n",
    "                                   ).reset_index(drop=True\n",
    "                                                ) # Group by player, count(1) rows, order by count(1) desc\n",
    "\n",
    "## Sure looks like this is po16 file\n",
    "## I should teach a machine this^^^ "
   ]
  },
  {
   "cell_type": "code",
   "execution_count": null,
   "id": "fc8ffe2b-240f-4348-92aa-c6f973ebf634",
   "metadata": {},
   "outputs": [],
   "source": [
    "p.groupby('player_name', as_index=False\n",
    "         ).agg({'des' : 'count'}\n",
    "              ).rename(columns={'des' : 'pitches'}\n",
    "                      ).sort_values(by='pitches',ascending = False\n",
    "                                   ).reset_index(drop=True\n",
    "                                                ) # Group by player, count(1) rows, order by count(1) desc\n",
    "\n",
    "## Sure looks like this is pp16 file\n",
    "## I should teach a machine this^^^ "
   ]
  },
  {
   "cell_type": "code",
   "execution_count": null,
   "id": "accc2f31-e20c-4bcd-8305-e1fa05c6284a",
   "metadata": {},
   "outputs": [],
   "source": []
  },
  {
   "cell_type": "markdown",
   "id": "a61ff39a-44ab-4dd2-be72-98b9165af007",
   "metadata": {},
   "source": [
    "# Phillies Non-Player Analyses"
   ]
  },
  {
   "cell_type": "code",
   "execution_count": 3,
   "id": "2c7d485e-7682-48bb-8335-54b6f9a13a74",
   "metadata": {},
   "outputs": [],
   "source": [
    "import pandas as pd\n",
    "import glob\n",
    "import os\n",
    "import numpy as np\n",
    "import matplotlib as plt\n",
    "import warnings\n",
    "warnings.filterwarnings('ignore')\n",
    "\n",
    "%run \"Baseball Functions.ipynb\"\n",
    "woba_weights = pd.read_csv('wOBA and FIP Constants.csv')"
   ]
  },
  {
   "cell_type": "code",
   "execution_count": 19,
   "id": "8e32b813-eede-4be1-b2d9-51411d321568",
   "metadata": {},
   "outputs": [],
   "source": [
    "# Charlie Morton \n",
    "morton = pd.read_csv('morton_np.csv').merge(woba_weights, left_on = 'game_year', right_on = 'Season', suffixes = ('', '_ww'))"
   ]
  },
  {
   "cell_type": "code",
   "execution_count": 20,
   "id": "5e785bb5-afc1-4736-9a70-95e621cc642a",
   "metadata": {},
   "outputs": [
    {
     "data": {
      "text/html": [
       "<div>\n",
       "<style scoped>\n",
       "    .dataframe tbody tr th:only-of-type {\n",
       "        vertical-align: middle;\n",
       "    }\n",
       "\n",
       "    .dataframe tbody tr th {\n",
       "        vertical-align: top;\n",
       "    }\n",
       "\n",
       "    .dataframe thead th {\n",
       "        text-align: right;\n",
       "    }\n",
       "</style>\n",
       "<table border=\"1\" class=\"dataframe\">\n",
       "  <thead>\n",
       "    <tr style=\"text-align: right;\">\n",
       "      <th></th>\n",
       "      <th>pitch_type</th>\n",
       "      <th>game_date</th>\n",
       "      <th>release_speed</th>\n",
       "      <th>release_pos_x</th>\n",
       "      <th>release_pos_z</th>\n",
       "      <th>player_name</th>\n",
       "      <th>batter</th>\n",
       "      <th>pitcher</th>\n",
       "      <th>events</th>\n",
       "      <th>description</th>\n",
       "      <th>...</th>\n",
       "      <th>w3B_fp</th>\n",
       "      <th>wHR_fp</th>\n",
       "      <th>runSB_fp</th>\n",
       "      <th>runCS_fp</th>\n",
       "      <th>R/PA_fp</th>\n",
       "      <th>R/W_fp</th>\n",
       "      <th>cFIP_fp</th>\n",
       "      <th>fp</th>\n",
       "      <th>xwoba</th>\n",
       "      <th>xba</th>\n",
       "    </tr>\n",
       "  </thead>\n",
       "  <tbody>\n",
       "    <tr>\n",
       "      <th>0</th>\n",
       "      <td>CU</td>\n",
       "      <td>2023-09-22</td>\n",
       "      <td>81.7</td>\n",
       "      <td>-2.50</td>\n",
       "      <td>5.36</td>\n",
       "      <td>Morton, Charlie</td>\n",
       "      <td>660688</td>\n",
       "      <td>450203</td>\n",
       "      <td>field_out</td>\n",
       "      <td>hit_into_play</td>\n",
       "      <td>...</td>\n",
       "      <td>1.569</td>\n",
       "      <td>2.004</td>\n",
       "      <td>0.2</td>\n",
       "      <td>-0.422</td>\n",
       "      <td>0.122</td>\n",
       "      <td>10.028</td>\n",
       "      <td>3.255</td>\n",
       "      <td>3.0</td>\n",
       "      <td>0.085</td>\n",
       "      <td>0.077</td>\n",
       "    </tr>\n",
       "    <tr>\n",
       "      <th>1</th>\n",
       "      <td>CU</td>\n",
       "      <td>2023-09-22</td>\n",
       "      <td>82.3</td>\n",
       "      <td>-2.41</td>\n",
       "      <td>5.33</td>\n",
       "      <td>Morton, Charlie</td>\n",
       "      <td>660688</td>\n",
       "      <td>450203</td>\n",
       "      <td>NaN</td>\n",
       "      <td>foul</td>\n",
       "      <td>...</td>\n",
       "      <td>NaN</td>\n",
       "      <td>NaN</td>\n",
       "      <td>NaN</td>\n",
       "      <td>NaN</td>\n",
       "      <td>NaN</td>\n",
       "      <td>NaN</td>\n",
       "      <td>NaN</td>\n",
       "      <td>NaN</td>\n",
       "      <td>NaN</td>\n",
       "      <td>NaN</td>\n",
       "    </tr>\n",
       "    <tr>\n",
       "      <th>2</th>\n",
       "      <td>CU</td>\n",
       "      <td>2023-09-22</td>\n",
       "      <td>83.0</td>\n",
       "      <td>-2.58</td>\n",
       "      <td>5.34</td>\n",
       "      <td>Morton, Charlie</td>\n",
       "      <td>660688</td>\n",
       "      <td>450203</td>\n",
       "      <td>NaN</td>\n",
       "      <td>swinging_strike</td>\n",
       "      <td>...</td>\n",
       "      <td>NaN</td>\n",
       "      <td>NaN</td>\n",
       "      <td>NaN</td>\n",
       "      <td>NaN</td>\n",
       "      <td>NaN</td>\n",
       "      <td>NaN</td>\n",
       "      <td>NaN</td>\n",
       "      <td>NaN</td>\n",
       "      <td>NaN</td>\n",
       "      <td>NaN</td>\n",
       "    </tr>\n",
       "    <tr>\n",
       "      <th>3</th>\n",
       "      <td>CU</td>\n",
       "      <td>2023-09-22</td>\n",
       "      <td>83.6</td>\n",
       "      <td>-2.53</td>\n",
       "      <td>5.35</td>\n",
       "      <td>Morton, Charlie</td>\n",
       "      <td>642086</td>\n",
       "      <td>450203</td>\n",
       "      <td>field_out</td>\n",
       "      <td>hit_into_play</td>\n",
       "      <td>...</td>\n",
       "      <td>1.569</td>\n",
       "      <td>2.004</td>\n",
       "      <td>0.2</td>\n",
       "      <td>-0.422</td>\n",
       "      <td>0.122</td>\n",
       "      <td>10.028</td>\n",
       "      <td>3.255</td>\n",
       "      <td>5.0</td>\n",
       "      <td>0.864</td>\n",
       "      <td>0.471</td>\n",
       "    </tr>\n",
       "    <tr>\n",
       "      <th>4</th>\n",
       "      <td>CU</td>\n",
       "      <td>2023-09-22</td>\n",
       "      <td>83.4</td>\n",
       "      <td>-2.66</td>\n",
       "      <td>5.51</td>\n",
       "      <td>Morton, Charlie</td>\n",
       "      <td>642086</td>\n",
       "      <td>450203</td>\n",
       "      <td>NaN</td>\n",
       "      <td>ball</td>\n",
       "      <td>...</td>\n",
       "      <td>NaN</td>\n",
       "      <td>NaN</td>\n",
       "      <td>NaN</td>\n",
       "      <td>NaN</td>\n",
       "      <td>NaN</td>\n",
       "      <td>NaN</td>\n",
       "      <td>NaN</td>\n",
       "      <td>NaN</td>\n",
       "      <td>NaN</td>\n",
       "      <td>NaN</td>\n",
       "    </tr>\n",
       "    <tr>\n",
       "      <th>...</th>\n",
       "      <td>...</td>\n",
       "      <td>...</td>\n",
       "      <td>...</td>\n",
       "      <td>...</td>\n",
       "      <td>...</td>\n",
       "      <td>...</td>\n",
       "      <td>...</td>\n",
       "      <td>...</td>\n",
       "      <td>...</td>\n",
       "      <td>...</td>\n",
       "      <td>...</td>\n",
       "      <td>...</td>\n",
       "      <td>...</td>\n",
       "      <td>...</td>\n",
       "      <td>...</td>\n",
       "      <td>...</td>\n",
       "      <td>...</td>\n",
       "      <td>...</td>\n",
       "      <td>...</td>\n",
       "      <td>...</td>\n",
       "      <td>...</td>\n",
       "    </tr>\n",
       "    <tr>\n",
       "      <th>20849</th>\n",
       "      <td>SI</td>\n",
       "      <td>2015-05-25</td>\n",
       "      <td>92.9</td>\n",
       "      <td>-2.52</td>\n",
       "      <td>5.70</td>\n",
       "      <td>Morton, Charlie</td>\n",
       "      <td>542303</td>\n",
       "      <td>450203</td>\n",
       "      <td>NaN</td>\n",
       "      <td>called_strike</td>\n",
       "      <td>...</td>\n",
       "      <td>NaN</td>\n",
       "      <td>NaN</td>\n",
       "      <td>NaN</td>\n",
       "      <td>NaN</td>\n",
       "      <td>NaN</td>\n",
       "      <td>NaN</td>\n",
       "      <td>NaN</td>\n",
       "      <td>NaN</td>\n",
       "      <td>NaN</td>\n",
       "      <td>NaN</td>\n",
       "    </tr>\n",
       "    <tr>\n",
       "      <th>20850</th>\n",
       "      <td>SI</td>\n",
       "      <td>2015-05-25</td>\n",
       "      <td>92.6</td>\n",
       "      <td>-2.41</td>\n",
       "      <td>5.69</td>\n",
       "      <td>Morton, Charlie</td>\n",
       "      <td>543829</td>\n",
       "      <td>450203</td>\n",
       "      <td>single</td>\n",
       "      <td>hit_into_play</td>\n",
       "      <td>...</td>\n",
       "      <td>1.594</td>\n",
       "      <td>2.065</td>\n",
       "      <td>0.2</td>\n",
       "      <td>-0.392</td>\n",
       "      <td>0.112</td>\n",
       "      <td>9.421</td>\n",
       "      <td>3.134</td>\n",
       "      <td>4.0</td>\n",
       "      <td>0.102</td>\n",
       "      <td>0.100</td>\n",
       "    </tr>\n",
       "    <tr>\n",
       "      <th>20851</th>\n",
       "      <td>SI</td>\n",
       "      <td>2015-05-25</td>\n",
       "      <td>93.3</td>\n",
       "      <td>-2.39</td>\n",
       "      <td>5.88</td>\n",
       "      <td>Morton, Charlie</td>\n",
       "      <td>543829</td>\n",
       "      <td>450203</td>\n",
       "      <td>NaN</td>\n",
       "      <td>foul</td>\n",
       "      <td>...</td>\n",
       "      <td>NaN</td>\n",
       "      <td>NaN</td>\n",
       "      <td>NaN</td>\n",
       "      <td>NaN</td>\n",
       "      <td>NaN</td>\n",
       "      <td>NaN</td>\n",
       "      <td>NaN</td>\n",
       "      <td>NaN</td>\n",
       "      <td>NaN</td>\n",
       "      <td>NaN</td>\n",
       "    </tr>\n",
       "    <tr>\n",
       "      <th>20852</th>\n",
       "      <td>SI</td>\n",
       "      <td>2015-05-25</td>\n",
       "      <td>92.8</td>\n",
       "      <td>-2.34</td>\n",
       "      <td>5.77</td>\n",
       "      <td>Morton, Charlie</td>\n",
       "      <td>543829</td>\n",
       "      <td>450203</td>\n",
       "      <td>NaN</td>\n",
       "      <td>called_strike</td>\n",
       "      <td>...</td>\n",
       "      <td>NaN</td>\n",
       "      <td>NaN</td>\n",
       "      <td>NaN</td>\n",
       "      <td>NaN</td>\n",
       "      <td>NaN</td>\n",
       "      <td>NaN</td>\n",
       "      <td>NaN</td>\n",
       "      <td>NaN</td>\n",
       "      <td>NaN</td>\n",
       "      <td>NaN</td>\n",
       "    </tr>\n",
       "    <tr>\n",
       "      <th>20853</th>\n",
       "      <td>SI</td>\n",
       "      <td>2015-05-25</td>\n",
       "      <td>92.7</td>\n",
       "      <td>-2.36</td>\n",
       "      <td>5.80</td>\n",
       "      <td>Morton, Charlie</td>\n",
       "      <td>543829</td>\n",
       "      <td>450203</td>\n",
       "      <td>NaN</td>\n",
       "      <td>ball</td>\n",
       "      <td>...</td>\n",
       "      <td>NaN</td>\n",
       "      <td>NaN</td>\n",
       "      <td>NaN</td>\n",
       "      <td>NaN</td>\n",
       "      <td>NaN</td>\n",
       "      <td>NaN</td>\n",
       "      <td>NaN</td>\n",
       "      <td>NaN</td>\n",
       "      <td>NaN</td>\n",
       "      <td>NaN</td>\n",
       "    </tr>\n",
       "  </tbody>\n",
       "</table>\n",
       "<p>20854 rows × 212 columns</p>\n",
       "</div>"
      ],
      "text/plain": [
       "      pitch_type   game_date  release_speed  release_pos_x  release_pos_z  \\\n",
       "0             CU  2023-09-22           81.7          -2.50           5.36   \n",
       "1             CU  2023-09-22           82.3          -2.41           5.33   \n",
       "2             CU  2023-09-22           83.0          -2.58           5.34   \n",
       "3             CU  2023-09-22           83.6          -2.53           5.35   \n",
       "4             CU  2023-09-22           83.4          -2.66           5.51   \n",
       "...          ...         ...            ...            ...            ...   \n",
       "20849         SI  2015-05-25           92.9          -2.52           5.70   \n",
       "20850         SI  2015-05-25           92.6          -2.41           5.69   \n",
       "20851         SI  2015-05-25           93.3          -2.39           5.88   \n",
       "20852         SI  2015-05-25           92.8          -2.34           5.77   \n",
       "20853         SI  2015-05-25           92.7          -2.36           5.80   \n",
       "\n",
       "           player_name  batter  pitcher     events      description  ...  \\\n",
       "0      Morton, Charlie  660688   450203  field_out    hit_into_play  ...   \n",
       "1      Morton, Charlie  660688   450203        NaN             foul  ...   \n",
       "2      Morton, Charlie  660688   450203        NaN  swinging_strike  ...   \n",
       "3      Morton, Charlie  642086   450203  field_out    hit_into_play  ...   \n",
       "4      Morton, Charlie  642086   450203        NaN             ball  ...   \n",
       "...                ...     ...      ...        ...              ...  ...   \n",
       "20849  Morton, Charlie  542303   450203        NaN    called_strike  ...   \n",
       "20850  Morton, Charlie  543829   450203     single    hit_into_play  ...   \n",
       "20851  Morton, Charlie  543829   450203        NaN             foul  ...   \n",
       "20852  Morton, Charlie  543829   450203        NaN    called_strike  ...   \n",
       "20853  Morton, Charlie  543829   450203        NaN             ball  ...   \n",
       "\n",
       "       w3B_fp  wHR_fp  runSB_fp  runCS_fp  R/PA_fp  R/W_fp cFIP_fp   fp  \\\n",
       "0       1.569   2.004       0.2    -0.422    0.122  10.028   3.255  3.0   \n",
       "1         NaN     NaN       NaN       NaN      NaN     NaN     NaN  NaN   \n",
       "2         NaN     NaN       NaN       NaN      NaN     NaN     NaN  NaN   \n",
       "3       1.569   2.004       0.2    -0.422    0.122  10.028   3.255  5.0   \n",
       "4         NaN     NaN       NaN       NaN      NaN     NaN     NaN  NaN   \n",
       "...       ...     ...       ...       ...      ...     ...     ...  ...   \n",
       "20849     NaN     NaN       NaN       NaN      NaN     NaN     NaN  NaN   \n",
       "20850   1.594   2.065       0.2    -0.392    0.112   9.421   3.134  4.0   \n",
       "20851     NaN     NaN       NaN       NaN      NaN     NaN     NaN  NaN   \n",
       "20852     NaN     NaN       NaN       NaN      NaN     NaN     NaN  NaN   \n",
       "20853     NaN     NaN       NaN       NaN      NaN     NaN     NaN  NaN   \n",
       "\n",
       "       xwoba    xba  \n",
       "0      0.085  0.077  \n",
       "1        NaN    NaN  \n",
       "2        NaN    NaN  \n",
       "3      0.864  0.471  \n",
       "4        NaN    NaN  \n",
       "...      ...    ...  \n",
       "20849    NaN    NaN  \n",
       "20850  0.102  0.100  \n",
       "20851    NaN    NaN  \n",
       "20852    NaN    NaN  \n",
       "20853    NaN    NaN  \n",
       "\n",
       "[20854 rows x 212 columns]"
      ]
     },
     "execution_count": 20,
     "metadata": {},
     "output_type": "execute_result"
    }
   ],
   "source": [
    "mcgs(['game_year','events'],last_pitch_abs(morton))"
   ]
  },
  {
   "cell_type": "code",
   "execution_count": 19,
   "id": "d4ea0ea6-237d-4519-8342-98c269ce08de",
   "metadata": {},
   "outputs": [],
   "source": [
    "# Hector Neris \n",
    "neris = pd.read_csv('neris_np.csv').merge(woba_weights, left_on = 'game_year', right_on = 'Season', suffixes = ('', '_ww'))"
   ]
  },
  {
   "cell_type": "code",
   "execution_count": 5,
   "id": "d666068b-5156-4ce3-84cc-bf93dd7c17cc",
   "metadata": {},
   "outputs": [
    {
     "data": {
      "text/html": [
       "<div>\n",
       "<style scoped>\n",
       "    .dataframe tbody tr th:only-of-type {\n",
       "        vertical-align: middle;\n",
       "    }\n",
       "\n",
       "    .dataframe tbody tr th {\n",
       "        vertical-align: top;\n",
       "    }\n",
       "\n",
       "    .dataframe thead th {\n",
       "        text-align: right;\n",
       "    }\n",
       "</style>\n",
       "<table border=\"1\" class=\"dataframe\">\n",
       "  <thead>\n",
       "    <tr style=\"text-align: right;\">\n",
       "      <th></th>\n",
       "      <th>game_year</th>\n",
       "      <th>events</th>\n",
       "      <th>pitches</th>\n",
       "      <th>plate_apps</th>\n",
       "      <th>at_bats</th>\n",
       "      <th>hits</th>\n",
       "      <th>singles</th>\n",
       "      <th>doubles</th>\n",
       "      <th>triples</th>\n",
       "      <th>hrs</th>\n",
       "      <th>...</th>\n",
       "      <th>strikeouts</th>\n",
       "      <th>bip</th>\n",
       "      <th>xba</th>\n",
       "      <th>xwoba</th>\n",
       "      <th>wHR</th>\n",
       "      <th>ba</th>\n",
       "      <th>obp</th>\n",
       "      <th>slg</th>\n",
       "      <th>ops</th>\n",
       "      <th>woba</th>\n",
       "    </tr>\n",
       "  </thead>\n",
       "  <tbody>\n",
       "    <tr>\n",
       "      <th>0</th>\n",
       "      <td>2022</td>\n",
       "      <td>strikeout</td>\n",
       "      <td>88</td>\n",
       "      <td>88</td>\n",
       "      <td>88</td>\n",
       "      <td>0.0</td>\n",
       "      <td>0.0</td>\n",
       "      <td>0.0</td>\n",
       "      <td>0.0</td>\n",
       "      <td>0.0</td>\n",
       "      <td>...</td>\n",
       "      <td>88</td>\n",
       "      <td>0.0</td>\n",
       "      <td>0.0</td>\n",
       "      <td>0.0</td>\n",
       "      <td>0.0</td>\n",
       "      <td>0.0</td>\n",
       "      <td>0.0</td>\n",
       "      <td>0.0</td>\n",
       "      <td>0.0</td>\n",
       "      <td>0.0</td>\n",
       "    </tr>\n",
       "    <tr>\n",
       "      <th>1</th>\n",
       "      <td>2023</td>\n",
       "      <td>strikeout</td>\n",
       "      <td>85</td>\n",
       "      <td>85</td>\n",
       "      <td>85</td>\n",
       "      <td>0.0</td>\n",
       "      <td>0.0</td>\n",
       "      <td>0.0</td>\n",
       "      <td>0.0</td>\n",
       "      <td>0.0</td>\n",
       "      <td>...</td>\n",
       "      <td>85</td>\n",
       "      <td>0.0</td>\n",
       "      <td>0.0</td>\n",
       "      <td>0.0</td>\n",
       "      <td>0.0</td>\n",
       "      <td>0.0</td>\n",
       "      <td>0.0</td>\n",
       "      <td>0.0</td>\n",
       "      <td>0.0</td>\n",
       "      <td>0.0</td>\n",
       "    </tr>\n",
       "  </tbody>\n",
       "</table>\n",
       "<p>2 rows × 27 columns</p>\n",
       "</div>"
      ],
      "text/plain": [
       "   game_year     events  pitches  plate_apps  at_bats  hits  singles  doubles  \\\n",
       "0       2022  strikeout       88          88       88   0.0      0.0      0.0   \n",
       "1       2023  strikeout       85          85       85   0.0      0.0      0.0   \n",
       "\n",
       "   triples  hrs  ...  strikeouts  bip  xba  xwoba  wHR   ba  obp  slg  ops  \\\n",
       "0      0.0  0.0  ...          88  0.0  0.0    0.0  0.0  0.0  0.0  0.0  0.0   \n",
       "1      0.0  0.0  ...          85  0.0  0.0    0.0  0.0  0.0  0.0  0.0  0.0   \n",
       "\n",
       "   woba  \n",
       "0   0.0  \n",
       "1   0.0  \n",
       "\n",
       "[2 rows x 27 columns]"
      ]
     },
     "execution_count": 5,
     "metadata": {},
     "output_type": "execute_result"
    }
   ],
   "source": [
    "mcgs(['game_year','events'],last_pitch_abs(neris[neris.events == 'strikeout']))"
   ]
  },
  {
   "cell_type": "markdown",
   "id": "f2edb522-96cf-4351-a6ec-5b6799290e74",
   "metadata": {},
   "source": [
    "## Kellen Short"
   ]
  },
  {
   "cell_type": "code",
   "execution_count": 83,
   "id": "cb557532-8fc2-492e-8941-4736b019dd02",
   "metadata": {},
   "outputs": [],
   "source": [
    "game_pks = {'game_date' : ['2024-06-05'\n",
    "                           ,'2024-06-11'\n",
    "                           ,'2024-06-17'\n",
    "                          ]\n",
    "            ,'game_pk' : ['000001'\n",
    "                          ,'000002'\n",
    "                          ,'000003'\n",
    "                         ]\n",
    "           }\n",
    "game_pks = pd.DataFrame(game_pks)"
   ]
  },
  {
   "cell_type": "code",
   "execution_count": 84,
   "id": "1a5d30ba-8d57-4961-a459-92d02c029fad",
   "metadata": {},
   "outputs": [],
   "source": [
    "df = pd.read_csv('MLB The Show Pitch Chart - Sheet1.csv')\n",
    "df['game_year'] = 2023\n",
    "df = df.merge(game_pks, left_on = 'game_date', right_on = 'game_date', suffixes = ('','_gpks'))\n",
    "df['estimated_woba_using_speedangle'] = 0.275\n",
    "df['estimated_ba_using_speedangle'] = 0.248\n",
    "df['description'] = 'video_game'\n",
    "df = df.merge(woba_weights, left_on = 'game_year', right_on = 'Season', suffixes = ('', '_ww'))"
   ]
  },
  {
   "cell_type": "code",
   "execution_count": 85,
   "id": "7ab63a77-bcb7-4929-9930-8b2060b97afd",
   "metadata": {},
   "outputs": [],
   "source": [
    "df = last_pitch_abs(df)"
   ]
  },
  {
   "cell_type": "code",
   "execution_count": 86,
   "id": "712d656e-2273-4932-a2b9-7c9d73021eb5",
   "metadata": {},
   "outputs": [
    {
     "data": {
      "text/html": [
       "<div>\n",
       "<style scoped>\n",
       "    .dataframe tbody tr th:only-of-type {\n",
       "        vertical-align: middle;\n",
       "    }\n",
       "\n",
       "    .dataframe tbody tr th {\n",
       "        vertical-align: top;\n",
       "    }\n",
       "\n",
       "    .dataframe thead th {\n",
       "        text-align: right;\n",
       "    }\n",
       "</style>\n",
       "<table border=\"1\" class=\"dataframe\">\n",
       "  <thead>\n",
       "    <tr style=\"text-align: right;\">\n",
       "      <th></th>\n",
       "      <th>game_date</th>\n",
       "      <th>pitches</th>\n",
       "      <th>plate_apps</th>\n",
       "      <th>bip</th>\n",
       "      <th>hits</th>\n",
       "      <th>hrs</th>\n",
       "      <th>walks</th>\n",
       "      <th>strikeouts</th>\n",
       "      <th>ba</th>\n",
       "      <th>xba</th>\n",
       "      <th>obp</th>\n",
       "      <th>slg</th>\n",
       "      <th>ops</th>\n",
       "      <th>woba</th>\n",
       "      <th>xwoba</th>\n",
       "    </tr>\n",
       "  </thead>\n",
       "  <tbody>\n",
       "    <tr>\n",
       "      <th>0</th>\n",
       "      <td>2024-06-05</td>\n",
       "      <td>110</td>\n",
       "      <td>49</td>\n",
       "      <td>10</td>\n",
       "      <td>1</td>\n",
       "      <td>0.0</td>\n",
       "      <td>0.0</td>\n",
       "      <td>16</td>\n",
       "      <td>0.020</td>\n",
       "      <td>0.095</td>\n",
       "      <td>0.020</td>\n",
       "      <td>0.041</td>\n",
       "      <td>0.061</td>\n",
       "      <td>0.025</td>\n",
       "      <td>0.275</td>\n",
       "    </tr>\n",
       "    <tr>\n",
       "      <th>1</th>\n",
       "      <td>2024-06-11</td>\n",
       "      <td>92</td>\n",
       "      <td>39</td>\n",
       "      <td>12</td>\n",
       "      <td>2</td>\n",
       "      <td>0.0</td>\n",
       "      <td>2.0</td>\n",
       "      <td>9</td>\n",
       "      <td>0.056</td>\n",
       "      <td>0.155</td>\n",
       "      <td>0.128</td>\n",
       "      <td>0.056</td>\n",
       "      <td>0.184</td>\n",
       "      <td>0.100</td>\n",
       "      <td>0.328</td>\n",
       "    </tr>\n",
       "    <tr>\n",
       "      <th>2</th>\n",
       "      <td>2024-06-17</td>\n",
       "      <td>95</td>\n",
       "      <td>39</td>\n",
       "      <td>18</td>\n",
       "      <td>4</td>\n",
       "      <td>0.0</td>\n",
       "      <td>0.0</td>\n",
       "      <td>9</td>\n",
       "      <td>0.103</td>\n",
       "      <td>0.159</td>\n",
       "      <td>0.103</td>\n",
       "      <td>0.103</td>\n",
       "      <td>0.205</td>\n",
       "      <td>0.091</td>\n",
       "      <td>0.275</td>\n",
       "    </tr>\n",
       "  </tbody>\n",
       "</table>\n",
       "</div>"
      ],
      "text/plain": [
       "    game_date  pitches  plate_apps  bip  hits  hrs  walks  strikeouts     ba  \\\n",
       "0  2024-06-05      110          49   10     1  0.0    0.0          16  0.020   \n",
       "1  2024-06-11       92          39   12     2  0.0    2.0           9  0.056   \n",
       "2  2024-06-17       95          39   18     4  0.0    0.0           9  0.103   \n",
       "\n",
       "     xba    obp    slg    ops   woba  xwoba  \n",
       "0  0.095  0.020  0.041  0.061  0.025  0.275  \n",
       "1  0.155  0.128  0.056  0.184  0.100  0.328  \n",
       "2  0.159  0.103  0.103  0.205  0.091  0.275  "
      ]
     },
     "execution_count": 86,
     "metadata": {},
     "output_type": "execute_result"
    }
   ],
   "source": [
    "results('game_date')"
   ]
  },
  {
   "cell_type": "code",
   "execution_count": 94,
   "id": "97cd23c0-8063-4914-890a-8e7e4f7c7777",
   "metadata": {},
   "outputs": [
    {
     "data": {
      "text/html": [
       "<div>\n",
       "<style scoped>\n",
       "    .dataframe tbody tr th:only-of-type {\n",
       "        vertical-align: middle;\n",
       "    }\n",
       "\n",
       "    .dataframe tbody tr th {\n",
       "        vertical-align: top;\n",
       "    }\n",
       "\n",
       "    .dataframe thead th {\n",
       "        text-align: right;\n",
       "    }\n",
       "</style>\n",
       "<table border=\"1\" class=\"dataframe\">\n",
       "  <thead>\n",
       "    <tr style=\"text-align: right;\">\n",
       "      <th></th>\n",
       "      <th>pitch_type</th>\n",
       "      <th>stand</th>\n",
       "      <th>pitches</th>\n",
       "      <th>release_speed</th>\n",
       "    </tr>\n",
       "  </thead>\n",
       "  <tbody>\n",
       "    <tr>\n",
       "      <th>0</th>\n",
       "      <td>CH</td>\n",
       "      <td>L</td>\n",
       "      <td>22</td>\n",
       "      <td>83.4</td>\n",
       "    </tr>\n",
       "    <tr>\n",
       "      <th>2</th>\n",
       "      <td>CU</td>\n",
       "      <td>L</td>\n",
       "      <td>28</td>\n",
       "      <td>78.6</td>\n",
       "    </tr>\n",
       "    <tr>\n",
       "      <th>5</th>\n",
       "      <td>FC</td>\n",
       "      <td>R</td>\n",
       "      <td>29</td>\n",
       "      <td>92.9</td>\n",
       "    </tr>\n",
       "    <tr>\n",
       "      <th>1</th>\n",
       "      <td>CH</td>\n",
       "      <td>R</td>\n",
       "      <td>34</td>\n",
       "      <td>83.9</td>\n",
       "    </tr>\n",
       "    <tr>\n",
       "      <th>6</th>\n",
       "      <td>FF</td>\n",
       "      <td>L</td>\n",
       "      <td>36</td>\n",
       "      <td>95.1</td>\n",
       "    </tr>\n",
       "    <tr>\n",
       "      <th>4</th>\n",
       "      <td>FC</td>\n",
       "      <td>L</td>\n",
       "      <td>38</td>\n",
       "      <td>93.2</td>\n",
       "    </tr>\n",
       "    <tr>\n",
       "      <th>3</th>\n",
       "      <td>CU</td>\n",
       "      <td>R</td>\n",
       "      <td>53</td>\n",
       "      <td>78.8</td>\n",
       "    </tr>\n",
       "    <tr>\n",
       "      <th>7</th>\n",
       "      <td>FF</td>\n",
       "      <td>R</td>\n",
       "      <td>57</td>\n",
       "      <td>95.2</td>\n",
       "    </tr>\n",
       "  </tbody>\n",
       "</table>\n",
       "</div>"
      ],
      "text/plain": [
       "  pitch_type stand  pitches  release_speed\n",
       "0         CH     L       22           83.4\n",
       "2         CU     L       28           78.6\n",
       "5         FC     R       29           92.9\n",
       "1         CH     R       34           83.9\n",
       "6         FF     L       36           95.1\n",
       "4         FC     L       38           93.2\n",
       "3         CU     R       53           78.8\n",
       "7         FF     R       57           95.2"
      ]
     },
     "execution_count": 94,
     "metadata": {},
     "output_type": "execute_result"
    }
   ],
   "source": [
    "df.groupby(['pitch_type', 'stand'],as_index=False).agg({'p_throws' : 'count'\n",
    "                                                        ,'release_speed' : 'mean'\n",
    "                                                       }).rename(columns = {'p_throws' : 'pitches'}).round(1\n",
    "                                                                                                          ).sort_values(by='pitches')"
   ]
  },
  {
   "cell_type": "markdown",
   "id": "0b2e8bfa-09c3-4b43-9e73-dbaf81153c1e",
   "metadata": {},
   "source": [
    "## Zach Eflin"
   ]
  },
  {
   "cell_type": "code",
   "execution_count": 4,
   "id": "2988c14b-e998-4567-afe8-1529e19d5aff",
   "metadata": {},
   "outputs": [
    {
     "data": {
      "text/html": [
       "<div>\n",
       "<style scoped>\n",
       "    .dataframe tbody tr th:only-of-type {\n",
       "        vertical-align: middle;\n",
       "    }\n",
       "\n",
       "    .dataframe tbody tr th {\n",
       "        vertical-align: top;\n",
       "    }\n",
       "\n",
       "    .dataframe thead th {\n",
       "        text-align: right;\n",
       "    }\n",
       "</style>\n",
       "<table border=\"1\" class=\"dataframe\">\n",
       "  <thead>\n",
       "    <tr style=\"text-align: right;\">\n",
       "      <th></th>\n",
       "      <th>pitch_type</th>\n",
       "      <th>game_date</th>\n",
       "      <th>release_speed</th>\n",
       "      <th>release_pos_x</th>\n",
       "      <th>release_pos_z</th>\n",
       "      <th>player_name</th>\n",
       "      <th>batter</th>\n",
       "      <th>pitcher</th>\n",
       "      <th>events</th>\n",
       "      <th>description</th>\n",
       "      <th>...</th>\n",
       "      <th>wHBP</th>\n",
       "      <th>w1B</th>\n",
       "      <th>w2B</th>\n",
       "      <th>w3B</th>\n",
       "      <th>wHR</th>\n",
       "      <th>runSB</th>\n",
       "      <th>runCS</th>\n",
       "      <th>R/PA</th>\n",
       "      <th>R/W</th>\n",
       "      <th>cFIP</th>\n",
       "    </tr>\n",
       "  </thead>\n",
       "  <tbody>\n",
       "    <tr>\n",
       "      <th>0</th>\n",
       "      <td>ST</td>\n",
       "      <td>2023-10-04</td>\n",
       "      <td>79.8</td>\n",
       "      <td>-2.69</td>\n",
       "      <td>5.83</td>\n",
       "      <td>Eflin, Zach</td>\n",
       "      <td>641680</td>\n",
       "      <td>621107</td>\n",
       "      <td>field_out</td>\n",
       "      <td>hit_into_play</td>\n",
       "      <td>...</td>\n",
       "      <td>0.726</td>\n",
       "      <td>0.883</td>\n",
       "      <td>1.244</td>\n",
       "      <td>1.569</td>\n",
       "      <td>2.004</td>\n",
       "      <td>0.2</td>\n",
       "      <td>-0.422</td>\n",
       "      <td>0.122</td>\n",
       "      <td>10.028</td>\n",
       "      <td>3.255</td>\n",
       "    </tr>\n",
       "    <tr>\n",
       "      <th>1</th>\n",
       "      <td>SI</td>\n",
       "      <td>2023-10-04</td>\n",
       "      <td>90.9</td>\n",
       "      <td>-2.32</td>\n",
       "      <td>5.91</td>\n",
       "      <td>Eflin, Zach</td>\n",
       "      <td>641680</td>\n",
       "      <td>621107</td>\n",
       "      <td>NaN</td>\n",
       "      <td>ball</td>\n",
       "      <td>...</td>\n",
       "      <td>0.726</td>\n",
       "      <td>0.883</td>\n",
       "      <td>1.244</td>\n",
       "      <td>1.569</td>\n",
       "      <td>2.004</td>\n",
       "      <td>0.2</td>\n",
       "      <td>-0.422</td>\n",
       "      <td>0.122</td>\n",
       "      <td>10.028</td>\n",
       "      <td>3.255</td>\n",
       "    </tr>\n",
       "    <tr>\n",
       "      <th>2</th>\n",
       "      <td>ST</td>\n",
       "      <td>2023-10-04</td>\n",
       "      <td>80.2</td>\n",
       "      <td>-2.59</td>\n",
       "      <td>5.91</td>\n",
       "      <td>Eflin, Zach</td>\n",
       "      <td>641680</td>\n",
       "      <td>621107</td>\n",
       "      <td>NaN</td>\n",
       "      <td>called_strike</td>\n",
       "      <td>...</td>\n",
       "      <td>0.726</td>\n",
       "      <td>0.883</td>\n",
       "      <td>1.244</td>\n",
       "      <td>1.569</td>\n",
       "      <td>2.004</td>\n",
       "      <td>0.2</td>\n",
       "      <td>-0.422</td>\n",
       "      <td>0.122</td>\n",
       "      <td>10.028</td>\n",
       "      <td>3.255</td>\n",
       "    </tr>\n",
       "    <tr>\n",
       "      <th>3</th>\n",
       "      <td>SI</td>\n",
       "      <td>2023-10-04</td>\n",
       "      <td>91.3</td>\n",
       "      <td>-2.22</td>\n",
       "      <td>5.90</td>\n",
       "      <td>Eflin, Zach</td>\n",
       "      <td>663993</td>\n",
       "      <td>621107</td>\n",
       "      <td>field_out</td>\n",
       "      <td>hit_into_play</td>\n",
       "      <td>...</td>\n",
       "      <td>0.726</td>\n",
       "      <td>0.883</td>\n",
       "      <td>1.244</td>\n",
       "      <td>1.569</td>\n",
       "      <td>2.004</td>\n",
       "      <td>0.2</td>\n",
       "      <td>-0.422</td>\n",
       "      <td>0.122</td>\n",
       "      <td>10.028</td>\n",
       "      <td>3.255</td>\n",
       "    </tr>\n",
       "    <tr>\n",
       "      <th>4</th>\n",
       "      <td>ST</td>\n",
       "      <td>2023-10-04</td>\n",
       "      <td>80.7</td>\n",
       "      <td>-2.42</td>\n",
       "      <td>5.86</td>\n",
       "      <td>Eflin, Zach</td>\n",
       "      <td>663993</td>\n",
       "      <td>621107</td>\n",
       "      <td>NaN</td>\n",
       "      <td>ball</td>\n",
       "      <td>...</td>\n",
       "      <td>0.726</td>\n",
       "      <td>0.883</td>\n",
       "      <td>1.244</td>\n",
       "      <td>1.569</td>\n",
       "      <td>2.004</td>\n",
       "      <td>0.2</td>\n",
       "      <td>-0.422</td>\n",
       "      <td>0.122</td>\n",
       "      <td>10.028</td>\n",
       "      <td>3.255</td>\n",
       "    </tr>\n",
       "    <tr>\n",
       "      <th>...</th>\n",
       "      <td>...</td>\n",
       "      <td>...</td>\n",
       "      <td>...</td>\n",
       "      <td>...</td>\n",
       "      <td>...</td>\n",
       "      <td>...</td>\n",
       "      <td>...</td>\n",
       "      <td>...</td>\n",
       "      <td>...</td>\n",
       "      <td>...</td>\n",
       "      <td>...</td>\n",
       "      <td>...</td>\n",
       "      <td>...</td>\n",
       "      <td>...</td>\n",
       "      <td>...</td>\n",
       "      <td>...</td>\n",
       "      <td>...</td>\n",
       "      <td>...</td>\n",
       "      <td>...</td>\n",
       "      <td>...</td>\n",
       "      <td>...</td>\n",
       "    </tr>\n",
       "    <tr>\n",
       "      <th>2647</th>\n",
       "      <td>CH</td>\n",
       "      <td>2023-04-01</td>\n",
       "      <td>85.7</td>\n",
       "      <td>-2.34</td>\n",
       "      <td>5.84</td>\n",
       "      <td>Eflin, Zach</td>\n",
       "      <td>682985</td>\n",
       "      <td>621107</td>\n",
       "      <td>NaN</td>\n",
       "      <td>swinging_strike</td>\n",
       "      <td>...</td>\n",
       "      <td>0.726</td>\n",
       "      <td>0.883</td>\n",
       "      <td>1.244</td>\n",
       "      <td>1.569</td>\n",
       "      <td>2.004</td>\n",
       "      <td>0.2</td>\n",
       "      <td>-0.422</td>\n",
       "      <td>0.122</td>\n",
       "      <td>10.028</td>\n",
       "      <td>3.255</td>\n",
       "    </tr>\n",
       "    <tr>\n",
       "      <th>2648</th>\n",
       "      <td>FC</td>\n",
       "      <td>2023-04-01</td>\n",
       "      <td>91.0</td>\n",
       "      <td>-2.30</td>\n",
       "      <td>5.67</td>\n",
       "      <td>Eflin, Zach</td>\n",
       "      <td>682985</td>\n",
       "      <td>621107</td>\n",
       "      <td>NaN</td>\n",
       "      <td>ball</td>\n",
       "      <td>...</td>\n",
       "      <td>0.726</td>\n",
       "      <td>0.883</td>\n",
       "      <td>1.244</td>\n",
       "      <td>1.569</td>\n",
       "      <td>2.004</td>\n",
       "      <td>0.2</td>\n",
       "      <td>-0.422</td>\n",
       "      <td>0.122</td>\n",
       "      <td>10.028</td>\n",
       "      <td>3.255</td>\n",
       "    </tr>\n",
       "    <tr>\n",
       "      <th>2649</th>\n",
       "      <td>SI</td>\n",
       "      <td>2023-04-01</td>\n",
       "      <td>93.7</td>\n",
       "      <td>-2.40</td>\n",
       "      <td>5.70</td>\n",
       "      <td>Eflin, Zach</td>\n",
       "      <td>682985</td>\n",
       "      <td>621107</td>\n",
       "      <td>NaN</td>\n",
       "      <td>foul</td>\n",
       "      <td>...</td>\n",
       "      <td>0.726</td>\n",
       "      <td>0.883</td>\n",
       "      <td>1.244</td>\n",
       "      <td>1.569</td>\n",
       "      <td>2.004</td>\n",
       "      <td>0.2</td>\n",
       "      <td>-0.422</td>\n",
       "      <td>0.122</td>\n",
       "      <td>10.028</td>\n",
       "      <td>3.255</td>\n",
       "    </tr>\n",
       "    <tr>\n",
       "      <th>2650</th>\n",
       "      <td>FC</td>\n",
       "      <td>2023-04-01</td>\n",
       "      <td>90.2</td>\n",
       "      <td>-2.41</td>\n",
       "      <td>5.68</td>\n",
       "      <td>Eflin, Zach</td>\n",
       "      <td>665155</td>\n",
       "      <td>621107</td>\n",
       "      <td>field_out</td>\n",
       "      <td>hit_into_play</td>\n",
       "      <td>...</td>\n",
       "      <td>0.726</td>\n",
       "      <td>0.883</td>\n",
       "      <td>1.244</td>\n",
       "      <td>1.569</td>\n",
       "      <td>2.004</td>\n",
       "      <td>0.2</td>\n",
       "      <td>-0.422</td>\n",
       "      <td>0.122</td>\n",
       "      <td>10.028</td>\n",
       "      <td>3.255</td>\n",
       "    </tr>\n",
       "    <tr>\n",
       "      <th>2651</th>\n",
       "      <td>SI</td>\n",
       "      <td>2023-04-01</td>\n",
       "      <td>93.3</td>\n",
       "      <td>-2.31</td>\n",
       "      <td>5.71</td>\n",
       "      <td>Eflin, Zach</td>\n",
       "      <td>665155</td>\n",
       "      <td>621107</td>\n",
       "      <td>NaN</td>\n",
       "      <td>called_strike</td>\n",
       "      <td>...</td>\n",
       "      <td>0.726</td>\n",
       "      <td>0.883</td>\n",
       "      <td>1.244</td>\n",
       "      <td>1.569</td>\n",
       "      <td>2.004</td>\n",
       "      <td>0.2</td>\n",
       "      <td>-0.422</td>\n",
       "      <td>0.122</td>\n",
       "      <td>10.028</td>\n",
       "      <td>3.255</td>\n",
       "    </tr>\n",
       "  </tbody>\n",
       "</table>\n",
       "<p>2652 rows × 106 columns</p>\n",
       "</div>"
      ],
      "text/plain": [
       "     pitch_type   game_date  release_speed  release_pos_x  release_pos_z  \\\n",
       "0            ST  2023-10-04           79.8          -2.69           5.83   \n",
       "1            SI  2023-10-04           90.9          -2.32           5.91   \n",
       "2            ST  2023-10-04           80.2          -2.59           5.91   \n",
       "3            SI  2023-10-04           91.3          -2.22           5.90   \n",
       "4            ST  2023-10-04           80.7          -2.42           5.86   \n",
       "...         ...         ...            ...            ...            ...   \n",
       "2647         CH  2023-04-01           85.7          -2.34           5.84   \n",
       "2648         FC  2023-04-01           91.0          -2.30           5.67   \n",
       "2649         SI  2023-04-01           93.7          -2.40           5.70   \n",
       "2650         FC  2023-04-01           90.2          -2.41           5.68   \n",
       "2651         SI  2023-04-01           93.3          -2.31           5.71   \n",
       "\n",
       "      player_name  batter  pitcher     events      description  ...   wHBP  \\\n",
       "0     Eflin, Zach  641680   621107  field_out    hit_into_play  ...  0.726   \n",
       "1     Eflin, Zach  641680   621107        NaN             ball  ...  0.726   \n",
       "2     Eflin, Zach  641680   621107        NaN    called_strike  ...  0.726   \n",
       "3     Eflin, Zach  663993   621107  field_out    hit_into_play  ...  0.726   \n",
       "4     Eflin, Zach  663993   621107        NaN             ball  ...  0.726   \n",
       "...           ...     ...      ...        ...              ...  ...    ...   \n",
       "2647  Eflin, Zach  682985   621107        NaN  swinging_strike  ...  0.726   \n",
       "2648  Eflin, Zach  682985   621107        NaN             ball  ...  0.726   \n",
       "2649  Eflin, Zach  682985   621107        NaN             foul  ...  0.726   \n",
       "2650  Eflin, Zach  665155   621107  field_out    hit_into_play  ...  0.726   \n",
       "2651  Eflin, Zach  665155   621107        NaN    called_strike  ...  0.726   \n",
       "\n",
       "        w1B    w2B    w3B    wHR runSB  runCS   R/PA     R/W   cFIP  \n",
       "0     0.883  1.244  1.569  2.004   0.2 -0.422  0.122  10.028  3.255  \n",
       "1     0.883  1.244  1.569  2.004   0.2 -0.422  0.122  10.028  3.255  \n",
       "2     0.883  1.244  1.569  2.004   0.2 -0.422  0.122  10.028  3.255  \n",
       "3     0.883  1.244  1.569  2.004   0.2 -0.422  0.122  10.028  3.255  \n",
       "4     0.883  1.244  1.569  2.004   0.2 -0.422  0.122  10.028  3.255  \n",
       "...     ...    ...    ...    ...   ...    ...    ...     ...    ...  \n",
       "2647  0.883  1.244  1.569  2.004   0.2 -0.422  0.122  10.028  3.255  \n",
       "2648  0.883  1.244  1.569  2.004   0.2 -0.422  0.122  10.028  3.255  \n",
       "2649  0.883  1.244  1.569  2.004   0.2 -0.422  0.122  10.028  3.255  \n",
       "2650  0.883  1.244  1.569  2.004   0.2 -0.422  0.122  10.028  3.255  \n",
       "2651  0.883  1.244  1.569  2.004   0.2 -0.422  0.122  10.028  3.255  \n",
       "\n",
       "[2652 rows x 106 columns]"
      ]
     },
     "execution_count": 4,
     "metadata": {},
     "output_type": "execute_result"
    }
   ],
   "source": [
    "# Zach Eflin \n",
    "eflin = pd.read_csv('eflin_np.csv').merge(woba_weights, left_on = 'game_year', right_on = 'Season', suffixes = ('', '_ww'))\n",
    "eflin"
   ]
  },
  {
   "cell_type": "code",
   "execution_count": 11,
   "id": "c355a386-7d56-4a3f-b242-99af938c4185",
   "metadata": {},
   "outputs": [],
   "source": [
    "df = eflin.groupby(['pitch_type', 'pitch_name'],as_index=False).agg({'description' : 'count'\n",
    "                                                               ,'release_speed' : 'mean'\n",
    "                                                               ,'release_spin_rate' : 'mean'}\n",
    "                                                              ).round(1\n",
    "                                                                     ).rename(columns = {'description' : 'pitches'})"
   ]
  },
  {
   "cell_type": "code",
   "execution_count": 13,
   "id": "073d5cb0-b634-4d3e-882b-dacd5fc29442",
   "metadata": {},
   "outputs": [
    {
     "data": {
      "text/html": [
       "<div>\n",
       "<style scoped>\n",
       "    .dataframe tbody tr th:only-of-type {\n",
       "        vertical-align: middle;\n",
       "    }\n",
       "\n",
       "    .dataframe tbody tr th {\n",
       "        vertical-align: top;\n",
       "    }\n",
       "\n",
       "    .dataframe thead th {\n",
       "        text-align: right;\n",
       "    }\n",
       "</style>\n",
       "<table border=\"1\" class=\"dataframe\">\n",
       "  <thead>\n",
       "    <tr style=\"text-align: right;\">\n",
       "      <th></th>\n",
       "      <th>pitch_type</th>\n",
       "      <th>pitch_name</th>\n",
       "      <th>pitches</th>\n",
       "      <th>release_speed</th>\n",
       "      <th>release_spin_rate</th>\n",
       "    </tr>\n",
       "  </thead>\n",
       "  <tbody>\n",
       "    <tr>\n",
       "      <th>4</th>\n",
       "      <td>SI</td>\n",
       "      <td>Sinker</td>\n",
       "      <td>852</td>\n",
       "      <td>92.2</td>\n",
       "      <td>2100.5</td>\n",
       "    </tr>\n",
       "    <tr>\n",
       "      <th>1</th>\n",
       "      <td>CU</td>\n",
       "      <td>Curveball</td>\n",
       "      <td>693</td>\n",
       "      <td>79.1</td>\n",
       "      <td>2502.0</td>\n",
       "    </tr>\n",
       "    <tr>\n",
       "      <th>2</th>\n",
       "      <td>FC</td>\n",
       "      <td>Cutter</td>\n",
       "      <td>693</td>\n",
       "      <td>88.5</td>\n",
       "      <td>2235.2</td>\n",
       "    </tr>\n",
       "    <tr>\n",
       "      <th>3</th>\n",
       "      <td>FF</td>\n",
       "      <td>4-Seam Fastball</td>\n",
       "      <td>162</td>\n",
       "      <td>92.9</td>\n",
       "      <td>2218.4</td>\n",
       "    </tr>\n",
       "    <tr>\n",
       "      <th>0</th>\n",
       "      <td>CH</td>\n",
       "      <td>Changeup</td>\n",
       "      <td>132</td>\n",
       "      <td>86.4</td>\n",
       "      <td>1615.8</td>\n",
       "    </tr>\n",
       "    <tr>\n",
       "      <th>6</th>\n",
       "      <td>ST</td>\n",
       "      <td>Sweeper</td>\n",
       "      <td>113</td>\n",
       "      <td>79.8</td>\n",
       "      <td>2474.8</td>\n",
       "    </tr>\n",
       "    <tr>\n",
       "      <th>5</th>\n",
       "      <td>SL</td>\n",
       "      <td>Slider</td>\n",
       "      <td>7</td>\n",
       "      <td>84.1</td>\n",
       "      <td>2292.1</td>\n",
       "    </tr>\n",
       "  </tbody>\n",
       "</table>\n",
       "</div>"
      ],
      "text/plain": [
       "  pitch_type       pitch_name  pitches  release_speed  release_spin_rate\n",
       "4         SI           Sinker      852           92.2             2100.5\n",
       "1         CU        Curveball      693           79.1             2502.0\n",
       "2         FC           Cutter      693           88.5             2235.2\n",
       "3         FF  4-Seam Fastball      162           92.9             2218.4\n",
       "0         CH         Changeup      132           86.4             1615.8\n",
       "6         ST          Sweeper      113           79.8             2474.8\n",
       "5         SL           Slider        7           84.1             2292.1"
      ]
     },
     "execution_count": 13,
     "metadata": {},
     "output_type": "execute_result"
    }
   ],
   "source": [
    "df.sort_values(by='pitches',ascending=False)"
   ]
  },
  {
   "cell_type": "code",
   "execution_count": 37,
   "id": "2de0a484-2d44-4427-b01a-e7e19c7ec596",
   "metadata": {},
   "outputs": [],
   "source": []
  },
  {
   "cell_type": "markdown",
   "id": "a8402a37-d97e-40fc-ba7f-212b6f2eb777",
   "metadata": {},
   "source": [
    "### Velo vs Spin Rate"
   ]
  },
  {
   "cell_type": "code",
   "execution_count": 49,
   "id": "6dd10c46-04a7-4b95-83a0-fc5a500a038a",
   "metadata": {},
   "outputs": [],
   "source": [
    "## Sinker"
   ]
  },
  {
   "cell_type": "code",
   "execution_count": 48,
   "id": "74a5650a-94af-4f81-8671-4248210eca6f",
   "metadata": {},
   "outputs": [
    {
     "data": {
      "image/png": "[encoded data removed]",
      "text/plain": [
       "<Figure size 432x288 with 1 Axes>"
      ]
     },
     "metadata": {
      "needs_background": "light"
     },
     "output_type": "display_data"
    }
   ],
   "source": [
    "# Define Variables\n",
    "df = eflin[eflin.pitch_type == 'SI']\n",
    "data = df.loc[:, ['release_speed', 'release_spin_rate']]\n",
    "data = data[~data.release_spin_rate.isna() == True]\n",
    "df = data\n",
    "x = df['release_spin_rate']\n",
    "y = df['release_speed']\n",
    "r = round(x.corr(y),2) # Calculate correlation coefficient\n",
    "m, b = np.polyfit(x, y, 1) # Fit a polynomial between the two variables\n",
    "title = 'SI: Velo vs. Spin Rate' # Title the graph\n",
    "xlabel = 'Spin' # Label the x axis\n",
    "ylabel = 'Velo' # Label the y axis\n",
    "\n",
    "# Build the plot\n",
    "plt.scatter(x, y, color = '#a2a6a9', alpha = 1) # Scatter plot, intentionally made transparent\n",
    "plt.plot(x.values, (m*x + b).values, color = '#003469') # Regression line\n",
    "plt.axvline(x = x.mean(), color = '#000000') # Vertical line at median of x\n",
    "plt.axhline(y = y.mean(), color = '#000000') # Horizontal Line at median of y\n",
    "plt.suptitle(title, fontsize = 18, fontname = 'Verdana') # Title\n",
    "plt.title('r = {}. Avg Velo = '.format(r), fontsize = 10, fontname = 'Verdana') # Subtitle\n",
    "plt.xlabel(xlabel) # Label the x axis\n",
    "plt.ylabel(ylabel) # Label the y axis\n",
    "plt.show()"
   ]
  },
  {
   "cell_type": "code",
   "execution_count": 50,
   "id": "d3c19f7c-a468-4e09-9a2a-2a9122a575da",
   "metadata": {},
   "outputs": [],
   "source": [
    "# Loop"
   ]
  },
  {
   "cell_type": "code",
   "execution_count": 81,
   "id": "0a6b4609-a1e1-4d77-b99c-b500fc49ff43",
   "metadata": {},
   "outputs": [],
   "source": [
    "def graph(x,y):\n",
    "    r = round(x.corr(y),2) # Calculate correlation coefficient\n",
    "    m, b = np.polyfit(x, y, 1) # Fit a polynomial between the two variables\n",
    "    title = 'Velo vs. Spin Rate' # Title the graph\n",
    "    xlabel = 'Spin' # Label the x axis\n",
    "    ylabel = 'Velo' # Label the y axis\n",
    "\n",
    "    # Build the plot\n",
    "    plt.scatter(x, y, color = '#a2a6a9', alpha = 1) # Scatter plot, intentionally made transparent\n",
    "    plt.plot(x.values, (m*x + b).values, color = '#003469') # Regression line\n",
    "    plt.axvline(x = x.mean(), color = '#000000') # Vertical line at median of x\n",
    "    plt.axhline(y = y.mean(), color = '#000000') # Horizontal Line at median of y\n",
    "    plt.suptitle(title, fontsize = 14, fontname = 'Verdana') # Title\n",
    "    plt.title('n = {}. r = {}. Avg {} = {}, +-{}. Avg {} = {}, +-{}'.format(len(x)\n",
    "                                                                            ,r\n",
    "                                                                      ,xlabel\n",
    "                                                                      ,round(x.mean(),1)\n",
    "                                                                      ,round(x.std(),1)\n",
    "                                                                      ,ylabel\n",
    "                                                                      ,round(y.mean(),1)\n",
    "                                                                      ,round(y.std(),1)\n",
    "                                                                     ), fontsize = 8, fontname = 'Verdana') # Subtitle\n",
    "    plt.xlabel(xlabel) # Label the x axis\n",
    "    plt.ylabel(ylabel) # Label the y axis\n",
    "    plt.show()"
   ]
  },
  {
   "cell_type": "code",
   "execution_count": 64,
   "id": "450772c3-e4fb-4f41-bb85-0337eb5402fd",
   "metadata": {},
   "outputs": [
    {
     "data": {
      "image/png": "[encoded data removed]",
      "text/plain": [
       "<Figure size 432x288 with 1 Axes>"
      ]
     },
     "metadata": {
      "needs_background": "light"
     },
     "output_type": "display_data"
    }
   ],
   "source": [
    "df = eflin[eflin.pitch_type == 'SI']\n",
    "data = df.loc[:, ['release_speed', 'release_spin_rate']]\n",
    "data = data[~data.release_spin_rate.isna() == True]\n",
    "df = data\n",
    "x = df['release_spin_rate']\n",
    "y = df['release_speed']\n",
    "graph(x,y)"
   ]
  },
  {
   "cell_type": "code",
   "execution_count": 73,
   "id": "3877604c-8f7c-4492-a98d-05a771d28b40",
   "metadata": {},
   "outputs": [
    {
     "data": {
      "text/html": [
       "<div>\n",
       "<style scoped>\n",
       "    .dataframe tbody tr th:only-of-type {\n",
       "        vertical-align: middle;\n",
       "    }\n",
       "\n",
       "    .dataframe tbody tr th {\n",
       "        vertical-align: top;\n",
       "    }\n",
       "\n",
       "    .dataframe thead th {\n",
       "        text-align: right;\n",
       "    }\n",
       "</style>\n",
       "<table border=\"1\" class=\"dataframe\">\n",
       "  <thead>\n",
       "    <tr style=\"text-align: right;\">\n",
       "      <th></th>\n",
       "      <th>pitch_type</th>\n",
       "      <th>pitch_name</th>\n",
       "      <th>pitches</th>\n",
       "      <th>release_speed</th>\n",
       "      <th>release_spin_rate</th>\n",
       "    </tr>\n",
       "  </thead>\n",
       "  <tbody>\n",
       "    <tr>\n",
       "      <th>4</th>\n",
       "      <td>SI</td>\n",
       "      <td>Sinker</td>\n",
       "      <td>852</td>\n",
       "      <td>92.2</td>\n",
       "      <td>2100.5</td>\n",
       "    </tr>\n",
       "    <tr>\n",
       "      <th>1</th>\n",
       "      <td>CU</td>\n",
       "      <td>Curveball</td>\n",
       "      <td>693</td>\n",
       "      <td>79.1</td>\n",
       "      <td>2502.0</td>\n",
       "    </tr>\n",
       "    <tr>\n",
       "      <th>2</th>\n",
       "      <td>FC</td>\n",
       "      <td>Cutter</td>\n",
       "      <td>693</td>\n",
       "      <td>88.5</td>\n",
       "      <td>2235.2</td>\n",
       "    </tr>\n",
       "    <tr>\n",
       "      <th>3</th>\n",
       "      <td>FF</td>\n",
       "      <td>4-Seam Fastball</td>\n",
       "      <td>162</td>\n",
       "      <td>92.9</td>\n",
       "      <td>2218.4</td>\n",
       "    </tr>\n",
       "    <tr>\n",
       "      <th>0</th>\n",
       "      <td>CH</td>\n",
       "      <td>Changeup</td>\n",
       "      <td>132</td>\n",
       "      <td>86.4</td>\n",
       "      <td>1615.8</td>\n",
       "    </tr>\n",
       "    <tr>\n",
       "      <th>6</th>\n",
       "      <td>ST</td>\n",
       "      <td>Sweeper</td>\n",
       "      <td>113</td>\n",
       "      <td>79.8</td>\n",
       "      <td>2474.8</td>\n",
       "    </tr>\n",
       "    <tr>\n",
       "      <th>5</th>\n",
       "      <td>SL</td>\n",
       "      <td>Slider</td>\n",
       "      <td>7</td>\n",
       "      <td>84.1</td>\n",
       "      <td>2292.1</td>\n",
       "    </tr>\n",
       "  </tbody>\n",
       "</table>\n",
       "</div>"
      ],
      "text/plain": [
       "  pitch_type       pitch_name  pitches  release_speed  release_spin_rate\n",
       "4         SI           Sinker      852           92.2             2100.5\n",
       "1         CU        Curveball      693           79.1             2502.0\n",
       "2         FC           Cutter      693           88.5             2235.2\n",
       "3         FF  4-Seam Fastball      162           92.9             2218.4\n",
       "0         CH         Changeup      132           86.4             1615.8\n",
       "6         ST          Sweeper      113           79.8             2474.8\n",
       "5         SL           Slider        7           84.1             2292.1"
      ]
     },
     "execution_count": 73,
     "metadata": {},
     "output_type": "execute_result"
    }
   ],
   "source": [
    "pitch_mix(eflin)"
   ]
  },
  {
   "cell_type": "code",
   "execution_count": 82,
   "id": "58a98071-dd1a-4204-8475-ec40b0bbcc5b",
   "metadata": {
    "tags": []
   },
   "outputs": [
    {
     "name": "stdout",
     "output_type": "stream",
     "text": [
      "ST\n"
     ]
    },
    {
     "data": {
      "image/png": "[encoded data removed]",
      "text/plain": [
       "<Figure size 432x288 with 1 Axes>"
      ]
     },
     "metadata": {
      "needs_background": "light"
     },
     "output_type": "display_data"
    },
    {
     "name": "stdout",
     "output_type": "stream",
     "text": [
      "SI\n"
     ]
    },
    {
     "data": {
      "image/png": "[encoded data removed]",
      "text/plain": [
       "<Figure size 432x288 with 1 Axes>"
      ]
     },
     "metadata": {
      "needs_background": "light"
     },
     "output_type": "display_data"
    },
    {
     "name": "stdout",
     "output_type": "stream",
     "text": [
      "CU\n"
     ]
    },
    {
     "data": {
      "image/png": "[encoded data removed]",
      "text/plain": [
       "<Figure size 432x288 with 1 Axes>"
      ]
     },
     "metadata": {
      "needs_background": "light"
     },
     "output_type": "display_data"
    },
    {
     "name": "stdout",
     "output_type": "stream",
     "text": [
      "FC\n"
     ]
    },
    {
     "data": {
      "image/png": "[encoded data removed]",
      "text/plain": [
       "<Figure size 432x288 with 1 Axes>"
      ]
     },
     "metadata": {
      "needs_background": "light"
     },
     "output_type": "display_data"
    },
    {
     "name": "stdout",
     "output_type": "stream",
     "text": [
      "FF\n"
     ]
    },
    {
     "data": {
      "image/png": "[encoded data removed]",
      "text/plain": [
       "<Figure size 432x288 with 1 Axes>"
      ]
     },
     "metadata": {
      "needs_background": "light"
     },
     "output_type": "display_data"
    },
    {
     "name": "stdout",
     "output_type": "stream",
     "text": [
      "CH\n"
     ]
    },
    {
     "data": {
      "image/png": "[encoded data removed]",
      "text/plain": [
       "<Figure size 432x288 with 1 Axes>"
      ]
     },
     "metadata": {
      "needs_background": "light"
     },
     "output_type": "display_data"
    },
    {
     "name": "stdout",
     "output_type": "stream",
     "text": [
      "SL\n"
     ]
    },
    {
     "data": {
      "image/png": "[encoded data removed]",
      "text/plain": [
       "<Figure size 432x288 with 1 Axes>"
      ]
     },
     "metadata": {
      "needs_background": "light"
     },
     "output_type": "display_data"
    }
   ],
   "source": [
    "for pt in eflin.pitch_type.unique().tolist():\n",
    "    print(pt)\n",
    "    df = eflin[eflin.pitch_type == pt]\n",
    "    data = df.loc[:, ['release_speed', 'release_spin_rate']]\n",
    "    data = data[~data.release_spin_rate.isna() == True]\n",
    "    df = data\n",
    "    x = df['release_spin_rate']\n",
    "    y = df['release_speed']\n",
    "    graph(x,y)"
   ]
  },
  {
   "cell_type": "code",
   "execution_count": null,
   "id": "13180438-ec02-4793-9fc8-a9329175335a",
   "metadata": {},
   "outputs": [],
   "source": []
  },
  {
   "cell_type": "code",
   "execution_count": null,
   "id": "65cfb281-4424-4451-a28c-22514772d815",
   "metadata": {},
   "outputs": [],
   "source": []
  },
  {
   "cell_type": "markdown",
   "id": "fb197dbd-244f-45d4-a03f-88d8270b4114",
   "metadata": {},
   "source": [
    "# Who Will Hit 500 Career HR?"
   ]
  },
  {
   "cell_type": "markdown",
   "id": "6a7b0d5f-9b81-4d8e-806b-8c6e1f1be670",
   "metadata": {},
   "source": [
    "## Analysis of Outputs"
   ]
  },
  {
   "cell_type": "code",
   "execution_count": 3,
   "id": "581753b8-608f-43d0-92c0-ec0baff31bda",
   "metadata": {},
   "outputs": [],
   "source": [
    "# an analysis of if Bryce Harper will reach 500 career HR by examining his per season home run rate and remaining peak years"
   ]
  },
  {
   "cell_type": "code",
   "execution_count": 4,
   "id": "f2f0f217-6cab-4f18-94a1-ce832e7517fd",
   "metadata": {},
   "outputs": [],
   "source": [
    "# start with output, that has to come first, then you can examine the inputs."
   ]
  },
  {
   "cell_type": "code",
   "execution_count": null,
   "id": "30d6bd7c-b0ca-4104-b199-9364779f9487",
   "metadata": {},
   "outputs": [],
   "source": []
  },
  {
   "cell_type": "code",
   "execution_count": null,
   "id": "e63cf504-feb0-4f89-a552-ad90cb706f85",
   "metadata": {},
   "outputs": [],
   "source": []
  },
  {
   "cell_type": "markdown",
   "id": "34e732ae-c8f0-4c8c-8b29-7e457099c46a",
   "metadata": {},
   "source": [
    "## Analysis of Inputs"
   ]
  },
  {
   "cell_type": "code",
   "execution_count": 2,
   "id": "63a84a8f-dec1-4003-9b8e-7c0a4b099d13",
   "metadata": {},
   "outputs": [],
   "source": [
    "# How well is he driving the baseball?\n",
    "# What about individual pitch types?\n",
    "# What is his launch angle?"
   ]
  },
  {
   "cell_type": "code",
   "execution_count": null,
   "id": "ab6e83b9-d091-4ede-809e-f87e4237c268",
   "metadata": {},
   "outputs": [],
   "source": []
  },
  {
   "cell_type": "markdown",
   "id": "923c1a7a-54fd-454c-8c2a-36ae137c266d",
   "metadata": {},
   "source": [
    "# Does Kyle Schwarber do damage on the first pitch? Should he be more aggressive early in the count?"
   ]
  },
  {
   "cell_type": "code",
   "execution_count": 96,
   "id": "05b64473-6ae7-4dd4-9cb4-cad50a439df7",
   "metadata": {},
   "outputs": [
    {
     "data": {
      "text/html": [
       "<div>\n",
       "<style scoped>\n",
       "    .dataframe tbody tr th:only-of-type {\n",
       "        vertical-align: middle;\n",
       "    }\n",
       "\n",
       "    .dataframe tbody tr th {\n",
       "        vertical-align: top;\n",
       "    }\n",
       "\n",
       "    .dataframe thead th {\n",
       "        text-align: right;\n",
       "    }\n",
       "</style>\n",
       "<table border=\"1\" class=\"dataframe\">\n",
       "  <thead>\n",
       "    <tr style=\"text-align: right;\">\n",
       "      <th></th>\n",
       "      <th>pitch_type</th>\n",
       "      <th>game_date</th>\n",
       "      <th>release_speed</th>\n",
       "      <th>release_pos_x</th>\n",
       "      <th>release_pos_z</th>\n",
       "      <th>player_name</th>\n",
       "      <th>batter</th>\n",
       "      <th>pitcher</th>\n",
       "      <th>events</th>\n",
       "      <th>description</th>\n",
       "      <th>...</th>\n",
       "      <th>w1B_y</th>\n",
       "      <th>w2B_y</th>\n",
       "      <th>w3B_y</th>\n",
       "      <th>wHR_y</th>\n",
       "      <th>runSB_y</th>\n",
       "      <th>runCS_y</th>\n",
       "      <th>R/PA_y</th>\n",
       "      <th>R/W_y</th>\n",
       "      <th>cFIP_y</th>\n",
       "      <th>source</th>\n",
       "    </tr>\n",
       "  </thead>\n",
       "  <tbody>\n",
       "    <tr>\n",
       "      <th>303741</th>\n",
       "      <td>CU</td>\n",
       "      <td>2022-10-05</td>\n",
       "      <td>79.5</td>\n",
       "      <td>0.89</td>\n",
       "      <td>6.14</td>\n",
       "      <td>Schwarber, Kyle</td>\n",
       "      <td>656941</td>\n",
       "      <td>664285</td>\n",
       "      <td>strikeout</td>\n",
       "      <td>swinging_strike</td>\n",
       "      <td>...</td>\n",
       "      <td>0.884</td>\n",
       "      <td>1.261</td>\n",
       "      <td>1.601</td>\n",
       "      <td>2.072</td>\n",
       "      <td>0.2</td>\n",
       "      <td>-0.397</td>\n",
       "      <td>0.114</td>\n",
       "      <td>9.524</td>\n",
       "      <td>3.112</td>\n",
       "      <td>NaN</td>\n",
       "    </tr>\n",
       "    <tr>\n",
       "      <th>303742</th>\n",
       "      <td>SI</td>\n",
       "      <td>2022-10-05</td>\n",
       "      <td>93.2</td>\n",
       "      <td>0.85</td>\n",
       "      <td>6.27</td>\n",
       "      <td>Schwarber, Kyle</td>\n",
       "      <td>656941</td>\n",
       "      <td>664285</td>\n",
       "      <td>NaN</td>\n",
       "      <td>called_strike</td>\n",
       "      <td>...</td>\n",
       "      <td>0.884</td>\n",
       "      <td>1.261</td>\n",
       "      <td>1.601</td>\n",
       "      <td>2.072</td>\n",
       "      <td>0.2</td>\n",
       "      <td>-0.397</td>\n",
       "      <td>0.114</td>\n",
       "      <td>9.524</td>\n",
       "      <td>3.112</td>\n",
       "      <td>NaN</td>\n",
       "    </tr>\n",
       "    <tr>\n",
       "      <th>303743</th>\n",
       "      <td>FC</td>\n",
       "      <td>2022-10-05</td>\n",
       "      <td>82.4</td>\n",
       "      <td>1.34</td>\n",
       "      <td>6.22</td>\n",
       "      <td>Schwarber, Kyle</td>\n",
       "      <td>656941</td>\n",
       "      <td>664285</td>\n",
       "      <td>NaN</td>\n",
       "      <td>ball</td>\n",
       "      <td>...</td>\n",
       "      <td>0.884</td>\n",
       "      <td>1.261</td>\n",
       "      <td>1.601</td>\n",
       "      <td>2.072</td>\n",
       "      <td>0.2</td>\n",
       "      <td>-0.397</td>\n",
       "      <td>0.114</td>\n",
       "      <td>9.524</td>\n",
       "      <td>3.112</td>\n",
       "      <td>NaN</td>\n",
       "    </tr>\n",
       "    <tr>\n",
       "      <th>303744</th>\n",
       "      <td>FC</td>\n",
       "      <td>2022-10-05</td>\n",
       "      <td>82.6</td>\n",
       "      <td>1.09</td>\n",
       "      <td>6.11</td>\n",
       "      <td>Schwarber, Kyle</td>\n",
       "      <td>656941</td>\n",
       "      <td>664285</td>\n",
       "      <td>NaN</td>\n",
       "      <td>called_strike</td>\n",
       "      <td>...</td>\n",
       "      <td>0.884</td>\n",
       "      <td>1.261</td>\n",
       "      <td>1.601</td>\n",
       "      <td>2.072</td>\n",
       "      <td>0.2</td>\n",
       "      <td>-0.397</td>\n",
       "      <td>0.114</td>\n",
       "      <td>9.524</td>\n",
       "      <td>3.112</td>\n",
       "      <td>NaN</td>\n",
       "    </tr>\n",
       "    <tr>\n",
       "      <th>303745</th>\n",
       "      <td>SI</td>\n",
       "      <td>2022-10-05</td>\n",
       "      <td>93.7</td>\n",
       "      <td>0.89</td>\n",
       "      <td>6.15</td>\n",
       "      <td>Schwarber, Kyle</td>\n",
       "      <td>656941</td>\n",
       "      <td>664285</td>\n",
       "      <td>NaN</td>\n",
       "      <td>ball</td>\n",
       "      <td>...</td>\n",
       "      <td>0.884</td>\n",
       "      <td>1.261</td>\n",
       "      <td>1.601</td>\n",
       "      <td>2.072</td>\n",
       "      <td>0.2</td>\n",
       "      <td>-0.397</td>\n",
       "      <td>0.114</td>\n",
       "      <td>9.524</td>\n",
       "      <td>3.112</td>\n",
       "      <td>NaN</td>\n",
       "    </tr>\n",
       "    <tr>\n",
       "      <th>...</th>\n",
       "      <td>...</td>\n",
       "      <td>...</td>\n",
       "      <td>...</td>\n",
       "      <td>...</td>\n",
       "      <td>...</td>\n",
       "      <td>...</td>\n",
       "      <td>...</td>\n",
       "      <td>...</td>\n",
       "      <td>...</td>\n",
       "      <td>...</td>\n",
       "      <td>...</td>\n",
       "      <td>...</td>\n",
       "      <td>...</td>\n",
       "      <td>...</td>\n",
       "      <td>...</td>\n",
       "      <td>...</td>\n",
       "      <td>...</td>\n",
       "      <td>...</td>\n",
       "      <td>...</td>\n",
       "      <td>...</td>\n",
       "      <td>...</td>\n",
       "    </tr>\n",
       "    <tr>\n",
       "      <th>11444</th>\n",
       "      <td>FC</td>\n",
       "      <td>2015-06-17</td>\n",
       "      <td>93.1</td>\n",
       "      <td>-2.83</td>\n",
       "      <td>5.78</td>\n",
       "      <td>Schwarber, Kyle</td>\n",
       "      <td>656941</td>\n",
       "      <td>543766</td>\n",
       "      <td>NaN</td>\n",
       "      <td>called_strike</td>\n",
       "      <td>...</td>\n",
       "      <td>NaN</td>\n",
       "      <td>NaN</td>\n",
       "      <td>NaN</td>\n",
       "      <td>NaN</td>\n",
       "      <td>NaN</td>\n",
       "      <td>NaN</td>\n",
       "      <td>NaN</td>\n",
       "      <td>NaN</td>\n",
       "      <td>NaN</td>\n",
       "      <td>n</td>\n",
       "    </tr>\n",
       "    <tr>\n",
       "      <th>11445</th>\n",
       "      <td>FC</td>\n",
       "      <td>2015-06-17</td>\n",
       "      <td>92.6</td>\n",
       "      <td>-2.81</td>\n",
       "      <td>5.82</td>\n",
       "      <td>Schwarber, Kyle</td>\n",
       "      <td>656941</td>\n",
       "      <td>543766</td>\n",
       "      <td>NaN</td>\n",
       "      <td>ball</td>\n",
       "      <td>...</td>\n",
       "      <td>NaN</td>\n",
       "      <td>NaN</td>\n",
       "      <td>NaN</td>\n",
       "      <td>NaN</td>\n",
       "      <td>NaN</td>\n",
       "      <td>NaN</td>\n",
       "      <td>NaN</td>\n",
       "      <td>NaN</td>\n",
       "      <td>NaN</td>\n",
       "      <td>n</td>\n",
       "    </tr>\n",
       "    <tr>\n",
       "      <th>11446</th>\n",
       "      <td>SI</td>\n",
       "      <td>2015-06-16</td>\n",
       "      <td>93.1</td>\n",
       "      <td>1.48</td>\n",
       "      <td>5.65</td>\n",
       "      <td>Schwarber, Kyle</td>\n",
       "      <td>656941</td>\n",
       "      <td>519240</td>\n",
       "      <td>strikeout</td>\n",
       "      <td>called_strike</td>\n",
       "      <td>...</td>\n",
       "      <td>NaN</td>\n",
       "      <td>NaN</td>\n",
       "      <td>NaN</td>\n",
       "      <td>NaN</td>\n",
       "      <td>NaN</td>\n",
       "      <td>NaN</td>\n",
       "      <td>NaN</td>\n",
       "      <td>NaN</td>\n",
       "      <td>NaN</td>\n",
       "      <td>n</td>\n",
       "    </tr>\n",
       "    <tr>\n",
       "      <th>11447</th>\n",
       "      <td>SL</td>\n",
       "      <td>2015-06-16</td>\n",
       "      <td>85.3</td>\n",
       "      <td>1.56</td>\n",
       "      <td>5.55</td>\n",
       "      <td>Schwarber, Kyle</td>\n",
       "      <td>656941</td>\n",
       "      <td>519240</td>\n",
       "      <td>NaN</td>\n",
       "      <td>swinging_strike</td>\n",
       "      <td>...</td>\n",
       "      <td>NaN</td>\n",
       "      <td>NaN</td>\n",
       "      <td>NaN</td>\n",
       "      <td>NaN</td>\n",
       "      <td>NaN</td>\n",
       "      <td>NaN</td>\n",
       "      <td>NaN</td>\n",
       "      <td>NaN</td>\n",
       "      <td>NaN</td>\n",
       "      <td>n</td>\n",
       "    </tr>\n",
       "    <tr>\n",
       "      <th>11448</th>\n",
       "      <td>SI</td>\n",
       "      <td>2015-06-16</td>\n",
       "      <td>91.8</td>\n",
       "      <td>1.54</td>\n",
       "      <td>5.85</td>\n",
       "      <td>Schwarber, Kyle</td>\n",
       "      <td>656941</td>\n",
       "      <td>519240</td>\n",
       "      <td>NaN</td>\n",
       "      <td>called_strike</td>\n",
       "      <td>...</td>\n",
       "      <td>NaN</td>\n",
       "      <td>NaN</td>\n",
       "      <td>NaN</td>\n",
       "      <td>NaN</td>\n",
       "      <td>NaN</td>\n",
       "      <td>NaN</td>\n",
       "      <td>NaN</td>\n",
       "      <td>NaN</td>\n",
       "      <td>NaN</td>\n",
       "      <td>n</td>\n",
       "    </tr>\n",
       "  </tbody>\n",
       "</table>\n",
       "<p>17955 rows × 121 columns</p>\n",
       "</div>"
      ],
      "text/plain": [
       "       pitch_type   game_date  release_speed  release_pos_x  release_pos_z  \\\n",
       "303741         CU  2022-10-05           79.5           0.89           6.14   \n",
       "303742         SI  2022-10-05           93.2           0.85           6.27   \n",
       "303743         FC  2022-10-05           82.4           1.34           6.22   \n",
       "303744         FC  2022-10-05           82.6           1.09           6.11   \n",
       "303745         SI  2022-10-05           93.7           0.89           6.15   \n",
       "...           ...         ...            ...            ...            ...   \n",
       "11444          FC  2015-06-17           93.1          -2.83           5.78   \n",
       "11445          FC  2015-06-17           92.6          -2.81           5.82   \n",
       "11446          SI  2015-06-16           93.1           1.48           5.65   \n",
       "11447          SL  2015-06-16           85.3           1.56           5.55   \n",
       "11448          SI  2015-06-16           91.8           1.54           5.85   \n",
       "\n",
       "            player_name  batter  pitcher     events      description  ...  \\\n",
       "303741  Schwarber, Kyle  656941   664285  strikeout  swinging_strike  ...   \n",
       "303742  Schwarber, Kyle  656941   664285        NaN    called_strike  ...   \n",
       "303743  Schwarber, Kyle  656941   664285        NaN             ball  ...   \n",
       "303744  Schwarber, Kyle  656941   664285        NaN    called_strike  ...   \n",
       "303745  Schwarber, Kyle  656941   664285        NaN             ball  ...   \n",
       "...                 ...     ...      ...        ...              ...  ...   \n",
       "11444   Schwarber, Kyle  656941   543766        NaN    called_strike  ...   \n",
       "11445   Schwarber, Kyle  656941   543766        NaN             ball  ...   \n",
       "11446   Schwarber, Kyle  656941   519240  strikeout    called_strike  ...   \n",
       "11447   Schwarber, Kyle  656941   519240        NaN  swinging_strike  ...   \n",
       "11448   Schwarber, Kyle  656941   519240        NaN    called_strike  ...   \n",
       "\n",
       "        w1B_y  w2B_y  w3B_y  wHR_y  runSB_y runCS_y R/PA_y  R/W_y cFIP_y  \\\n",
       "303741  0.884  1.261  1.601  2.072      0.2  -0.397  0.114  9.524  3.112   \n",
       "303742  0.884  1.261  1.601  2.072      0.2  -0.397  0.114  9.524  3.112   \n",
       "303743  0.884  1.261  1.601  2.072      0.2  -0.397  0.114  9.524  3.112   \n",
       "303744  0.884  1.261  1.601  2.072      0.2  -0.397  0.114  9.524  3.112   \n",
       "303745  0.884  1.261  1.601  2.072      0.2  -0.397  0.114  9.524  3.112   \n",
       "...       ...    ...    ...    ...      ...     ...    ...    ...    ...   \n",
       "11444     NaN    NaN    NaN    NaN      NaN     NaN    NaN    NaN    NaN   \n",
       "11445     NaN    NaN    NaN    NaN      NaN     NaN    NaN    NaN    NaN   \n",
       "11446     NaN    NaN    NaN    NaN      NaN     NaN    NaN    NaN    NaN   \n",
       "11447     NaN    NaN    NaN    NaN      NaN     NaN    NaN    NaN    NaN   \n",
       "11448     NaN    NaN    NaN    NaN      NaN     NaN    NaN    NaN    NaN   \n",
       "\n",
       "       source  \n",
       "303741    NaN  \n",
       "303742    NaN  \n",
       "303743    NaN  \n",
       "303744    NaN  \n",
       "303745    NaN  \n",
       "...       ...  \n",
       "11444       n  \n",
       "11445       n  \n",
       "11446       n  \n",
       "11447       n  \n",
       "11448       n  \n",
       "\n",
       "[17955 rows x 121 columns]"
      ]
     },
     "execution_count": 96,
     "metadata": {},
     "output_type": "execute_result"
    }
   ],
   "source": [
    "schwarber"
   ]
  },
  {
   "cell_type": "code",
   "execution_count": null,
   "id": "79f3def6-91b1-4bf2-86c9-c3246dd68b27",
   "metadata": {},
   "outputs": [],
   "source": []
  }
 ],
 "metadata": {
  "kernelspec": {
   "display_name": "Python 3 (ipykernel)",
   "language": "python",
   "name": "python3"
  },
  "language_info": {
   "codemirror_mode": {
    "name": "ipython",
    "version": 3
   },
   "file_extension": ".py",
   "mimetype": "text/x-python",
   "name": "python",
   "nbconvert_exporter": "python",
   "pygments_lexer": "ipython3",
   "version": "3.9.12"
  }
 },
 "nbformat": 4,
 "nbformat_minor": 5
}
